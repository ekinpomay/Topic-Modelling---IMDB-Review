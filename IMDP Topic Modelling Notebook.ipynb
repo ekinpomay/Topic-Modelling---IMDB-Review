{
 "cells": [
  {
   "cell_type": "markdown",
   "id": "868fc63b",
   "metadata": {},
   "source": [
    "## 1. Import Libraries "
   ]
  },
  {
   "cell_type": "code",
   "execution_count": 1,
   "id": "a92962a0",
   "metadata": {},
   "outputs": [],
   "source": [
    "import pandas as pd\n",
    "import numpy as np\n",
    "import matplotlib.pyplot as plt\n",
    "\n",
    "import warnings\n",
    "warnings.filterwarnings(action='ignore', category=UserWarning)\n",
    "warnings.filterwarnings('ignore')\n",
    "\n",
    "import gensim\n",
    "import gensim.corpora as corpora\n",
    "from gensim.utils import simple_preprocess\n",
    "from gensim.models import CoherenceModel\n",
    "\n",
    "import nltk\n",
    "from nltk.corpus import stopwords\n",
    "from nltk.stem import WordNetLemmatizer\n",
    "\n",
    "#vis \n",
    "import pyLDAvis\n",
    "import pyLDAvis.gensim_models"
   ]
  },
  {
   "cell_type": "markdown",
   "id": "48d0282c",
   "metadata": {},
   "source": [
    "## 1.1 nltk: Download additional subpackages"
   ]
  },
  {
   "cell_type": "code",
   "execution_count": 2,
   "id": "40d5991b",
   "metadata": {},
   "outputs": [
    {
     "name": "stderr",
     "output_type": "stream",
     "text": [
      "[nltk_data] Downloading package stopwords to\n",
      "[nltk_data]     C:\\Users\\Ekin\\AppData\\Roaming\\nltk_data...\n",
      "[nltk_data]   Package stopwords is already up-to-date!\n",
      "[nltk_data] Downloading package averaged_perceptron_tagger to\n",
      "[nltk_data]     C:\\Users\\Ekin\\AppData\\Roaming\\nltk_data...\n",
      "[nltk_data]   Package averaged_perceptron_tagger is already up-to-\n",
      "[nltk_data]       date!\n",
      "[nltk_data] Downloading package wordnet to\n",
      "[nltk_data]     C:\\Users\\Ekin\\AppData\\Roaming\\nltk_data...\n",
      "[nltk_data]   Package wordnet is already up-to-date!\n",
      "[nltk_data] Downloading package omw-1.4 to\n",
      "[nltk_data]     C:\\Users\\Ekin\\AppData\\Roaming\\nltk_data...\n",
      "[nltk_data]   Package omw-1.4 is already up-to-date!\n"
     ]
    },
    {
     "data": {
      "text/plain": [
       "True"
      ]
     },
     "execution_count": 2,
     "metadata": {},
     "output_type": "execute_result"
    }
   ],
   "source": [
    "nltk.download('stopwords')\n",
    "nltk.download('averaged_perceptron_tagger')\n",
    "nltk.download('wordnet')\n",
    "nltk.download('omw-1.4')"
   ]
  },
  {
   "cell_type": "markdown",
   "id": "f931a6a5",
   "metadata": {},
   "source": [
    "## 2. Load the \"imdb_labelled\" data"
   ]
  },
  {
   "cell_type": "code",
   "execution_count": 3,
   "id": "55a4141c",
   "metadata": {},
   "outputs": [
    {
     "data": {
      "text/html": [
       "<div>\n",
       "<style scoped>\n",
       "    .dataframe tbody tr th:only-of-type {\n",
       "        vertical-align: middle;\n",
       "    }\n",
       "\n",
       "    .dataframe tbody tr th {\n",
       "        vertical-align: top;\n",
       "    }\n",
       "\n",
       "    .dataframe thead th {\n",
       "        text-align: right;\n",
       "    }\n",
       "</style>\n",
       "<table border=\"1\" class=\"dataframe\">\n",
       "  <thead>\n",
       "    <tr style=\"text-align: right;\">\n",
       "      <th></th>\n",
       "      <th>review</th>\n",
       "      <th>label</th>\n",
       "    </tr>\n",
       "  </thead>\n",
       "  <tbody>\n",
       "    <tr>\n",
       "      <th>0</th>\n",
       "      <td>A very, very, very slow-moving, aimless movie ...</td>\n",
       "      <td>0</td>\n",
       "    </tr>\n",
       "    <tr>\n",
       "      <th>1</th>\n",
       "      <td>Not sure who was more lost - the flat characte...</td>\n",
       "      <td>0</td>\n",
       "    </tr>\n",
       "    <tr>\n",
       "      <th>2</th>\n",
       "      <td>Attempting artiness with black &amp; white and cle...</td>\n",
       "      <td>0</td>\n",
       "    </tr>\n",
       "    <tr>\n",
       "      <th>3</th>\n",
       "      <td>Very little music or anything to speak of.</td>\n",
       "      <td>0</td>\n",
       "    </tr>\n",
       "    <tr>\n",
       "      <th>4</th>\n",
       "      <td>The best scene in the movie was when Gerardo i...</td>\n",
       "      <td>1</td>\n",
       "    </tr>\n",
       "    <tr>\n",
       "      <th>...</th>\n",
       "      <td>...</td>\n",
       "      <td>...</td>\n",
       "    </tr>\n",
       "    <tr>\n",
       "      <th>995</th>\n",
       "      <td>I just got bored watching Jessice Lange take h...</td>\n",
       "      <td>0</td>\n",
       "    </tr>\n",
       "    <tr>\n",
       "      <th>996</th>\n",
       "      <td>Unfortunately, any virtue in this film's produ...</td>\n",
       "      <td>0</td>\n",
       "    </tr>\n",
       "    <tr>\n",
       "      <th>997</th>\n",
       "      <td>In a word, it is embarrassing.</td>\n",
       "      <td>0</td>\n",
       "    </tr>\n",
       "    <tr>\n",
       "      <th>998</th>\n",
       "      <td>Exceptionally bad!</td>\n",
       "      <td>0</td>\n",
       "    </tr>\n",
       "    <tr>\n",
       "      <th>999</th>\n",
       "      <td>All in all its an insult to one's intelligence...</td>\n",
       "      <td>0</td>\n",
       "    </tr>\n",
       "  </tbody>\n",
       "</table>\n",
       "<p>1000 rows × 2 columns</p>\n",
       "</div>"
      ],
      "text/plain": [
       "                                                review  label\n",
       "0    A very, very, very slow-moving, aimless movie ...      0\n",
       "1    Not sure who was more lost - the flat characte...      0\n",
       "2    Attempting artiness with black & white and cle...      0\n",
       "3          Very little music or anything to speak of.       0\n",
       "4    The best scene in the movie was when Gerardo i...      1\n",
       "..                                                 ...    ...\n",
       "995  I just got bored watching Jessice Lange take h...      0\n",
       "996  Unfortunately, any virtue in this film's produ...      0\n",
       "997                    In a word, it is embarrassing.       0\n",
       "998                                Exceptionally bad!       0\n",
       "999  All in all its an insult to one's intelligence...      0\n",
       "\n",
       "[1000 rows x 2 columns]"
      ]
     },
     "execution_count": 3,
     "metadata": {},
     "output_type": "execute_result"
    }
   ],
   "source": [
    "imdb_df = pd.read_csv(\"imdb_labelled.txt\", sep=\".\\t\", header=None, names=['review','label'])\n",
    "imdb_df"
   ]
  },
  {
   "cell_type": "code",
   "execution_count": 4,
   "id": "01f650cd",
   "metadata": {},
   "outputs": [
    {
     "data": {
      "text/plain": [
       "['A very, very, very slow-moving, aimless movie about a distressed, drifting young man. ',\n",
       " 'Not sure who was more lost - the flat characters or the audience, nearly half of whom walked out. ',\n",
       " 'Attempting artiness with black & white and clever camera angles, the movie disappointed - became even more ridiculous - as the acting was poor and the plot and lines almost non-existent. ',\n",
       " 'Very little music or anything to speak of. ',\n",
       " 'The best scene in the movie was when Gerardo is trying to find a song that keeps running through his head. ',\n",
       " \"The rest of the movie lacks art, charm, meaning... If it's about emptiness, it works I guess because it's empty. \",\n",
       " 'Wasted two hours. ',\n",
       " 'Saw the movie today and thought it was a good effort, good messages for kids. ',\n",
       " 'A bit predictable. ',\n",
       " 'Loved the casting of Jimmy Buffet as the science teacher. ']"
      ]
     },
     "execution_count": 4,
     "metadata": {},
     "output_type": "execute_result"
    }
   ],
   "source": [
    "# Convert dataframe to list\n",
    "review = imdb_df.review.tolist()\n",
    "review[:10]"
   ]
  },
  {
   "cell_type": "markdown",
   "id": "931fae30",
   "metadata": {},
   "source": [
    "## 3. Data Preprocessing"
   ]
  },
  {
   "cell_type": "markdown",
   "id": "6a355443",
   "metadata": {},
   "source": [
    "- Simplfy Penn tags for the further lemmatizations steps\n",
    "- Checking the list of stopwords and adding more words which can be seen in the data very frequently.  (series,movie,movies,film,films)\n",
    "- Create a function for the text preprocessing\n",
    "- Clean the all text using preprocessing function\n",
    "- Build a dictionary with the clean words\n",
    "- Transforming the dictionary into \"bag\" format"
   ]
  },
  {
   "cell_type": "markdown",
   "id": "82e82c34",
   "metadata": {},
   "source": [
    "Regarding data preprocessing, especially for the lemmatizations steps, first we need to identify what part-of-speech any particular word is. \n",
    "Before performing preprocessing step we need a a short simplification routine to translate from the Penn tags to Simpler tags.\n",
    "\n",
    "Since adjectives and adverbs create so much noice we only simplfy nouns and verbs"
   ]
  },
  {
   "cell_type": "code",
   "execution_count": 5,
   "id": "7e88b1bc",
   "metadata": {},
   "outputs": [],
   "source": [
    "# simplify Penn tags to n (NOUN), v (VERB)\n",
    "def simplify(penn_tag):\n",
    "    pre = penn_tag[0]\n",
    "    \n",
    "    if (pre == 'V'):\n",
    "        return 'v'\n",
    "    else:\n",
    "        return 'n'"
   ]
  },
  {
   "cell_type": "code",
   "execution_count": 6,
   "id": "5d32c957",
   "metadata": {
    "scrolled": true
   },
   "outputs": [
    {
     "data": {
      "text/plain": [
       "['i',\n",
       " 'me',\n",
       " 'my',\n",
       " 'myself',\n",
       " 'we',\n",
       " 'our',\n",
       " 'ours',\n",
       " 'ourselves',\n",
       " 'you',\n",
       " \"you're\",\n",
       " \"you've\",\n",
       " \"you'll\",\n",
       " \"you'd\",\n",
       " 'your',\n",
       " 'yours',\n",
       " 'yourself',\n",
       " 'yourselves',\n",
       " 'he',\n",
       " 'him',\n",
       " 'his']"
      ]
     },
     "execution_count": 6,
     "metadata": {},
     "output_type": "execute_result"
    }
   ],
   "source": [
    "#Print some English Stopwords\n",
    "stopwords = nltk.corpus.stopwords.words('english')\n",
    "stopwords[0:20]\n",
    "\n"
   ]
  },
  {
   "cell_type": "code",
   "execution_count": 7,
   "id": "af279c7b",
   "metadata": {},
   "outputs": [],
   "source": [
    "#add the words series, movie, movies, film, films to the stopword list \n",
    "stopwords = nltk.corpus.stopwords.words('english')\n",
    "\n",
    "#set new stopwords\n",
    "newStopWords = ['series','movie', 'movies', 'film', 'films']\n",
    "\n",
    "#add these new stopwords to the 'stopwords'\n",
    "stopwords.extend(newStopWords)"
   ]
  },
  {
   "cell_type": "code",
   "execution_count": 8,
   "id": "0a33c369",
   "metadata": {},
   "outputs": [
    {
     "name": "stdout",
     "output_type": "stream",
     "text": [
      "['i', 'me', 'my', 'myself', 'we', 'our', 'ours', 'ourselves', 'you', \"you're\", \"you've\", \"you'll\", \"you'd\", 'your', 'yours', 'yourself', 'yourselves', 'he', 'him', 'his', 'himself', 'she', \"she's\", 'her', 'hers', 'herself', 'it', \"it's\", 'its', 'itself', 'they', 'them', 'their', 'theirs', 'themselves', 'what', 'which', 'who', 'whom', 'this', 'that', \"that'll\", 'these', 'those', 'am', 'is', 'are', 'was', 'were', 'be', 'been', 'being', 'have', 'has', 'had', 'having', 'do', 'does', 'did', 'doing', 'a', 'an', 'the', 'and', 'but', 'if', 'or', 'because', 'as', 'until', 'while', 'of', 'at', 'by', 'for', 'with', 'about', 'against', 'between', 'into', 'through', 'during', 'before', 'after', 'above', 'below', 'to', 'from', 'up', 'down', 'in', 'out', 'on', 'off', 'over', 'under', 'again', 'further', 'then', 'once', 'here', 'there', 'when', 'where', 'why', 'how', 'all', 'any', 'both', 'each', 'few', 'more', 'most', 'other', 'some', 'such', 'no', 'nor', 'not', 'only', 'own', 'same', 'so', 'than', 'too', 'very', 's', 't', 'can', 'will', 'just', 'don', \"don't\", 'should', \"should've\", 'now', 'd', 'll', 'm', 'o', 're', 've', 'y', 'ain', 'aren', \"aren't\", 'couldn', \"couldn't\", 'didn', \"didn't\", 'doesn', \"doesn't\", 'hadn', \"hadn't\", 'hasn', \"hasn't\", 'haven', \"haven't\", 'isn', \"isn't\", 'ma', 'mightn', \"mightn't\", 'mustn', \"mustn't\", 'needn', \"needn't\", 'shan', \"shan't\", 'shouldn', \"shouldn't\", 'wasn', \"wasn't\", 'weren', \"weren't\", 'won', \"won't\", 'wouldn', \"wouldn't\", 'series', 'movie', 'movies', 'film', 'films']\n"
     ]
    }
   ],
   "source": [
    "print(stopwords)"
   ]
  },
  {
   "cell_type": "markdown",
   "id": "6df29310",
   "metadata": {},
   "source": [
    "As it can be seen from the above, the words 'series', 'movie', 'movies', 'film', 'films' were successfully added to the stopwords list"
   ]
  },
  {
   "cell_type": "markdown",
   "id": "1b7fad07",
   "metadata": {},
   "source": [
    "In order to preprocess the review data, we created a function,\n",
    "- to remove stopwords\n",
    "- use gensim.utils.simplepreprocess to lowercases and tokenizes the words.\n",
    "- to lemmatize if tokenized words are pos tags and not in stop words. The WordNetLemmatizer.lemmatize() function takes a part-of-speech tag to tell it whether we're passing a noun, verb, adjective or adverb"
   ]
  },
  {
   "cell_type": "code",
   "execution_count": 9,
   "id": "7fc04cc8",
   "metadata": {},
   "outputs": [],
   "source": [
    "# define function preprocess(text):\n",
    "# gensim provides some basic preprocessing steps\n",
    "def preprocess(text, language='english'):\n",
    "    stop_words = stopwords # stopwords from nltk\n",
    "    toks = gensim.utils.simple_preprocess(str(text), deacc=True) # gensim\n",
    "    wn = WordNetLemmatizer() # from nltk\n",
    "    # return\n",
    "    return [wn.lemmatize(tok, simplify(pos)) for tok, pos in nltk.pos_tag(toks) if tok not in stop_words]"
   ]
  },
  {
   "cell_type": "code",
   "execution_count": 10,
   "id": "bf95807e",
   "metadata": {},
   "outputs": [
    {
     "data": {
      "text/plain": [
       "[['slow', 'move', 'aimless', 'distressed', 'drifting', 'young', 'man'],\n",
       " ['sure', 'lost', 'flat', 'character', 'audience', 'nearly', 'half', 'walk'],\n",
       " ['attempt',\n",
       "  'artiness',\n",
       "  'black',\n",
       "  'white',\n",
       "  'clever',\n",
       "  'camera',\n",
       "  'angle',\n",
       "  'disappoint',\n",
       "  'become',\n",
       "  'even',\n",
       "  'ridiculous',\n",
       "  'acting',\n",
       "  'poor',\n",
       "  'plot',\n",
       "  'line',\n",
       "  'almost',\n",
       "  'non',\n",
       "  'existent'],\n",
       " ['little', 'music', 'anything', 'speak'],\n",
       " ['best', 'scene', 'gerardo', 'try', 'find', 'song', 'keep', 'run', 'head']]"
      ]
     },
     "execution_count": 10,
     "metadata": {},
     "output_type": "execute_result"
    }
   ],
   "source": [
    "# preprocess text from all reviews\n",
    "corp = [preprocess(line, language='english') for line in review]\n",
    "corp[:5]"
   ]
  },
  {
   "cell_type": "markdown",
   "id": "2bad0d49",
   "metadata": {},
   "source": [
    "After cleaning all reviews, We need to build a dictionary and convert that dictionary to bag-of-word form before feeding that into models. Because, The LDA algorithm implementation in gensim reads the strings in a 'bag of words' format."
   ]
  },
  {
   "cell_type": "code",
   "execution_count": 11,
   "id": "a73d5d99",
   "metadata": {},
   "outputs": [
    {
     "data": {
      "text/plain": [
       "2545"
      ]
     },
     "execution_count": 11,
     "metadata": {},
     "output_type": "execute_result"
    }
   ],
   "source": [
    "# build dictionary with gensim\n",
    "dictionary = gensim.corpora.Dictionary(corp) # gensim\n",
    "len(dictionary)"
   ]
  },
  {
   "cell_type": "markdown",
   "id": "275c464d",
   "metadata": {},
   "source": [
    "We have a vocabulary of 2545 words after preprocessing the data."
   ]
  },
  {
   "cell_type": "markdown",
   "id": "24a9293d",
   "metadata": {},
   "source": [
    "Now, we need to convert the dictionary to bag-of-word form before putting it into models"
   ]
  },
  {
   "cell_type": "code",
   "execution_count": 12,
   "id": "beaf6df1",
   "metadata": {
    "scrolled": true
   },
   "outputs": [
    {
     "data": {
      "text/plain": [
       "[(0, 1), (1, 1), (2, 1), (3, 1), (4, 1), (5, 1), (6, 1)]"
      ]
     },
     "execution_count": 12,
     "metadata": {},
     "output_type": "execute_result"
    }
   ],
   "source": [
    "# Convert into bag-of-words format\n",
    "bow = [dictionary.doc2bow(line) for line in corp]\n",
    "(bow[0][0:20])"
   ]
  },
  {
   "cell_type": "markdown",
   "id": "1acc1ad8",
   "metadata": {},
   "source": [
    "## 4. Modelling"
   ]
  },
  {
   "cell_type": "markdown",
   "id": "361e050d",
   "metadata": {},
   "source": [
    "- Run the Unguided LDA with 3,4,5,7,10 topics to get a feeling of how many numberss of clusters would be the best for our dataset and the model.\n",
    "- Choose the number of topics. (In this case we choose 5 topics)\n",
    "- Get the words associated with each topic and calculate the probability for each topic in each review.\n",
    "- Assign the topic for each review by selecting the topic with highest probability\n",
    "- Create a frequency table to check the distribution of all topics across all review\n",
    "- In order to improve the results run the guided LDA with pre-defined topics that were discovered and extracted manually from the data set.\n",
    "  - Pre-defined topics => We went through the first 100-150 reviews. Manually extract possible topics and words associated with each topic \n",
    "- Create a frequency table for the guided LDA to see if there is an improvement\n"
   ]
  },
  {
   "cell_type": "markdown",
   "id": "6a61995b",
   "metadata": {},
   "source": [
    "## 4.1 Choose the number of topics\n",
    "\n",
    "### First, try 3 topics"
   ]
  },
  {
   "cell_type": "code",
   "execution_count": 47,
   "id": "92008313",
   "metadata": {},
   "outputs": [],
   "source": [
    "lda_model = gensim.models.LdaModel(corpus=bow, id2word=dictionary, num_topics=3, passes=8, alpha=\"auto\")"
   ]
  },
  {
   "cell_type": "code",
   "execution_count": 48,
   "id": "ce86edb7",
   "metadata": {},
   "outputs": [
    {
     "data": {
      "text/plain": [
       "[(0,\n",
       "  '0.014*\"bad\" + 0.013*\"see\" + 0.010*\"one\" + 0.010*\"character\" + 0.008*\"well\" + 0.007*\"like\" + 0.006*\"watch\" + 0.006*\"give\" + 0.005*\"think\" + 0.005*\"actor\" + 0.005*\"work\" + 0.005*\"play\" + 0.005*\"script\" + 0.005*\"suck\" + 0.005*\"way\" + 0.004*\"come\" + 0.004*\"good\" + 0.004*\"even\" + 0.004*\"scene\" + 0.004*\"go\"'),\n",
       " (1,\n",
       "  '0.012*\"good\" + 0.011*\"make\" + 0.010*\"great\" + 0.009*\"one\" + 0.006*\"excellent\" + 0.005*\"watch\" + 0.005*\"find\" + 0.005*\"character\" + 0.005*\"get\" + 0.004*\"people\" + 0.004*\"cast\" + 0.004*\"end\" + 0.004*\"would\" + 0.004*\"play\" + 0.004*\"think\" + 0.004*\"interesting\" + 0.004*\"also\" + 0.003*\"ever\" + 0.003*\"performance\" + 0.003*\"look\"'),\n",
       " (2,\n",
       "  '0.010*\"time\" + 0.010*\"like\" + 0.007*\"bad\" + 0.007*\"really\" + 0.007*\"make\" + 0.007*\"one\" + 0.006*\"even\" + 0.006*\"love\" + 0.006*\"look\" + 0.005*\"best\" + 0.005*\"see\" + 0.005*\"recommend\" + 0.005*\"show\" + 0.005*\"waste\" + 0.004*\"say\" + 0.004*\"character\" + 0.004*\"good\" + 0.004*\"act\" + 0.004*\"scene\" + 0.004*\"plot\"')]"
      ]
     },
     "execution_count": 48,
     "metadata": {},
     "output_type": "execute_result"
    }
   ],
   "source": [
    "lda_model.show_topics(formatted=True, num_topics=3, num_words=20)"
   ]
  },
  {
   "cell_type": "code",
   "execution_count": 49,
   "id": "8d3811a7",
   "metadata": {},
   "outputs": [
    {
     "data": {
      "text/html": [
       "\n",
       "<link rel=\"stylesheet\" type=\"text/css\" href=\"https://cdn.jsdelivr.net/gh/bmabey/pyLDAvis@3.3.1/pyLDAvis/js/ldavis.v1.0.0.css\">\n",
       "\n",
       "\n",
       "<div id=\"ldavis_el1932415672229509288118785845\"></div>\n",
       "<script type=\"text/javascript\">\n",
       "\n",
       "var ldavis_el1932415672229509288118785845_data = {\"mdsDat\": {\"x\": [-0.0020549329093116804, -0.08212537439628818, 0.08418030730559985], \"y\": [-0.093057366405807, 0.04825345871319503, 0.044803907692612006], \"topics\": [1, 2, 3], \"cluster\": [1, 1, 1], \"Freq\": [36.99545400075498, 35.703002656495606, 27.30154334274942]}, \"tinfo\": {\"Term\": [\"bad\", \"great\", \"excellent\", \"good\", \"see\", \"make\", \"time\", \"suck\", \"well\", \"people\", \"find\", \"interesting\", \"recommend\", \"waste\", \"best\", \"look\", \"come\", \"like\", \"avoid\", \"kid\", \"give\", \"girl\", \"worth\", \"write\", \"enjoy\", \"money\", \"director\", \"say\", \"play\", \"year\", \"suck\", \"john\", \"entire\", \"actress\", \"forget\", \"understand\", \"location\", \"extremely\", \"easy\", \"pretentious\", \"come\", \"dislike\", \"pace\", \"lead\", \"charles\", \"ray\", \"mind\", \"appreciate\", \"start\", \"pm\", \"dvd\", \"plus\", \"wind\", \"fascinate\", \"lion\", \"identify\", \"favourite\", \"talented\", \"ruthless\", \"vomit\", \"truly\", \"cinema\", \"enjoy\", \"well\", \"buy\", \"write\", \"see\", \"become\", \"give\", \"bad\", \"keep\", \"screen\", \"actually\", \"character\", \"know\", \"year\", \"way\", \"script\", \"actor\", \"one\", \"play\", \"think\", \"work\", \"little\", \"watch\", \"like\", \"every\", \"go\", \"scene\", \"story\", \"thing\", \"even\", \"never\", \"acting\", \"really\", \"good\", \"avoid\", \"girl\", \"kid\", \"rating\", \"horrible\", \"direct\", \"bit\", \"direction\", \"fall\", \"guy\", \"unfortunately\", \"expect\", \"martin\", \"own\", \"massive\", \"nonsense\", \"gem\", \"recommend\", \"narrative\", \"delight\", \"negative\", \"charm\", \"hear\", \"wonderfully\", \"war\", \"appearance\", \"miyazaki\", \"animation\", \"indulgent\", \"rate\", \"top\", \"pretty\", \"worth\", \"time\", \"say\", \"effect\", \"game\", \"best\", \"waste\", \"look\", \"camera\", \"love\", \"show\", \"like\", \"cost\", \"throughout\", \"really\", \"even\", \"funny\", \"awful\", \"act\", \"make\", \"totally\", \"bad\", \"real\", \"one\", \"plot\", \"scene\", \"see\", \"acting\", \"character\", \"could\", \"thing\", \"story\", \"good\", \"get\", \"watch\", \"interesting\", \"money\", \"excellent\", \"terrific\", \"imagination\", \"small\", \"scamp\", \"may\", \"south\", \"racial\", \"drive\", \"significant\", \"angel\", \"anne\", \"possible\", \"footage\", \"brilliance\", \"depict\", \"billy\", \"dream\", \"final\", \"people\", \"nun\", \"cole\", \"nature\", \"five\", \"terribly\", \"modern\", \"entirely\", \"humour\", \"face\", \"day\", \"classic\", \"mostly\", \"great\", \"find\", \"flick\", \"song\", \"good\", \"make\", \"cast\", \"director\", \"place\", \"end\", \"one\", \"would\", \"performance\", \"get\", \"amount\", \"big\", \"quite\", \"right\", \"two\", \"watch\", \"play\", \"also\", \"drama\", \"think\", \"line\", \"character\", \"ever\", \"look\", \"never\", \"story\", \"better\", \"go\", \"script\", \"stupid\", \"way\"], \"Freq\": [53.0, 29.0, 11.0, 42.0, 49.0, 44.0, 36.0, 12.0, 26.0, 10.0, 14.0, 7.0, 14.0, 16.0, 19.0, 21.0, 12.0, 45.0, 7.0, 7.0, 19.0, 6.0, 10.0, 12.0, 10.0, 4.0, 10.0, 14.0, 21.0, 14.0, 11.831299373933577, 5.495659107670136, 4.700779745555511, 4.695970335749289, 3.999164700884313, 6.557595759232446, 3.251829952908588, 3.2515448574814125, 3.237712627555767, 3.2321622697393386, 10.954630335168657, 3.2253295827015207, 3.2224411158735604, 3.8611241959500844, 3.2209844282909192, 3.2206429139792085, 3.858293048308009, 3.190925466951805, 6.255707311095181, 2.5023374826998204, 2.5020036209495755, 2.5014752941079523, 2.50147709471065, 2.5008770438615584, 2.500554435878176, 2.5002012176489283, 2.4991493655728765, 2.4986891615333255, 2.4974089330150835, 2.4966748873152196, 6.149187256689902, 5.502342944884923, 8.51318833541213, 21.086032319245728, 3.6815506890845087, 9.751820530527793, 33.99656493425812, 4.750167576656211, 14.37439139799833, 35.3730248630892, 4.723962205191158, 8.73506040045613, 6.117023090696435, 24.891101952605954, 9.802674352325074, 9.906974863804681, 11.771430534628564, 11.931739393228781, 12.809456382763909, 26.38796218183991, 12.33871281542106, 12.883924508743894, 12.359112443587026, 8.387092728675645, 15.852292481224678, 16.78566129854622, 8.588455928990005, 9.982180636689925, 9.993380985672069, 9.948904898630925, 8.951388409793143, 10.38772618094273, 7.751022023013396, 8.731630252316537, 9.900492694092064, 10.610305882847024, 6.907328319628159, 6.189939433497132, 6.80036258739374, 4.701587276361545, 4.652425196084885, 5.300459952284239, 3.9011532281224057, 3.896730786954419, 3.198382436000087, 3.12192546588211, 3.1154916393891936, 3.7216475864639853, 2.4802011596244236, 2.480155400246261, 2.480004220528534, 2.479693172603556, 2.4776050389544935, 11.774128961996587, 2.4753964249173572, 2.475332709327511, 2.47502195101885, 2.4738055624854156, 2.4737247595328373, 2.472957565907821, 2.4711251634670974, 2.4709400986402246, 2.4701555280361593, 2.469869387114485, 2.453335770781935, 2.4423538096392443, 5.388564132226169, 8.340389246360164, 8.286688588772206, 25.874143400405018, 11.122811984071182, 6.22016668855298, 7.139400191758951, 13.397663589946465, 11.608157959703165, 14.601599780194398, 6.027735760261548, 15.317533633946384, 11.652776249574812, 25.4945629869878, 3.96536666841873, 3.946307308181399, 17.545115222947132, 15.485142706131498, 8.651418635894094, 6.93562788847483, 9.294582914482312, 17.5349276793633, 6.887545208213434, 17.675213189691664, 8.383171948011595, 16.24510982479381, 9.134968411125039, 9.184586057869101, 12.54375999794072, 8.489067837569227, 10.739488569366795, 7.654192037622209, 8.010166404233908, 8.459708852233199, 9.535913820283081, 8.241433143002093, 8.610152944513647, 7.082693460177257, 4.337099966114602, 10.476095681926502, 3.693993165982558, 3.0085025783011026, 2.9998085191419097, 2.997661414076612, 2.975736138308742, 2.315295478831081, 2.3145805891816966, 2.312900997142995, 2.308655066424905, 2.303580412947213, 2.3035170739014497, 2.3028314176578024, 2.300978639836629, 2.2977388254993176, 2.29691563936959, 2.2938155695703086, 2.2931392148648504, 2.2561279514803747, 8.45006120941893, 1.6216280639533005, 1.621548336483109, 1.6215243075094539, 1.6214739241775968, 1.6213507895291899, 1.6212890007397913, 1.6211742817687935, 1.6210751760940416, 4.312153240691667, 3.70463013929728, 3.6868781536635473, 3.6620629785664285, 19.327132914762114, 9.50679744688264, 4.037736603457044, 4.328947389357126, 22.288081822002276, 20.758301243233404, 8.131794463578956, 5.743105419132658, 3.6638180902366173, 7.791204911946131, 16.70845758049738, 7.6518669840139255, 6.3747064379900875, 8.61255110883398, 3.003105028569135, 4.394966606910016, 4.3878509301954205, 5.098159350556334, 5.095901291428353, 9.956210566023028, 7.453256111298205, 6.909162634931847, 4.3861443194029315, 7.194442139980068, 5.610279896723932, 8.636587169375172, 6.56509607973789, 5.890505123092399, 5.098373728865071, 5.829233676389416, 4.906376249801739, 5.235965182269692, 5.11243012479023, 4.628705402992132, 4.805053708448033], \"Total\": [53.0, 29.0, 11.0, 42.0, 49.0, 44.0, 36.0, 12.0, 26.0, 10.0, 14.0, 7.0, 14.0, 16.0, 19.0, 21.0, 12.0, 45.0, 7.0, 7.0, 19.0, 6.0, 10.0, 12.0, 10.0, 4.0, 10.0, 14.0, 21.0, 14.0, 12.729601881098143, 5.9857798488979865, 5.23454104523021, 5.23069646319139, 4.484064562685602, 7.46453411282919, 3.7333011285567133, 3.73330288794143, 3.732239524192343, 3.7319907711366787, 12.671778993799515, 3.733002471167234, 3.7329764964576504, 4.473656911316718, 3.732921389417906, 3.7329152311055434, 4.4790965432761345, 3.731466790398262, 7.43195599935943, 2.9825033295933907, 2.982485624615614, 2.982444769451933, 2.9824773829062456, 2.982426838238249, 2.9824398285204, 2.9824632977963925, 2.9822709450135783, 2.9822426200203678, 2.982162231218455, 2.9823681022432624, 7.424086621487411, 6.681208907696223, 10.47778381688459, 26.826982424005067, 4.481100921109337, 12.577104951091565, 49.927767082620875, 5.978899362938442, 19.96566160909881, 53.84470385307167, 5.976908061736804, 11.870516149869559, 8.12598852434964, 44.267177691347925, 14.75419224691049, 14.954329653002066, 19.11539700181409, 19.839423127443542, 22.13401850498366, 59.341529587131106, 21.910726315576294, 23.42246229445839, 22.24880401776022, 13.356419869400575, 34.418655991761355, 45.33564050048258, 15.497525075836208, 21.302527055525303, 23.593701327644915, 24.23784742725354, 19.267526829614816, 30.29597353286679, 13.84920044220452, 19.97807264646039, 31.091053919096147, 42.43430152513238, 7.429202274333424, 6.684289971389289, 7.429045346701386, 5.195915422336088, 5.192708986150537, 5.930684849996707, 4.447249497741259, 4.4521903183207305, 3.7060958432653894, 3.7005015412091837, 3.7074552677125565, 4.435392502185475, 2.9629535800919267, 2.9629518331531663, 2.962944222282141, 2.9629282404220443, 2.962784358507144, 14.086829721243149, 2.9629907670023097, 2.9629210941672124, 2.962950045400296, 2.9629818819521505, 2.963010525415855, 2.962793876943155, 2.9625406312925016, 2.9629704977794455, 2.9624777038080614, 2.9624519426121445, 2.9631409206040775, 2.960473468151628, 6.632669704256557, 10.364556899597035, 10.305279754433755, 36.21090427723725, 14.789202122509087, 8.186079151490876, 9.598614680080406, 19.376497118556596, 16.788670509306034, 21.92659255516424, 8.173917309056739, 24.309452752844948, 17.70830809543289, 45.33564050048258, 5.146560761426079, 5.148517260084019, 31.091053919096147, 30.29597353286679, 14.8013367658453, 11.172660014820293, 17.160820892427825, 44.739408188487246, 11.712484755005912, 53.84470385307167, 16.424178413109505, 59.341529587131106, 21.324730485921428, 23.593701327644915, 49.927767082620875, 19.97807264646039, 44.267177691347925, 16.263192703738017, 19.267526829614816, 24.23784742725354, 42.43430152513238, 22.515217780596128, 34.418655991761355, 7.6901167734865785, 4.906145297250041, 11.923665653849485, 4.207244652670777, 3.5112119212759696, 3.5118767324505598, 3.5119779941193707, 3.5137728868745066, 2.8158183045456955, 2.815879413492928, 2.8159980500306396, 2.8163157865639423, 2.8166419624874592, 2.816695502779091, 2.8166325646767856, 2.8168309163666936, 2.817060223264402, 2.81717600107571, 2.817522477409974, 2.8173322924873143, 2.819769360620823, 10.5831533568451, 2.120449851115922, 2.120456314991234, 2.120456817382192, 2.120457309094653, 2.120455756757125, 2.1204785546293894, 2.1204713640896893, 2.120476718423438, 5.652644509195188, 4.950450442388796, 4.951775012834608, 4.953772551747408, 29.938614398073966, 14.252212091212094, 5.680437255385206, 6.401685141091566, 42.43430152513238, 44.739408188487246, 15.080189122575993, 10.799885619666123, 5.709838589015963, 18.111252925748506, 59.341529587131106, 18.103084083572575, 13.729090328962979, 22.515217780596128, 4.262236973064668, 7.905271919972331, 7.89222101967746, 10.081800895177572, 10.101760585736995, 34.418655991761355, 21.910726315576294, 18.91744708850464, 7.890866114009792, 23.42246229445839, 14.519094938031913, 44.267177691347925, 21.93802592888786, 21.92659255516424, 13.84920044220452, 24.23784742725354, 13.830425729202396, 21.302527055525303, 19.839423127443542, 10.888201938011704, 19.11539700181409], \"Category\": [\"Default\", \"Default\", \"Default\", \"Default\", \"Default\", \"Default\", \"Default\", \"Default\", \"Default\", \"Default\", \"Default\", \"Default\", \"Default\", \"Default\", \"Default\", \"Default\", \"Default\", \"Default\", \"Default\", \"Default\", \"Default\", \"Default\", \"Default\", \"Default\", \"Default\", \"Default\", \"Default\", \"Default\", \"Default\", \"Default\", \"Topic1\", \"Topic1\", \"Topic1\", \"Topic1\", \"Topic1\", \"Topic1\", \"Topic1\", \"Topic1\", \"Topic1\", \"Topic1\", \"Topic1\", \"Topic1\", \"Topic1\", \"Topic1\", \"Topic1\", \"Topic1\", \"Topic1\", \"Topic1\", \"Topic1\", \"Topic1\", \"Topic1\", \"Topic1\", \"Topic1\", \"Topic1\", \"Topic1\", \"Topic1\", \"Topic1\", \"Topic1\", \"Topic1\", \"Topic1\", \"Topic1\", \"Topic1\", \"Topic1\", \"Topic1\", \"Topic1\", \"Topic1\", \"Topic1\", \"Topic1\", \"Topic1\", \"Topic1\", \"Topic1\", \"Topic1\", \"Topic1\", \"Topic1\", \"Topic1\", \"Topic1\", \"Topic1\", \"Topic1\", \"Topic1\", \"Topic1\", \"Topic1\", \"Topic1\", \"Topic1\", \"Topic1\", \"Topic1\", \"Topic1\", \"Topic1\", \"Topic1\", \"Topic1\", \"Topic1\", \"Topic1\", \"Topic1\", \"Topic1\", \"Topic1\", \"Topic1\", \"Topic1\", \"Topic2\", \"Topic2\", \"Topic2\", \"Topic2\", \"Topic2\", \"Topic2\", \"Topic2\", \"Topic2\", \"Topic2\", \"Topic2\", \"Topic2\", \"Topic2\", \"Topic2\", \"Topic2\", \"Topic2\", \"Topic2\", \"Topic2\", \"Topic2\", \"Topic2\", \"Topic2\", \"Topic2\", \"Topic2\", \"Topic2\", \"Topic2\", \"Topic2\", \"Topic2\", \"Topic2\", \"Topic2\", \"Topic2\", \"Topic2\", \"Topic2\", \"Topic2\", \"Topic2\", \"Topic2\", \"Topic2\", \"Topic2\", \"Topic2\", \"Topic2\", \"Topic2\", \"Topic2\", \"Topic2\", \"Topic2\", \"Topic2\", \"Topic2\", \"Topic2\", \"Topic2\", \"Topic2\", \"Topic2\", \"Topic2\", \"Topic2\", \"Topic2\", \"Topic2\", \"Topic2\", \"Topic2\", \"Topic2\", \"Topic2\", \"Topic2\", \"Topic2\", \"Topic2\", \"Topic2\", \"Topic2\", \"Topic2\", \"Topic2\", \"Topic2\", \"Topic2\", \"Topic2\", \"Topic2\", \"Topic3\", \"Topic3\", \"Topic3\", \"Topic3\", \"Topic3\", \"Topic3\", \"Topic3\", \"Topic3\", \"Topic3\", \"Topic3\", \"Topic3\", \"Topic3\", \"Topic3\", \"Topic3\", \"Topic3\", \"Topic3\", \"Topic3\", \"Topic3\", \"Topic3\", \"Topic3\", \"Topic3\", \"Topic3\", \"Topic3\", \"Topic3\", \"Topic3\", \"Topic3\", \"Topic3\", \"Topic3\", \"Topic3\", \"Topic3\", \"Topic3\", \"Topic3\", \"Topic3\", \"Topic3\", \"Topic3\", \"Topic3\", \"Topic3\", \"Topic3\", \"Topic3\", \"Topic3\", \"Topic3\", \"Topic3\", \"Topic3\", \"Topic3\", \"Topic3\", \"Topic3\", \"Topic3\", \"Topic3\", \"Topic3\", \"Topic3\", \"Topic3\", \"Topic3\", \"Topic3\", \"Topic3\", \"Topic3\", \"Topic3\", \"Topic3\", \"Topic3\", \"Topic3\", \"Topic3\", \"Topic3\", \"Topic3\", \"Topic3\", \"Topic3\", \"Topic3\", \"Topic3\", \"Topic3\", \"Topic3\", \"Topic3\"], \"logprob\": [30.0, 29.0, 28.0, 27.0, 26.0, 25.0, 24.0, 23.0, 22.0, 21.0, 20.0, 19.0, 18.0, 17.0, 16.0, 15.0, 14.0, 13.0, 12.0, 11.0, 10.0, 9.0, 8.0, 7.0, 6.0, 5.0, 4.0, 3.0, 2.0, 1.0, -5.384, -6.1507, -6.307, -6.308, -6.4686, -5.9741, -6.6755, -6.6756, -6.6798, -6.6816, -5.4609, -6.6837, -6.6846, -6.5037, -6.685, -6.6851, -6.5045, -6.6944, -6.0212, -6.9375, -6.9376, -6.9378, -6.9378, -6.9381, -6.9382, -6.9383, -6.9388, -6.9389, -6.9395, -6.9397, -6.0384, -6.1495, -5.7131, -4.8061, -6.5514, -5.5773, -4.3284, -6.2965, -5.1893, -4.2888, -6.3021, -5.6874, -6.0436, -4.6402, -5.5721, -5.5615, -5.389, -5.3755, -5.3045, -4.5818, -5.342, -5.2987, -5.3403, -5.728, -5.0914, -5.0342, -5.7043, -5.5539, -5.5528, -5.5572, -5.6629, -5.5141, -5.8069, -5.6878, -5.5621, -5.4929, -5.8866, -5.9962, -5.9022, -6.2712, -6.2818, -6.1514, -6.4579, -6.459, -6.6565, -6.6807, -6.6828, -6.505, -6.9108, -6.9108, -6.9109, -6.911, -6.9119, -5.3532, -6.9127, -6.9128, -6.9129, -6.9134, -6.9134, -6.9137, -6.9145, -6.9145, -6.9149, -6.915, -6.9217, -6.9262, -6.1349, -5.698, -5.7045, -4.5659, -5.4101, -5.9914, -5.8535, -5.2241, -5.3674, -5.138, -6.0228, -5.0901, -5.3636, -4.5807, -6.4415, -6.4464, -4.9544, -5.0793, -5.6614, -5.8825, -5.5897, -4.955, -5.8894, -4.947, -5.6929, -5.0314, -5.607, -5.6016, -5.2899, -5.6804, -5.4452, -5.7839, -5.7384, -5.6838, -5.5641, -5.71, -5.6662, -5.5932, -6.0837, -5.2018, -6.2441, -6.4494, -6.4523, -6.453, -6.4604, -6.7113, -6.7116, -6.7124, -6.7142, -6.7164, -6.7164, -6.7167, -6.7175, -6.7189, -6.7193, -6.7206, -6.7209, -6.7372, -5.4167, -7.0674, -7.0675, -7.0675, -7.0675, -7.0676, -7.0676, -7.0677, -7.0678, -6.0894, -6.2413, -6.2461, -6.2528, -4.5893, -5.2988, -6.1552, -6.0855, -4.4468, -4.5179, -5.4551, -5.8029, -6.2524, -5.4979, -4.7349, -5.5159, -5.6985, -5.3976, -6.4512, -6.0704, -6.072, -5.922, -5.9224, -5.2527, -5.5422, -5.618, -6.0724, -5.5775, -5.8263, -5.3948, -5.6691, -5.7775, -5.9219, -5.788, -5.9603, -5.8953, -5.9192, -6.0186, -5.9812], \"loglift\": [30.0, 29.0, 28.0, 27.0, 26.0, 25.0, 24.0, 23.0, 22.0, 21.0, 20.0, 19.0, 18.0, 17.0, 16.0, 15.0, 14.0, 13.0, 12.0, 11.0, 10.0, 9.0, 8.0, 7.0, 6.0, 5.0, 4.0, 3.0, 2.0, 1.0, 0.9212, 0.9089, 0.8868, 0.8865, 0.8799, 0.8648, 0.8563, 0.8562, 0.8522, 0.8506, 0.8488, 0.8482, 0.8473, 0.8471, 0.8469, 0.8468, 0.8452, 0.8379, 0.8221, 0.8188, 0.8187, 0.8185, 0.8185, 0.8183, 0.8181, 0.818, 0.8176, 0.8175, 0.817, 0.8166, 0.806, 0.8003, 0.7867, 0.7536, 0.7978, 0.74, 0.6101, 0.7643, 0.6658, 0.5742, 0.7591, 0.6877, 0.7104, 0.4186, 0.5855, 0.5826, 0.5096, 0.4859, 0.4474, 0.184, 0.4201, 0.3967, 0.4065, 0.5291, 0.2191, 0.0008, 0.4041, 0.2364, 0.1353, 0.1039, 0.2278, -0.076, 0.414, 0.1667, -0.15, -0.3918, 0.9571, 0.9531, 0.9415, 0.93, 0.9201, 0.9176, 0.8989, 0.8967, 0.8826, 0.8599, 0.856, 0.8545, 0.8521, 0.8521, 0.852, 0.8519, 0.8511, 0.8506, 0.8501, 0.8501, 0.85, 0.8495, 0.8495, 0.8492, 0.8486, 0.8483, 0.8482, 0.8481, 0.8411, 0.8375, 0.8222, 0.8127, 0.8119, 0.6938, 0.745, 0.7553, 0.7339, 0.661, 0.6609, 0.6234, 0.7254, 0.5681, 0.6114, 0.4543, 0.7692, 0.764, 0.4578, 0.3588, 0.4929, 0.5531, 0.4167, 0.0933, 0.499, -0.084, 0.3574, -0.2656, 0.1822, 0.0865, -0.3514, 0.1741, -0.3864, 0.2763, 0.1522, -0.0227, -0.463, 0.0249, -0.3557, 1.2159, 1.1749, 1.1688, 1.1681, 1.1437, 1.1406, 1.1399, 1.132, 1.1025, 1.1022, 1.1014, 1.0995, 1.0971, 1.0971, 1.0968, 1.0959, 1.0945, 1.0941, 1.0926, 1.0924, 1.0752, 1.0731, 1.03, 1.03, 1.03, 1.0299, 1.0299, 1.0298, 1.0297, 1.0297, 1.0275, 1.0083, 1.0033, 0.9961, 0.8606, 0.8933, 0.9569, 0.907, 0.6543, 0.5303, 0.6806, 0.6667, 0.8545, 0.4547, 0.0308, 0.4371, 0.531, 0.3373, 0.9481, 0.7112, 0.7112, 0.6164, 0.614, 0.0578, 0.2199, 0.291, 0.711, 0.1178, 0.3474, -0.336, 0.0918, -0.0161, 0.2989, -0.1268, 0.2619, -0.105, -0.0578, 0.4428, -0.0826]}, \"token.table\": {\"Topic\": [1, 2, 1, 2, 3, 1, 2, 3, 1, 1, 3, 1, 2, 3, 1, 3, 3, 2, 3, 2, 1, 2, 1, 2, 1, 2, 3, 1, 2, 1, 2, 1, 2, 3, 1, 3, 3, 2, 3, 1, 2, 1, 2, 1, 2, 3, 1, 2, 3, 1, 2, 1, 3, 2, 3, 3, 1, 2, 3, 2, 3, 1, 2, 3, 2, 3, 2, 3, 2, 2, 1, 3, 1, 1, 2, 3, 3, 3, 1, 1, 1, 2, 1, 2, 3, 1, 2, 1, 3, 1, 2, 3, 1, 2, 3, 1, 2, 3, 1, 3, 2, 1, 2, 3, 2, 1, 1, 3, 1, 3, 3, 1, 3, 3, 1, 1, 2, 3, 1, 2, 3, 2, 1, 2, 3, 2, 1, 2, 3, 1, 2, 3, 1, 2, 3, 1, 2, 3, 2, 2, 2, 3, 1, 3, 2, 3, 1, 1, 2, 2, 1, 2, 3, 1, 1, 2, 3, 1, 2, 3, 1, 1, 2, 3, 1, 1, 2, 3, 1, 2, 3, 1, 2, 3, 2, 2, 3, 1, 2, 3, 3, 2, 3, 2, 3, 2, 1, 2, 3, 2, 3, 1, 2, 3, 2, 1, 1, 3, 1, 2, 3, 1, 3, 1, 2, 3, 1, 2, 3, 1, 1, 3, 1, 1, 2, 3, 1, 2, 3, 3, 2, 2, 1, 1, 2, 1, 2, 3, 1, 2, 3, 1, 2, 3, 1, 1, 2, 3, 3, 1, 2, 3, 1, 2, 3, 1, 2, 3, 1, 2, 3, 1, 2, 3, 3, 3, 1, 2, 3, 3, 1, 3, 1, 2, 3, 1, 3, 1, 2, 1, 3, 3, 1, 2, 3, 1, 2, 3, 2, 3, 1, 2, 3, 2, 3, 1, 2, 3, 1, 3, 1, 3, 1, 3, 2, 1, 2, 2, 3, 1, 2, 3, 1, 2, 3, 1, 2, 3, 1, 2, 1, 2, 3, 2, 3, 1, 2, 3, 1, 2, 3, 1, 2], \"Freq\": [0.46617816537727413, 0.5244504360494334, 0.4504939069582657, 0.4004390284073473, 0.15016463565275523, 0.5873312158419376, 0.2258966214776683, 0.18071729718213464, 0.9558956508344902, 0.7383717048111641, 0.24612390160372138, 0.3171675317461813, 0.3171675317461813, 0.3700287870372115, 0.2346185832274295, 0.7038557496822886, 0.7100653993785356, 0.6751164369054704, 0.7100519023184086, 0.6749982834789852, 0.8039733886201377, 0.9422276768777395, 0.3580168012536035, 0.6265294021938062, 0.6500175039592749, 0.3342947163219128, 0.018571928684550713, 0.8362743201522389, 0.1672548640304478, 0.3096534922328084, 0.6709158998377516, 0.2892174166088147, 0.36152177076101844, 0.36152177076101844, 0.3794935873642282, 0.5059914498189709, 0.709843494075161, 0.899432334981787, 0.709959972982901, 0.8926377848704563, 0.22315944621761408, 0.24468072337653704, 0.7340421701296111, 0.19893649712315684, 0.2652486628308758, 0.5304973256617516, 0.5647525165103598, 0.2484911072645583, 0.20331090594372953, 0.8036601061314623, 0.6749956900452955, 0.8980410705446549, 0.14967351175744248, 0.2019477858763937, 0.8077911435055748, 0.9431932107539165, 0.8680706951551521, 0.07891551774137746, 0.07891551774137746, 0.7772180656993984, 0.1943045164248496, 0.3689312491895228, 0.4919083322526971, 0.12297708306317427, 0.20200182016516843, 0.8080072806606737, 0.6750095383698159, 0.7099307956749313, 0.843072954720023, 0.8984341894685026, 0.4629678661499171, 0.5555614393799005, 0.8036426504325246, 0.25345760162488523, 0.25345760162488523, 0.5069152032497705, 0.709891412288565, 0.710227764532095, 1.005872408986596, 0.8038069316168018, 0.24431720766293266, 0.732951622988798, 0.33128574950603706, 0.22085716633735802, 0.44171433267471605, 0.8589602684392865, 0.19088005965317478, 0.955193579875751, 0.9431865168613549, 0.33007686612715825, 0.4951152991907373, 0.1320307464508633, 0.36466362223893845, 0.31908066945907115, 0.31908066945907115, 0.5807378891764357, 0.2581057285228603, 0.19357929639214522, 0.08386682661444436, 0.8386682661444436, 0.9018367592110639, 0.8035779817624767, 0.1769083476544995, 0.707633390617998, 0.809477176757723, 1.0058922356573654, 0.6706298779941653, 0.7092778678748619, 0.2806581865608355, 0.7016454664020889, 0.9431927685702461, 0.17604278597602208, 0.7041711439040883, 0.710017767974413, 0.8920478160118895, 0.27024586111912313, 0.6080531875180271, 0.13512293055956157, 0.10418170051926944, 0.729271903634886, 0.10418170051926944, 0.675040690780391, 0.26648642968805164, 0.35531523958406885, 0.39972964453207743, 0.8976271265432455, 0.7012039106993518, 0.10017198724276456, 0.20034397448552912, 0.4694278746335998, 0.2816567247801599, 0.2347139373167999, 0.2592242503033796, 0.23565840936670873, 0.5184485006067592, 0.1670083970326183, 0.20041007643914197, 0.6346319087239496, 0.8107009189407643, 0.6749891648526298, 0.9628885449455168, 0.9431841352575605, 1.00587993898083, 0.8544058482547542, 0.6749594614596569, 0.9102592595386961, 0.8353130462892862, 0.8365529381335458, 0.16731058762670917, 0.9422475800485066, 0.677773464832952, 0.1355546929665904, 0.2033320394498856, 0.8941231031555998, 0.3749809159488778, 0.5514425234542321, 0.06617310281450785, 0.20662444958202436, 0.4132488991640487, 0.4132488991640487, 1.005887854404195, 0.5989629016026907, 0.22461108810100902, 0.14974072540067268, 0.8035783604629273, 0.04560672149510417, 0.6841008224265626, 0.273640328970625, 0.20568130639694665, 0.61704391919084, 0.16454504511755733, 0.1341099545778966, 0.4023298637336898, 0.4693848410226381, 0.6750021375420769, 0.6750042693883536, 0.8537831261679788, 0.8930372367178963, 0.6751105662092031, 0.9431833185172456, 0.8153040233525193, 0.2018663532800385, 0.807465413120154, 0.6749936659517242, 0.943192987287097, 0.6750029427950747, 0.5776506761805924, 0.07220633452257405, 0.3610316726128702, 0.6750079103215529, 0.9431960859378338, 0.4381417226838453, 0.26962567549775096, 0.28647728021636043, 0.6750025355193184, 0.8036482423199832, 0.18897959167400855, 0.7559183666960342, 0.2913521511007597, 0.21851411332556975, 0.4370282266511395, 0.3502725985717718, 0.7005451971435436, 0.5476769609170474, 0.09127949348617456, 0.31947822720161095, 0.375151282933287, 0.42204519329994783, 0.23446955183330437, 1.0058861879783587, 1.0058664378453501, 0.7100677685410146, 0.8038605087670859, 0.09648265812876951, 0.7718612650301561, 0.09648265812876951, 0.253414089014164, 0.253414089014164, 0.506828178028328, 0.7102576873201828, 0.6755676149493413, 0.9622943396087836, 0.8036614319558276, 0.4870867691996413, 0.4870867691996413, 0.3216359286507812, 0.5789446715714062, 0.12865437146031247, 0.07098829330576667, 0.8518595196692, 0.07098829330576667, 0.2975658844279488, 0.19837725628529917, 0.49594314071324797, 0.6706543255974502, 0.13523379986510636, 0.7437858992580849, 0.13523379986510636, 0.8542194754703327, 0.42384193396069336, 0.38145774056462406, 0.16953677358427735, 0.7581810164252123, 0.16848467031671385, 0.16848467031671385, 0.6048562966228892, 0.1512140741557223, 0.25202345692620387, 0.6809837889152247, 0.260376154585233, 0.06008680490428454, 0.1694120061517183, 0.6776480246068732, 0.1694120061517183, 0.7101476366896016, 0.8542441060870106, 0.15620886968981543, 0.15620886968981543, 0.6248354787592617, 0.7102731013472406, 0.8073244783092295, 0.1345540797182049, 0.41257789207616646, 0.33006231366093314, 0.24754673524569987, 0.5510551727602933, 0.4592126439669111, 0.9426846269103271, 0.07855705224252725, 0.6706362475586714, 0.9431934590602628, 0.9507410027750068, 0.4671071736185003, 0.41520637654977804, 0.10380159413744451, 0.5550227741459838, 0.12808217864907318, 0.2988584168478374, 0.7769227134599765, 0.19423067836499414, 0.16569594490275394, 0.7180157612452671, 0.11046396326850262, 0.7538442622570545, 0.1507688524514109, 0.1707579597185986, 0.5976528590150952, 0.25613693957789796, 0.8081802255154593, 0.13469670425257654, 0.4949632252282501, 0.4949632252282501, 0.9377678357674323, 0.13396683368106177, 0.8091803631796627, 0.6706080307443103, 0.6750962261494577, 0.7147677353813304, 0.297819889742221, 0.46486417144904935, 0.26148609644009024, 0.2905401071556558, 0.6277661928162505, 0.15694154820406261, 0.261569247006771, 0.782793967211496, 0.1491036128021897, 0.07455180640109485, 1.0058751885912642, 0.6750385221072106, 0.5393548341034843, 0.3146236532270325, 0.13483870852587107, 0.7763010991097132, 0.1940752747774283, 0.22095682600456745, 0.3314352390068512, 0.4419136520091349, 0.795095535807873, 0.0795095535807873, 0.1590191071615746, 0.6687026588311507, 0.3343513294155753], \"Term\": [\"act\", \"act\", \"acting\", \"acting\", \"acting\", \"actor\", \"actor\", \"actor\", \"actress\", \"actually\", \"actually\", \"also\", \"also\", \"also\", \"amount\", \"amount\", \"angel\", \"animation\", \"anne\", \"appearance\", \"appreciate\", \"avoid\", \"awful\", \"awful\", \"bad\", \"bad\", \"bad\", \"become\", \"become\", \"best\", \"best\", \"better\", \"better\", \"better\", \"big\", \"big\", \"billy\", \"bit\", \"brilliance\", \"buy\", \"buy\", \"camera\", \"camera\", \"cast\", \"cast\", \"cast\", \"character\", \"character\", \"character\", \"charles\", \"charm\", \"cinema\", \"cinema\", \"classic\", \"classic\", \"cole\", \"come\", \"come\", \"come\", \"cost\", \"cost\", \"could\", \"could\", \"could\", \"day\", \"day\", \"delight\", \"depict\", \"direct\", \"direction\", \"director\", \"director\", \"dislike\", \"drama\", \"drama\", \"drama\", \"dream\", \"drive\", \"dvd\", \"easy\", \"effect\", \"effect\", \"end\", \"end\", \"end\", \"enjoy\", \"enjoy\", \"entire\", \"entirely\", \"even\", \"even\", \"even\", \"ever\", \"ever\", \"ever\", \"every\", \"every\", \"every\", \"excellent\", \"excellent\", \"expect\", \"extremely\", \"face\", \"face\", \"fall\", \"fascinate\", \"favourite\", \"final\", \"find\", \"find\", \"five\", \"flick\", \"flick\", \"footage\", \"forget\", \"funny\", \"funny\", \"funny\", \"game\", \"game\", \"game\", \"gem\", \"get\", \"get\", \"get\", \"girl\", \"give\", \"give\", \"give\", \"go\", \"go\", \"go\", \"good\", \"good\", \"good\", \"great\", \"great\", \"great\", \"guy\", \"hear\", \"horrible\", \"humour\", \"identify\", \"imagination\", \"indulgent\", \"interesting\", \"john\", \"keep\", \"keep\", \"kid\", \"know\", \"know\", \"know\", \"lead\", \"like\", \"like\", \"like\", \"line\", \"line\", \"line\", \"lion\", \"little\", \"little\", \"little\", \"location\", \"look\", \"look\", \"look\", \"love\", \"love\", \"love\", \"make\", \"make\", \"make\", \"martin\", \"massive\", \"may\", \"mind\", \"miyazaki\", \"modern\", \"money\", \"mostly\", \"mostly\", \"narrative\", \"nature\", \"negative\", \"never\", \"never\", \"never\", \"nonsense\", \"nun\", \"one\", \"one\", \"one\", \"own\", \"pace\", \"people\", \"people\", \"performance\", \"performance\", \"performance\", \"place\", \"place\", \"play\", \"play\", \"play\", \"plot\", \"plot\", \"plot\", \"plus\", \"pm\", \"possible\", \"pretentious\", \"pretty\", \"pretty\", \"pretty\", \"quite\", \"quite\", \"quite\", \"racial\", \"rate\", \"rating\", \"ray\", \"real\", \"real\", \"really\", \"really\", \"really\", \"recommend\", \"recommend\", \"recommend\", \"right\", \"right\", \"right\", \"ruthless\", \"say\", \"say\", \"say\", \"scamp\", \"scene\", \"scene\", \"scene\", \"screen\", \"screen\", \"screen\", \"script\", \"script\", \"script\", \"see\", \"see\", \"see\", \"show\", \"show\", \"show\", \"significant\", \"small\", \"song\", \"song\", \"song\", \"south\", \"start\", \"start\", \"story\", \"story\", \"story\", \"stupid\", \"stupid\", \"suck\", \"suck\", \"talented\", \"terribly\", \"terrific\", \"thing\", \"thing\", \"thing\", \"think\", \"think\", \"think\", \"throughout\", \"throughout\", \"time\", \"time\", \"time\", \"top\", \"top\", \"totally\", \"totally\", \"totally\", \"truly\", \"truly\", \"two\", \"two\", \"understand\", \"understand\", \"unfortunately\", \"vomit\", \"war\", \"waste\", \"waste\", \"watch\", \"watch\", \"watch\", \"way\", \"way\", \"way\", \"well\", \"well\", \"well\", \"wind\", \"wonderfully\", \"work\", \"work\", \"work\", \"worth\", \"worth\", \"would\", \"would\", \"would\", \"write\", \"write\", \"write\", \"year\", \"year\"]}, \"R\": 30, \"lambda.step\": 0.01, \"plot.opts\": {\"xlab\": \"PC1\", \"ylab\": \"PC2\"}, \"topic.order\": [1, 3, 2]};\n",
       "\n",
       "function LDAvis_load_lib(url, callback){\n",
       "  var s = document.createElement('script');\n",
       "  s.src = url;\n",
       "  s.async = true;\n",
       "  s.onreadystatechange = s.onload = callback;\n",
       "  s.onerror = function(){console.warn(\"failed to load library \" + url);};\n",
       "  document.getElementsByTagName(\"head\")[0].appendChild(s);\n",
       "}\n",
       "\n",
       "if(typeof(LDAvis) !== \"undefined\"){\n",
       "   // already loaded: just create the visualization\n",
       "   !function(LDAvis){\n",
       "       new LDAvis(\"#\" + \"ldavis_el1932415672229509288118785845\", ldavis_el1932415672229509288118785845_data);\n",
       "   }(LDAvis);\n",
       "}else if(typeof define === \"function\" && define.amd){\n",
       "   // require.js is available: use it to load d3/LDAvis\n",
       "   require.config({paths: {d3: \"https://d3js.org/d3.v5\"}});\n",
       "   require([\"d3\"], function(d3){\n",
       "      window.d3 = d3;\n",
       "      LDAvis_load_lib(\"https://cdn.jsdelivr.net/gh/bmabey/pyLDAvis@3.3.1/pyLDAvis/js/ldavis.v3.0.0.js\", function(){\n",
       "        new LDAvis(\"#\" + \"ldavis_el1932415672229509288118785845\", ldavis_el1932415672229509288118785845_data);\n",
       "      });\n",
       "    });\n",
       "}else{\n",
       "    // require.js not available: dynamically load d3 & LDAvis\n",
       "    LDAvis_load_lib(\"https://d3js.org/d3.v5.js\", function(){\n",
       "         LDAvis_load_lib(\"https://cdn.jsdelivr.net/gh/bmabey/pyLDAvis@3.3.1/pyLDAvis/js/ldavis.v3.0.0.js\", function(){\n",
       "                 new LDAvis(\"#\" + \"ldavis_el1932415672229509288118785845\", ldavis_el1932415672229509288118785845_data);\n",
       "            })\n",
       "         });\n",
       "}\n",
       "</script>"
      ],
      "text/plain": [
       "PreparedData(topic_coordinates=              x         y  topics  cluster       Freq\n",
       "topic                                                \n",
       "0     -0.002055 -0.093057       1        1  36.995454\n",
       "2     -0.082125  0.048253       2        1  35.703003\n",
       "1      0.084180  0.044804       3        1  27.301543, topic_info=          Term       Freq      Total Category  logprob  loglift\n",
       "446        bad  53.000000  53.000000  Default  30.0000  30.0000\n",
       "358      great  29.000000  29.000000  Default  29.0000  29.0000\n",
       "299  excellent  11.000000  11.000000  Default  28.0000  28.0000\n",
       "59        good  42.000000  42.000000  Default  27.0000  27.0000\n",
       "96         see  49.000000  49.000000  Default  26.0000  26.0000\n",
       "..         ...        ...        ...      ...      ...      ...\n",
       "233     better   4.906376  13.830426   Topic3  -5.9603   0.2619\n",
       "269         go   5.235965  21.302527   Topic3  -5.8953  -0.1050\n",
       "419     script   5.112430  19.839423   Topic3  -5.9192  -0.0578\n",
       "499     stupid   4.628705  10.888202   Topic3  -6.0186   0.4428\n",
       "445        way   4.805054  19.115397   Topic3  -5.9812  -0.0826\n",
       "\n",
       "[232 rows x 6 columns], token_table=      Topic      Freq    Term\n",
       "term                         \n",
       "107       1  0.466178     act\n",
       "107       2  0.524450     act\n",
       "15        1  0.450494  acting\n",
       "15        2  0.400439  acting\n",
       "15        3  0.150165  acting\n",
       "...     ...       ...     ...\n",
       "280       1  0.795096   write\n",
       "280       2  0.079510   write\n",
       "280       3  0.159019   write\n",
       "396       1  0.668703    year\n",
       "396       2  0.334351    year\n",
       "\n",
       "[323 rows x 3 columns], R=30, lambda_step=0.01, plot_opts={'xlab': 'PC1', 'ylab': 'PC2'}, topic_order=[1, 3, 2])"
      ]
     },
     "execution_count": 49,
     "metadata": {},
     "output_type": "execute_result"
    }
   ],
   "source": [
    "# Visualize model with 5 topics\n",
    "pyLDAvis.enable_notebook() #allow us to see in jupyter notebook\n",
    "vis = pyLDAvis.gensim_models.prepare(lda_model, bow, dictionary)\n",
    "vis"
   ]
  },
  {
   "cell_type": "markdown",
   "id": "59c53be9",
   "metadata": {},
   "source": [
    "The model with 3 topics produces a good cluster that is spreaded throughout every direction and does not overlap."
   ]
  },
  {
   "cell_type": "markdown",
   "id": "60895fdc",
   "metadata": {},
   "source": [
    "### Let's try 4 topics"
   ]
  },
  {
   "cell_type": "code",
   "execution_count": 50,
   "id": "d8fd472c",
   "metadata": {},
   "outputs": [],
   "source": [
    "lda_model_1 = gensim.models.LdaModel(corpus=bow, id2word=dictionary, num_topics=4, passes=8, alpha=\"auto\")"
   ]
  },
  {
   "cell_type": "code",
   "execution_count": 51,
   "id": "db38d1e3",
   "metadata": {},
   "outputs": [
    {
     "data": {
      "text/plain": [
       "[(0,\n",
       "  '0.010*\"time\" + 0.010*\"great\" + 0.010*\"watch\" + 0.008*\"see\" + 0.007*\"get\" + 0.007*\"plot\" + 0.006*\"real\" + 0.006*\"go\" + 0.006*\"little\" + 0.005*\"show\" + 0.005*\"waste\" + 0.005*\"take\" + 0.005*\"best\" + 0.005*\"worth\" + 0.004*\"enjoy\" + 0.004*\"art\" + 0.004*\"make\" + 0.004*\"worse\" + 0.004*\"really\" + 0.004*\"thing\"'),\n",
       " (1,\n",
       "  '0.020*\"one\" + 0.007*\"bad\" + 0.006*\"end\" + 0.006*\"make\" + 0.006*\"like\" + 0.006*\"look\" + 0.005*\"love\" + 0.005*\"watch\" + 0.005*\"best\" + 0.005*\"everything\" + 0.005*\"good\" + 0.005*\"great\" + 0.005*\"scene\" + 0.004*\"much\" + 0.004*\"actor\" + 0.004*\"think\" + 0.003*\"use\" + 0.003*\"even\" + 0.003*\"story\" + 0.003*\"really\"'),\n",
       " (2,\n",
       "  '0.012*\"good\" + 0.012*\"character\" + 0.011*\"see\" + 0.010*\"one\" + 0.009*\"make\" + 0.008*\"work\" + 0.007*\"like\" + 0.007*\"really\" + 0.007*\"play\" + 0.007*\"ever\" + 0.006*\"give\" + 0.005*\"would\" + 0.005*\"recommend\" + 0.005*\"well\" + 0.005*\"screen\" + 0.005*\"scene\" + 0.005*\"every\" + 0.004*\"also\" + 0.004*\"even\" + 0.004*\"year\"'),\n",
       " (3,\n",
       "  '0.022*\"bad\" + 0.009*\"like\" + 0.008*\"character\" + 0.008*\"script\" + 0.007*\"see\" + 0.007*\"even\" + 0.007*\"make\" + 0.007*\"suck\" + 0.006*\"acting\" + 0.006*\"good\" + 0.006*\"excellent\" + 0.005*\"funny\" + 0.005*\"way\" + 0.005*\"well\" + 0.005*\"story\" + 0.005*\"time\" + 0.005*\"thing\" + 0.004*\"cast\" + 0.004*\"predictable\" + 0.004*\"love\"')]"
      ]
     },
     "execution_count": 51,
     "metadata": {},
     "output_type": "execute_result"
    }
   ],
   "source": [
    "lda_model_1.show_topics(formatted=True, num_topics=4, num_words=20)"
   ]
  },
  {
   "cell_type": "code",
   "execution_count": 52,
   "id": "6ef27336",
   "metadata": {},
   "outputs": [
    {
     "data": {
      "text/html": [
       "\n",
       "<link rel=\"stylesheet\" type=\"text/css\" href=\"https://cdn.jsdelivr.net/gh/bmabey/pyLDAvis@3.3.1/pyLDAvis/js/ldavis.v1.0.0.css\">\n",
       "\n",
       "\n",
       "<div id=\"ldavis_el1932415672229517128105882929\"></div>\n",
       "<script type=\"text/javascript\">\n",
       "\n",
       "var ldavis_el1932415672229517128105882929_data = {\"mdsDat\": {\"x\": [-0.06682844245702181, 0.09409082719946761, 0.03475979130016504, -0.062022176042610906], \"y\": [-0.0856567396675185, 0.012405544721978266, -0.02426439572277634, 0.0975155906683165], \"topics\": [1, 2, 3, 4], \"cluster\": [1, 1, 1, 1], \"Freq\": [29.83723975458144, 26.413935677333278, 24.470115318719067, 19.27870924936621]}, \"tinfo\": {\"Term\": [\"bad\", \"one\", \"suck\", \"script\", \"good\", \"character\", \"great\", \"work\", \"excellent\", \"recommend\", \"end\", \"time\", \"real\", \"screen\", \"watch\", \"enjoy\", \"little\", \"take\", \"worth\", \"best\", \"waste\", \"get\", \"everything\", \"man\", \"ever\", \"funny\", \"star\", \"plot\", \"worse\", \"predictable\", \"last\", \"rest\", \"nut\", \"depth\", \"drago\", \"may\", \"annoy\", \"forget\", \"man\", \"screen\", \"sister\", \"particular\", \"might\", \"giallo\", \"surprise\", \"relationship\", \"greatest\", \"appearance\", \"aspect\", \"talent\", \"effective\", \"edit\", \"genuine\", \"wonder\", \"charm\", \"estevez\", \"era\", \"interplay\", \"emilio\", \"manage\", \"recommend\", \"work\", \"truly\", \"camera\", \"money\", \"totally\", \"give\", \"play\", \"good\", \"ever\", \"character\", \"would\", \"every\", \"see\", \"awful\", \"year\", \"experience\", \"really\", \"make\", \"one\", \"also\", \"like\", \"saw\", \"never\", \"wonderful\", \"scene\", \"better\", \"well\", \"actor\", \"even\", \"think\", \"love\", \"story\", \"time\", \"suck\", \"star\", \"new\", \"book\", \"excellent\", \"ray\", \"charles\", \"predictable\", \"do\", \"stereotype\", \"negative\", \"animation\", \"massive\", \"perfectly\", \"kill\", \"dream\", \"pay\", \"writing\", \"talented\", \"cost\", \"bad\", \"process\", \"front\", \"deserving\", \"sand\", \"nun\", \"africa\", \"par\", \"cause\", \"paint\", \"level\", \"horrible\", \"script\", \"rating\", \"avoid\", \"believe\", \"funny\", \"fact\", \"lame\", \"especially\", \"piece\", \"acting\", \"way\", \"even\", \"like\", \"character\", \"thing\", \"come\", \"cast\", \"well\", \"story\", \"see\", \"make\", \"good\", \"better\", \"act\", \"time\", \"love\", \"get\", \"actor\", \"think\", \"really\", \"watch\", \"brilliant\", \"lose\", \"spoiler\", \"entertain\", \"credit\", \"sea\", \"depict\", \"brilliance\", \"favourite\", \"yes\", \"light\", \"angle\", \"create\", \"faux\", \"fascinate\", \"joe\", \"car\", \"childhood\", \"ponyo\", \"mexican\", \"sake\", \"fit\", \"unrecognizable\", \"popular\", \"somewhat\", \"flynn\", \"errol\", \"italian\", \"disappointment\", \"despite\", \"everything\", \"girl\", \"one\", \"end\", \"serious\", \"try\", \"interesting\", \"amazing\", \"perfect\", \"almost\", \"suspense\", \"look\", \"best\", \"horror\", \"much\", \"love\", \"use\", \"pretty\", \"scene\", \"watch\", \"bad\", \"make\", \"like\", \"great\", \"keep\", \"right\", \"actor\", \"good\", \"think\", \"find\", \"nothing\", \"way\", \"story\", \"even\", \"really\", \"time\", \"ever\", \"line\", \"play\", \"audience\", \"scamp\", \"pm\", \"walk\", \"incredibly\", \"angel\", \"someone\", \"own\", \"learn\", \"throughout\", \"tap\", \"flat\", \"watching\", \"wayne\", \"stun\", \"genius\", \"lange\", \"humour\", \"abysmal\", \"heaven\", \"interested\", \"crowd\", \"pleaser\", \"unpredictable\", \"half\", \"damn\", \"june\", \"poetry\", \"annoying\", \"european\", \"slow\", \"take\", \"worth\", \"little\", \"worse\", \"real\", \"enjoy\", \"comedy\", \"great\", \"time\", \"hour\", \"get\", \"art\", \"plot\", \"watch\", \"word\", \"show\", \"nice\", \"waste\", \"go\", \"best\", \"want\", \"see\", \"never\", \"lot\", \"say\", \"use\", \"thing\", \"really\", \"make\", \"dialogue\", \"like\", \"write\", \"look\"], \"Freq\": [53.0, 60.0, 12.0, 20.0, 44.0, 45.0, 29.0, 22.0, 12.0, 14.0, 18.0, 35.0, 15.0, 12.0, 33.0, 9.0, 12.0, 9.0, 9.0, 18.0, 16.0, 22.0, 12.0, 10.0, 22.0, 14.0, 6.0, 20.0, 8.0, 8.0, 4.012903397690782, 3.2493495399968326, 3.2492655540922777, 3.249068780200626, 3.2489455847383253, 3.241344739358962, 3.2327999601820085, 3.878977344385787, 8.771953545710726, 10.038241219246373, 2.4847609856401394, 2.4847411388269594, 2.4847382344152744, 2.4847118526758036, 2.4846864390735606, 2.4846767577012776, 2.483125317792931, 2.481456007177039, 2.477995642688797, 2.477790881665012, 2.4759606182349154, 2.4760320183555025, 2.4617965285506163, 2.4595625518963202, 2.4561459956176583, 1.7201748516265174, 1.7201640810998526, 1.72015064819581, 1.7201456864925149, 1.7201468966640503, 10.599270934221389, 16.835674047158264, 5.550440613404824, 6.143874849548185, 3.9553181112830345, 8.337517454707887, 13.18120191719129, 14.157482147715973, 25.34926758771384, 13.89636682400909, 24.421267392627126, 10.89539990892688, 9.357155711001873, 22.72790243916093, 7.019110597555461, 8.789646253557862, 4.658635196735237, 14.57056694028594, 17.856166200487607, 21.266338582265995, 9.261549255295813, 14.67521482956707, 5.704183709670148, 7.083191116627856, 7.073138947786443, 9.534061490454214, 7.079165602032595, 10.099035396497314, 8.351327932269552, 9.14404063107398, 7.558871789830623, 7.587868467955361, 7.397252897213099, 7.519775020071672, 12.04901003977052, 6.105275670737215, 3.80748279127509, 3.1504892700170215, 10.401197571171798, 3.070115223831607, 3.0697389743478443, 6.6807672544189085, 5.404840546925384, 2.4137128599344155, 2.4136490089400184, 2.4136230828651124, 2.4134503852091256, 2.410250336211407, 2.4083360919699865, 2.402811266833986, 2.3997706310571782, 5.3518459356964785, 2.270734627863338, 3.8982154828434776, 40.205413036154, 1.6709972360474739, 1.6709914508902635, 1.670985558600512, 1.670975702406746, 1.6709701315146175, 1.6709407771984013, 1.6709356348364364, 1.6709188150275098, 1.6708890321811298, 3.8974981233493793, 3.889991131941005, 14.468873593145076, 3.864205614928522, 5.3838588530484115, 5.192905812086463, 9.96567293810059, 4.588691565650021, 3.126172325875671, 4.448189380865025, 6.0864940507208765, 11.26874488881614, 9.584811612715887, 12.267341872893732, 15.800707631390438, 15.495801563407758, 8.338763313828714, 6.294365462547228, 7.076211889805802, 9.35206659606549, 8.762637925868523, 12.857775874854829, 12.20807786536933, 10.546465011377569, 6.119643858597208, 6.459309293751223, 8.685101392162304, 6.520922932163404, 6.1354300527690135, 6.123925303463121, 6.140485851640802, 6.270586752291533, 6.110725288829479, 4.5579497888571305, 3.8214435380014686, 3.818094096894406, 3.099296571825486, 3.089612292298914, 2.3704340496737926, 2.3703401605162933, 2.369727598275189, 2.358197295144511, 2.3570706252545217, 2.3533676607024145, 2.34982885330306, 5.206263353761025, 2.2779822101227447, 2.248407125510513, 1.6410832245042386, 1.641065161262521, 1.6410602980820588, 1.6410338979595482, 1.6410263550674025, 1.6410075970856188, 1.641000153442054, 1.640982387946079, 1.6409329621528077, 1.640918571108582, 1.640895743934983, 1.6408853228339921, 1.6408696415582154, 1.640452400524255, 1.640225816014138, 8.42853249022828, 4.558610387411375, 33.50071534048284, 11.017856506041566, 2.579683207165133, 4.7700078796841385, 5.121825440120576, 3.82770413848249, 3.8135866233458002, 4.554526903800228, 4.1212401532742025, 10.109805038074036, 8.729493092857409, 4.104324225151418, 7.2749829085854305, 9.347078106142249, 5.7997897170553205, 5.126236841042903, 7.926376752445079, 9.314139487124471, 11.757221116026166, 10.656237552753137, 10.322628136962358, 8.217395029237386, 3.3976572586302516, 4.545515132657603, 6.2570124463259384, 8.230459318433926, 6.161522607714585, 4.989537800673055, 4.561724807878947, 5.146894837658657, 5.311140123150675, 5.510854469478229, 5.2838630401798135, 5.022136989544271, 4.738711229188207, 4.650916728542873, 4.569624200927226, 3.5626135705107944, 2.8820033014775768, 2.2072817251363688, 2.2068683984922317, 2.2053613122759814, 2.203400239208453, 2.200091593044999, 2.1884685600627067, 2.127378788228002, 3.561906708448176, 1.5279832169397085, 1.5279728955025111, 1.5279594463570718, 1.5279569441904786, 1.5278907931611672, 1.5278623310161679, 1.5278090035906473, 1.527780228674824, 1.5276976571772438, 1.5276981263334801, 1.5276707588863654, 1.5273589263746707, 1.5272943391994802, 1.526996581374873, 3.560363809972559, 1.5265810653349667, 1.5262987896661557, 1.5260385643404486, 1.5252153515312403, 1.5252596086028598, 3.544604851996891, 6.586650794805095, 6.200038532301812, 7.568425275491568, 5.161715086605895, 8.677815256771476, 5.6512958832165845, 3.520907770503857, 13.065050356282597, 13.984780488579007, 3.975543621242809, 9.677971904335909, 5.457720769056159, 9.00015811924157, 12.765254516985074, 3.5671315450658905, 7.2665094755478385, 2.882106828620376, 6.950831759340749, 7.8199261718294215, 6.416013041805801, 3.8616647024759754, 10.124984591777432, 4.900068530273703, 3.9544390971112975, 4.74646584021268, 4.2022880813061745, 4.922325614892271, 4.931040973907692, 5.16581113331919, 3.8407966330875345, 4.337539881571655, 3.843527435153339, 3.7537009055357933], \"Total\": [53.0, 60.0, 12.0, 20.0, 44.0, 45.0, 29.0, 22.0, 12.0, 14.0, 18.0, 35.0, 15.0, 12.0, 33.0, 9.0, 12.0, 9.0, 9.0, 18.0, 16.0, 22.0, 12.0, 10.0, 22.0, 14.0, 6.0, 20.0, 8.0, 8.0, 4.552114282111962, 3.7875038169670576, 3.7874956862179263, 3.7874736008441623, 3.7874913641812986, 3.7866629286423725, 3.78583924165052, 4.547631873982096, 10.527277758924358, 12.15113800239126, 3.022828605076548, 3.022825750781544, 3.0228226057202416, 3.0228232575308653, 3.0228187442835965, 3.0228174830855274, 3.0226409035245507, 3.0224543690187273, 3.0225105089354423, 3.0223405498003917, 3.022084156353009, 3.02242017322979, 3.022122049915974, 3.0214255282214197, 3.0219490804853377, 2.2581466287801244, 2.258144993232065, 2.25814227181537, 2.2581417444902514, 2.258143809031014, 14.11815923274931, 22.604370049490957, 7.440763916608373, 8.309813130773646, 5.293032458819647, 11.945390781533922, 20.205211286201784, 22.461047280932753, 44.37645795555302, 22.29009881607562, 45.0067463037279, 18.76881681949934, 15.775951142500842, 49.402817302472265, 11.168229765081358, 14.8843757417465, 6.717995374194658, 31.056057706664976, 45.88629275192926, 60.13111666445074, 19.37672055104141, 45.13609047949152, 9.62291670723837, 13.82678066890293, 14.104989854782342, 23.754264047034646, 14.232396886759973, 26.694428470176614, 22.264719645158966, 30.299369625954935, 23.529520939693743, 24.463927448578264, 24.356540721419613, 35.21179389035726, 12.614343404332354, 6.671219250536998, 4.445143841571791, 3.6994967343225915, 12.521616290993398, 3.6998949959636933, 3.6998916489345515, 8.089322106332393, 6.609322300838405, 2.957276749893375, 2.957276156345604, 2.9572721411176346, 2.957257956198355, 2.957378686907102, 2.9569765254107945, 2.956615437642717, 2.9576138401606147, 6.6911340987320935, 2.954283234347338, 5.121924382292065, 53.26551730004752, 2.2144576951914545, 2.2144544644843602, 2.2144565432603867, 2.2144552240220103, 2.214453498608256, 2.214450073454884, 2.2144507350344362, 2.2144510317515738, 2.2144469183846716, 5.172120175630412, 5.171764656514295, 20.019937637934106, 5.205707020718325, 7.336795964999451, 7.2735908961437845, 14.898830949664896, 6.680903081088512, 4.426519022542132, 6.625236450721286, 9.538964708564391, 19.88010388681351, 19.157503515164777, 30.299369625954935, 45.13609047949152, 45.0067463037279, 18.936322669178544, 12.661676097092116, 15.515761163822495, 26.694428470176614, 24.356540721419613, 49.402817302472265, 45.88629275192926, 44.37645795555302, 14.232396886759973, 16.91660614609685, 35.21179389035726, 24.463927448578264, 22.192384313003807, 22.264719645158966, 23.529520939693743, 31.056057706664976, 33.704469202678766, 5.105801991728087, 4.376455696950334, 4.375601019509755, 3.646807792320766, 3.6461192931761346, 2.917324954099063, 2.9173340966175836, 2.917294681435887, 2.9175214460191987, 2.917534292627103, 2.9178831178638354, 2.9175611673171034, 6.510739410085662, 2.9194358528851283, 2.9155949908545216, 2.187832135243601, 2.1878289929396675, 2.187828766534198, 2.1878262540695204, 2.187826583342765, 2.187822801434485, 2.187823902673527, 2.187823366202859, 2.187817136154267, 2.18781933695473, 2.1878316778378704, 2.1878256919153887, 2.1878154466817565, 2.187797627921726, 2.18784622922371, 12.344803162453248, 6.4644619341633325, 60.13111666445074, 18.39167944610151, 3.656163012891555, 7.354114520380346, 8.11788090810658, 5.8832732798609, 5.904997309152969, 7.313257144844016, 6.4975152674866985, 21.906762056293907, 18.60415921909358, 7.2154886260434035, 15.393678074299487, 24.463927448578264, 12.13393991946868, 10.28660766669522, 23.754264047034646, 33.704469202678766, 53.26551730004752, 45.88629275192926, 45.13609047949152, 29.961032025309144, 5.803866651181535, 10.158493598804334, 22.264719645158966, 44.37645795555302, 23.529520939693743, 14.67931211830626, 11.027642404422343, 19.157503515164777, 24.356540721419613, 30.299369625954935, 31.056057706664976, 35.21179389035726, 22.29009881607562, 14.73796442540434, 22.461047280932753, 4.1254770421749445, 3.446513016595817, 2.7666762826538887, 2.7666964764785247, 2.7668166232641855, 2.7671629312488055, 2.7675129154800624, 2.7680491250193664, 2.776591986526036, 4.8547765132015925, 2.0874086083591434, 2.08740905408866, 2.087410238150297, 2.0874101541177863, 2.0874093440396266, 2.087413827848203, 2.087416958825252, 2.0874189340484577, 2.0874181324692924, 2.087419234001998, 2.087437422512259, 2.0874577556875558, 2.0874616802467223, 2.0874813699034935, 4.868387753262619, 2.0875451712489523, 2.0876166136782115, 2.0875946603611224, 2.087665599977412, 2.0877468279321074, 4.869697987153551, 9.803136356292391, 9.840842248708737, 12.680853932092699, 8.45463358867295, 15.556388472714975, 9.978180071316118, 5.6581803450504555, 29.961032025309144, 35.21179389035726, 7.052832121201602, 22.192384313003807, 10.699038217159284, 20.686254018049688, 33.704469202678766, 6.348074561923289, 17.244815916279812, 4.931744040175105, 16.606458080772793, 20.818680953461147, 18.60415921909358, 7.8443907856331565, 49.402817302472265, 13.82678066890293, 9.255816191185735, 14.4660071556753, 12.13393991946868, 18.936322669178544, 31.056057706664976, 45.88629275192926, 9.988196851918651, 45.13609047949152, 12.38742088733211, 21.906762056293907], \"Category\": [\"Default\", \"Default\", \"Default\", \"Default\", \"Default\", \"Default\", \"Default\", \"Default\", \"Default\", \"Default\", \"Default\", \"Default\", \"Default\", \"Default\", \"Default\", \"Default\", \"Default\", \"Default\", \"Default\", \"Default\", \"Default\", \"Default\", \"Default\", \"Default\", \"Default\", \"Default\", \"Default\", \"Default\", \"Default\", \"Default\", \"Topic1\", \"Topic1\", \"Topic1\", \"Topic1\", \"Topic1\", \"Topic1\", \"Topic1\", \"Topic1\", \"Topic1\", \"Topic1\", \"Topic1\", \"Topic1\", \"Topic1\", \"Topic1\", \"Topic1\", \"Topic1\", \"Topic1\", \"Topic1\", \"Topic1\", \"Topic1\", \"Topic1\", \"Topic1\", \"Topic1\", \"Topic1\", \"Topic1\", \"Topic1\", \"Topic1\", \"Topic1\", \"Topic1\", \"Topic1\", \"Topic1\", \"Topic1\", \"Topic1\", \"Topic1\", \"Topic1\", \"Topic1\", \"Topic1\", \"Topic1\", \"Topic1\", \"Topic1\", \"Topic1\", \"Topic1\", \"Topic1\", \"Topic1\", \"Topic1\", \"Topic1\", \"Topic1\", \"Topic1\", \"Topic1\", \"Topic1\", \"Topic1\", \"Topic1\", \"Topic1\", \"Topic1\", \"Topic1\", \"Topic1\", \"Topic1\", \"Topic1\", \"Topic1\", \"Topic1\", \"Topic1\", \"Topic1\", \"Topic1\", \"Topic1\", \"Topic2\", \"Topic2\", \"Topic2\", \"Topic2\", \"Topic2\", \"Topic2\", \"Topic2\", \"Topic2\", \"Topic2\", \"Topic2\", \"Topic2\", \"Topic2\", \"Topic2\", \"Topic2\", \"Topic2\", \"Topic2\", \"Topic2\", \"Topic2\", \"Topic2\", \"Topic2\", \"Topic2\", \"Topic2\", \"Topic2\", \"Topic2\", \"Topic2\", \"Topic2\", \"Topic2\", \"Topic2\", \"Topic2\", \"Topic2\", \"Topic2\", \"Topic2\", \"Topic2\", \"Topic2\", \"Topic2\", \"Topic2\", \"Topic2\", \"Topic2\", \"Topic2\", \"Topic2\", \"Topic2\", \"Topic2\", \"Topic2\", \"Topic2\", \"Topic2\", \"Topic2\", \"Topic2\", \"Topic2\", \"Topic2\", \"Topic2\", \"Topic2\", \"Topic2\", \"Topic2\", \"Topic2\", \"Topic2\", \"Topic2\", \"Topic2\", \"Topic2\", \"Topic2\", \"Topic2\", \"Topic2\", \"Topic2\", \"Topic2\", \"Topic3\", \"Topic3\", \"Topic3\", \"Topic3\", \"Topic3\", \"Topic3\", \"Topic3\", \"Topic3\", \"Topic3\", \"Topic3\", \"Topic3\", \"Topic3\", \"Topic3\", \"Topic3\", \"Topic3\", \"Topic3\", \"Topic3\", \"Topic3\", \"Topic3\", \"Topic3\", \"Topic3\", \"Topic3\", \"Topic3\", \"Topic3\", \"Topic3\", \"Topic3\", \"Topic3\", \"Topic3\", \"Topic3\", \"Topic3\", \"Topic3\", \"Topic3\", \"Topic3\", \"Topic3\", \"Topic3\", \"Topic3\", \"Topic3\", \"Topic3\", \"Topic3\", \"Topic3\", \"Topic3\", \"Topic3\", \"Topic3\", \"Topic3\", \"Topic3\", \"Topic3\", \"Topic3\", \"Topic3\", \"Topic3\", \"Topic3\", \"Topic3\", \"Topic3\", \"Topic3\", \"Topic3\", \"Topic3\", \"Topic3\", \"Topic3\", \"Topic3\", \"Topic3\", \"Topic3\", \"Topic3\", \"Topic3\", \"Topic3\", \"Topic3\", \"Topic3\", \"Topic3\", \"Topic3\", \"Topic3\", \"Topic3\", \"Topic4\", \"Topic4\", \"Topic4\", \"Topic4\", \"Topic4\", \"Topic4\", \"Topic4\", \"Topic4\", \"Topic4\", \"Topic4\", \"Topic4\", \"Topic4\", \"Topic4\", \"Topic4\", \"Topic4\", \"Topic4\", \"Topic4\", \"Topic4\", \"Topic4\", \"Topic4\", \"Topic4\", \"Topic4\", \"Topic4\", \"Topic4\", \"Topic4\", \"Topic4\", \"Topic4\", \"Topic4\", \"Topic4\", \"Topic4\", \"Topic4\", \"Topic4\", \"Topic4\", \"Topic4\", \"Topic4\", \"Topic4\", \"Topic4\", \"Topic4\", \"Topic4\", \"Topic4\", \"Topic4\", \"Topic4\", \"Topic4\", \"Topic4\", \"Topic4\", \"Topic4\", \"Topic4\", \"Topic4\", \"Topic4\", \"Topic4\", \"Topic4\", \"Topic4\", \"Topic4\", \"Topic4\", \"Topic4\", \"Topic4\", \"Topic4\", \"Topic4\", \"Topic4\", \"Topic4\", \"Topic4\", \"Topic4\", \"Topic4\", \"Topic4\"], \"logprob\": [30.0, 29.0, 28.0, 27.0, 26.0, 25.0, 24.0, 23.0, 22.0, 21.0, 20.0, 19.0, 18.0, 17.0, 16.0, 15.0, 14.0, 13.0, 12.0, 11.0, 10.0, 9.0, 8.0, 7.0, 6.0, 5.0, 4.0, 3.0, 2.0, 1.0, -6.2502, -6.4612, -6.4612, -6.4613, -6.4613, -6.4637, -6.4663, -6.2841, -5.4681, -5.3333, -6.7295, -6.7295, -6.7295, -6.7295, -6.7295, -6.7295, -6.7302, -6.7308, -6.7322, -6.7323, -6.733, -6.733, -6.7388, -6.7397, -6.7411, -7.0972, -7.0973, -7.0973, -7.0973, -7.0973, -5.2789, -4.8162, -5.9258, -5.8242, -6.2646, -5.5189, -5.0609, -4.9894, -4.4069, -5.008, -4.4442, -5.2513, -5.4035, -4.5161, -5.691, -5.4661, -6.1009, -4.9607, -4.7573, -4.5825, -5.4138, -4.9535, -5.8985, -5.6819, -5.6834, -5.3848, -5.6825, -5.3272, -5.5173, -5.4266, -5.6169, -5.6131, -5.6386, -5.6221, -5.0288, -5.7087, -6.1808, -6.3702, -5.1759, -6.3961, -6.3962, -5.6186, -5.8305, -6.6366, -6.6367, -6.6367, -6.6367, -6.6381, -6.6389, -6.6412, -6.6424, -5.8404, -6.6977, -6.1573, -3.8238, -7.0044, -7.0044, -7.0044, -7.0044, -7.0044, -7.0044, -7.0044, -7.0044, -7.0044, -6.1575, -6.1594, -4.8458, -6.166, -5.8344, -5.8705, -5.2187, -5.9942, -6.378, -6.0253, -5.7117, -5.0958, -5.2576, -5.0109, -4.7578, -4.7772, -5.3969, -5.6782, -5.5611, -5.2822, -5.3473, -4.9639, -5.0157, -5.162, -5.7063, -5.6523, -5.3562, -5.6428, -5.7037, -5.7056, -5.7029, -5.6819, -5.7078, -5.9245, -6.1007, -6.1016, -6.3102, -6.3133, -6.5783, -6.5783, -6.5786, -6.5835, -6.5839, -6.5855, -6.587, -5.7915, -6.6181, -6.6311, -6.946, -6.946, -6.946, -6.946, -6.946, -6.9461, -6.9461, -6.9461, -6.9461, -6.9461, -6.9461, -6.9461, -6.9461, -6.9464, -6.9465, -5.3097, -5.9243, -3.9298, -5.0418, -6.4937, -5.879, -5.8079, -6.0991, -6.1028, -5.9252, -6.0252, -5.1279, -5.2747, -6.0293, -5.4569, -5.2063, -5.6835, -5.807, -5.3712, -5.2098, -4.9769, -5.0752, -5.107, -5.3351, -6.2183, -5.9272, -5.6077, -5.3335, -5.623, -5.834, -5.9237, -5.803, -5.7716, -5.7346, -5.7767, -5.8275, -5.8856, -5.9043, -5.9219, -5.9324, -6.1444, -6.4112, -6.4113, -6.412, -6.4129, -6.4144, -6.4197, -6.448, -5.9326, -6.779, -6.779, -6.779, -6.779, -6.779, -6.779, -6.7791, -6.7791, -6.7792, -6.7792, -6.7792, -6.7794, -6.7794, -6.7796, -5.9331, -6.7799, -6.7801, -6.7802, -6.7808, -6.7808, -5.9375, -5.3179, -5.3784, -5.1789, -5.5616, -5.0421, -5.471, -5.9442, -4.633, -4.5649, -5.8228, -4.9331, -5.5059, -5.0057, -4.6562, -5.9312, -5.2196, -6.1444, -5.2641, -5.1462, -5.3441, -5.8518, -4.8879, -5.6137, -5.8281, -5.6455, -5.7673, -5.6091, -5.6074, -5.5609, -5.8572, -5.7356, -5.8565, -5.8802], \"loglift\": [30.0, 29.0, 28.0, 27.0, 26.0, 25.0, 24.0, 23.0, 22.0, 21.0, 20.0, 19.0, 18.0, 17.0, 16.0, 15.0, 14.0, 13.0, 12.0, 11.0, 10.0, 9.0, 8.0, 7.0, 6.0, 5.0, 4.0, 3.0, 2.0, 1.0, 1.0833, 1.0562, 1.0561, 1.0561, 1.056, 1.0539, 1.0515, 1.0504, 1.027, 1.0184, 1.0134, 1.0134, 1.0134, 1.0134, 1.0134, 1.0134, 1.0128, 1.0122, 1.0108, 1.0107, 1.0101, 1.01, 1.0043, 1.0037, 1.0021, 0.9373, 0.9373, 0.9373, 0.9373, 0.9373, 0.9227, 0.9148, 0.9163, 0.9074, 0.9181, 0.8498, 0.7823, 0.7479, 0.6495, 0.7369, 0.5981, 0.6656, 0.6871, 0.433, 0.745, 0.6827, 0.8433, 0.4526, 0.2656, 0.17, 0.4712, 0.0859, 0.6865, 0.5405, 0.5192, 0.2965, 0.511, 0.2374, 0.2288, 0.0114, 0.0739, 0.0388, 0.0177, -0.3344, 1.2854, 1.2426, 1.1764, 1.1706, 1.1457, 1.1447, 1.1446, 1.14, 1.1301, 1.1282, 1.1281, 1.1281, 1.1281, 1.1267, 1.126, 1.1239, 1.1223, 1.1079, 1.0681, 1.0583, 1.05, 1.0497, 1.0497, 1.0497, 1.0497, 1.0497, 1.0497, 1.0497, 1.0496, 1.0496, 1.0483, 1.0465, 1.0065, 1.0333, 1.0218, 0.9943, 0.9291, 0.9556, 0.9835, 0.9329, 0.882, 0.7636, 0.6388, 0.4271, 0.2817, 0.265, 0.5111, 0.6324, 0.5462, 0.2824, 0.309, -0.0148, 0.0072, -0.1056, 0.4873, 0.3685, -0.0685, 0.0091, 0.0456, 0.0405, -0.0121, -0.2686, -0.3763, 1.2942, 1.2721, 1.2714, 1.245, 1.2421, 1.2001, 1.2001, 1.1998, 1.1949, 1.1944, 1.1927, 1.1913, 1.1841, 1.1596, 1.1479, 1.1202, 1.1202, 1.1202, 1.1201, 1.1201, 1.1201, 1.1201, 1.1201, 1.1201, 1.1201, 1.12, 1.12, 1.12, 1.1198, 1.1196, 1.0261, 1.0584, 0.8228, 0.8953, 1.059, 0.9748, 0.9472, 0.9779, 0.9705, 0.9342, 0.9525, 0.6344, 0.651, 0.8435, 0.6582, 0.4456, 0.6695, 0.7112, 0.3102, 0.1216, -0.1031, -0.0523, -0.0676, 0.1141, 0.8723, 0.6035, 0.1384, -0.2771, 0.0678, 0.3286, 0.525, 0.0934, -0.1153, -0.2967, -0.3634, -0.5398, -0.1407, 0.2544, -0.1846, 1.4995, 1.4673, 1.4203, 1.4201, 1.4194, 1.4183, 1.4167, 1.4112, 1.3798, 1.3365, 1.3342, 1.3342, 1.3342, 1.3342, 1.3341, 1.3341, 1.3341, 1.3341, 1.334, 1.334, 1.334, 1.3338, 1.3337, 1.3335, 1.3333, 1.3332, 1.333, 1.3328, 1.3323, 1.3322, 1.3286, 1.2485, 1.1842, 1.1301, 1.1527, 1.0625, 1.0777, 1.1718, 0.8162, 0.7228, 1.0729, 0.8163, 0.973, 0.8139, 0.6753, 1.0698, 0.7819, 1.109, 0.7752, 0.667, 0.5816, 0.9375, 0.0612, 0.6088, 0.7958, 0.5318, 0.5858, 0.2989, -0.1941, -0.5379, 0.6904, -0.6962, 0.4759, -0.1179]}, \"token.table\": {\"Topic\": [4, 1, 2, 3, 4, 1, 2, 3, 4, 1, 2, 3, 4, 2, 1, 3, 4, 1, 2, 3, 4, 1, 2, 3, 4, 3, 2, 1, 4, 1, 1, 3, 4, 1, 4, 2, 3, 4, 1, 2, 3, 4, 1, 2, 3, 2, 4, 1, 2, 3, 4, 1, 2, 4, 2, 3, 3, 1, 2, 3, 3, 1, 2, 3, 4, 2, 1, 2, 3, 4, 2, 1, 3, 1, 2, 4, 1, 4, 2, 4, 3, 4, 3, 4, 4, 3, 1, 2, 3, 2, 3, 4, 3, 2, 4, 1, 2, 1, 1, 1, 1, 2, 3, 1, 4, 3, 1, 3, 1, 2, 4, 1, 4, 1, 2, 3, 4, 1, 3, 4, 1, 2, 3, 1, 3, 4, 2, 3, 4, 1, 3, 4, 1, 2, 3, 3, 3, 3, 1, 3, 4, 3, 4, 3, 1, 2, 1, 2, 3, 4, 1, 1, 2, 3, 4, 1, 3, 4, 1, 2, 3, 4, 1, 2, 3, 4, 1, 2, 3, 1, 2, 3, 4, 1, 2, 4, 4, 2, 3, 2, 3, 4, 2, 3, 4, 4, 4, 4, 1, 3, 1, 3, 3, 4, 1, 3, 4, 2, 2, 3, 4, 1, 4, 2, 3, 3, 1, 2, 3, 4, 1, 2, 3, 4, 1, 2, 3, 4, 1, 2, 3, 4, 3, 2, 3, 4, 1, 2, 3, 4, 1, 2, 3, 4, 1, 4, 1, 2, 1, 3, 1, 1, 2, 1, 2, 3, 4, 2, 1, 3, 4, 2, 2, 4, 1, 2, 3, 4, 2, 1, 1, 2, 3, 4, 2, 2, 1, 2, 1, 3, 2, 2, 3, 4, 1, 2, 3, 4, 4, 1, 2, 3, 4, 4, 4, 3, 3, 2, 4, 1, 2, 3, 4, 2, 1, 2, 2, 1, 2, 3, 4, 1, 2, 3, 4, 1, 4, 1, 1, 1, 2, 3, 4, 3, 2, 1, 2, 4, 1, 2, 3, 4, 4, 1, 2, 3, 4, 1, 2, 1, 2, 3, 3, 1, 2, 3, 4, 2, 3, 1, 2, 3, 4, 1, 2, 4, 4, 3, 3, 2, 2, 1, 2, 3, 4, 4, 2, 1, 2, 3, 4, 1, 2, 3, 4, 1, 2, 4, 1, 2, 3, 4, 1, 2, 3, 4, 3, 4, 1, 2, 3, 4, 1, 3, 4, 1, 4, 1, 2, 3, 4, 3, 2, 3, 4, 4, 1, 2, 3, 4, 1, 2, 4, 1, 2, 3, 4, 4, 1, 2, 3, 4, 4, 1, 2, 3, 4, 1, 1, 2, 4, 1, 3, 4, 1, 2, 3, 4, 1, 2, 4, 1, 2, 4, 1, 2, 3, 4, 1, 2, 4, 1, 2, 1, 3, 4, 3], \"Freq\": [0.9581214079203758, 0.23645404790150037, 0.35468107185225056, 0.23645404790150037, 0.11822702395075019, 0.20120619201860424, 0.5533170280511617, 0.10060309600930212, 0.15090464401395318, 0.3593128558319595, 0.26948464187396964, 0.26948464187396964, 0.08982821395798987, 0.9031587679372202, 0.27347595748223313, 0.6836898937055829, 0.13673797874111657, 0.464474882439087, 0.25804160135504833, 0.15482496081302902, 0.10321664054201934, 0.16997340637279446, 0.16997340637279446, 0.6798936254911778, 0.7227619224782731, 0.6855040512618066, 0.6762989351545255, 0.7924266743804166, 0.9580078342152304, 0.6617138774701574, 0.28039903579263353, 0.18693269052842235, 0.46733172632105585, 0.6617015868389551, 0.9695848405185178, 0.681496394864018, 0.13629927897280358, 0.13629927897280358, 0.6267779359165975, 0.08953970513094249, 0.17907941026188498, 0.17907941026188498, 0.018773871928567713, 0.7509548771427085, 0.22528646314281256, 0.6874183702922904, 0.27496734811691614, 0.10750284258733851, 0.10750284258733851, 0.4837627916430233, 0.32250852776201555, 0.4918356377843789, 0.4215734038151819, 0.07026223396919698, 0.8109211104762132, 0.6855666699449107, 0.9792780856172063, 0.722037897312066, 0.12033964955201101, 0.12033964955201101, 0.9141482293425083, 0.32225296246879004, 0.451154147456306, 0.12890118498751602, 0.12890118498751602, 0.9031583770981161, 0.5332533891260671, 0.333283368203792, 0.06665667364075839, 0.044437782427172265, 0.8108345553481012, 0.6618245201136187, 0.914148323942306, 0.3948924266944644, 0.47387091203335724, 0.07897848533889287, 0.3534705290455293, 0.7069410580910586, 0.780956472889199, 0.19523911822229975, 0.7679619295244093, 0.15359238590488186, 0.822792607366036, 0.9581032212751298, 0.9580631008829499, 0.6855574074696623, 0.7920847288100838, 0.903156129248471, 0.9141410275024852, 0.3003545128792415, 0.3003545128792415, 0.40047268383898865, 0.9141613348853832, 0.7565072139643939, 0.1513014427928788, 0.7920810139321539, 0.6764491501115147, 0.6617213641287932, 0.6617949390309369, 0.8856839943196197, 0.10874482702143554, 0.2718620675535888, 0.5980965486178954, 0.4008747057490617, 0.6013120586235925, 0.8226372682205035, 0.8856827201062124, 0.9141496086230929, 0.1509380091469989, 0.6037520365879956, 0.1509380091469989, 0.8856820786170214, 0.9579705610095359, 0.29703588263072156, 0.3960478435076288, 0.1980239217538144, 0.0990119608769072, 0.6280815583420922, 0.22431484226503293, 0.13458890535901977, 0.5704885821910132, 0.12677524048689182, 0.25355048097378363, 0.16201149371769696, 0.6480459748707879, 0.16201149371769696, 0.7986189456382594, 0.07986189456382595, 0.07986189456382595, 0.7442696401974513, 0.14885392803949027, 0.14885392803949027, 0.149680363247699, 0.7484018162384951, 0.149680363247699, 0.6859663314944258, 0.6850638619182206, 0.685513384221697, 0.4087384988917517, 0.34061541574312637, 0.20436924944587584, 0.9141503562311365, 0.9581255748999222, 0.9141471075034916, 0.8795786710188206, 0.9031569770687082, 0.20135808038465433, 0.6711936012821811, 0.1342387202564362, 0.958123383738282, 0.6617866409649495, 0.18024201201563403, 0.27036301802345103, 0.09012100600781701, 0.45060503003908503, 0.6616331255945348, 0.7734595780626449, 0.3093838312250579, 0.6433983696511875, 0.049492182280860574, 0.24746091140430287, 0.09898436456172115, 0.14410134852953996, 0.24016891421589992, 0.24016891421589992, 0.3842702627454399, 0.5633617722495953, 0.2478791797898219, 0.18027576711987048, 0.16688343698495842, 0.13350674958796674, 0.2670134991759335, 0.4338969361608919, 0.661673041500861, 0.20540681036136366, 0.8216272414454546, 0.9581209023189856, 0.7734303986477123, 0.1933575996619281, 0.1385907527302621, 0.5543630109210484, 0.2771815054605242, 0.28357402609765464, 0.14178701304882732, 0.5671480521953093, 0.95812103999703, 0.7228523868128549, 0.9581125539049564, 0.2463697142936384, 0.6159242857340961, 0.8856837874932283, 0.9141538894578083, 0.9141469163845667, 0.9580303140413133, 0.17229892761171947, 0.5168967828351585, 0.17229892761171947, 0.6763665463059949, 0.6777334480485554, 0.22591114934951848, 0.9581219466213171, 0.8787125612637723, 0.7203074883545718, 0.7733772349000869, 0.19334430872502173, 0.6854284147831761, 0.3323282951769061, 0.3544835148553665, 0.22155219678460408, 0.08862087871384162, 0.271407901698084, 0.339259877122605, 0.339259877122605, 0.135703950849042, 0.15771808513134916, 0.15771808513134916, 0.15771808513134916, 0.6308723405253966, 0.2738880344152081, 0.09129601147173602, 0.45648005735868014, 0.18259202294347204, 0.913981604517861, 0.3241205246552848, 0.21608034977018983, 0.43216069954037967, 0.32701208817821786, 0.2861355771559406, 0.3678885992004951, 0.04087651102227723, 0.3922740086524685, 0.2615160057683123, 0.2397230052876196, 0.10896500240346346, 0.8549218711713359, 0.09499131901903733, 0.8856831845701689, 0.6763021791210466, 0.792254303204005, 0.9141492361539066, 0.6616332682623511, 0.7557104610864231, 0.1889276152716058, 0.12992346535680122, 0.25984693071360243, 0.4547321287488043, 0.12992346535680122, 0.6762980169127867, 0.5062639068068335, 0.14464683051623814, 0.36161707629059536, 0.8998583943653915, 0.40553605047373636, 0.6083040757106045, 0.181362427856561, 0.362724855713122, 0.4534060696414025, 0.0906812139282805, 0.9031573709978394, 0.7920801100623048, 0.3492368205497689, 0.08315162394042117, 0.5654310427948639, 0.7225305295064108, 0.9031600547277512, 0.903158498113483, 0.6616325798742798, 0.6762208009857666, 0.3386961746620823, 0.6773923493241646, 0.6762745700624657, 0.6289990772911662, 0.2096663590970554, 0.1048331795485277, 0.6233013013549301, 0.0890430430507043, 0.22260760762676077, 0.0890430430507043, 0.9581014199808521, 0.0966825602283966, 0.2417064005709915, 0.2417064005709915, 0.4350715210277847, 0.7228890537499143, 0.9580403887668644, 0.9141493737356202, 0.9141531835314122, 0.8653382703750093, 0.12361975291071561, 0.1944275571503876, 0.1944275571503876, 0.486068892875969, 0.0972137785751938, 0.9031556594388166, 0.19209686523272915, 0.7683874609309166, 0.8108338218443426, 0.12856454462473002, 0.12856454462473002, 0.12856454462473002, 0.578540450811285, 0.48299755692367974, 0.1931990227694719, 0.1609991856412266, 0.1609991856412266, 0.7791384003152305, 0.21249229099506287, 0.6616343895029048, 0.792078409679948, 0.19687958461039953, 0.19687958461039953, 0.49219896152599885, 0.19687958461039953, 0.9141508163680643, 0.9031566672942226, 0.6235115799648139, 0.20783719332160464, 0.20783719332160464, 0.2765103014919166, 0.1382551507459583, 0.20738272611893746, 0.3456378768648958, 0.8704449934047119, 0.4209770498551121, 0.21048852492755604, 0.33678163988408966, 0.08419540997102241, 0.8229681860276847, 0.16459363720553694, 0.09990041108871224, 0.6993028776209858, 0.19980082217742448, 0.6855595559177761, 0.46556049342653605, 0.2631428875889117, 0.08096704233504974, 0.20241760583762436, 0.2735107806938642, 0.8205323420815926, 0.3479306493689941, 0.057988441561499016, 0.17396532468449705, 0.4059190909304931, 0.6616319551301035, 0.20535154390231963, 0.8214061756092785, 0.7226705208178127, 0.914152263954226, 0.9141601307260327, 0.8993858205929945, 0.6762978811746686, 0.2873971341030405, 0.3695106009896235, 0.20528366721645752, 0.12317020032987451, 0.9581254418117775, 0.9512980275991726, 0.6616341134519453, 0.153904986572938, 0.615619946291752, 0.153904986572938, 0.10200817000348308, 0.10200817000348308, 0.10200817000348308, 0.7140571900243816, 0.6617387971491461, 0.6769831601612974, 0.958125779490843, 0.21123425439462684, 0.4224685087892537, 0.10561712719731342, 0.26404281799328355, 0.33999842242874523, 0.25499881682155895, 0.25499881682155895, 0.16999921121437261, 0.20598270533786678, 0.8239308213514671, 0.22719660420910276, 0.25559617973524057, 0.14199787763068922, 0.3975940573659298, 0.6697143815811366, 0.16742859539528415, 0.16742859539528415, 0.8063688174016012, 0.26878960580053374, 0.13597830129361124, 0.13597830129361124, 0.6798915064680562, 0.9580923829238591, 0.9141505803876474, 0.1648269245829244, 0.4944807737487732, 0.3296538491658488, 0.7228837774592526, 0.2549592510948026, 0.1274796255474013, 0.1274796255474013, 0.5099185021896052, 0.3613052205844478, 0.1806526102922239, 0.42152275734852246, 0.1780179347705951, 0.1780179347705951, 0.26702690215589264, 0.3857055253362894, 0.9581250314132055, 0.15659660443884285, 0.5219886814628095, 0.26099434073140476, 0.1043977362925619, 0.9581250699842797, 0.37461000564863706, 0.3371490050837734, 0.18730500282431853, 0.11238300169459113, 0.6619392009894456, 0.49627827258781243, 0.354484480419866, 0.1417937921679464, 0.15752808040380484, 0.3150561608076097, 0.6301123216152194, 0.7520669659353252, 0.04423923329031325, 0.176956933161253, 0.04423923329031325, 0.11827833690388956, 0.23655667380777912, 0.5913916845194478, 0.10161731838869936, 0.20323463677739873, 0.6097039103321962, 0.586078499555276, 0.2663993179796709, 0.10655972719186836, 0.05327986359593418, 0.3229082176492901, 0.3229082176492901, 0.3229082176492901, 0.14945149585172574, 0.7472574792586286, 0.6046608978539506, 0.26873817682397805, 0.13436908841198902, 0.685510365740755], \"Term\": [\"abysmal\", \"act\", \"act\", \"act\", \"act\", \"acting\", \"acting\", \"acting\", \"acting\", \"actor\", \"actor\", \"actor\", \"actor\", \"africa\", \"almost\", \"almost\", \"almost\", \"also\", \"also\", \"also\", \"also\", \"amazing\", \"amazing\", \"amazing\", \"angel\", \"angle\", \"animation\", \"annoy\", \"annoying\", \"appearance\", \"art\", \"art\", \"art\", \"aspect\", \"audience\", \"avoid\", \"avoid\", \"avoid\", \"awful\", \"awful\", \"awful\", \"awful\", \"bad\", \"bad\", \"bad\", \"believe\", \"believe\", \"best\", \"best\", \"best\", \"best\", \"better\", \"better\", \"better\", \"book\", \"brilliance\", \"brilliant\", \"camera\", \"camera\", \"camera\", \"car\", \"cast\", \"cast\", \"cast\", \"cast\", \"cause\", \"character\", \"character\", \"character\", \"character\", \"charles\", \"charm\", \"childhood\", \"come\", \"come\", \"come\", \"comedy\", \"comedy\", \"cost\", \"cost\", \"create\", \"create\", \"credit\", \"crowd\", \"damn\", \"depict\", \"depth\", \"deserving\", \"despite\", \"dialogue\", \"dialogue\", \"dialogue\", \"disappointment\", \"do\", \"do\", \"drago\", \"dream\", \"edit\", \"effective\", \"emilio\", \"end\", \"end\", \"end\", \"enjoy\", \"enjoy\", \"entertain\", \"era\", \"errol\", \"especially\", \"especially\", \"especially\", \"estevez\", \"european\", \"even\", \"even\", \"even\", \"even\", \"ever\", \"ever\", \"ever\", \"every\", \"every\", \"every\", \"everything\", \"everything\", \"everything\", \"excellent\", \"excellent\", \"excellent\", \"experience\", \"experience\", \"experience\", \"fact\", \"fact\", \"fact\", \"fascinate\", \"faux\", \"favourite\", \"find\", \"find\", \"find\", \"fit\", \"flat\", \"flynn\", \"forget\", \"front\", \"funny\", \"funny\", \"funny\", \"genius\", \"genuine\", \"get\", \"get\", \"get\", \"get\", \"giallo\", \"girl\", \"girl\", \"give\", \"give\", \"give\", \"give\", \"go\", \"go\", \"go\", \"go\", \"good\", \"good\", \"good\", \"great\", \"great\", \"great\", \"great\", \"greatest\", \"half\", \"half\", \"heaven\", \"horrible\", \"horrible\", \"horror\", \"horror\", \"horror\", \"hour\", \"hour\", \"hour\", \"humour\", \"incredibly\", \"interested\", \"interesting\", \"interesting\", \"interplay\", \"italian\", \"joe\", \"june\", \"keep\", \"keep\", \"keep\", \"kill\", \"lame\", \"lame\", \"lange\", \"last\", \"learn\", \"level\", \"level\", \"light\", \"like\", \"like\", \"like\", \"like\", \"line\", \"line\", \"line\", \"line\", \"little\", \"little\", \"little\", \"little\", \"look\", \"look\", \"look\", \"look\", \"lose\", \"lot\", \"lot\", \"lot\", \"love\", \"love\", \"love\", \"love\", \"make\", \"make\", \"make\", \"make\", \"man\", \"man\", \"manage\", \"massive\", \"may\", \"mexican\", \"might\", \"money\", \"money\", \"much\", \"much\", \"much\", \"much\", \"negative\", \"never\", \"never\", \"never\", \"new\", \"nice\", \"nice\", \"nothing\", \"nothing\", \"nothing\", \"nothing\", \"nun\", \"nut\", \"one\", \"one\", \"one\", \"own\", \"paint\", \"par\", \"particular\", \"pay\", \"perfect\", \"perfect\", \"perfectly\", \"piece\", \"piece\", \"piece\", \"play\", \"play\", \"play\", \"play\", \"pleaser\", \"plot\", \"plot\", \"plot\", \"plot\", \"pm\", \"poetry\", \"ponyo\", \"popular\", \"predictable\", \"predictable\", \"pretty\", \"pretty\", \"pretty\", \"pretty\", \"process\", \"rating\", \"rating\", \"ray\", \"real\", \"real\", \"real\", \"real\", \"really\", \"really\", \"really\", \"really\", \"recommend\", \"recommend\", \"relationship\", \"rest\", \"right\", \"right\", \"right\", \"right\", \"sake\", \"sand\", \"saw\", \"saw\", \"saw\", \"say\", \"say\", \"say\", \"say\", \"scamp\", \"scene\", \"scene\", \"scene\", \"scene\", \"screen\", \"screen\", \"script\", \"script\", \"script\", \"sea\", \"see\", \"see\", \"see\", \"see\", \"serious\", \"serious\", \"show\", \"show\", \"show\", \"show\", \"sister\", \"slow\", \"slow\", \"someone\", \"somewhat\", \"spoiler\", \"star\", \"stereotype\", \"story\", \"story\", \"story\", \"story\", \"stun\", \"suck\", \"surprise\", \"suspense\", \"suspense\", \"suspense\", \"take\", \"take\", \"take\", \"take\", \"talent\", \"talented\", \"tap\", \"thing\", \"thing\", \"thing\", \"thing\", \"think\", \"think\", \"think\", \"think\", \"throughout\", \"throughout\", \"time\", \"time\", \"time\", \"time\", \"totally\", \"totally\", \"totally\", \"truly\", \"truly\", \"try\", \"try\", \"try\", \"unpredictable\", \"unrecognizable\", \"use\", \"use\", \"use\", \"walk\", \"want\", \"want\", \"want\", \"want\", \"waste\", \"waste\", \"waste\", \"watch\", \"watch\", \"watch\", \"watch\", \"watching\", \"way\", \"way\", \"way\", \"way\", \"wayne\", \"well\", \"well\", \"well\", \"well\", \"wonder\", \"wonderful\", \"wonderful\", \"wonderful\", \"word\", \"word\", \"word\", \"work\", \"work\", \"work\", \"work\", \"worse\", \"worse\", \"worse\", \"worth\", \"worth\", \"worth\", \"would\", \"would\", \"would\", \"would\", \"write\", \"write\", \"write\", \"writing\", \"writing\", \"year\", \"year\", \"year\", \"yes\"]}, \"R\": 30, \"lambda.step\": 0.01, \"plot.opts\": {\"xlab\": \"PC1\", \"ylab\": \"PC2\"}, \"topic.order\": [3, 4, 2, 1]};\n",
       "\n",
       "function LDAvis_load_lib(url, callback){\n",
       "  var s = document.createElement('script');\n",
       "  s.src = url;\n",
       "  s.async = true;\n",
       "  s.onreadystatechange = s.onload = callback;\n",
       "  s.onerror = function(){console.warn(\"failed to load library \" + url);};\n",
       "  document.getElementsByTagName(\"head\")[0].appendChild(s);\n",
       "}\n",
       "\n",
       "if(typeof(LDAvis) !== \"undefined\"){\n",
       "   // already loaded: just create the visualization\n",
       "   !function(LDAvis){\n",
       "       new LDAvis(\"#\" + \"ldavis_el1932415672229517128105882929\", ldavis_el1932415672229517128105882929_data);\n",
       "   }(LDAvis);\n",
       "}else if(typeof define === \"function\" && define.amd){\n",
       "   // require.js is available: use it to load d3/LDAvis\n",
       "   require.config({paths: {d3: \"https://d3js.org/d3.v5\"}});\n",
       "   require([\"d3\"], function(d3){\n",
       "      window.d3 = d3;\n",
       "      LDAvis_load_lib(\"https://cdn.jsdelivr.net/gh/bmabey/pyLDAvis@3.3.1/pyLDAvis/js/ldavis.v3.0.0.js\", function(){\n",
       "        new LDAvis(\"#\" + \"ldavis_el1932415672229517128105882929\", ldavis_el1932415672229517128105882929_data);\n",
       "      });\n",
       "    });\n",
       "}else{\n",
       "    // require.js not available: dynamically load d3 & LDAvis\n",
       "    LDAvis_load_lib(\"https://d3js.org/d3.v5.js\", function(){\n",
       "         LDAvis_load_lib(\"https://cdn.jsdelivr.net/gh/bmabey/pyLDAvis@3.3.1/pyLDAvis/js/ldavis.v3.0.0.js\", function(){\n",
       "                 new LDAvis(\"#\" + \"ldavis_el1932415672229517128105882929\", ldavis_el1932415672229517128105882929_data);\n",
       "            })\n",
       "         });\n",
       "}\n",
       "</script>"
      ],
      "text/plain": [
       "PreparedData(topic_coordinates=              x         y  topics  cluster       Freq\n",
       "topic                                                \n",
       "2     -0.066828 -0.085657       1        1  29.837240\n",
       "3      0.094091  0.012406       2        1  26.413936\n",
       "1      0.034760 -0.024264       3        1  24.470115\n",
       "0     -0.062022  0.097516       4        1  19.278709, topic_info=         Term       Freq      Total Category  logprob  loglift\n",
       "446       bad  53.000000  53.000000  Default  30.0000  30.0000\n",
       "174       one  60.000000  60.000000  Default  29.0000  29.0000\n",
       "615      suck  12.000000  12.000000  Default  28.0000  28.0000\n",
       "419    script  20.000000  20.000000  Default  27.0000  27.0000\n",
       "59       good  44.000000  44.000000  Default  26.0000  26.0000\n",
       "..        ...        ...        ...      ...      ...      ...\n",
       "80       make   5.165811  45.886293   Topic4  -5.5609  -0.5379\n",
       "346  dialogue   3.840797   9.988197   Topic4  -5.8572   0.6904\n",
       "241      like   4.337540  45.136090   Topic4  -5.7356  -0.6962\n",
       "280     write   3.843527  12.387421   Topic4  -5.8565   0.4759\n",
       "78       look   3.753701  21.906762   Topic4  -5.8802  -0.1179\n",
       "\n",
       "[290 rows x 6 columns], token_table=      Topic      Freq     Term\n",
       "term                          \n",
       "1757      4  0.958121  abysmal\n",
       "107       1  0.236454      act\n",
       "107       2  0.354681      act\n",
       "107       3  0.236454      act\n",
       "107       4  0.118227      act\n",
       "...     ...       ...      ...\n",
       "373       2  0.747257  writing\n",
       "396       1  0.604661     year\n",
       "396       3  0.268738     year\n",
       "396       4  0.134369     year\n",
       "164       3  0.685510      yes\n",
       "\n",
       "[447 rows x 3 columns], R=30, lambda_step=0.01, plot_opts={'xlab': 'PC1', 'ylab': 'PC2'}, topic_order=[3, 4, 2, 1])"
      ]
     },
     "execution_count": 52,
     "metadata": {},
     "output_type": "execute_result"
    }
   ],
   "source": [
    "#Visualize model with 4 topics\n",
    "pyLDAvis.enable_notebook() #allow us to see in jupyter notebook\n",
    "vis_1 = pyLDAvis.gensim_models.prepare(lda_model_1, bow, dictionary)\n",
    "vis_1"
   ]
  },
  {
   "cell_type": "markdown",
   "id": "93fce034",
   "metadata": {},
   "source": [
    "The model with 4 topics is better than 3 topics."
   ]
  },
  {
   "cell_type": "markdown",
   "id": "51db3e9f",
   "metadata": {},
   "source": [
    "### Try 5 topics"
   ]
  },
  {
   "cell_type": "code",
   "execution_count": 53,
   "id": "f1ae65d6",
   "metadata": {},
   "outputs": [],
   "source": [
    "lda_model_2 = gensim.models.LdaModel(corpus=bow, id2word=dictionary, num_topics=5, passes=8, alpha=\"auto\")"
   ]
  },
  {
   "cell_type": "code",
   "execution_count": 54,
   "id": "60ad4c55",
   "metadata": {},
   "outputs": [
    {
     "data": {
      "text/plain": [
       "[(0,\n",
       "  '0.008*\"end\" + 0.007*\"way\" + 0.007*\"excellent\" + 0.007*\"every\" + 0.007*\"plot\" + 0.006*\"much\" + 0.006*\"good\" + 0.006*\"show\" + 0.005*\"time\" + 0.005*\"like\" + 0.005*\"scene\" + 0.005*\"make\" + 0.005*\"many\" + 0.005*\"well\" + 0.004*\"think\" + 0.004*\"terrible\" + 0.004*\"wonderful\" + 0.004*\"go\" + 0.004*\"cast\" + 0.004*\"character\"'),\n",
       " (1,\n",
       "  '0.012*\"see\" + 0.012*\"make\" + 0.011*\"character\" + 0.011*\"one\" + 0.010*\"like\" + 0.008*\"really\" + 0.007*\"get\" + 0.006*\"find\" + 0.006*\"also\" + 0.005*\"story\" + 0.005*\"great\" + 0.005*\"give\" + 0.005*\"well\" + 0.005*\"avoid\" + 0.004*\"way\" + 0.004*\"thing\" + 0.004*\"minute\" + 0.004*\"take\" + 0.004*\"play\" + 0.004*\"best\"'),\n",
       " (2,\n",
       "  '0.017*\"bad\" + 0.012*\"one\" + 0.011*\"see\" + 0.009*\"even\" + 0.008*\"love\" + 0.008*\"watch\" + 0.008*\"good\" + 0.007*\"work\" + 0.006*\"like\" + 0.006*\"great\" + 0.006*\"say\" + 0.005*\"really\" + 0.005*\"go\" + 0.005*\"enjoy\" + 0.005*\"actor\" + 0.005*\"character\" + 0.005*\"want\" + 0.005*\"art\" + 0.005*\"right\" + 0.005*\"better\"'),\n",
       " (3,\n",
       "  '0.012*\"one\" + 0.011*\"good\" + 0.010*\"make\" + 0.008*\"time\" + 0.008*\"ever\" + 0.007*\"watch\" + 0.006*\"funny\" + 0.006*\"bad\" + 0.006*\"suck\" + 0.006*\"see\" + 0.005*\"great\" + 0.005*\"really\" + 0.005*\"best\" + 0.005*\"recommend\" + 0.005*\"look\" + 0.005*\"even\" + 0.005*\"play\" + 0.004*\"character\" + 0.004*\"anyone\" + 0.004*\"would\"'),\n",
       " (4,\n",
       "  '0.012*\"bad\" + 0.009*\"acting\" + 0.009*\"waste\" + 0.008*\"time\" + 0.007*\"character\" + 0.007*\"love\" + 0.006*\"one\" + 0.006*\"like\" + 0.006*\"script\" + 0.005*\"scene\" + 0.005*\"look\" + 0.005*\"come\" + 0.004*\"nothing\" + 0.004*\"great\" + 0.004*\"good\" + 0.004*\"year\" + 0.004*\"lack\" + 0.004*\"bore\" + 0.004*\"two\" + 0.004*\"thing\"')]"
      ]
     },
     "execution_count": 54,
     "metadata": {},
     "output_type": "execute_result"
    }
   ],
   "source": [
    "lda_model_2.show_topics(formatted=True, num_topics=5, num_words=20)"
   ]
  },
  {
   "cell_type": "code",
   "execution_count": 55,
   "id": "39b40f2c",
   "metadata": {},
   "outputs": [
    {
     "data": {
      "text/html": [
       "\n",
       "<link rel=\"stylesheet\" type=\"text/css\" href=\"https://cdn.jsdelivr.net/gh/bmabey/pyLDAvis@3.3.1/pyLDAvis/js/ldavis.v1.0.0.css\">\n",
       "\n",
       "\n",
       "<div id=\"ldavis_el1932415672231368807580579891\"></div>\n",
       "<script type=\"text/javascript\">\n",
       "\n",
       "var ldavis_el1932415672231368807580579891_data = {\"mdsDat\": {\"x\": [-0.039947969881885, -0.026307944672010506, -0.08475248691327682, 0.04807422204802623, 0.10293417941914612], \"y\": [-0.10497809785902652, -0.015457532085342549, 0.06925180386395341, 0.07290600500761792, -0.021722178927202174], \"topics\": [1, 2, 3, 4, 5], \"cluster\": [1, 1, 1, 1, 1], \"Freq\": [23.249424971902037, 21.759849797582742, 20.851959995082336, 18.897881702552255, 15.24088353288063]}, \"tinfo\": {\"Term\": [\"bad\", \"love\", \"acting\", \"one\", \"excellent\", \"waste\", \"way\", \"suck\", \"want\", \"end\", \"avoid\", \"enjoy\", \"find\", \"funny\", \"make\", \"every\", \"worst\", \"say\", \"much\", \"nothing\", \"good\", \"right\", \"time\", \"show\", \"place\", \"plot\", \"least\", \"see\", \"lack\", \"really\", \"want\", \"easy\", \"amaze\", \"least\", \"worst\", \"learn\", \"early\", \"awesome\", \"setting\", \"animation\", \"nonsense\", \"anything\", \"result\", \"enjoy\", \"eye\", \"discover\", \"sake\", \"core\", \"fulci\", \"confuse\", \"surround\", \"culture\", \"achievement\", \"flat\", \"cease\", \"control\", \"sleep\", \"mad\", \"italian\", \"fresh\", \"right\", \"art\", \"say\", \"silent\", \"lose\", \"bit\", \"star\", \"bad\", \"love\", \"talk\", \"believe\", \"people\", \"even\", \"truly\", \"better\", \"work\", \"awful\", \"see\", \"one\", \"watch\", \"actually\", \"go\", \"little\", \"good\", \"could\", \"great\", \"actor\", \"like\", \"really\", \"script\", \"show\", \"think\", \"real\", \"character\", \"story\", \"well\", \"hole\", \"terrific\", \"soundtrack\", \"pm\", \"memory\", \"massive\", \"dvd\", \"remake\", \"greatest\", \"sister\", \"graphic\", \"plus\", \"spend\", \"crowd\", \"ponyo\", \"astronaut\", \"pleaser\", \"sand\", \"imaginative\", \"mexican\", \"nun\", \"popular\", \"reaction\", \"number\", \"list\", \"noteworthy\", \"depend\", \"shakespear\", \"heaven\", \"recently\", \"funny\", \"fan\", \"felt\", \"suck\", \"cinema\", \"direction\", \"ever\", \"recommend\", \"highly\", \"leave\", \"must\", \"good\", \"anyone\", \"help\", \"time\", \"make\", \"dialog\", \"music\", \"one\", \"best\", \"watch\", \"game\", \"lot\", \"look\", \"wonderful\", \"play\", \"would\", \"great\", \"cast\", \"really\", \"bad\", \"also\", \"see\", \"even\", \"character\", \"acting\", \"like\", \"well\", \"plot\", \"think\", \"work\", \"avoid\", \"pathetic\", \"lame\", \"check\", \"easily\", \"produce\", \"surprisingly\", \"sense\", \"someone\", \"own\", \"possible\", \"girl\", \"scenery\", \"jean\", \"father\", \"blood\", \"excellently\", \"crazy\", \"sum\", \"sci\", \"fi\", \"mouse\", \"site\", \"sick\", \"uninteresting\", \"producer\", \"despite\", \"loneliness\", \"soul\", \"realistic\", \"second\", \"top\", \"attempt\", \"fact\", \"oh\", \"minute\", \"find\", \"try\", \"take\", \"get\", \"experience\", \"make\", \"probably\", \"character\", \"worth\", \"see\", \"actress\", \"like\", \"also\", \"really\", \"one\", \"give\", \"story\", \"definitely\", \"dialogue\", \"way\", \"thing\", \"great\", \"well\", \"year\", \"would\", \"best\", \"play\", \"scene\", \"think\", \"watch\", \"ray\", \"charles\", \"dislike\", \"scamp\", \"twist\", \"final\", \"angel\", \"excellent\", \"bring\", \"dream\", \"moral\", \"subject\", \"neil\", \"america\", \"reality\", \"lazy\", \"shed\", \"tear\", \"afraid\", \"humour\", \"mercy\", \"mouth\", \"honestly\", \"maker\", \"badly\", \"length\", \"chase\", \"shot\", \"talented\", \"death\", \"terrible\", \"every\", \"end\", \"way\", \"many\", \"much\", \"happen\", \"barely\", \"plot\", \"show\", \"plain\", \"american\", \"life\", \"tale\", \"either\", \"totally\", \"wonderful\", \"man\", \"cast\", \"little\", \"cheap\", \"scene\", \"music\", \"part\", \"everything\", \"go\", \"performance\", \"good\", \"think\", \"well\", \"time\", \"would\", \"like\", \"make\", \"play\", \"real\", \"character\", \"actor\", \"spoil\", \"female\", \"trilogy\", \"whatsoever\", \"place\", \"hence\", \"hollow\", \"abysmal\", \"disappointing\", \"front\", \"border\", \"complex\", \"detail\", \"european\", \"junkyard\", \"exquisite\", \"making\", \"warmth\", \"reference\", \"dance\", \"overall\", \"amazing\", \"utterly\", \"indeed\", \"premise\", \"visual\", \"lack\", \"bore\", \"fumble\", \"hanky\", \"waste\", \"money\", \"acting\", \"slow\", \"age\", \"nothing\", \"come\", \"saw\", \"two\", \"bad\", \"love\", \"put\", \"script\", \"first\", \"hour\", \"time\", \"year\", \"character\", \"scene\", \"old\", \"look\", \"like\", \"one\", \"thing\", \"great\", \"good\", \"end\", \"watch\", \"even\"], \"Freq\": [52.0, 24.0, 19.0, 60.0, 12.0, 16.0, 19.0, 12.0, 8.0, 17.0, 7.0, 10.0, 14.0, 14.0, 45.0, 15.0, 9.0, 15.0, 15.0, 10.0, 43.0, 10.0, 35.0, 17.0, 5.0, 21.0, 7.0, 49.0, 6.0, 31.0, 7.727684417086696, 3.164642317543486, 3.1644269418918123, 6.214122406599545, 7.321860865172075, 2.431842881906863, 2.431791395433214, 2.431385538688555, 2.4313200961744297, 2.4294249035967885, 2.42836462171088, 5.470398597387455, 2.398500769638346, 8.301483626553557, 3.90404578925248, 1.6718527417343254, 1.6718491584266355, 1.6718446321432379, 1.6718395400744153, 1.6718286015562043, 1.6718289787464875, 1.6718218121311077, 1.6718169086574268, 1.6718142683254449, 1.671803329807234, 1.6718031412120924, 1.6717850360785016, 1.6717788124388298, 1.6717801326048207, 1.6717682511109018, 7.6133391827525525, 7.675925612053544, 9.906865822046246, 3.1874193299812283, 3.1918562192818136, 3.1717387755304975, 4.5856716305802445, 27.606647348745565, 13.572101504524055, 3.087025987030181, 4.718009595800772, 6.661342592088872, 14.56283704602743, 4.528231962692709, 7.538138756002764, 10.740491803674104, 6.048513618074014, 17.692772576857994, 19.90819216108002, 13.457642358724401, 4.674934842656372, 8.327041285758613, 6.205516810289687, 12.622188512984444, 6.978520392420866, 10.02944587464192, 7.7569483480138945, 10.450193337299291, 8.432207971742807, 6.4297326706290745, 6.2025879277410985, 6.851091181545133, 5.981487659140454, 7.75382068618609, 6.229581927544355, 6.238930965902283, 4.581319278441135, 3.7893552271740822, 3.147600043674712, 2.400131484455234, 2.4000924753084383, 2.40005558430536, 2.3994000188248235, 2.39817290756454, 2.397847242967989, 2.3911256669047574, 2.386129848435281, 2.3766453304046706, 2.279667532399094, 1.6500201879243401, 1.6500171872207405, 1.6500143630291173, 1.650010303253659, 1.6500073025500592, 1.6499984769512368, 1.6499951232236842, 1.6499921225200846, 1.6499870036727675, 1.6499751773703453, 1.6499716471308163, 1.649970411546981, 1.6499686464272167, 1.6499667047954758, 1.6499382863672671, 1.6498812729988737, 1.649002419868127, 9.8375758738106, 4.6502789774007836, 3.134108527266701, 8.400989378498718, 4.534308490729142, 3.0977763611060056, 12.006086224623878, 7.316383297282894, 4.642702377323626, 3.878187703514378, 3.898490464069658, 16.824772807588335, 6.132300008474957, 2.4023627723495435, 12.70930852670653, 15.151357369281303, 2.4001348381827867, 5.284574764775359, 17.579779487274106, 7.62367229103752, 10.263171666757167, 4.603495537114459, 4.612818193662664, 7.052238066860185, 5.386630459319462, 6.8283686331760265, 6.1310806637416375, 7.94587442865849, 5.547156099086718, 7.662399724718648, 9.294204935745164, 5.947968551467786, 8.354130391086471, 6.909175815995027, 6.7857438150548735, 5.43787824051417, 6.068055297430251, 5.395548550417643, 5.20084101338681, 5.17317311410216, 5.048307835913229, 6.7693136847950015, 3.839195320458001, 3.8144385777530894, 3.102583696662408, 3.1019054158364647, 3.0958245690303157, 2.364061046240504, 2.3640508974002152, 2.364032122045682, 2.364019097700645, 2.363918285887113, 5.315185480206489, 2.346444858415191, 1.6252325774312417, 1.6252307168105222, 1.6252198913808813, 1.625188260828649, 1.6251782811356987, 1.6251742215995832, 1.625171515242173, 1.6251696546214536, 1.6251691471794392, 1.6251488494988622, 1.625136501743178, 1.6251324422070625, 1.6251300741443286, 1.6250810214162679, 1.6246552775661685, 1.6230236823424657, 1.6229727689936855, 3.7491598838392237, 4.587159437000229, 4.575496051446092, 4.54323965406271, 3.0718969865769683, 5.95770889716146, 8.168687881143422, 4.491893626391472, 5.629588433269718, 10.46673985526397, 3.8330813207735766, 17.009602466703306, 3.8337078425140487, 15.938431616442315, 5.30541248530341, 17.049683619949064, 3.061865534541211, 14.96898597533899, 8.06801679819705, 11.203036865010622, 15.706522496779534, 7.188796377025895, 7.408387510935936, 3.841613789098733, 4.5494202977983615, 6.069751417356338, 6.043180400302532, 7.2662908917002635, 6.794913119538529, 5.0677905834422745, 5.282837066671158, 5.3346201710641505, 5.363005800761527, 5.023462817125161, 4.900556639990874, 4.594356656238104, 3.033374153353691, 3.033327244714192, 3.0198341125288097, 3.006326263907506, 2.311086419559287, 2.297105652137803, 2.2895283738965935, 9.487881231266337, 2.169918088206551, 2.1662234963092564, 1.5888808525321105, 1.5888768668307152, 1.5888756404610551, 1.5888367032243464, 1.5888091099069939, 1.5888020582814484, 1.5887830495517166, 1.5887792171465287, 1.5887770709996236, 1.5887675666347576, 1.5885460536148999, 1.5882900489483516, 1.5859605597789688, 1.5840645922844356, 1.5828175276363092, 1.5654697623129876, 1.5580801186297755, 3.0322989337541877, 1.9800303825513763, 2.3111227507604677, 5.778004475712655, 8.793764588230573, 10.129625144782189, 9.87131306371831, 6.131687646134462, 8.094696477692107, 3.033426887249076, 2.3111137062842246, 8.712615094636133, 7.2856334327837065, 2.3076164066060003, 2.311146358376425, 5.033231407496305, 2.289068945162674, 2.28089381171216, 5.175928715222786, 5.776515049760449, 4.468775762700031, 5.766136896511751, 5.194386804977132, 3.033457239898164, 6.651326838071603, 4.296272766754189, 4.361971535593294, 4.475408583006747, 5.767916972073404, 4.6750342769480415, 7.816789462198959, 5.872812661396592, 6.113510395032282, 6.824685840040204, 5.200182014805991, 6.675608344156991, 6.585817849937402, 5.206495365816247, 4.470100241932952, 5.405361017160687, 4.477749416095486, 2.1650812380060467, 2.157454423231068, 2.099942132441608, 2.0771586150543215, 4.061570761170694, 1.4884033784520214, 1.488384339232126, 1.4883013826311533, 1.4881693444048658, 1.4876563981493724, 1.4863923917583952, 1.4847255945984623, 1.4843627367387677, 1.4837829059510446, 1.4834294440699995, 1.481450848776455, 1.475944063499958, 1.4588097546444903, 1.4297206701641867, 2.845820880225287, 2.777445601803824, 3.489116311212598, 2.16508915040912, 2.1649736787767675, 2.1649410401140896, 2.1473616585857425, 4.194856921780448, 4.1938639151947354, 0.8118323981551364, 0.8118309763952092, 9.145127778835821, 2.810556783302678, 9.550964822974832, 2.740791889091447, 2.72315810979197, 4.677120361730711, 4.836712048145802, 4.00982908484771, 4.191699872954158, 12.60603859845508, 7.259858290491865, 2.8419554240613305, 6.1534481767797296, 3.6482836950128776, 3.185851704315731, 8.401630911639835, 4.643571772699455, 7.913982092347732, 5.1412846741757425, 2.836080217516728, 4.880490385300592, 6.535295803850546, 6.652501241526576, 4.19057532266735, 4.671905593580142, 4.669755398044943, 3.6004749775425697, 3.5136145947034496, 3.0442832357888863], \"Total\": [52.0, 24.0, 19.0, 60.0, 12.0, 16.0, 19.0, 12.0, 8.0, 17.0, 7.0, 10.0, 14.0, 14.0, 45.0, 15.0, 9.0, 15.0, 15.0, 10.0, 43.0, 10.0, 35.0, 17.0, 5.0, 21.0, 7.0, 49.0, 6.0, 31.0, 8.32754140119915, 3.7686969636464736, 3.768769041243573, 7.530136073631187, 9.053869337131669, 3.009540875419157, 3.009532805625837, 3.009466673298275, 3.009470920300297, 3.009482480390796, 3.0091553734722325, 6.7995883223417986, 3.008566280594984, 10.511375229886577, 5.250392169961711, 2.249486668461556, 2.2494863470092956, 2.249486042264531, 2.249484137735684, 2.2494808108087327, 2.2494860942545323, 2.2494802807192342, 2.24947945893036, 2.2494799037053044, 2.249474750084848, 2.2494761812301993, 2.2494719188763876, 2.2494700907121565, 2.249472553511115, 2.249467181158873, 10.525616425773485, 11.270448344876394, 15.028746294190839, 4.508095115548297, 4.519460237809658, 4.489178287359093, 6.781334668921634, 52.94036494112211, 24.075303216661297, 4.488287010035217, 7.47290500012943, 11.261661389441956, 30.440729539657042, 7.523418947831588, 14.235766334521504, 22.425441697158572, 11.100958047156269, 49.77286252646943, 60.04946961156753, 34.86224711520751, 8.215325093742123, 21.333611305277273, 13.35125935714128, 43.5879829798337, 16.368029234124513, 30.976181275392396, 22.075981376258213, 44.69813875807607, 31.279565973243244, 19.54276255454302, 17.70862878277192, 23.694197632524023, 16.24704076153627, 43.7973392271917, 24.333790870924908, 26.530157460548637, 5.224940112720741, 4.476298205038603, 3.7296473341412306, 2.979762825137537, 2.979759485593918, 2.9797527732676357, 2.979768154164845, 2.979679805322044, 2.979536113293981, 2.979573434382254, 2.9783754153580655, 2.977427076089199, 2.967973554663145, 2.2296364272514, 2.2296350386361374, 2.22963553218136, 2.229633337085536, 2.229634120295664, 2.229629869309678, 2.2296307139810807, 2.2296294445529217, 2.2296290550785915, 2.229625857112214, 2.2296246953037064, 2.2296248198038495, 2.229627709692105, 2.229625481261675, 2.229618130254822, 2.2296101777994033, 2.2296385743760845, 14.828705827523363, 6.690898051962978, 4.4072105213375625, 12.592084034182344, 6.633886255292798, 4.4500142541483525, 22.32534390526171, 13.952001948230768, 8.107694969875045, 6.573649592475483, 6.617242018352714, 43.5879829798337, 11.97131944933085, 3.7019433704813975, 35.59180180146226, 45.7550606396949, 3.701862120030346, 11.058340251286221, 60.04946961156753, 19.162824870023993, 34.86224711520751, 9.535545864583545, 9.763959777380844, 21.93451610745487, 13.857684082236924, 22.081760315358185, 18.475612967612793, 30.976181275392396, 15.420652515273062, 31.279565973243244, 52.94036494112211, 19.30132148294251, 49.77286252646943, 30.440729539657042, 43.7973392271917, 19.195572711848765, 44.69813875807607, 26.530157460548637, 21.20391523043509, 23.694197632524023, 22.425441697158572, 7.377535416722781, 4.423686518164951, 4.4229699582792605, 3.6847711664290324, 3.6847956581345316, 3.6841901367589767, 2.945949742459254, 2.945948292547652, 2.9459448341305032, 2.9459416072431006, 2.9459340279951713, 6.66125498772347, 2.9454782854347674, 2.2070971675371833, 2.207096073603994, 2.2070950142121033, 2.2070912210058964, 2.207085210145746, 2.2070869095423804, 2.207086489566618, 2.2070862963814015, 2.207085848192815, 2.2070835038925285, 2.2070815199877494, 2.20707804512362, 2.2070796629838365, 2.2070747610726036, 2.2071093001803144, 2.207018101413701, 2.2071561754567126, 5.175578099050405, 6.516251187436397, 6.598938802672832, 6.607189209151766, 4.444888402224362, 9.55795865242798, 14.854752610706656, 7.369387819405159, 10.320798357464277, 22.901423378404186, 6.453493136872535, 45.7550606396949, 6.6829578128442915, 43.7973392271917, 10.382007931047887, 49.77286252646943, 5.15759728197967, 44.69813875807607, 19.30132148294251, 31.279565973243244, 60.04946961156753, 19.86908945565011, 24.333790870924908, 7.380048775016686, 10.328799635705037, 19.0215016520075, 18.965039651221712, 30.976181275392396, 26.530157460548637, 14.429955236776916, 18.475612967612793, 19.162824870023993, 22.081760315358185, 23.173647678332507, 23.694197632524023, 34.86224711520751, 3.618690372524988, 3.618681227453586, 3.6193613633034993, 3.619478525820185, 2.896366317420692, 2.8955121810981397, 2.8969874858567435, 12.210535000247127, 2.901580496002908, 2.900449300949104, 2.1740538913894674, 2.1740522938350404, 2.1740516996168373, 2.1740467565452173, 2.174045411711787, 2.1740403715455408, 2.174041965336064, 2.17404130060411, 2.1740393086407543, 2.174040804639008, 2.1740620643427753, 2.1740607502518894, 2.1741080338488645, 2.174230912493376, 2.174177521387198, 2.173173546727827, 2.1755941410148996, 4.295482467564622, 2.877348201595538, 3.5728696596286467, 9.424942783819112, 15.289050664943293, 17.963420342841054, 19.0215016520075, 10.854953024040332, 15.391491229447984, 4.972284875954756, 3.5728666771309174, 21.20391523043509, 17.70862878277192, 3.6460581017722267, 3.6561623859017898, 10.838039709254906, 3.6469452201267174, 3.636055422768186, 11.813216262555754, 13.857684082236924, 10.165746680918172, 15.420652515273062, 13.35125935714128, 5.804625429717308, 23.173647678332507, 11.058340251286221, 11.575737262140374, 12.515236257682878, 21.333611305277273, 13.979381136415887, 43.5879829798337, 23.694197632524023, 26.530157460548637, 35.59180180146226, 18.475612967612793, 44.69813875807607, 45.7550606396949, 22.081760315358185, 16.24704076153627, 43.7973392271917, 22.075981376258213, 2.7595006145233434, 2.7602698237623944, 2.7639441064295065, 2.7684787535599518, 5.5492073673126425, 2.0828130883668807, 2.0828105473125076, 2.082808460643717, 2.0827919918074524, 2.0828713661304157, 2.0830080146540766, 2.0832724637688083, 2.083314265868138, 2.0831273100887753, 2.0833636262619657, 2.0835914648405316, 2.0835967091125496, 2.0854991668550693, 2.087986920808175, 4.174412126389456, 4.162496422305548, 5.615000454525118, 3.5192897207777505, 3.51929623221199, 3.51925143498182, 3.5211848344957173, 6.989260846381602, 7.00023581826699, 1.4061171874992295, 1.4061165696412232, 16.13760046225497, 4.927059207644896, 19.195572711848765, 4.930562592971459, 4.920574600220984, 10.724028078980709, 12.114947357579595, 9.283494584133695, 9.95808318396493, 52.94036494112211, 24.075303216661297, 5.656637749521667, 19.54276255454302, 8.545089233530792, 7.1141683724892815, 35.59180180146226, 14.429955236776916, 43.7973392271917, 23.173647678332507, 6.375852777152634, 21.93451610745487, 44.69813875807607, 60.04946961156753, 18.965039651221712, 30.976181275392396, 43.5879829798337, 17.963420342841054, 34.86224711520751, 30.440729539657042], \"Category\": [\"Default\", \"Default\", \"Default\", \"Default\", \"Default\", \"Default\", \"Default\", \"Default\", \"Default\", \"Default\", \"Default\", \"Default\", \"Default\", \"Default\", \"Default\", \"Default\", \"Default\", \"Default\", \"Default\", \"Default\", \"Default\", \"Default\", \"Default\", \"Default\", \"Default\", \"Default\", \"Default\", \"Default\", \"Default\", \"Default\", \"Topic1\", \"Topic1\", \"Topic1\", \"Topic1\", \"Topic1\", \"Topic1\", \"Topic1\", \"Topic1\", \"Topic1\", \"Topic1\", \"Topic1\", \"Topic1\", \"Topic1\", \"Topic1\", \"Topic1\", \"Topic1\", \"Topic1\", \"Topic1\", \"Topic1\", \"Topic1\", \"Topic1\", \"Topic1\", \"Topic1\", \"Topic1\", \"Topic1\", \"Topic1\", \"Topic1\", \"Topic1\", \"Topic1\", \"Topic1\", \"Topic1\", \"Topic1\", \"Topic1\", \"Topic1\", \"Topic1\", \"Topic1\", \"Topic1\", \"Topic1\", \"Topic1\", \"Topic1\", \"Topic1\", \"Topic1\", \"Topic1\", \"Topic1\", \"Topic1\", \"Topic1\", \"Topic1\", \"Topic1\", \"Topic1\", \"Topic1\", \"Topic1\", \"Topic1\", \"Topic1\", \"Topic1\", \"Topic1\", \"Topic1\", \"Topic1\", \"Topic1\", \"Topic1\", \"Topic1\", \"Topic1\", \"Topic1\", \"Topic1\", \"Topic1\", \"Topic1\", \"Topic1\", \"Topic2\", \"Topic2\", \"Topic2\", \"Topic2\", \"Topic2\", \"Topic2\", \"Topic2\", \"Topic2\", \"Topic2\", \"Topic2\", \"Topic2\", \"Topic2\", \"Topic2\", \"Topic2\", \"Topic2\", \"Topic2\", \"Topic2\", \"Topic2\", \"Topic2\", \"Topic2\", \"Topic2\", \"Topic2\", \"Topic2\", \"Topic2\", \"Topic2\", \"Topic2\", \"Topic2\", \"Topic2\", \"Topic2\", \"Topic2\", \"Topic2\", \"Topic2\", \"Topic2\", \"Topic2\", \"Topic2\", \"Topic2\", \"Topic2\", \"Topic2\", \"Topic2\", \"Topic2\", \"Topic2\", \"Topic2\", \"Topic2\", \"Topic2\", \"Topic2\", \"Topic2\", \"Topic2\", \"Topic2\", \"Topic2\", \"Topic2\", \"Topic2\", \"Topic2\", \"Topic2\", \"Topic2\", \"Topic2\", \"Topic2\", \"Topic2\", \"Topic2\", \"Topic2\", \"Topic2\", \"Topic2\", \"Topic2\", \"Topic2\", \"Topic2\", \"Topic2\", \"Topic2\", \"Topic2\", \"Topic2\", \"Topic2\", \"Topic2\", \"Topic2\", \"Topic3\", \"Topic3\", \"Topic3\", \"Topic3\", \"Topic3\", \"Topic3\", \"Topic3\", \"Topic3\", \"Topic3\", \"Topic3\", \"Topic3\", \"Topic3\", \"Topic3\", \"Topic3\", \"Topic3\", \"Topic3\", \"Topic3\", \"Topic3\", \"Topic3\", \"Topic3\", \"Topic3\", \"Topic3\", \"Topic3\", \"Topic3\", \"Topic3\", \"Topic3\", \"Topic3\", \"Topic3\", \"Topic3\", \"Topic3\", \"Topic3\", \"Topic3\", \"Topic3\", \"Topic3\", \"Topic3\", \"Topic3\", \"Topic3\", \"Topic3\", \"Topic3\", \"Topic3\", \"Topic3\", \"Topic3\", \"Topic3\", \"Topic3\", \"Topic3\", \"Topic3\", \"Topic3\", \"Topic3\", \"Topic3\", \"Topic3\", \"Topic3\", \"Topic3\", \"Topic3\", \"Topic3\", \"Topic3\", \"Topic3\", \"Topic3\", \"Topic3\", \"Topic3\", \"Topic3\", \"Topic3\", \"Topic3\", \"Topic3\", \"Topic3\", \"Topic3\", \"Topic3\", \"Topic4\", \"Topic4\", \"Topic4\", \"Topic4\", \"Topic4\", \"Topic4\", \"Topic4\", \"Topic4\", \"Topic4\", \"Topic4\", \"Topic4\", \"Topic4\", \"Topic4\", \"Topic4\", \"Topic4\", \"Topic4\", \"Topic4\", \"Topic4\", \"Topic4\", \"Topic4\", \"Topic4\", \"Topic4\", \"Topic4\", \"Topic4\", \"Topic4\", \"Topic4\", \"Topic4\", \"Topic4\", \"Topic4\", \"Topic4\", \"Topic4\", \"Topic4\", \"Topic4\", \"Topic4\", \"Topic4\", \"Topic4\", \"Topic4\", \"Topic4\", \"Topic4\", \"Topic4\", \"Topic4\", \"Topic4\", \"Topic4\", \"Topic4\", \"Topic4\", \"Topic4\", \"Topic4\", \"Topic4\", \"Topic4\", \"Topic4\", \"Topic4\", \"Topic4\", \"Topic4\", \"Topic4\", \"Topic4\", \"Topic4\", \"Topic4\", \"Topic4\", \"Topic4\", \"Topic4\", \"Topic4\", \"Topic4\", \"Topic4\", \"Topic4\", \"Topic4\", \"Topic4\", \"Topic4\", \"Topic4\", \"Topic5\", \"Topic5\", \"Topic5\", \"Topic5\", \"Topic5\", \"Topic5\", \"Topic5\", \"Topic5\", \"Topic5\", \"Topic5\", \"Topic5\", \"Topic5\", \"Topic5\", \"Topic5\", \"Topic5\", \"Topic5\", \"Topic5\", \"Topic5\", \"Topic5\", \"Topic5\", \"Topic5\", \"Topic5\", \"Topic5\", \"Topic5\", \"Topic5\", \"Topic5\", \"Topic5\", \"Topic5\", \"Topic5\", \"Topic5\", \"Topic5\", \"Topic5\", \"Topic5\", \"Topic5\", \"Topic5\", \"Topic5\", \"Topic5\", \"Topic5\", \"Topic5\", \"Topic5\", \"Topic5\", \"Topic5\", \"Topic5\", \"Topic5\", \"Topic5\", \"Topic5\", \"Topic5\", \"Topic5\", \"Topic5\", \"Topic5\", \"Topic5\", \"Topic5\", \"Topic5\", \"Topic5\", \"Topic5\", \"Topic5\", \"Topic5\", \"Topic5\", \"Topic5\"], \"logprob\": [30.0, 29.0, 28.0, 27.0, 26.0, 25.0, 24.0, 23.0, 22.0, 21.0, 20.0, 19.0, 18.0, 17.0, 16.0, 15.0, 14.0, 13.0, 12.0, 11.0, 10.0, 9.0, 8.0, 7.0, 6.0, 5.0, 4.0, 3.0, 2.0, 1.0, -5.3454, -6.2382, -6.2382, -5.5634, -5.3993, -6.5015, -6.5016, -6.5017, -6.5018, -6.5025, -6.503, -5.6908, -6.5153, -5.2738, -6.0282, -6.8763, -6.8763, -6.8763, -6.8763, -6.8763, -6.8763, -6.8763, -6.8763, -6.8763, -6.8763, -6.8763, -6.8763, -6.8763, -6.8763, -6.8763, -5.3603, -5.3521, -5.097, -6.231, -6.2296, -6.2359, -5.8673, -4.0721, -4.7822, -6.263, -5.8388, -5.4939, -4.7117, -5.8799, -5.3702, -5.0162, -5.5904, -4.517, -4.3991, -4.7906, -5.848, -5.2707, -5.5648, -4.8547, -5.4474, -5.0847, -5.3416, -5.0436, -5.2581, -5.5293, -5.5652, -5.4658, -5.6015, -5.342, -5.5609, -5.5594, -5.802, -5.9918, -6.1773, -6.4485, -6.4485, -6.4485, -6.4488, -6.4493, -6.4494, -6.4522, -6.4543, -6.4583, -6.5, -6.8232, -6.8232, -6.8232, -6.8232, -6.8232, -6.8232, -6.8232, -6.8232, -6.8232, -6.8232, -6.8232, -6.8232, -6.8232, -6.8232, -6.8232, -6.8233, -6.8238, -5.0378, -5.7871, -6.1816, -5.1956, -5.8123, -6.1933, -4.8386, -5.3339, -5.7887, -5.9686, -5.9634, -4.5011, -5.5104, -6.4475, -4.7816, -4.6059, -6.4485, -5.6592, -4.4572, -5.2927, -4.9954, -5.7972, -5.7951, -5.3706, -5.6401, -5.4029, -5.5106, -5.2513, -5.6107, -5.2877, -5.0946, -5.5409, -5.2012, -5.3911, -5.4092, -5.6306, -5.5209, -5.6384, -5.6752, -5.6805, -5.7049, -5.369, -5.9361, -5.9426, -6.1491, -6.1493, -6.1513, -6.421, -6.421, -6.421, -6.421, -6.421, -5.6108, -6.4285, -6.7957, -6.7957, -6.7957, -6.7957, -6.7957, -6.7957, -6.7957, -6.7957, -6.7957, -6.7958, -6.7958, -6.7958, -6.7958, -6.7958, -6.7961, -6.7971, -6.7971, -5.9598, -5.7581, -5.7606, -5.7677, -6.1591, -5.4967, -5.1811, -5.7791, -5.5533, -4.9332, -5.9377, -4.4476, -5.9375, -4.5126, -5.6126, -4.4452, -6.1623, -4.5754, -5.1935, -4.8652, -4.5273, -5.3088, -5.2787, -5.9355, -5.7664, -5.478, -5.4824, -5.2981, -5.3652, -5.6585, -5.6169, -5.6071, -5.6018, -5.6672, -5.692, -5.7565, -6.0733, -6.0733, -6.0778, -6.0822, -6.3452, -6.3513, -6.3546, -4.9329, -6.4083, -6.41, -6.7199, -6.7199, -6.7199, -6.72, -6.72, -6.72, -6.72, -6.72, -6.72, -6.72, -6.7201, -6.7203, -6.7218, -6.723, -6.7238, -6.7348, -6.7395, -6.0736, -6.4999, -6.3452, -5.4289, -5.0089, -4.8675, -4.8933, -5.3695, -5.0918, -6.0733, -6.3452, -5.0182, -5.1971, -6.3467, -6.3452, -5.5669, -6.3548, -6.3584, -5.5389, -5.4292, -5.6858, -5.431, -5.5354, -6.0733, -5.2881, -5.7252, -5.71, -5.6844, -5.4307, -5.6407, -5.1267, -5.4126, -5.3725, -5.2624, -5.5343, -5.2845, -5.298, -5.5331, -5.6856, -5.4956, -5.6838, -6.1954, -6.199, -6.226, -6.2369, -5.5663, -6.5702, -6.5702, -6.5703, -6.5703, -6.5707, -6.5715, -6.5727, -6.5729, -6.5733, -6.5735, -6.5749, -6.5786, -6.5903, -6.6104, -5.922, -5.9464, -5.7182, -6.1954, -6.1955, -6.1955, -6.2037, -5.534, -5.5343, -7.1764, -7.1764, -4.7547, -5.9345, -4.7113, -5.9596, -5.9661, -5.4252, -5.3917, -5.5791, -5.5348, -4.4337, -4.9855, -5.9234, -5.1509, -5.6736, -5.8092, -4.8395, -5.4324, -4.8993, -5.3306, -5.9255, -5.3826, -5.0907, -5.0729, -5.5351, -5.4263, -5.4268, -5.6868, -5.7112, -5.8546], \"loglift\": [30.0, 29.0, 28.0, 27.0, 26.0, 25.0, 24.0, 23.0, 22.0, 21.0, 20.0, 19.0, 18.0, 17.0, 16.0, 15.0, 14.0, 13.0, 12.0, 11.0, 10.0, 9.0, 8.0, 7.0, 6.0, 5.0, 4.0, 3.0, 2.0, 1.0, 1.3841, 1.2842, 1.2841, 1.2668, 1.2466, 1.2458, 1.2457, 1.2456, 1.2456, 1.2448, 1.2444, 1.2414, 1.2323, 1.2229, 1.1626, 1.1621, 1.1621, 1.1621, 1.1621, 1.1621, 1.1621, 1.1621, 1.1621, 1.1621, 1.1621, 1.1621, 1.1621, 1.1621, 1.1621, 1.1621, 1.135, 1.0748, 1.0422, 1.1122, 1.1111, 1.1115, 1.0677, 0.8078, 0.8857, 1.0846, 0.999, 0.9338, 0.7216, 0.9512, 0.8231, 0.7227, 0.8517, 0.4246, 0.3549, 0.507, 0.8951, 0.5181, 0.6927, 0.2196, 0.6064, 0.3312, 0.413, 0.0056, 0.148, 0.3472, 0.4098, 0.2181, 0.4596, -0.2725, 0.0963, 0.0114, 1.3936, 1.3585, 1.3554, 1.3088, 1.3088, 1.3088, 1.3085, 1.308, 1.3079, 1.3051, 1.3034, 1.2997, 1.2613, 1.2241, 1.2241, 1.224, 1.224, 1.224, 1.224, 1.224, 1.224, 1.224, 1.224, 1.224, 1.224, 1.224, 1.224, 1.224, 1.224, 1.2234, 1.1147, 1.1613, 1.1842, 1.1204, 1.1446, 1.1629, 0.9048, 0.8796, 0.9676, 0.9974, 0.996, 0.5732, 0.8562, 1.0927, 0.4953, 0.4199, 1.0918, 0.7867, 0.2967, 0.6034, 0.3023, 0.7969, 0.7752, 0.3904, 0.5802, 0.3514, 0.422, 0.1645, 0.5027, 0.1185, -0.2147, 0.348, -0.2596, 0.0422, -0.3396, 0.2638, -0.4718, -0.0676, 0.1197, 0.0034, 0.034, 1.4817, 1.426, 1.4197, 1.3957, 1.3955, 1.3937, 1.3477, 1.3477, 1.3477, 1.3477, 1.3476, 1.342, 1.3404, 1.2617, 1.2617, 1.2617, 1.2617, 1.2617, 1.2617, 1.2617, 1.2617, 1.2617, 1.2616, 1.2616, 1.2616, 1.2616, 1.2616, 1.2613, 1.2604, 1.2603, 1.2453, 1.2167, 1.2015, 1.1932, 1.1983, 1.095, 0.9697, 1.0727, 0.9616, 0.7847, 1.0468, 0.5782, 1.012, 0.5569, 0.8964, 0.4964, 1.0463, 0.4738, 0.6955, 0.5409, 0.2266, 0.5511, 0.3785, 0.9148, 0.7478, 0.4255, 0.4241, 0.1177, 0.2056, 0.5213, 0.3157, 0.289, 0.1525, 0.0388, -0.0082, -0.4589, 1.4897, 1.4897, 1.485, 1.4805, 1.4404, 1.4346, 1.4308, 1.4138, 1.3756, 1.3742, 1.3526, 1.3526, 1.3526, 1.3525, 1.3525, 1.3525, 1.3525, 1.3525, 1.3525, 1.3525, 1.3523, 1.3522, 1.3507, 1.3494, 1.3487, 1.3381, 1.3323, 1.3179, 1.2924, 1.2305, 1.1768, 1.113, 1.0932, 1.0102, 1.095, 1.0235, 1.1719, 1.2305, 0.7767, 0.778, 1.2087, 1.2074, 0.8991, 1.2004, 1.1998, 0.8409, 0.7911, 0.8442, 0.6824, 0.7221, 1.0172, 0.4179, 0.7207, 0.6901, 0.6378, 0.3581, 0.5708, -0.0524, 0.2712, 0.1983, 0.0146, 0.3984, -0.2354, -0.2723, 0.2213, 0.3756, -0.4261, 0.0708, 1.6386, 1.6348, 1.6064, 1.5939, 1.5691, 1.5452, 1.5452, 1.5451, 1.545, 1.5446, 1.5437, 1.5425, 1.5422, 1.5419, 1.5416, 1.5401, 1.5364, 1.5238, 1.5025, 1.4981, 1.4766, 1.4054, 1.3954, 1.3953, 1.3953, 1.3866, 1.3707, 1.3689, 1.3319, 1.3319, 1.3133, 1.3198, 1.1832, 1.294, 1.2896, 1.0514, 0.963, 1.0417, 1.0159, 0.4462, 0.6824, 1.1929, 0.7256, 1.0301, 1.0778, 0.4375, 0.7474, 0.1702, 0.3755, 1.0711, 0.3784, -0.0415, -0.319, 0.3714, -0.0105, -0.3525, 0.2739, -0.4136, -0.4213]}, \"token.table\": {\"Topic\": [5, 1, 1, 2, 3, 5, 1, 2, 3, 4, 5, 2, 3, 4, 1, 2, 5, 4, 2, 4, 5, 1, 2, 3, 4, 1, 2, 5, 4, 1, 4, 4, 1, 1, 2, 3, 4, 1, 2, 1, 2, 4, 2, 1, 3, 5, 3, 1, 1, 2, 3, 4, 5, 1, 2, 3, 5, 4, 4, 5, 1, 3, 4, 1, 2, 3, 4, 5, 1, 2, 3, 4, 1, 4, 3, 5, 2, 3, 4, 5, 4, 1, 2, 3, 4, 5, 1, 1, 2, 3, 4, 5, 4, 4, 1, 2, 4, 5, 3, 2, 3, 5, 2, 3, 4, 5, 5, 1, 1, 1, 1, 2, 3, 4, 5, 3, 2, 1, 3, 5, 4, 5, 1, 3, 5, 2, 3, 5, 2, 4, 1, 3, 4, 2, 4, 5, 1, 4, 4, 2, 1, 3, 1, 3, 4, 1, 2, 3, 4, 5, 1, 4, 5, 1, 2, 3, 4, 5, 1, 2, 3, 4, 5, 1, 2, 3, 4, 5, 1, 3, 4, 5, 3, 4, 5, 3, 3, 5, 5, 1, 4, 3, 4, 2, 3, 4, 3, 2, 5, 5, 3, 4, 1, 3, 4, 2, 3, 4, 5, 1, 1, 5, 1, 5, 1, 2, 3, 5, 2, 3, 5, 1, 2, 3, 4, 5, 1, 3, 1, 2, 3, 4, 5, 1, 2, 3, 4, 5, 1, 2, 3, 4, 5, 2, 1, 2, 3, 4, 5, 2, 5, 4, 5, 2, 2, 4, 5, 1, 2, 5, 2, 5, 4, 1, 4, 5, 4, 2, 1, 5, 1, 3, 5, 3, 4, 5, 3, 4, 1, 1, 4, 2, 3, 5, 4, 1, 3, 4, 5, 1, 2, 3, 4, 5, 2, 1, 2, 3, 4, 3, 1, 2, 3, 4, 5, 1, 2, 1, 2, 3, 1, 3, 4, 5, 1, 1, 2, 3, 4, 5, 4, 5, 1, 2, 3, 4, 5, 2, 3, 4, 5, 2, 2, 4, 2, 1, 3, 4, 2, 3, 5, 4, 3, 4, 1, 2, 4, 5, 1, 2, 4, 2, 3, 4, 5, 4, 1, 2, 1, 4, 5, 2, 2, 1, 3, 3, 4, 5, 1, 2, 3, 5, 4, 5, 3, 2, 3, 4, 5, 3, 1, 2, 3, 4, 1, 2, 3, 4, 5, 2, 5, 2, 4, 1, 2, 3, 4, 5, 2, 1, 2, 4, 5, 2, 2, 2, 2, 3, 1, 5, 1, 2, 3, 3, 3, 1, 3, 4, 5, 4, 2, 1, 2, 3, 4, 5, 3, 4, 1, 2, 3, 4, 2, 1, 2, 3, 4, 5, 5, 2, 1, 1, 3, 4, 1, 2, 1, 3, 4, 5, 1, 2, 3, 4, 4, 1, 2, 3, 4, 5, 3, 3, 1, 2, 3, 4, 5, 1, 3, 1, 2, 3, 4, 5, 3, 1, 2, 4, 4, 5, 1, 2, 4, 5, 3, 1, 3, 2, 3, 1, 1, 4, 5, 3, 3, 2, 2, 5, 1, 2, 1, 2, 3, 4, 5, 4, 2, 4, 3, 3, 1, 1, 2, 3, 4, 5, 2, 4, 4, 1, 4, 4, 2, 3, 4, 5, 2, 1, 2, 3, 4, 5, 1, 2, 3, 4, 5, 1, 2, 3, 4, 5, 3, 5, 1, 2, 3, 4, 5, 1, 2, 3, 1, 3, 4, 4, 1, 2, 3, 4, 5, 3, 1, 5, 1, 5, 1, 5, 1, 3, 4, 5, 1, 2, 3, 4, 5, 2, 3, 4, 1, 2, 3, 4, 5, 5, 2, 3, 4, 5, 1, 2, 3, 4, 1, 3, 1, 3, 4, 1, 2, 3, 4, 1, 2, 3, 5], \"Freq\": [0.4801209611425037, 0.8890945823310656, 0.10419069178204143, 0.2604767294551036, 0.10419069178204143, 0.5209534589102072, 0.3623847956586729, 0.18119239782933644, 0.13589429837200231, 0.18119239782933644, 0.13589429837200231, 0.19388873254876626, 0.5816661976462988, 0.19388873254876626, 0.6086186417392856, 0.24344745669571421, 0.12172372834785711, 0.919946567686687, 0.20322829775918644, 0.20322829775918644, 0.6096848932775594, 0.15542977213509665, 0.3108595442701933, 0.41447939236025777, 0.15542977213509665, 0.7960158787045482, 0.3561887512205282, 0.5342831268307923, 0.9199434161104265, 0.2735108275978149, 0.5470216551956298, 0.6903723297957319, 0.6645660883662264, 0.2505989429734655, 0.501197885946931, 0.16706596198231033, 0.08353298099115516, 0.7353386356599284, 0.14706772713198568, 0.7098209188489687, 0.17745522971224217, 0.17745522971224217, 0.8970075921078023, 0.15153951717130038, 0.7576975858565019, 0.15153951717130038, 0.9488263498041616, 0.6645695789706376, 0.5404938902131082, 0.09008231503551803, 0.18016463007103606, 0.09008231503551803, 0.18016463007103606, 0.5288969962927218, 0.170002605951232, 0.056667535317077335, 0.2455593197073351, 0.9198880865643082, 0.5597745957892948, 0.2798872978946474, 0.6690838435539326, 0.13381676871078652, 0.26763353742157303, 0.10436874592161818, 0.41747498368647273, 0.26092186480404544, 0.15655311888242726, 0.10436874592161818, 0.5619648294310738, 0.14049120735776846, 0.21073681103665268, 0.14049120735776846, 0.6682737481038761, 0.22275791603462533, 0.9061685097929357, 0.48007496512972814, 0.14285233040157275, 0.14285233040157275, 0.14285233040157275, 0.571409321606291, 0.6892795160275972, 0.06484809893806834, 0.3890885936284101, 0.12969619787613668, 0.3890885936284101, 0.06484809893806834, 0.8890964434806666, 0.18265949806907855, 0.15982706081044373, 0.3653189961381571, 0.11416218629317408, 0.18265949806907855, 0.8290312993695378, 0.9192891092577653, 0.17227640475824832, 0.17227640475824832, 0.5168292142747449, 0.17227640475824832, 0.8141618202324747, 0.7537060190036853, 0.15074120380073705, 0.15074120380073705, 0.24762798479046466, 0.1650853231936431, 0.1650853231936431, 0.41271330798410777, 0.4800140247574334, 0.8890940480087761, 0.8890958778262035, 0.8890919803114775, 0.42766297028638056, 0.3054735502045575, 0.06109471004091151, 0.12218942008182301, 0.06109471004091151, 0.9061725350730474, 0.8970072320111463, 0.8890942575235792, 0.23955468931260576, 0.7186640679378172, 0.559774128510435, 0.2798870642552175, 0.27100091896011597, 0.5420018379202319, 0.13550045948005798, 0.8970116357246971, 0.9061768252145802, 0.48000439318418914, 0.5402686364730421, 0.27013431823652106, 0.19363334274452515, 0.4840833568613129, 0.2904500141167877, 0.6741551439309137, 0.22471838131030455, 0.4801247575050437, 0.8890917328120099, 0.8288755111376362, 0.6895483397505162, 0.6711931588384098, 0.6645549755301959, 0.8141564087488051, 0.7960311027759828, 0.2750233106289354, 0.5500466212578708, 0.05566868563527931, 0.11133737127055862, 0.05566868563527931, 0.5566868563527931, 0.22267474254111724, 0.7610802416465846, 0.19027006041164615, 0.4800474724501517, 0.4927608577993692, 0.22995506697303894, 0.06570144770658255, 0.1314028954131651, 0.09855217155987384, 0.17916857258612115, 0.5375057177583634, 0.13437642943959086, 0.13437642943959086, 0.04479214314653029, 0.06540628466180239, 0.13081256932360477, 0.19621885398540714, 0.5886565619562214, 0.06540628466180239, 0.39951303331813576, 0.1598052133272543, 0.3196104266545086, 0.07990260666362715, 0.08189649347712948, 0.7370684412941653, 0.16379298695425895, 0.9061700671748796, 0.6198193621909488, 0.3099096810954744, 0.47994053386878094, 0.7618478526012982, 0.19046196315032454, 0.7567514478129955, 0.3027005791251982, 0.7472838415962859, 0.1494567683192572, 0.1494567683192572, 0.9061680748378913, 0.6807026770052086, 0.22690089233506955, 0.7245668458867887, 0.9061720890927885, 0.6907240843454122, 0.33659261322172535, 0.5385481811547606, 0.13463704528869014, 0.2340525587669737, 0.11702627938348685, 0.11702627938348685, 0.4681051175339474, 0.8890944065362107, 0.8890994350802872, 0.4801064608506345, 0.8890927330624286, 0.7111782779488626, 0.13487353672414398, 0.6743676836207199, 0.13487353672414398, 0.13487353672414398, 0.5243538304997046, 0.3146122982998228, 0.20974153219988187, 0.1309962245765462, 0.21832704096091032, 0.43665408192182065, 0.17466163276872826, 0.043665408192182065, 0.15012186169767944, 0.7506093084883971, 0.15098829801417496, 0.25164716335695825, 0.3523060286997416, 0.20131773068556663, 0.10065886534278332, 0.3749951138380893, 0.09374877845952233, 0.09374877845952233, 0.28124633537856697, 0.09374877845952233, 0.2982473404657092, 0.3900157529166967, 0.04588420622549373, 0.18353682490197493, 0.11471051556373432, 0.6715070201314955, 0.3228286892788828, 0.25826295142310624, 0.22598008249521798, 0.03228286892788828, 0.1614143446394414, 0.6712454301448054, 0.7111785904458507, 0.6033443527155015, 0.20111478423850052, 0.8970177925784203, 0.5402567786281187, 0.27012838931405936, 0.4801198943800056, 0.24667923589025006, 0.6166980897256251, 0.12333961794512503, 0.9569487672838397, 0.48012048013215614, 0.9199174874761684, 0.28112913488722935, 0.28112913488722935, 0.421693702330844, 0.9199459346541994, 0.8970098703509142, 0.28414771988985654, 0.5682954397797131, 0.8890973116690297, 0.9061676257016472, 0.4799930206107276, 0.2861532920230637, 0.14307664601153186, 0.5723065840461274, 0.9043696967718462, 0.9199461179178497, 0.6645531935901844, 0.7967983501666891, 0.1327997250277815, 0.6084899938351739, 0.15212249845879347, 0.15212249845879347, 0.9203130615184525, 0.1845352161140491, 0.09226760805702455, 0.46133804028512276, 0.1845352161140491, 0.2237229620258673, 0.13423377721552038, 0.335584443038801, 0.15660607341810712, 0.15660607341810712, 0.8970119018391396, 0.44939580900214765, 0.07489930150035795, 0.07489930150035795, 0.37449650750178975, 0.9061626444311597, 0.2735414800402542, 0.3191317267136299, 0.09118049334675139, 0.09118049334675139, 0.2279512333668785, 0.6637960823069307, 0.22126536076897688, 0.40966985641075526, 0.5120873205134441, 0.10241746410268882, 0.5815087716241643, 0.0830726816605949, 0.04153634083029745, 0.29075438581208213, 0.8890982850840319, 0.0874220237953262, 0.3278325892324732, 0.3715436011301363, 0.15298854164182082, 0.06556651784649464, 0.9198654974997248, 0.47993932589091215, 0.09836955723843395, 0.1967391144768679, 0.09836955723843395, 0.3934782289537358, 0.09836955723843395, 0.18424768818166457, 0.18424768818166457, 0.5527430645449937, 0.09212384409083228, 0.6711966234053619, 0.6711951114408031, 0.9199369386929648, 0.8970095305284581, 0.10462485101313689, 0.6277491060788214, 0.20924970202627377, 0.20296082467374973, 0.20296082467374973, 0.6088824740212492, 0.9199403970256564, 0.9061722731073741, 0.9199374947403275, 0.1949128875998843, 0.1949128875998843, 0.5197677002663581, 0.06497096253329476, 0.09042948374496686, 0.45214741872483427, 0.36171793497986743, 0.6044814424054803, 0.15112036060137007, 0.15112036060137007, 0.15112036060137007, 0.9199413244645871, 0.6646383292904617, 0.8970107391947444, 0.37299417444085897, 0.18649708722042949, 0.4662427180510737, 0.8970119519274394, 0.8970100412362619, 0.22497752688224265, 0.674932580646728, 0.3136835290750192, 0.1568417645375096, 0.47052529361252876, 0.3330587285678096, 0.2997528557110286, 0.26644698285424767, 0.11657055499873335, 0.24024044672838762, 0.7207213401851629, 0.6789000824329506, 0.2591627584544274, 0.17277517230295159, 0.34555034460590317, 0.17277517230295159, 0.9042232046902126, 0.6215779144774009, 0.17759368985068597, 0.08879684492534298, 0.08879684492534298, 0.14306784974837386, 0.2861356994967477, 0.14306784974837386, 0.3576696243709347, 0.07153392487418693, 0.18020591659458524, 0.7208236663783409, 0.27426880540217763, 0.5485376108043553, 0.13585873395761192, 0.3170037125677611, 0.2264312232626865, 0.2264312232626865, 0.0905724893050746, 0.8970084752205485, 0.23580550788201785, 0.23580550788201785, 0.4244499141876321, 0.09432220315280714, 0.6717209016003733, 0.671194359204641, 0.8970077906666714, 0.8970101979270729, 0.6789018290952977, 0.2841513368609782, 0.5683026737219564, 0.1496343427573421, 0.2992686855146842, 0.5985373710293684, 0.8142902208188239, 0.9061748126010651, 0.17678346117966656, 0.17678346117966656, 0.17678346117966656, 0.5303503835389997, 0.8290292042606318, 0.8970114845144365, 0.3692980209789699, 0.1230993403263233, 0.18464901048948495, 0.2461986806526466, 0.06154967016316165, 0.9061433994747349, 0.9199439851742802, 0.25575802448292456, 0.25575802448292456, 0.3516672836640213, 0.12787901224146228, 0.8970063682001269, 0.07167430191814218, 0.5017201134269953, 0.07167430191814218, 0.21502290575442656, 0.14334860383628437, 0.4789302030747111, 0.6712130600166415, 0.6647684689215068, 0.76005049741418, 0.190012624353545, 0.0950063121767725, 0.8890918598634799, 0.8970081601257461, 0.21543611426436066, 0.21543611426436066, 0.10771805713218033, 0.4308722285287213, 0.6653914973510043, 0.06653914973510043, 0.1996174492053013, 0.06653914973510043, 0.8288486804380724, 0.21576232060673936, 0.08630492824269576, 0.21576232060673936, 0.30206724884943514, 0.21576232060673936, 0.6790068729720036, 0.9061720097759824, 0.3070190298456656, 0.10233967661522186, 0.10233967661522186, 0.10233967661522186, 0.3070190298456656, 0.19321513092102235, 0.7728605236840894, 0.36164285287846404, 0.1607301568348729, 0.3415515832741049, 0.08036507841743645, 0.06027380881307734, 0.6788985417902237, 0.6645686411219524, 0.8970145931543089, 0.9199454435051991, 0.6984081584904914, 0.23280271949683048, 0.33881787650533285, 0.16940893825266642, 0.395287522589555, 0.05646964608422215, 0.9061740501597336, 0.6654695438108841, 0.22182318127029468, 0.6712370223607709, 0.9061732356173633, 0.889097562506582, 0.20281661192690362, 0.20281661192690362, 0.6084498357807109, 0.6788993387889766, 0.9062000890336621, 0.8043655957864886, 0.6738604516397024, 0.7247688184861905, 0.7373179829797574, 0.29492719319190297, 0.2465707062177914, 0.20547558851482617, 0.2876658239207566, 0.16438047081186094, 0.08219023540593047, 0.9199410730235881, 0.6353197753670704, 0.3176598876835352, 0.9061718373449471, 0.6788982076559178, 0.8890919597628317, 0.19378345848153758, 0.09689172924076879, 0.5813503754446128, 0.09689172924076879, 0.09689172924076879, 0.2742020895957559, 0.5484041791915119, 0.6950844527231589, 0.6684064529056177, 0.22280215096853925, 0.9199457247864848, 0.21220287972820703, 0.10610143986410352, 0.6366086391846212, 0.10610143986410352, 0.8935955150390845, 0.263643002701442, 0.1054572010805768, 0.31637160324173036, 0.1054572010805768, 0.2109144021611536, 0.2954309788651124, 0.21102212776079454, 0.21102212776079454, 0.25322655331295346, 0.042204425552158906, 0.14048178925840665, 0.3652526520718573, 0.084289073555044, 0.19667450496176933, 0.22477086281345066, 0.7673123481857494, 0.1534624696371499, 0.2539528552870968, 0.1693019035247312, 0.0846509517623656, 0.423254758811828, 0.7236036341500487, 0.6645914622953581, 0.26583658491814327, 0.13291829245907164, 0.13569648178465898, 0.5427859271386359, 0.27139296356931797, 0.6905203903148083, 0.1004209325756845, 0.200841865151369, 0.1004209325756845, 0.200841865151369, 0.401683730302738, 0.9061754768567681, 0.28414824562355256, 0.5682964912471051, 0.2839953160661655, 0.567990632132331, 0.9606676946509104, 0.47950151018664705, 0.12393416262088647, 0.12393416262088647, 0.1859012439313297, 0.5577037317939891, 0.3728962151246176, 0.286843242403552, 0.143421621201776, 0.08605297272106562, 0.1147372969614208, 0.10514416982367546, 0.31543250947102636, 0.5257208491183774, 0.2261577229205002, 0.18846476910041685, 0.2638506767405836, 0.2261577229205002, 0.07538590764016674, 0.7224184030411016, 0.3608106499129322, 0.07216212998258645, 0.43297277989551863, 0.07216212998258645, 0.49051430730096884, 0.22296104877316766, 0.08918441950926706, 0.17836883901853412, 0.7731501018345435, 0.11045001454779192, 0.28896144367491355, 0.48160240612485594, 0.1926409624499424, 0.10825080626585658, 0.3247524187975697, 0.2706270156646414, 0.2706270156646414, 0.06930028427609736, 0.20790085282829207, 0.3465014213804868, 0.3465014213804868], \"Term\": [\"abysmal\", \"achievement\", \"acting\", \"acting\", \"acting\", \"acting\", \"actor\", \"actor\", \"actor\", \"actor\", \"actor\", \"actress\", \"actress\", \"actress\", \"actually\", \"actually\", \"actually\", \"afraid\", \"age\", \"age\", \"age\", \"also\", \"also\", \"also\", \"also\", \"amaze\", \"amazing\", \"amazing\", \"america\", \"american\", \"american\", \"angel\", \"animation\", \"anyone\", \"anyone\", \"anyone\", \"anyone\", \"anything\", \"anything\", \"art\", \"art\", \"art\", \"astronaut\", \"attempt\", \"attempt\", \"attempt\", \"avoid\", \"awesome\", \"awful\", \"awful\", \"awful\", \"awful\", \"awful\", \"bad\", \"bad\", \"bad\", \"bad\", \"badly\", \"barely\", \"barely\", \"believe\", \"believe\", \"believe\", \"best\", \"best\", \"best\", \"best\", \"best\", \"better\", \"better\", \"better\", \"better\", \"bit\", \"bit\", \"blood\", \"border\", \"bore\", \"bore\", \"bore\", \"bore\", \"bring\", \"cast\", \"cast\", \"cast\", \"cast\", \"cast\", \"cease\", \"character\", \"character\", \"character\", \"character\", \"character\", \"charles\", \"chase\", \"cheap\", \"cheap\", \"cheap\", \"cheap\", \"check\", \"cinema\", \"cinema\", \"cinema\", \"come\", \"come\", \"come\", \"come\", \"complex\", \"confuse\", \"control\", \"core\", \"could\", \"could\", \"could\", \"could\", \"could\", \"crazy\", \"crowd\", \"culture\", \"dance\", \"dance\", \"death\", \"death\", \"definitely\", \"definitely\", \"definitely\", \"depend\", \"despite\", \"detail\", \"dialog\", \"dialog\", \"dialogue\", \"dialogue\", \"dialogue\", \"direction\", \"direction\", \"disappointing\", \"discover\", \"dislike\", \"dream\", \"dvd\", \"early\", \"easily\", \"easy\", \"either\", \"either\", \"end\", \"end\", \"end\", \"end\", \"end\", \"enjoy\", \"enjoy\", \"european\", \"even\", \"even\", \"even\", \"even\", \"even\", \"ever\", \"ever\", \"ever\", \"ever\", \"ever\", \"every\", \"every\", \"every\", \"every\", \"every\", \"everything\", \"everything\", \"everything\", \"everything\", \"excellent\", \"excellent\", \"excellent\", \"excellently\", \"experience\", \"experience\", \"exquisite\", \"eye\", \"eye\", \"fact\", \"fact\", \"fan\", \"fan\", \"fan\", \"father\", \"felt\", \"felt\", \"female\", \"fi\", \"final\", \"find\", \"find\", \"find\", \"first\", \"first\", \"first\", \"first\", \"flat\", \"fresh\", \"front\", \"fulci\", \"fumble\", \"funny\", \"funny\", \"funny\", \"funny\", \"game\", \"game\", \"game\", \"get\", \"get\", \"get\", \"get\", \"get\", \"girl\", \"girl\", \"give\", \"give\", \"give\", \"give\", \"give\", \"go\", \"go\", \"go\", \"go\", \"go\", \"good\", \"good\", \"good\", \"good\", \"good\", \"graphic\", \"great\", \"great\", \"great\", \"great\", \"great\", \"greatest\", \"hanky\", \"happen\", \"happen\", \"heaven\", \"help\", \"help\", \"hence\", \"highly\", \"highly\", \"highly\", \"hole\", \"hollow\", \"honestly\", \"hour\", \"hour\", \"hour\", \"humour\", \"imaginative\", \"indeed\", \"indeed\", \"italian\", \"jean\", \"junkyard\", \"lack\", \"lack\", \"lack\", \"lame\", \"lazy\", \"learn\", \"least\", \"least\", \"leave\", \"leave\", \"leave\", \"length\", \"life\", \"life\", \"life\", \"life\", \"like\", \"like\", \"like\", \"like\", \"like\", \"list\", \"little\", \"little\", \"little\", \"little\", \"loneliness\", \"look\", \"look\", \"look\", \"look\", \"look\", \"lose\", \"lose\", \"lot\", \"lot\", \"lot\", \"love\", \"love\", \"love\", \"love\", \"mad\", \"make\", \"make\", \"make\", \"make\", \"make\", \"maker\", \"making\", \"man\", \"man\", \"man\", \"man\", \"man\", \"many\", \"many\", \"many\", \"many\", \"massive\", \"memory\", \"mercy\", \"mexican\", \"minute\", \"minute\", \"minute\", \"money\", \"money\", \"money\", \"moral\", \"mouse\", \"mouth\", \"much\", \"much\", \"much\", \"much\", \"music\", \"music\", \"music\", \"must\", \"must\", \"must\", \"must\", \"neil\", \"nonsense\", \"noteworthy\", \"nothing\", \"nothing\", \"nothing\", \"number\", \"nun\", \"oh\", \"oh\", \"old\", \"old\", \"old\", \"one\", \"one\", \"one\", \"one\", \"overall\", \"overall\", \"own\", \"part\", \"part\", \"part\", \"part\", \"pathetic\", \"people\", \"people\", \"people\", \"people\", \"performance\", \"performance\", \"performance\", \"performance\", \"performance\", \"place\", \"place\", \"plain\", \"plain\", \"play\", \"play\", \"play\", \"play\", \"play\", \"pleaser\", \"plot\", \"plot\", \"plot\", \"plot\", \"plus\", \"pm\", \"ponyo\", \"popular\", \"possible\", \"premise\", \"premise\", \"probably\", \"probably\", \"probably\", \"produce\", \"producer\", \"put\", \"put\", \"put\", \"put\", \"ray\", \"reaction\", \"real\", \"real\", \"real\", \"real\", \"real\", \"realistic\", \"reality\", \"really\", \"really\", \"really\", \"really\", \"recently\", \"recommend\", \"recommend\", \"recommend\", \"recommend\", \"recommend\", \"reference\", \"remake\", \"result\", \"right\", \"right\", \"right\", \"sake\", \"sand\", \"saw\", \"saw\", \"saw\", \"saw\", \"say\", \"say\", \"say\", \"say\", \"scamp\", \"scene\", \"scene\", \"scene\", \"scene\", \"scene\", \"scenery\", \"sci\", \"script\", \"script\", \"script\", \"script\", \"script\", \"second\", \"second\", \"see\", \"see\", \"see\", \"see\", \"see\", \"sense\", \"setting\", \"shakespear\", \"shed\", \"shot\", \"shot\", \"show\", \"show\", \"show\", \"show\", \"sick\", \"silent\", \"silent\", \"sister\", \"site\", \"sleep\", \"slow\", \"slow\", \"slow\", \"someone\", \"soul\", \"soundtrack\", \"spend\", \"spoil\", \"star\", \"star\", \"story\", \"story\", \"story\", \"story\", \"story\", \"subject\", \"suck\", \"suck\", \"sum\", \"surprisingly\", \"surround\", \"take\", \"take\", \"take\", \"take\", \"take\", \"tale\", \"tale\", \"talented\", \"talk\", \"talk\", \"tear\", \"terrible\", \"terrible\", \"terrible\", \"terrible\", \"terrific\", \"thing\", \"thing\", \"thing\", \"thing\", \"thing\", \"think\", \"think\", \"think\", \"think\", \"think\", \"time\", \"time\", \"time\", \"time\", \"time\", \"top\", \"top\", \"totally\", \"totally\", \"totally\", \"totally\", \"trilogy\", \"truly\", \"truly\", \"truly\", \"try\", \"try\", \"try\", \"twist\", \"two\", \"two\", \"two\", \"two\", \"two\", \"uninteresting\", \"utterly\", \"utterly\", \"visual\", \"visual\", \"want\", \"warmth\", \"waste\", \"waste\", \"waste\", \"waste\", \"watch\", \"watch\", \"watch\", \"watch\", \"watch\", \"way\", \"way\", \"way\", \"well\", \"well\", \"well\", \"well\", \"well\", \"whatsoever\", \"wonderful\", \"wonderful\", \"wonderful\", \"wonderful\", \"work\", \"work\", \"work\", \"work\", \"worst\", \"worst\", \"worth\", \"worth\", \"worth\", \"would\", \"would\", \"would\", \"would\", \"year\", \"year\", \"year\", \"year\"]}, \"R\": 30, \"lambda.step\": 0.01, \"plot.opts\": {\"xlab\": \"PC1\", \"ylab\": \"PC2\"}, \"topic.order\": [3, 4, 2, 1, 5]};\n",
       "\n",
       "function LDAvis_load_lib(url, callback){\n",
       "  var s = document.createElement('script');\n",
       "  s.src = url;\n",
       "  s.async = true;\n",
       "  s.onreadystatechange = s.onload = callback;\n",
       "  s.onerror = function(){console.warn(\"failed to load library \" + url);};\n",
       "  document.getElementsByTagName(\"head\")[0].appendChild(s);\n",
       "}\n",
       "\n",
       "if(typeof(LDAvis) !== \"undefined\"){\n",
       "   // already loaded: just create the visualization\n",
       "   !function(LDAvis){\n",
       "       new LDAvis(\"#\" + \"ldavis_el1932415672231368807580579891\", ldavis_el1932415672231368807580579891_data);\n",
       "   }(LDAvis);\n",
       "}else if(typeof define === \"function\" && define.amd){\n",
       "   // require.js is available: use it to load d3/LDAvis\n",
       "   require.config({paths: {d3: \"https://d3js.org/d3.v5\"}});\n",
       "   require([\"d3\"], function(d3){\n",
       "      window.d3 = d3;\n",
       "      LDAvis_load_lib(\"https://cdn.jsdelivr.net/gh/bmabey/pyLDAvis@3.3.1/pyLDAvis/js/ldavis.v3.0.0.js\", function(){\n",
       "        new LDAvis(\"#\" + \"ldavis_el1932415672231368807580579891\", ldavis_el1932415672231368807580579891_data);\n",
       "      });\n",
       "    });\n",
       "}else{\n",
       "    // require.js not available: dynamically load d3 & LDAvis\n",
       "    LDAvis_load_lib(\"https://d3js.org/d3.v5.js\", function(){\n",
       "         LDAvis_load_lib(\"https://cdn.jsdelivr.net/gh/bmabey/pyLDAvis@3.3.1/pyLDAvis/js/ldavis.v3.0.0.js\", function(){\n",
       "                 new LDAvis(\"#\" + \"ldavis_el1932415672231368807580579891\", ldavis_el1932415672231368807580579891_data);\n",
       "            })\n",
       "         });\n",
       "}\n",
       "</script>"
      ],
      "text/plain": [
       "PreparedData(topic_coordinates=              x         y  topics  cluster       Freq\n",
       "topic                                                \n",
       "2     -0.039948 -0.104978       1        1  23.249425\n",
       "3     -0.026308 -0.015458       2        1  21.759850\n",
       "1     -0.084752  0.069252       3        1  20.851960\n",
       "0      0.048074  0.072906       4        1  18.897882\n",
       "4      0.102934 -0.021722       5        1  15.240884, topic_info=          Term       Freq      Total Category  logprob  loglift\n",
       "446        bad  52.000000  52.000000  Default  30.0000  30.0000\n",
       "70        love  24.000000  24.000000  Default  29.0000  29.0000\n",
       "15      acting  19.000000  19.000000  Default  28.0000  28.0000\n",
       "174        one  60.000000  60.000000  Default  27.0000  27.0000\n",
       "299  excellent  12.000000  12.000000  Default  26.0000  26.0000\n",
       "..         ...        ...        ...      ...      ...      ...\n",
       "358      great   4.671906  30.976181   Topic5  -5.4263  -0.0105\n",
       "59        good   4.669755  43.587983   Topic5  -5.4268  -0.3525\n",
       "438        end   3.600475  17.963420   Topic5  -5.6868   0.2739\n",
       "454      watch   3.513615  34.862247   Topic5  -5.7112  -0.4136\n",
       "25        even   3.044283  30.440730   Topic5  -5.8546  -0.4213\n",
       "\n",
       "[360 rows x 6 columns], token_table=      Topic      Freq         Term\n",
       "term                              \n",
       "1757      5  0.480121      abysmal\n",
       "2040      1  0.889095  achievement\n",
       "15        1  0.104191       acting\n",
       "15        2  0.260477       acting\n",
       "15        3  0.104191       acting\n",
       "...     ...       ...          ...\n",
       "228       4  0.270627        would\n",
       "396       1  0.069300         year\n",
       "396       2  0.207901         year\n",
       "396       3  0.346501         year\n",
       "396       5  0.346501         year\n",
       "\n",
       "[597 rows x 3 columns], R=30, lambda_step=0.01, plot_opts={'xlab': 'PC1', 'ylab': 'PC2'}, topic_order=[3, 4, 2, 1, 5])"
      ]
     },
     "execution_count": 55,
     "metadata": {},
     "output_type": "execute_result"
    }
   ],
   "source": [
    "#Visualize model with 5 topics\n",
    "pyLDAvis.enable_notebook() #allow us to see in jupyter notebook\n",
    "vis2 = pyLDAvis.gensim_models.prepare(lda_model_2, bow, dictionary)\n",
    "vis2"
   ]
  },
  {
   "cell_type": "markdown",
   "id": "1eaa07c4",
   "metadata": {},
   "source": [
    "The model with 5 topics also gives a decent result even better than 4. Clusters having no overlappings."
   ]
  },
  {
   "cell_type": "markdown",
   "id": "c3a88917",
   "metadata": {},
   "source": [
    "### Try 7 topics"
   ]
  },
  {
   "cell_type": "code",
   "execution_count": 56,
   "id": "5f53d283",
   "metadata": {},
   "outputs": [],
   "source": [
    "lda_model_3 = gensim.models.LdaModel(corpus=bow, id2word=dictionary, num_topics=7, passes=8, alpha=\"auto\")"
   ]
  },
  {
   "cell_type": "code",
   "execution_count": 57,
   "id": "cc765923",
   "metadata": {},
   "outputs": [
    {
     "data": {
      "text/plain": [
       "[(0,\n",
       "  '0.012*\"character\" + 0.011*\"time\" + 0.009*\"well\" + 0.008*\"also\" + 0.008*\"enjoy\" + 0.007*\"every\" + 0.007*\"say\" + 0.006*\"good\" + 0.006*\"actor\" + 0.006*\"make\" + 0.006*\"man\" + 0.006*\"part\" + 0.006*\"truly\" + 0.006*\"great\" + 0.005*\"play\" + 0.005*\"would\" + 0.005*\"better\" + 0.005*\"story\" + 0.005*\"believe\" + 0.004*\"saw\"'),\n",
       " (1,\n",
       "  '0.017*\"see\" + 0.012*\"one\" + 0.011*\"like\" + 0.009*\"best\" + 0.008*\"make\" + 0.007*\"character\" + 0.006*\"year\" + 0.006*\"even\" + 0.006*\"scene\" + 0.006*\"story\" + 0.006*\"look\" + 0.005*\"good\" + 0.005*\"well\" + 0.005*\"get\" + 0.005*\"time\" + 0.005*\"avoid\" + 0.005*\"worst\" + 0.005*\"short\" + 0.004*\"bad\" + 0.004*\"actor\"'),\n",
       " (2,\n",
       "  '0.012*\"bad\" + 0.011*\"good\" + 0.008*\"everything\" + 0.008*\"plot\" + 0.008*\"end\" + 0.007*\"watch\" + 0.006*\"think\" + 0.006*\"character\" + 0.006*\"even\" + 0.006*\"go\" + 0.005*\"one\" + 0.005*\"wonderful\" + 0.005*\"scene\" + 0.005*\"act\" + 0.005*\"like\" + 0.005*\"work\" + 0.004*\"little\" + 0.004*\"make\" + 0.004*\"worse\" + 0.004*\"right\"'),\n",
       " (3,\n",
       "  '0.016*\"bad\" + 0.012*\"see\" + 0.012*\"waste\" + 0.011*\"time\" + 0.009*\"ever\" + 0.007*\"one\" + 0.007*\"make\" + 0.007*\"funny\" + 0.006*\"watch\" + 0.006*\"excellent\" + 0.006*\"play\" + 0.006*\"performance\" + 0.006*\"script\" + 0.005*\"character\" + 0.005*\"show\" + 0.004*\"scene\" + 0.004*\"work\" + 0.004*\"almost\" + 0.004*\"write\" + 0.004*\"least\"'),\n",
       " (4,\n",
       "  '0.011*\"make\" + 0.011*\"good\" + 0.008*\"script\" + 0.007*\"play\" + 0.006*\"get\" + 0.005*\"beautiful\" + 0.005*\"one\" + 0.005*\"effect\" + 0.004*\"never\" + 0.004*\"character\" + 0.004*\"would\" + 0.004*\"work\" + 0.004*\"see\" + 0.004*\"game\" + 0.004*\"well\" + 0.004*\"cast\" + 0.004*\"problem\" + 0.004*\"simply\" + 0.003*\"bad\" + 0.003*\"think\"'),\n",
       " (5,\n",
       "  '0.017*\"one\" + 0.017*\"really\" + 0.014*\"like\" + 0.012*\"bad\" + 0.011*\"recommend\" + 0.011*\"great\" + 0.010*\"love\" + 0.009*\"suck\" + 0.007*\"character\" + 0.007*\"anyone\" + 0.007*\"watch\" + 0.007*\"thing\" + 0.007*\"good\" + 0.006*\"see\" + 0.006*\"work\" + 0.006*\"acting\" + 0.005*\"get\" + 0.005*\"make\" + 0.005*\"scene\" + 0.005*\"ever\"'),\n",
       " (6,\n",
       "  '0.010*\"much\" + 0.007*\"great\" + 0.007*\"like\" + 0.006*\"even\" + 0.006*\"watch\" + 0.006*\"look\" + 0.006*\"one\" + 0.005*\"give\" + 0.005*\"think\" + 0.005*\"make\" + 0.005*\"whole\" + 0.005*\"way\" + 0.005*\"interesting\" + 0.005*\"cast\" + 0.004*\"line\" + 0.004*\"bad\" + 0.004*\"pretty\" + 0.004*\"thing\" + 0.004*\"plot\" + 0.004*\"never\"')]"
      ]
     },
     "execution_count": 57,
     "metadata": {},
     "output_type": "execute_result"
    }
   ],
   "source": [
    "lda_model_3.show_topics(formatted=True, num_topics=7, num_words=20)"
   ]
  },
  {
   "cell_type": "code",
   "execution_count": 58,
   "id": "988f97a3",
   "metadata": {
    "scrolled": false
   },
   "outputs": [
    {
     "data": {
      "text/html": [
       "\n",
       "<link rel=\"stylesheet\" type=\"text/css\" href=\"https://cdn.jsdelivr.net/gh/bmabey/pyLDAvis@3.3.1/pyLDAvis/js/ldavis.v1.0.0.css\">\n",
       "\n",
       "\n",
       "<div id=\"ldavis_el19324156722313777684577209\"></div>\n",
       "<script type=\"text/javascript\">\n",
       "\n",
       "var ldavis_el19324156722313777684577209_data = {\"mdsDat\": {\"x\": [-0.01572676772467715, -0.07632103421885666, 0.04603170110580272, -0.040651049962159694, -0.05779862064722961, 0.1395150106376768, 0.0049507608094435645], \"y\": [0.05942963122190851, 0.07933638610621144, 0.025895249011981356, 0.01730048294742976, -0.09556622037472907, 0.010441698752871566, -0.09683722766567365], \"topics\": [1, 2, 3, 4, 5, 6, 7], \"cluster\": [1, 1, 1, 1, 1, 1, 1], \"Freq\": [19.239557312121175, 16.235183023729764, 15.15439748861436, 14.039293223815138, 13.360382659182225, 12.958740274344388, 9.01244601819295]}, \"tinfo\": {\"Term\": [\"recommend\", \"really\", \"bad\", \"waste\", \"see\", \"suck\", \"much\", \"enjoy\", \"time\", \"like\", \"everything\", \"love\", \"good\", \"script\", \"anyone\", \"play\", \"great\", \"ever\", \"say\", \"truly\", \"every\", \"game\", \"year\", \"end\", \"interesting\", \"thing\", \"work\", \"funny\", \"never\", \"man\", \"around\", \"open\", \"avoid\", \"pm\", \"stereotype\", \"significant\", \"cost\", \"pretentious\", \"junkyard\", \"maker\", \"establish\", \"ago\", \"taylor\", \"bonus\", \"clearly\", \"dull\", \"america\", \"previous\", \"wayne\", \"remotely\", \"chick\", \"uninteresting\", \"cut\", \"fit\", \"sens\", \"remain\", \"chance\", \"natural\", \"fifteen\", \"estevez\", \"worst\", \"short\", \"documentary\", \"solid\", \"theme\", \"best\", \"year\", \"see\", \"flick\", \"consider\", \"terrible\", \"anything\", \"incredible\", \"call\", \"pace\", \"handle\", \"like\", \"old\", \"definitely\", \"one\", \"scene\", \"look\", \"story\", \"even\", \"make\", \"character\", \"well\", \"get\", \"come\", \"way\", \"thing\", \"good\", \"actor\", \"show\", \"know\", \"time\", \"line\", \"bad\", \"acting\", \"would\", \"recommend\", \"rest\", \"suck\", \"kinda\", \"joe\", \"unpredictable\", \"european\", \"summary\", \"hate\", \"undoubtedly\", \"reference\", \"canada\", \"offensive\", \"suppose\", \"shelf\", \"wooden\", \"versus\", \"believable\", \"blow\", \"meaning\", \"absolutely\", \"anyone\", \"dedication\", \"appreciate\", \"really\", \"trash\", \"nice\", \"plmer\", \"revere\", \"lee\", \"greatest\", \"interest\", \"period\", \"love\", \"great\", \"one\", \"like\", \"thing\", \"bad\", \"awful\", \"acting\", \"work\", \"girl\", \"everyone\", \"experience\", \"watch\", \"get\", \"character\", \"still\", \"find\", \"guess\", \"good\", \"ever\", \"scene\", \"see\", \"nothing\", \"make\", \"also\", \"year\", \"go\", \"time\", \"real\", \"plot\", \"forget\", \"close\", \"depict\", \"sort\", \"neil\", \"subject\", \"exquisite\", \"jonah\", \"length\", \"decay\", \"strike\", \"ponyo\", \"father\", \"whole\", \"making\", \"painful\", \"several\", \"disappointing\", \"much\", \"whether\", \"emotion\", \"entertain\", \"ups\", \"easily\", \"interesting\", \"hitchcock\", \"second\", \"long\", \"escalate\", \"sphere\", \"smile\", \"mind\", \"moment\", \"pretty\", \"kind\", \"great\", \"look\", \"give\", \"never\", \"line\", \"cast\", \"way\", \"white\", \"even\", \"joy\", \"new\", \"watch\", \"think\", \"like\", \"could\", \"thing\", \"end\", \"plot\", \"better\", \"one\", \"make\", \"bad\", \"get\", \"good\", \"director\", \"time\", \"every\", \"scamp\", \"own\", \"angel\", \"receive\", \"brilliant\", \"mexican\", \"complex\", \"confuse\", \"psychological\", \"chilly\", \"los\", \"implausible\", \"volcano\", \"contrast\", \"shakespear\", \"lane\", \"sentiment\", \"angeles\", \"literally\", \"costume\", \"errol\", \"flynn\", \"redeeming\", \"hat\", \"everything\", \"plain\", \"theater\", \"underneath\", \"heart\", \"easy\", \"check\", \"involve\", \"end\", \"quality\", \"plot\", \"quite\", \"wonderful\", \"far\", \"worse\", \"good\", \"bad\", \"first\", \"lot\", \"suspense\", \"act\", \"think\", \"right\", \"little\", \"torture\", \"pretty\", \"go\", \"watch\", \"even\", \"people\", \"scene\", \"totally\", \"character\", \"work\", \"never\", \"real\", \"one\", \"know\", \"like\", \"make\", \"give\", \"actor\", \"massive\", \"somewhat\", \"nun\", \"afraid\", \"computer\", \"depend\", \"stun\", \"night\", \"fun\", \"waste\", \"may\", \"mostly\", \"anatomist\", \"tryst\", \"existent\", \"obsess\", \"diabetic\", \"artiness\", \"estate\", \"client\", \"insulin\", \"violin\", \"flame\", \"ground\", \"scrimm\", \"iffy\", \"riot\", \"sex\", \"salesman\", \"hollander\", \"dislike\", \"silent\", \"anne\", \"appearance\", \"almost\", \"least\", \"boring\", \"score\", \"bit\", \"awesome\", \"pointless\", \"earlier\", \"excellent\", \"funny\", \"fx\", \"perfectly\", \"relationship\", \"rank\", \"ever\", \"performance\", \"word\", \"fan\", \"bad\", \"time\", \"game\", \"see\", \"script\", \"play\", \"show\", \"write\", \"watch\", \"make\", \"minute\", \"one\", \"say\", \"character\", \"scene\", \"work\", \"way\", \"go\", \"little\", \"acting\", \"look\", \"journey\", \"smart\", \"seriously\", \"graphic\", \"enjoy\", \"reaction\", \"wall\", \"betty\", \"jean\", \"poorly\", \"son\", \"pitiful\", \"superbly\", \"truly\", \"disappointment\", \"lovely\", \"believe\", \"rating\", \"confirm\", \"trailer\", \"generic\", \"random\", \"foreign\", \"spy\", \"kidnap\", \"nasty\", \"exaggerate\", \"classical\", \"shenanigan\", \"ton\", \"do\", \"child\", \"martin\", \"ready\", \"billy\", \"man\", \"describe\", \"sense\", \"thoroughly\", \"type\", \"member\", \"rate\", \"care\", \"begin\", \"every\", \"part\", \"say\", \"also\", \"attempt\", \"well\", \"saw\", \"time\", \"character\", \"lot\", \"better\", \"actor\", \"take\", \"bore\", \"would\", \"play\", \"find\", \"good\", \"great\", \"make\", \"story\", \"act\", \"even\", \"one\", \"love\", \"like\", \"pay\", \"enjoyable\", \"brian\", \"sublime\", \"achievement\", \"astronaut\", \"mad\", \"genius\", \"carry\", \"perhaps\", \"visual\", \"problem\", \"teddy\", \"keith\", \"faultless\", \"middle\", \"sheer\", \"vivid\", \"celebrity\", \"melodrama\", \"class\", \"reconciliation\", \"jutland\", \"fascination\", \"outside\", \"interpretation\", \"truth\", \"tedium\", \"fame\", \"upper\", \"result\", \"drive\", \"beginning\", \"delight\", \"review\", \"effect\", \"beautiful\", \"simply\", \"garbage\", \"script\", \"perfect\", \"unbelievable\", \"utterly\", \"game\", \"convince\", \"play\", \"role\", \"u\", \"good\", \"make\", \"get\", \"especially\", \"never\", \"understand\", \"cast\", \"would\", \"work\", \"one\", \"well\", \"right\", \"music\", \"character\", \"see\", \"performance\", \"think\", \"bad\", \"give\", \"look\"], \"Freq\": [14.0, 31.0, 52.0, 16.0, 50.0, 12.0, 15.0, 10.0, 35.0, 46.0, 12.0, 24.0, 42.0, 19.0, 12.0, 21.0, 30.0, 22.0, 14.0, 7.0, 15.0, 9.0, 15.0, 18.0, 8.0, 19.0, 21.0, 14.0, 13.0, 10.0, 5.535778601075175, 3.244359981880977, 6.37121150870726, 2.4646081703533733, 2.464597401673866, 2.4585249589064935, 4.019406504735176, 2.8996342620365416, 1.6803439699765819, 1.6803420971627545, 1.6803420971627545, 1.680340068281108, 1.680334761975264, 1.680334293771807, 1.6803308602797904, 1.6803282071268684, 1.6803258661095841, 1.6803196233968263, 1.6803205598037398, 1.6803189991255505, 1.6803168141760851, 1.6803063576322157, 1.6802629707785488, 1.6792165360525155, 1.677667094746019, 1.6751241257041118, 1.6746044198670216, 1.6742282964233615, 1.670578494409489, 1.6677823833652514, 6.346065861718671, 6.271158302794769, 3.2488444345905734, 3.232862465659221, 3.2440843661127183, 11.407034343044042, 8.691815746451285, 23.295958666376556, 3.865952821756463, 4.033644259721988, 5.551396619852746, 4.018612743808017, 3.2445753554711225, 3.234329191021676, 2.4586204724116887, 2.4646048929291755, 15.362884101327264, 3.616915090928598, 3.863314651344999, 15.791797172610133, 8.322295220075251, 7.821567229768713, 7.938906507307671, 8.657048206289033, 10.579206932364837, 9.524106072481072, 7.012202642070827, 6.388617440418676, 4.810985603785969, 5.601642342026791, 5.602589985823432, 7.23038670149997, 5.6041787562203025, 5.161338817045962, 4.817722427258595, 6.388164219472456, 4.7274631012562445, 5.8786252643795, 4.908383159691275, 4.79831726678648, 12.553877276992505, 3.086901300074925, 10.371173280478997, 1.6224503384201017, 1.622449284845089, 1.6224429633950135, 1.622437563823074, 1.6224308472823685, 1.622409907478993, 1.6223133736684632, 1.6220131047898707, 1.6218973432353607, 1.6217540570336466, 1.6216149851319828, 1.620905270664117, 1.61571865257394, 1.6066673896406523, 3.7264658462703193, 1.5891764640688937, 1.5535579902240102, 5.163732860540543, 8.15855670899512, 1.4341280192170447, 2.379554478656095, 19.071073161363156, 2.181693881470174, 3.108627070409849, 0.8652066653433765, 0.8652060068589936, 0.8652050191324193, 1.6224574500514368, 2.3796927603764995, 2.320201330321004, 11.86179017266249, 12.078217658901792, 19.469497302429836, 15.281373323198816, 7.614276696758443, 13.554631306340362, 4.631078521780456, 6.8197178331274735, 6.902817508671664, 3.1391438706499466, 3.111258637397582, 3.1293688016829995, 7.6226631538587775, 5.850019507638663, 8.420011884123126, 3.8892157927674327, 4.458962293421285, 2.340576154096015, 7.470726574503534, 5.239404832245871, 5.414152890986527, 7.087971727811818, 3.5734456650146114, 5.663612061021015, 4.20517029614746, 3.8899590899388254, 4.209917968548011, 4.7517866109745865, 3.8952272283956026, 3.8490843303560567, 3.768616449094766, 3.0442055097383305, 2.3196480381327196, 2.299085088930935, 1.5815879639688868, 1.5815842760767096, 1.5815803423250538, 1.58157776080053, 1.5815703850161753, 1.58156153407495, 1.5797590153084604, 1.5787083348271684, 1.5778291413321175, 5.267285107772436, 1.567837043337398, 1.5678334783749601, 1.555492193063347, 1.5491412739449437, 10.414504247509313, 2.3197382685613226, 2.3197387602802797, 2.2993547967788297, 2.306041928734057, 2.3196937679957172, 4.961312003363886, 3.0442035428625025, 3.0562349223014893, 3.779130383832563, 0.8434139954016473, 0.8434119055960801, 1.5815473971549374, 2.3197515449731605, 2.3000267307335203, 4.5290630122122835, 3.0628178098378402, 7.493389760829782, 5.994081621648581, 5.543080436354212, 4.514541076256275, 4.748352456854581, 4.774340787168025, 5.258562505194858, 3.0583357915451166, 6.6735993578126696, 2.2990995946401656, 2.3060360281065733, 6.6292217219467, 5.28654770619253, 6.995166837222365, 4.1899495252612535, 4.524378405709291, 4.416848320762564, 4.520478090942655, 3.7960538751743815, 5.8732603732951265, 5.2741283604964995, 4.733025085247067, 3.2577162731983913, 3.2941735459650694, 3.1044287889924544, 3.1700715487307534, 3.066379821962085, 3.0192160720283394, 2.2910866411188238, 2.290583045122037, 2.28769471367235, 3.72715292062254, 1.562059688714356, 1.5620587776406396, 1.5620570693774212, 1.562054563924701, 1.5620522862404098, 1.5620509196298349, 1.5620455670717506, 1.5620419227768847, 1.5620403283978808, 1.5620399867452373, 1.5620399867452373, 1.5620360007977276, 1.562035089724011, 1.5620270039447772, 1.555676478488233, 1.553521333611888, 1.5520727264026768, 1.5484772878647834, 1.5484808182754348, 8.02205964914703, 2.2924102034604474, 2.2910718361709312, 1.3646620158163507, 2.2910725194762183, 2.2775583352711677, 2.2775230311646535, 2.9141089138839034, 7.362647725534966, 2.271963659346662, 7.755881263212492, 3.749151023275499, 5.203635341263246, 2.992258084062836, 3.826666769453046, 10.29426018765998, 11.58346776158233, 3.7437964152752876, 3.736117658224323, 3.0201307900396905, 5.169116580293063, 6.2608156719766415, 3.749291784164696, 4.316861327407487, 2.29106955848664, 3.735756417495737, 5.590598414087065, 7.262878776063844, 6.019487732732949, 3.74915603418094, 5.201147198943526, 3.626210508204586, 6.024267225449629, 4.4783523324124594, 3.749018917586609, 3.7483481395628466, 5.244269229018477, 3.6325634252296357, 4.58424369725836, 4.235837264116186, 3.749285862185539, 3.726242074674484, 2.255735770491183, 1.5379622814324445, 1.5379588133679805, 1.5379584882369368, 1.5379579463518644, 1.5379555620575451, 1.5335667264781132, 2.973539496736968, 2.902579646489214, 10.995879003788039, 2.2519115791573268, 2.942056190777026, 0.8201625109476888, 0.8201626193247032, 0.8201620774396308, 0.8201617523085872, 0.8201613188005292, 0.8201615897430654, 0.8201613188005292, 0.8201613188005292, 0.8201611562350074, 0.8201607227269494, 0.8201607227269494, 0.8201606143499349, 0.8201604517844131, 0.8201603975959059, 0.8201598557108334, 0.8201600182763551, 0.8201594222027754, 0.8201595305797899, 2.0049387871907904, 2.255758529664229, 1.537967917037199, 1.5379575128438063, 3.68919432353913, 3.681367335551512, 2.960203054839927, 1.5071155820557103, 2.2557459579305466, 1.5378440421096187, 1.5379566458276903, 1.5379579463518644, 5.730187108899635, 6.459290439431838, 1.5346399840527656, 1.5379682421682423, 1.5379451578641528, 1.5378922698810737, 8.808688660415447, 5.6054234898004145, 2.9733296788368846, 2.9735312600838655, 14.920157811064492, 10.22485631106106, 3.610885427937729, 11.48435848461749, 5.591035357354608, 5.6458710921382, 4.407583935925334, 3.68699427014466, 5.85052547774255, 6.58208593194763, 2.9790701925412346, 6.882697759703584, 3.5639345544675014, 4.796663487114416, 3.803069520744969, 3.694650022449358, 3.465751698700033, 3.0665933019159293, 2.98712802356975, 2.9800666108126017, 2.976156584883257, 2.2525122850228168, 2.239241015828076, 2.230664359561946, 2.1893576524521494, 7.423082437989146, 1.5357579988291064, 1.5357561066877559, 1.5357517968102352, 1.5355626877941455, 1.5351279157593776, 1.5333673833516666, 1.5272293819294873, 1.522708635767198, 5.0496143864194485, 1.4219633565802252, 2.202453583215074, 4.175796179810697, 2.9426773600070653, 0.8189927802631487, 0.8189925700252209, 0.8189918341924733, 0.8189916765140275, 0.818991045800244, 0.8189907830028342, 0.8189904676459424, 0.8189903099674966, 0.8189902048485327, 0.8189894164563033, 0.8189889959804476, 0.8189886806235558, 3.6558227019315175, 3.597600671623773, 1.5357613626359519, 1.5351290720679807, 1.5259986490999267, 5.058254324301857, 1.5357512712154158, 1.5357772355995036, 1.5357463306241115, 1.5304253137895087, 1.5328495673354028, 1.52239832458571, 2.2353232320428242, 2.1965770126561606, 6.523082461275083, 5.056600172285632, 6.122196996191876, 7.508807373540734, 2.9608988914506673, 8.439026109050445, 3.845373217669789, 9.768829777821761, 11.076031187447125, 3.685464567853179, 4.4006422798260365, 5.65479813740287, 3.6786196413986465, 2.96919530055899, 4.407934592591007, 4.457069298705904, 3.741788570148407, 5.767105977026085, 4.999129111856123, 5.572526990529796, 4.397948711494583, 3.6918209013634176, 3.690527938107217, 3.7772464581057648, 3.3420337646411102, 2.989600363121112, 2.0143681179197643, 2.0122250494531846, 1.3739077860387863, 1.373904130671954, 1.373122905672504, 1.3732604936800807, 1.3730465816130406, 1.3620279900477141, 1.36037985825026, 2.015026083949621, 1.9542883624455119, 2.6437025366652125, 0.7326980308498018, 0.7326979577424652, 0.7326964224883955, 0.7326956183076924, 0.7326958376297023, 0.7326955452003556, 0.7326955452003556, 0.732695472093019, 0.7326950334489991, 0.7326947410196525, 0.7326951796636724, 0.7326946679123159, 0.7326943754829692, 0.7326946679123159, 0.7326943754829692, 0.7326937906242761, 0.7326938637316127, 0.7326938637316127, 1.3738985745143684, 1.3739004753051214, 1.3735344999778476, 1.3617112890653431, 1.3700629249896505, 3.1753385039307096, 3.39762808689226, 2.6289997739767084, 2.0164955414163006, 4.796802499550909, 2.014607471339959, 1.3739060314627067, 1.3738985745143684, 2.6514913923119825, 1.385938183143359, 4.576490908689781, 2.012557102976252, 1.3697321873986426, 7.131837087996294, 7.136456886813927, 3.985035009424488, 1.9587550745001987, 2.670438182107735, 2.026505251735847, 2.6444529103685954, 2.655297945116713, 2.65456219288066, 3.2970019790087934, 2.647046758672964, 2.0135216811760217, 2.0144574550851515, 2.6566071513014546, 2.653562084515278, 2.023435328455209, 2.071978015132608, 2.140565125158234, 2.015127556932892, 2.015057227675034], \"Total\": [14.0, 31.0, 52.0, 16.0, 50.0, 12.0, 15.0, 10.0, 35.0, 46.0, 12.0, 24.0, 42.0, 19.0, 12.0, 21.0, 30.0, 22.0, 14.0, 7.0, 15.0, 9.0, 15.0, 18.0, 8.0, 19.0, 21.0, 14.0, 13.0, 10.0, 6.212536768809842, 3.8627916778416806, 7.726344952791764, 3.078928055045789, 3.0789230175908693, 3.078474019206382, 5.286006408840424, 3.8337515532445554, 2.294661133297527, 2.294660392230223, 2.294661262548768, 2.2946597808337876, 2.294656530590068, 2.294656050006058, 2.2946547475105614, 2.2946529423814392, 2.2946515437476864, 2.294647625393751, 2.294649536466677, 2.29464798654227, 2.294647856023082, 2.294641263221219, 2.294616315963176, 2.2946206071122197, 2.294427440495705, 2.294291791373588, 2.294155658416372, 2.294128298524595, 2.2938130608282967, 2.2935861271617544, 9.170877294350188, 9.162522964993347, 4.5920308397367755, 4.600058700776025, 4.618944987719874, 19.789087611330796, 15.21231382625574, 50.227591977866474, 6.080001940348316, 6.668150544442261, 9.846508526976406, 6.879244392092146, 5.337417592175691, 5.335746348766162, 3.7950081959708353, 3.8168804514434482, 46.1303237114105, 6.807145742640257, 7.5928443426071235, 60.33577027417171, 24.053853715560646, 22.200237040276576, 24.454334953437286, 30.46535803729055, 45.04385442728989, 44.116312227162126, 26.323960487791737, 22.72175400890106, 12.799107947989613, 19.1614180144927, 19.563626962087966, 42.73979790164964, 22.14638677349962, 17.73659314471773, 14.782545271804056, 35.870790678917714, 14.9952469540051, 52.93717762833014, 19.968786900055385, 18.17579557213321, 14.306742293605776, 3.753450086303103, 12.885312849353031, 2.2406332049591238, 2.240636571407022, 2.240630058850905, 2.2406274700485027, 2.2406229919560965, 2.240611700655279, 2.24063042636263, 2.240617152292096, 2.2404757672455697, 2.2406134938247955, 2.2406110799995633, 2.2403892221089303, 2.240255007618465, 2.2391119308291394, 5.235925344023425, 2.2417000860877807, 2.238802128320242, 7.453066266529761, 12.033994137737956, 2.2329594723402417, 3.7154858380469404, 31.41676985774118, 3.633773880817217, 5.189385804749529, 1.4833820323762779, 1.483381463846436, 1.483380808228218, 2.882116669527513, 4.378099369306893, 4.276934310102435, 24.76150867100395, 30.98485652981718, 60.33577027417171, 46.1303237114105, 19.563626962087966, 52.93717762833014, 11.08377084872913, 19.968786900055385, 21.988809166840618, 6.703215443153677, 6.710431973355821, 6.8234449261864025, 34.60634092130455, 22.72175400890106, 44.116312227162126, 11.217609777595564, 14.59178409516466, 4.432252056186107, 42.73979790164964, 22.02494968545684, 24.053853715560646, 50.227591977866474, 11.152785876796097, 45.04385442728989, 18.925495073242647, 15.21231382625574, 21.41728947085892, 35.870790678917714, 16.35701130192047, 21.359520332863458, 4.414688314520916, 3.6796347733928165, 2.9406381159059087, 2.941881031884254, 2.2024907851788504, 2.202488078214729, 2.2024858725819767, 2.2024834839988565, 2.202480864883891, 2.202476094080869, 2.2025299033094616, 2.202405099012838, 2.2019917619212053, 7.394822604875021, 2.2032473449663312, 2.203245218032497, 2.2040597355255254, 2.2019772180029418, 15.625666410693604, 3.6576266960861625, 3.6694905889047793, 3.6579141564423967, 3.698503134568669, 3.7246378469486885, 8.036943933077898, 5.113001415570597, 5.153175878704864, 6.456538281706569, 1.4643145169292962, 1.46431286524812, 2.8435816346140754, 4.3747976362654155, 4.376042010132356, 10.29981041220954, 6.624631135333372, 30.98485652981718, 22.200237040276576, 19.560674480653123, 13.660862994177041, 14.9952469540051, 15.15755186012686, 19.1614180144927, 7.2549285644797, 30.46535803729055, 4.399798870926491, 4.440461016316322, 34.60634092130455, 23.40221595848722, 46.1303237114105, 16.257880895045705, 19.563626962087966, 18.460789291532347, 21.359520332863458, 14.077681667631365, 60.33577027417171, 45.04385442728989, 52.93717762833014, 22.72175400890106, 42.73979790164964, 11.342045779976019, 35.870790678917714, 15.365039683654377, 3.642328809821287, 2.9133035147979185, 2.9133020693480454, 2.9128924922475785, 5.110424665695803, 2.184268060102519, 2.1842671765385755, 2.184265638042058, 2.1842641406697583, 2.1842639885331345, 2.184263070917453, 2.184261127650874, 2.184258496769096, 2.184257203828912, 2.1842567540194584, 2.1842575226258103, 2.184256476568527, 2.1842558996235057, 2.1842519585386424, 2.183496391878916, 2.1849004241701206, 2.1850087552598487, 2.1843867342349346, 2.18520431643374, 12.325105928884417, 3.6298923962362704, 3.629854098767207, 2.1860284912153913, 3.670325074289748, 3.6978181730162087, 3.6977903622685298, 5.120759947178945, 18.460789291532347, 3.6976300915216003, 21.359520332863458, 7.943247134938259, 14.0066791006075, 5.992925972401206, 8.829477774773164, 42.73979790164964, 52.93717762833014, 8.921409394102469, 9.4505661754447, 6.612162375978509, 16.6642086597377, 23.40221595848722, 9.961576144604013, 13.297007392056086, 4.292343922210403, 10.29981041220954, 21.41728947085892, 34.60634092130455, 30.46535803729055, 10.998871654010754, 24.053853715560646, 11.638152860812202, 44.116312227162126, 21.988809166840618, 13.660862994177041, 16.35701130192047, 60.33577027417171, 14.782545271804056, 46.1303237114105, 45.04385442728989, 19.560674480653123, 22.14638677349962, 2.879564470879392, 2.1617791181253567, 2.161776894711111, 2.1617770532276888, 2.1617772393214074, 2.1617751205436737, 2.1620049836659376, 4.313948226309425, 4.338843907669661, 16.675279046112234, 3.636180584415622, 5.16858747692661, 1.4439726584570978, 1.4439729339996583, 1.4439724905685831, 1.4439723122023302, 1.4439717849762272, 1.4439723053335853, 1.4439719506942859, 1.4439719709743777, 1.4439717030190686, 1.4439712262350641, 1.4439713913458267, 1.4439712922695316, 1.4439713590329788, 1.4439714861528827, 1.4439708310253887, 1.443971161431325, 1.4439702369981124, 1.443970664466085, 3.595872034825021, 4.162362761779952, 2.802862411149563, 2.802868390555855, 7.151877481067888, 7.301881285179192, 5.846721639843853, 2.8058103938851224, 4.393820820873378, 2.8905530578285012, 2.8996974819217463, 2.8997371576105846, 12.54750322857706, 14.585916085713922, 2.9189950168020418, 2.945795443213268, 2.9457828009209477, 2.945774998816395, 22.02494968545684, 13.600368431556412, 6.559143680967029, 6.578590344245697, 52.93717762833014, 35.870790678917714, 9.235189545276263, 50.227591977866474, 19.145914183405367, 21.27725206816879, 17.73659314471773, 12.57529834642236, 34.60634092130455, 45.04385442728989, 9.289681592231332, 60.33577027417171, 14.469153173663067, 44.116312227162126, 24.053853715560646, 21.988809166840618, 19.1614180144927, 21.41728947085892, 13.297007392056086, 19.968786900055385, 22.200237040276576, 2.876487410422729, 2.8764904056790903, 2.877624854258273, 2.8799293123983265, 10.149022524907819, 2.159724258674354, 2.159722763631582, 2.159722161634923, 2.1597414434840116, 2.1597356367679685, 2.159955458100169, 2.160204163517197, 2.1597307231216316, 7.313083418325797, 2.1476356595799015, 3.6335038832453397, 7.160397000415601, 5.051354990630878, 1.4429499923342246, 1.4429499543871076, 1.442949285891633, 1.442949325677813, 1.442949095057326, 1.4429486429585603, 1.4429484081533341, 1.442948394896283, 1.4429484329752085, 1.4429478469340644, 1.4429475361584316, 1.4429471120828992, 6.623169031742786, 6.5819851837006755, 2.800819682510148, 2.8008278429253615, 2.8025658153051918, 10.245459521135212, 2.877341049398605, 2.897678662290452, 2.8976771709171616, 2.8888752368180732, 2.897958197482444, 2.8780074368191753, 4.446201375369897, 4.379253817663603, 15.365039683654377, 11.525672212876183, 14.469153173663067, 18.925495073242647, 6.466727773621288, 26.323960487791737, 9.531213473837397, 35.870790678917714, 44.116312227162126, 9.4505661754447, 14.077681667631365, 22.14638677349962, 10.339417251576876, 7.318672212950894, 18.17579557213321, 21.27725206816879, 14.59178409516466, 42.73979790164964, 30.98485652981718, 45.04385442728989, 24.454334953437286, 16.6642086597377, 30.46535803729055, 60.33577027417171, 24.76150867100395, 46.1303237114105, 2.6499542007702104, 2.650455515033136, 2.0086672485677477, 2.0086678575017998, 2.0085748025901693, 2.008817381874112, 2.0088537365874717, 2.0102790712039034, 2.010284350512136, 3.3787534652283835, 3.3973358074523414, 4.759762277109923, 1.3674478734318094, 1.3674478295510724, 1.3674469840784065, 1.3674462352370962, 1.3674466663958862, 1.367446223088156, 1.3674464232284071, 1.3674466412240314, 1.3674461337001027, 1.3674457985839892, 1.3674466530211777, 1.367445824454932, 1.3674455567745438, 1.3674461529544575, 1.3674457041684438, 1.3674453568760065, 1.367445512619146, 1.3674457441228152, 2.7252376157239526, 2.726273299812849, 2.7376563620342633, 2.726889287049274, 2.7661504153421417, 7.612213252196752, 8.353146874613502, 7.6633170657999425, 5.637121239875256, 19.145914183405367, 5.694424535070654, 3.442852984409588, 3.4444574312814478, 9.235189545276263, 3.518813709296701, 21.27725206816879, 6.257217547988661, 3.5041539993123587, 42.73979790164964, 45.04385442728989, 22.72175400890106, 6.441634951213839, 13.660862994177041, 7.206107083758468, 15.15755186012686, 18.17579557213321, 21.988809166840618, 60.33577027417171, 26.323960487791737, 9.961576144604013, 10.90984502814313, 44.116312227162126, 50.227591977866474, 13.600368431556412, 23.40221595848722, 52.93717762833014, 19.560674480653123, 22.200237040276576], \"Category\": [\"Default\", \"Default\", \"Default\", \"Default\", \"Default\", \"Default\", \"Default\", \"Default\", \"Default\", \"Default\", \"Default\", \"Default\", \"Default\", \"Default\", \"Default\", \"Default\", \"Default\", \"Default\", \"Default\", \"Default\", \"Default\", \"Default\", \"Default\", \"Default\", \"Default\", \"Default\", \"Default\", \"Default\", \"Default\", \"Default\", \"Topic1\", \"Topic1\", \"Topic1\", \"Topic1\", \"Topic1\", \"Topic1\", \"Topic1\", \"Topic1\", \"Topic1\", \"Topic1\", \"Topic1\", \"Topic1\", \"Topic1\", \"Topic1\", \"Topic1\", \"Topic1\", \"Topic1\", \"Topic1\", \"Topic1\", \"Topic1\", \"Topic1\", \"Topic1\", \"Topic1\", \"Topic1\", \"Topic1\", \"Topic1\", \"Topic1\", \"Topic1\", \"Topic1\", \"Topic1\", \"Topic1\", \"Topic1\", \"Topic1\", \"Topic1\", \"Topic1\", \"Topic1\", \"Topic1\", \"Topic1\", \"Topic1\", \"Topic1\", \"Topic1\", \"Topic1\", \"Topic1\", \"Topic1\", \"Topic1\", \"Topic1\", \"Topic1\", \"Topic1\", \"Topic1\", \"Topic1\", \"Topic1\", \"Topic1\", \"Topic1\", \"Topic1\", \"Topic1\", \"Topic1\", \"Topic1\", \"Topic1\", \"Topic1\", \"Topic1\", \"Topic1\", \"Topic1\", \"Topic1\", \"Topic1\", \"Topic1\", \"Topic1\", \"Topic1\", \"Topic1\", \"Topic1\", \"Topic1\", \"Topic2\", \"Topic2\", \"Topic2\", \"Topic2\", \"Topic2\", \"Topic2\", \"Topic2\", \"Topic2\", \"Topic2\", \"Topic2\", \"Topic2\", \"Topic2\", \"Topic2\", \"Topic2\", \"Topic2\", \"Topic2\", \"Topic2\", \"Topic2\", \"Topic2\", \"Topic2\", \"Topic2\", \"Topic2\", \"Topic2\", \"Topic2\", \"Topic2\", \"Topic2\", \"Topic2\", \"Topic2\", \"Topic2\", \"Topic2\", \"Topic2\", \"Topic2\", \"Topic2\", \"Topic2\", \"Topic2\", \"Topic2\", \"Topic2\", \"Topic2\", \"Topic2\", \"Topic2\", \"Topic2\", \"Topic2\", \"Topic2\", \"Topic2\", \"Topic2\", \"Topic2\", \"Topic2\", \"Topic2\", \"Topic2\", \"Topic2\", \"Topic2\", \"Topic2\", \"Topic2\", \"Topic2\", \"Topic2\", \"Topic2\", \"Topic2\", \"Topic2\", \"Topic2\", \"Topic2\", \"Topic2\", \"Topic2\", \"Topic2\", \"Topic3\", \"Topic3\", \"Topic3\", \"Topic3\", \"Topic3\", \"Topic3\", \"Topic3\", \"Topic3\", \"Topic3\", \"Topic3\", \"Topic3\", \"Topic3\", \"Topic3\", \"Topic3\", \"Topic3\", \"Topic3\", \"Topic3\", \"Topic3\", \"Topic3\", \"Topic3\", \"Topic3\", \"Topic3\", \"Topic3\", \"Topic3\", \"Topic3\", \"Topic3\", \"Topic3\", \"Topic3\", \"Topic3\", \"Topic3\", \"Topic3\", \"Topic3\", \"Topic3\", \"Topic3\", \"Topic3\", \"Topic3\", \"Topic3\", \"Topic3\", \"Topic3\", \"Topic3\", \"Topic3\", \"Topic3\", \"Topic3\", \"Topic3\", \"Topic3\", \"Topic3\", \"Topic3\", \"Topic3\", \"Topic3\", \"Topic3\", \"Topic3\", \"Topic3\", \"Topic3\", \"Topic3\", \"Topic3\", \"Topic3\", \"Topic3\", \"Topic3\", \"Topic3\", \"Topic3\", \"Topic3\", \"Topic3\", \"Topic4\", \"Topic4\", \"Topic4\", \"Topic4\", \"Topic4\", \"Topic4\", \"Topic4\", \"Topic4\", \"Topic4\", \"Topic4\", \"Topic4\", \"Topic4\", \"Topic4\", \"Topic4\", \"Topic4\", \"Topic4\", \"Topic4\", \"Topic4\", \"Topic4\", \"Topic4\", \"Topic4\", \"Topic4\", \"Topic4\", \"Topic4\", \"Topic4\", \"Topic4\", \"Topic4\", \"Topic4\", \"Topic4\", \"Topic4\", \"Topic4\", \"Topic4\", \"Topic4\", \"Topic4\", \"Topic4\", \"Topic4\", \"Topic4\", \"Topic4\", \"Topic4\", \"Topic4\", \"Topic4\", \"Topic4\", \"Topic4\", \"Topic4\", \"Topic4\", \"Topic4\", \"Topic4\", \"Topic4\", \"Topic4\", \"Topic4\", \"Topic4\", \"Topic4\", \"Topic4\", \"Topic4\", \"Topic4\", \"Topic4\", \"Topic4\", \"Topic4\", \"Topic4\", \"Topic4\", \"Topic4\", \"Topic4\", \"Topic4\", \"Topic4\", \"Topic4\", \"Topic4\", \"Topic5\", \"Topic5\", \"Topic5\", \"Topic5\", \"Topic5\", \"Topic5\", \"Topic5\", \"Topic5\", \"Topic5\", \"Topic5\", \"Topic5\", \"Topic5\", \"Topic5\", \"Topic5\", \"Topic5\", \"Topic5\", \"Topic5\", \"Topic5\", \"Topic5\", \"Topic5\", \"Topic5\", \"Topic5\", \"Topic5\", \"Topic5\", \"Topic5\", \"Topic5\", \"Topic5\", \"Topic5\", \"Topic5\", \"Topic5\", \"Topic5\", \"Topic5\", \"Topic5\", \"Topic5\", \"Topic5\", \"Topic5\", \"Topic5\", \"Topic5\", \"Topic5\", \"Topic5\", \"Topic5\", \"Topic5\", \"Topic5\", \"Topic5\", \"Topic5\", \"Topic5\", \"Topic5\", \"Topic5\", \"Topic5\", \"Topic5\", \"Topic5\", \"Topic5\", \"Topic5\", \"Topic5\", \"Topic5\", \"Topic5\", \"Topic5\", \"Topic5\", \"Topic5\", \"Topic5\", \"Topic5\", \"Topic5\", \"Topic5\", \"Topic5\", \"Topic5\", \"Topic5\", \"Topic5\", \"Topic5\", \"Topic5\", \"Topic5\", \"Topic5\", \"Topic5\", \"Topic5\", \"Topic6\", \"Topic6\", \"Topic6\", \"Topic6\", \"Topic6\", \"Topic6\", \"Topic6\", \"Topic6\", \"Topic6\", \"Topic6\", \"Topic6\", \"Topic6\", \"Topic6\", \"Topic6\", \"Topic6\", \"Topic6\", \"Topic6\", \"Topic6\", \"Topic6\", \"Topic6\", \"Topic6\", \"Topic6\", \"Topic6\", \"Topic6\", \"Topic6\", \"Topic6\", \"Topic6\", \"Topic6\", \"Topic6\", \"Topic6\", \"Topic6\", \"Topic6\", \"Topic6\", \"Topic6\", \"Topic6\", \"Topic6\", \"Topic6\", \"Topic6\", \"Topic6\", \"Topic6\", \"Topic6\", \"Topic6\", \"Topic6\", \"Topic6\", \"Topic6\", \"Topic6\", \"Topic6\", \"Topic6\", \"Topic6\", \"Topic6\", \"Topic6\", \"Topic6\", \"Topic6\", \"Topic6\", \"Topic6\", \"Topic6\", \"Topic6\", \"Topic6\", \"Topic6\", \"Topic6\", \"Topic6\", \"Topic6\", \"Topic6\", \"Topic6\", \"Topic6\", \"Topic6\", \"Topic6\", \"Topic6\", \"Topic6\", \"Topic6\", \"Topic7\", \"Topic7\", \"Topic7\", \"Topic7\", \"Topic7\", \"Topic7\", \"Topic7\", \"Topic7\", \"Topic7\", \"Topic7\", \"Topic7\", \"Topic7\", \"Topic7\", \"Topic7\", \"Topic7\", \"Topic7\", \"Topic7\", \"Topic7\", \"Topic7\", \"Topic7\", \"Topic7\", \"Topic7\", \"Topic7\", \"Topic7\", \"Topic7\", \"Topic7\", \"Topic7\", \"Topic7\", \"Topic7\", \"Topic7\", \"Topic7\", \"Topic7\", \"Topic7\", \"Topic7\", \"Topic7\", \"Topic7\", \"Topic7\", \"Topic7\", \"Topic7\", \"Topic7\", \"Topic7\", \"Topic7\", \"Topic7\", \"Topic7\", \"Topic7\", \"Topic7\", \"Topic7\", \"Topic7\", \"Topic7\", \"Topic7\", \"Topic7\", \"Topic7\", \"Topic7\", \"Topic7\", \"Topic7\", \"Topic7\", \"Topic7\", \"Topic7\", \"Topic7\", \"Topic7\", \"Topic7\", \"Topic7\", \"Topic7\", \"Topic7\", \"Topic7\", \"Topic7\", \"Topic7\", \"Topic7\"], \"logprob\": [30.0, 29.0, 28.0, 27.0, 26.0, 25.0, 24.0, 23.0, 22.0, 21.0, 20.0, 19.0, 18.0, 17.0, 16.0, 15.0, 14.0, 13.0, 12.0, 11.0, 10.0, 9.0, 8.0, 7.0, 6.0, 5.0, 4.0, 3.0, 2.0, 1.0, -5.4896, -6.024, -5.3491, -6.2988, -6.2989, -6.3013, -5.8097, -6.1363, -6.6819, -6.6819, -6.6819, -6.6819, -6.6819, -6.6819, -6.6819, -6.6819, -6.6819, -6.6819, -6.6819, -6.6819, -6.6819, -6.6819, -6.6819, -6.6826, -6.6835, -6.685, -6.6853, -6.6855, -6.6877, -6.6894, -5.353, -5.3649, -6.0226, -6.0275, -6.024, -4.7667, -5.0385, -4.0526, -5.8487, -5.8062, -5.4868, -5.8099, -6.0239, -6.0271, -6.3013, -6.2989, -4.4689, -5.9153, -5.8494, -4.4414, -5.0819, -5.144, -5.1291, -5.0425, -4.842, -4.9471, -5.2532, -5.3464, -5.63, -5.4778, -5.4777, -5.2226, -5.4774, -5.5597, -5.6286, -5.3464, -5.6475, -5.4296, -5.6099, -5.6326, -4.5011, -5.9039, -4.6921, -6.5472, -6.5472, -6.5472, -6.5472, -6.5472, -6.5472, -6.5472, -6.5474, -6.5475, -6.5476, -6.5477, -6.5481, -6.5513, -6.5569, -5.7156, -6.5679, -6.5905, -5.3894, -4.932, -6.6705, -6.1642, -4.0829, -6.251, -5.8969, -7.1759, -7.1759, -7.1759, -6.5472, -6.1641, -6.1894, -4.5578, -4.5397, -4.0622, -4.3045, -5.0011, -4.4244, -5.4983, -5.1113, -5.0992, -5.8871, -5.8961, -5.8903, -5.0, -5.2646, -4.9005, -5.6729, -5.5362, -6.1807, -5.0201, -5.3749, -5.3421, -5.0727, -5.7576, -5.297, -5.5948, -5.6727, -5.5937, -5.4726, -5.6713, -5.6833, -5.6355, -5.849, -6.1208, -6.1297, -6.5038, -6.5038, -6.5038, -6.5038, -6.5038, -6.5038, -6.5049, -6.5056, -6.5062, -5.3007, -6.5125, -6.5125, -6.5204, -6.5245, -4.619, -6.1207, -6.1207, -6.1296, -6.1267, -6.1208, -5.3605, -5.849, -5.845, -5.6327, -7.1325, -7.1325, -6.5038, -6.1207, -6.1293, -5.4517, -5.8429, -4.9482, -5.1714, -5.2497, -5.4549, -5.4044, -5.3989, -5.3023, -5.8443, -5.064, -6.1297, -6.1267, -5.0707, -5.297, -5.017, -5.5295, -5.4527, -5.4768, -5.4536, -5.6282, -5.1918, -5.2994, -5.4076, -5.7812, -5.77, -5.8294, -5.8084, -5.8417, -5.7808, -6.0567, -6.057, -6.0582, -5.5701, -6.4398, -6.4398, -6.4398, -6.4398, -6.4398, -6.4398, -6.4398, -6.4398, -6.4398, -6.4398, -6.4398, -6.4398, -6.4398, -6.4398, -6.4439, -6.4452, -6.4462, -6.4485, -6.4485, -4.8036, -6.0562, -6.0568, -6.5749, -6.0568, -6.0627, -6.0627, -5.8162, -4.8894, -6.0651, -4.8373, -5.5642, -5.2364, -5.7897, -5.5438, -4.5542, -4.4362, -5.5657, -5.5677, -5.7805, -5.2431, -5.0515, -5.5642, -5.4232, -6.0568, -5.5678, -5.1647, -4.903, -5.0908, -5.5642, -5.2369, -5.5976, -5.09, -5.3865, -5.5643, -5.5645, -5.2286, -5.5958, -5.3631, -5.4422, -5.5642, -5.5704, -6.0227, -6.4057, -6.4058, -6.4058, -6.4058, -6.4058, -6.4086, -5.7465, -5.7706, -4.4387, -6.0244, -5.7571, -7.0345, -7.0345, -7.0345, -7.0345, -7.0345, -7.0345, -7.0345, -7.0345, -7.0345, -7.0345, -7.0345, -7.0345, -7.0345, -7.0345, -7.0345, -7.0345, -7.0345, -7.0345, -6.1406, -6.0227, -6.4057, -6.4058, -5.5308, -5.5329, -5.7509, -6.426, -6.0227, -6.4058, -6.4058, -6.4058, -5.0905, -4.9707, -6.4079, -6.4057, -6.4058, -6.4058, -4.6605, -5.1125, -5.7465, -5.7465, -4.1335, -4.5114, -5.5523, -4.3952, -5.115, -5.1053, -5.3529, -5.5314, -5.0697, -4.9519, -5.7446, -4.9072, -5.5653, -5.2683, -5.5004, -5.5293, -5.5933, -5.7156, -5.7419, -5.7443, -5.7456, -5.9936, -5.9995, -6.0034, -6.0221, -4.8011, -6.3767, -6.3767, -6.3767, -6.3768, -6.3771, -6.3782, -6.3822, -6.3852, -5.1864, -6.4536, -6.0161, -5.3764, -5.7264, -7.0054, -7.0054, -7.0054, -7.0054, -7.0054, -7.0054, -7.0054, -7.0054, -7.0054, -7.0054, -7.0054, -7.0054, -5.5094, -5.5254, -6.3767, -6.3771, -6.383, -5.1847, -6.3767, -6.3766, -6.3767, -6.3801, -6.3786, -6.3854, -6.0013, -6.0188, -4.9303, -5.185, -4.9938, -4.7896, -5.7202, -4.6728, -5.4588, -4.5265, -4.4009, -5.5013, -5.3239, -5.0732, -5.5031, -5.7174, -5.3223, -5.3112, -5.4861, -5.0535, -5.1964, -5.0878, -5.3245, -5.4996, -5.4999, -5.4767, -5.5991, -5.7105, -5.7422, -5.7433, -6.1249, -6.1249, -6.1254, -6.1253, -6.1255, -6.1335, -6.1348, -5.7419, -5.7725, -5.4703, -6.7535, -6.7535, -6.7535, -6.7535, -6.7535, -6.7535, -6.7535, -6.7535, -6.7535, -6.7535, -6.7535, -6.7535, -6.7535, -6.7535, -6.7535, -6.7535, -6.7535, -6.7535, -6.1249, -6.1249, -6.1251, -6.1338, -6.1277, -5.2871, -5.2194, -5.4759, -5.7412, -4.8746, -5.7421, -6.1249, -6.1249, -5.4674, -6.1161, -4.9216, -5.7431, -6.1279, -4.478, -4.4773, -5.06, -5.7702, -5.4603, -5.7362, -5.4701, -5.466, -5.4662, -5.2495, -5.4691, -5.7426, -5.7422, -5.4655, -5.4666, -5.7377, -5.714, -5.6814, -5.7418, -5.7419], \"loglift\": [30.0, 29.0, 28.0, 27.0, 26.0, 25.0, 24.0, 23.0, 22.0, 21.0, 20.0, 19.0, 18.0, 17.0, 16.0, 15.0, 14.0, 13.0, 12.0, 11.0, 10.0, 9.0, 8.0, 7.0, 6.0, 5.0, 4.0, 3.0, 2.0, 1.0, 1.5329, 1.4737, 1.4554, 1.4257, 1.4257, 1.4233, 1.3743, 1.3689, 1.3366, 1.3366, 1.3366, 1.3366, 1.3366, 1.3366, 1.3366, 1.3366, 1.3366, 1.3366, 1.3366, 1.3366, 1.3366, 1.3366, 1.3366, 1.336, 1.3351, 1.3337, 1.3334, 1.3332, 1.3312, 1.3296, 1.28, 1.269, 1.3022, 1.2955, 1.2949, 1.0973, 1.0885, 0.8799, 1.1954, 1.1455, 1.0751, 1.1106, 1.1504, 1.1476, 1.2141, 1.2108, 0.5487, 1.0159, 0.9725, 0.3078, 0.5868, 0.605, 0.5232, 0.39, 0.1995, 0.1152, 0.3254, 0.3794, 0.6697, 0.4184, 0.3978, -0.1286, 0.274, 0.4138, 0.5271, -0.0773, 0.4939, -0.5496, 0.245, 0.3164, 1.6873, 1.6225, 1.6009, 1.4952, 1.4952, 1.4952, 1.4952, 1.4952, 1.4952, 1.4951, 1.4949, 1.4949, 1.4947, 1.4947, 1.4943, 1.4912, 1.4861, 1.4779, 1.474, 1.4526, 1.451, 1.4293, 1.3752, 1.3724, 1.3188, 1.3078, 1.3056, 1.2789, 1.2789, 1.2789, 1.2434, 1.2083, 1.2064, 1.082, 0.8759, 0.6869, 0.7132, 0.8743, 0.4556, 0.9453, 0.7436, 0.6594, 1.0594, 1.0494, 1.0385, 0.3051, 0.4611, 0.1618, 0.7587, 0.6324, 1.1795, 0.0739, 0.382, 0.3267, -0.1402, 0.6798, -0.2556, 0.3138, 0.4543, 0.1912, -0.2034, 0.3831, 0.1043, 1.7287, 1.6973, 1.6497, 1.6403, 1.5557, 1.5557, 1.5557, 1.5557, 1.5557, 1.5557, 1.5545, 1.5539, 1.5536, 1.5476, 1.5466, 1.5466, 1.5384, 1.5352, 1.4812, 1.4315, 1.4283, 1.4226, 1.4145, 1.4133, 1.4045, 1.3683, 1.3644, 1.3513, 1.3352, 1.3352, 1.3002, 1.2525, 1.2437, 1.0653, 1.1154, 0.4674, 0.5775, 0.6259, 0.7796, 0.7369, 0.7316, 0.5938, 1.0231, 0.3684, 1.2378, 1.2317, 0.2343, 0.3992, 0.0006, 0.531, 0.4227, 0.4567, 0.334, 0.5763, -0.4426, -0.2579, -0.5277, -0.0554, -0.6761, 0.5912, -0.5393, 0.2753, 1.7757, 1.723, 1.7228, 1.7217, 1.6477, 1.628, 1.628, 1.628, 1.628, 1.628, 1.628, 1.628, 1.628, 1.628, 1.628, 1.628, 1.628, 1.628, 1.628, 1.6243, 1.6223, 1.6213, 1.6192, 1.6189, 1.5339, 1.5037, 1.5031, 1.4921, 1.492, 1.4787, 1.4787, 1.3996, 1.0441, 1.4763, 0.9503, 1.2125, 0.9731, 1.2688, 1.1272, 0.5398, 0.4438, 1.095, 1.0353, 1.1797, 0.7927, 0.6448, 0.9861, 0.8383, 1.3355, 0.9491, 0.6202, 0.402, 0.3417, 0.887, 0.4319, 0.7972, -0.0277, 0.372, 0.6703, 0.49, -0.4795, 0.5598, -0.3455, -0.4007, 0.3114, 0.181, 1.7687, 1.6724, 1.6724, 1.6724, 1.6724, 1.6724, 1.6694, 1.6408, 1.6109, 1.5965, 1.5337, 1.4494, 1.4472, 1.4472, 1.4472, 1.4472, 1.4472, 1.4472, 1.4472, 1.4472, 1.4472, 1.4472, 1.4472, 1.4472, 1.4472, 1.4472, 1.4472, 1.4472, 1.4472, 1.4472, 1.4287, 1.4003, 1.4127, 1.4127, 1.3509, 1.328, 1.3323, 1.3914, 1.3462, 1.3818, 1.3787, 1.3787, 1.2291, 1.1983, 1.3699, 1.363, 1.3629, 1.3629, 1.0964, 1.1265, 1.2217, 1.2188, 0.7465, 0.7578, 1.0738, 0.5373, 0.782, 0.6862, 0.6206, 0.786, 0.2354, 0.0896, 0.8756, -0.158, 0.6117, -0.206, 0.1684, 0.2292, 0.3029, 0.0692, 0.5196, 0.1107, 0.0034, 1.7989, 1.793, 1.7887, 1.7692, 1.7306, 1.7024, 1.7024, 1.7024, 1.7023, 1.702, 1.7008, 1.6967, 1.6939, 1.673, 1.6311, 1.5428, 1.5041, 1.5031, 1.477, 1.477, 1.477, 1.477, 1.477, 1.477, 1.477, 1.477, 1.477, 1.477, 1.477, 1.477, 1.4491, 1.4393, 1.4425, 1.4421, 1.4355, 1.3376, 1.4156, 1.4085, 1.4085, 1.4081, 1.4065, 1.4066, 1.3557, 1.3534, 1.1867, 1.2195, 1.1833, 1.119, 1.2622, 0.9058, 1.1357, 0.7427, 0.6614, 1.1017, 0.8806, 0.6782, 1.01, 1.1413, 0.6267, 0.4803, 0.6825, 0.0404, 0.2192, -0.0464, 0.3277, 0.5363, -0.0674, -0.7275, 0.0407, -0.6929, 2.1323, 2.1311, 2.0268, 2.0267, 2.0262, 2.0262, 2.026, 2.0173, 2.0161, 1.8897, 1.8536, 1.8185, 1.7826, 1.7826, 1.7826, 1.7826, 1.7826, 1.7826, 1.7826, 1.7826, 1.7826, 1.7826, 1.7826, 1.7826, 1.7826, 1.7826, 1.7826, 1.7826, 1.7826, 1.7826, 1.7217, 1.7213, 1.7168, 1.7121, 1.704, 1.5322, 1.507, 1.3367, 1.3786, 1.0224, 1.3675, 1.4879, 1.4874, 1.1587, 1.4748, 0.8699, 1.2722, 1.4672, 0.616, 0.5641, 0.6658, 1.2161, 0.7743, 1.1379, 0.6605, 0.483, 0.2923, -0.5003, 0.1095, 0.8077, 0.7172, -0.4032, -0.5341, 0.5013, -0.0178, -0.8015, 0.1337, 0.0071]}, \"token.table\": {\"Topic\": [2, 5, 7, 1, 2, 3, 4, 5, 6, 7, 1, 2, 3, 4, 5, 7, 1, 2, 3, 4, 5, 6, 7, 5, 1, 3, 4, 5, 7, 1, 2, 3, 4, 5, 6, 7, 1, 5, 4, 4, 5, 7, 1, 2, 3, 1, 2, 3, 5, 7, 2, 5, 1, 5, 7, 2, 5, 6, 7, 1, 4, 4, 5, 1, 2, 3, 5, 6, 7, 1, 2, 3, 4, 5, 7, 1, 2, 4, 5, 7, 1, 5, 6, 4, 7, 2, 4, 2, 4, 6, 7, 1, 2, 3, 4, 5, 6, 1, 2, 3, 4, 6, 6, 6, 7, 2, 5, 2, 1, 1, 2, 3, 4, 5, 6, 1, 3, 4, 5, 7, 3, 4, 1, 2, 6, 2, 1, 6, 7, 1, 2, 3, 4, 5, 6, 7, 7, 1, 1, 2, 3, 4, 5, 6, 7, 1, 4, 1, 1, 2, 4, 6, 4, 7, 6, 1, 5, 3, 1, 2, 3, 4, 5, 4, 5, 6, 4, 1, 3, 7, 4, 1, 4, 7, 1, 7, 4, 1, 2, 3, 4, 5, 6, 7, 1, 3, 2, 1, 2, 3, 4, 6, 7, 5, 3, 5, 6, 5, 1, 2, 3, 6, 3, 6, 3, 5, 1, 2, 6, 1, 4, 5, 7, 1, 3, 5, 1, 3, 1, 4, 2, 3, 4, 5, 6, 7, 3, 4, 1, 2, 3, 4, 5, 1, 3, 6, 7, 3, 5, 4, 3, 1, 2, 4, 7, 1, 5, 1, 2, 1, 2, 3, 4, 5, 6, 7, 1, 2, 3, 4, 5, 7, 1, 3, 4, 6, 7, 1, 2, 3, 5, 6, 1, 4, 5, 6, 7, 6, 1, 2, 4, 5, 5, 1, 2, 6, 3, 7, 2, 3, 4, 5, 1, 4, 7, 3, 7, 1, 2, 3, 4, 5, 6, 7, 1, 2, 3, 4, 1, 5, 1, 4, 5, 4, 6, 3, 3, 5, 1, 4, 5, 6, 7, 2, 5, 1, 5, 7, 1, 2, 4, 5, 7, 6, 7, 1, 2, 3, 4, 5, 6, 7, 1, 2, 4, 5, 1, 2, 3, 4, 5, 6, 7, 1, 2, 3, 4, 5, 6, 7, 1, 2, 3, 4, 5, 6, 7, 6, 1, 2, 3, 4, 5, 6, 7, 2, 7, 5, 2, 5, 1, 3, 4, 2, 2, 4, 3, 6, 5, 5, 4, 1, 2, 5, 5, 2, 3, 7, 3, 6, 7, 2, 4, 6, 6, 2, 3, 6, 3, 4, 1, 7, 7, 6, 1, 3, 4, 6, 2, 1, 2, 3, 4, 5, 6, 7, 4, 1, 2, 4, 5, 6, 2, 3, 1, 2, 3, 4, 5, 6, 1, 2, 3, 4, 5, 4, 1, 3, 4, 5, 6, 2, 3, 7, 1, 2, 3, 4, 5, 7, 4, 2, 3, 4, 6, 1, 2, 3, 4, 6, 2, 6, 7, 1, 2, 3, 4, 5, 6, 7, 1, 3, 1, 3, 5, 6, 6, 7, 5, 2, 5, 2, 7, 3, 6, 4, 7, 3, 5, 6, 3, 4, 5, 7, 3, 5, 6, 1, 5, 1, 2, 3, 4, 1, 2, 3, 4, 5, 6, 7, 6, 1, 3, 1, 2, 3, 4, 7, 1, 3, 5, 2, 5, 6, 5, 6, 1, 2, 3, 4, 5, 7, 5, 5, 2, 1, 3, 4, 5, 1, 2, 3, 4, 5, 6, 7, 1, 7, 4, 1, 6, 3, 2, 3, 4, 5, 6, 7, 7, 1, 2, 3, 4, 6, 7, 1, 3, 7, 1, 5, 1, 3, 4, 5, 6, 7, 4, 7, 2, 7, 6, 4, 6, 1, 2, 3, 4, 5, 6, 7, 2, 1, 2, 3, 4, 5, 6, 1, 3, 5, 3, 6, 1, 1, 3, 4, 6, 1, 3, 4, 7, 4, 1, 4, 3, 4, 6, 7, 6, 1, 5, 5, 6, 3, 5, 6, 6, 6, 7, 1, 2, 3, 4, 5, 6, 1, 2, 3, 5, 6, 7, 4, 2, 4, 7, 4, 2, 1, 5, 1, 1, 2, 6, 7, 2, 2, 7, 2, 3, 4, 6, 7, 5, 3, 5, 6, 7, 5, 2, 3, 4, 6, 2, 3, 4, 5, 6, 4, 1, 2, 3, 4, 5, 5, 7, 5, 1, 2, 3, 4, 5, 6, 7, 2, 3, 5, 1, 2, 3, 4, 5, 7, 1, 3, 6, 4, 6, 3, 5, 4, 7, 2, 6, 1, 3, 5, 6, 1, 2, 3, 4, 5, 6, 7, 1, 5, 7, 2, 4, 5, 6, 7, 6, 3, 7, 1, 3, 5, 6, 3, 3, 6, 1, 1, 2, 3, 6, 7, 1, 2, 3, 4, 5, 6, 7, 3, 5, 3, 7, 1, 2, 2, 6, 2, 2, 3, 4, 5, 1, 3, 4, 6, 7, 1, 7, 7, 1, 4, 5, 4, 6, 1, 2, 1, 2, 3, 6, 7, 1, 2, 3, 4, 5, 6, 7, 3, 6, 1, 2, 3, 5, 6, 7, 6, 3, 4, 7, 1, 2, 3, 4, 6, 7, 6, 2, 7, 1, 6, 7, 5, 4, 6, 2, 3, 7, 5, 6, 7, 4, 1, 2, 3, 7, 2, 1, 2, 7, 2, 3, 5, 7, 2, 5, 3, 7, 7, 4, 6, 1, 2, 3, 5, 6, 1, 2, 3, 4, 5, 6, 7, 1, 2, 3, 5, 6, 7, 1, 1, 2, 3, 4, 5, 6, 7, 3, 6, 1, 3, 5, 6, 7, 1, 3, 5, 1, 3, 4, 5, 6, 7, 2, 2, 3, 4, 5, 1, 2, 4, 5, 7, 1, 2, 3, 4, 5, 6, 1, 4, 5, 1, 2, 3, 4, 5, 6, 7, 1, 2, 4, 5, 6, 1, 2, 5, 7], \"Freq\": [0.6708648254549952, 0.26834593018199804, 0.4978654510205167, 0.06000885013016516, 0.12001770026033032, 0.12001770026033032, 0.3000442506508258, 0.12001770026033032, 0.24003540052066064, 0.06000885013016516, 0.2503907736120982, 0.3505470830569375, 0.05007815472241964, 0.10015630944483928, 0.1502344641672589, 0.10015630944483928, 0.27092455583678343, 0.13546227791839172, 0.09030818527892781, 0.18061637055785562, 0.09030818527892781, 0.27092455583678343, 0.045154092639463905, 0.925164783766141, 0.8715889025053117, 0.13982342435914943, 0.27964684871829887, 0.5592936974365977, 0.13982342435914943, 0.052838776271370874, 0.2113551050854835, 0.10567755254274175, 0.10567755254274175, 0.10567755254274175, 0.422710210170967, 0.052838776271370874, 0.8715920312386718, 0.6925338884660822, 0.6865062229704079, 0.9156436296428154, 0.7135562530804793, 0.35677812654023966, 0.08309792979407012, 0.6647834383525609, 0.16619585958814023, 0.5814592086011793, 0.14536480215029482, 0.29072960430058964, 0.7135547308389201, 0.35677736541946004, 0.538287612220131, 0.2691438061100655, 0.9657890525691717, 0.6925340578252855, 0.49780533015253836, 0.3092754280083178, 0.1546377140041589, 0.46391314201247674, 0.1546377140041589, 0.7765638263189397, 0.12942730438648997, 0.34595455609842357, 0.6919091121968471, 0.18044400477923275, 0.45111001194808187, 0.09022200238961638, 0.09022200238961638, 0.18044400477923275, 0.09022200238961638, 0.11334189446452483, 0.2644644204172246, 0.09445157872043737, 0.22668378892904967, 0.28335473616131207, 0.03778063148817495, 0.11971536176852747, 0.11971536176852747, 0.11971536176852747, 0.23943072353705494, 0.3591460853055824, 0.22834940417623814, 0.22834940417623814, 0.4566988083524763, 0.36527593962046156, 0.36527593962046156, 0.763952833010849, 0.19098820825271226, 0.13965706090625402, 0.13965706090625402, 0.5586282436250161, 0.13965706090625402, 0.55586190814081, 0.10106580148014727, 0.05053290074007363, 0.10106580148014727, 0.10106580148014727, 0.10106580148014727, 0.2131032701853077, 0.07103442339510257, 0.2841376935804103, 0.07103442339510257, 0.2841376935804103, 0.9260450420557742, 0.7136317688161787, 0.35681588440808937, 0.45518469722269006, 0.45518469722269006, 0.8921800076701625, 0.8715903196013711, 0.136636806636924, 0.136636806636924, 0.136636806636924, 0.136636806636924, 0.136636806636924, 0.40991041991077204, 0.17103602011514726, 0.17103602011514726, 0.17103602011514726, 0.5131080603454418, 0.497842537489988, 0.19567845441741707, 0.7827138176696683, 0.5622456173715454, 0.18741520579051513, 0.18741520579051513, 0.8926675437595964, 0.4498221810373157, 0.4498221810373157, 0.49744206571833577, 0.13194742914000238, 0.06597371457000119, 0.3298685728500059, 0.06597371457000119, 0.13194742914000238, 0.06597371457000119, 0.19792114371000355, 0.7312900769004886, 0.8717804272185157, 0.22667352494261897, 0.18133881995409518, 0.045334704988523794, 0.13600411496557138, 0.11333676247130949, 0.24934087743688085, 0.06800205748278569, 0.2704317719586779, 0.5408635439173558, 0.8715934319727191, 0.15192984670891602, 0.15192984670891602, 0.15192984670891602, 0.6077193868356641, 0.9156402387712856, 0.7312902317359669, 0.6930257404138148, 0.8715908143348239, 0.6925342181851426, 0.8152983066941294, 0.3906522251642828, 0.15626089006571312, 0.15626089006571312, 0.15626089006571312, 0.15626089006571312, 0.9156389023660626, 0.9251647041245609, 0.6930247100125242, 0.9156395473001027, 0.5998664807191405, 0.14996662017978513, 0.14996662017978513, 0.915643082918112, 0.2841866840969732, 0.2841866840969732, 0.2841866840969732, 0.7567149357424764, 0.1891787339356191, 0.915962127273764, 0.2460345247835422, 0.18452589358765667, 0.2460345247835422, 0.1230172623917711, 0.06150863119588555, 0.06150863119588555, 0.06150863119588555, 0.8716054122366381, 0.9080688800096303, 0.4478361620025083, 0.5268118006257635, 0.13170295015644087, 0.13170295015644087, 0.26340590031288175, 0.36671822532336285, 0.36671822532336285, 0.9251656108878762, 0.6801244903893484, 0.34754309024611824, 0.6950861804922365, 0.6925343073905447, 0.3526700630200117, 0.26450254726500877, 0.26450254726500877, 0.08816751575500292, 0.9082746104947794, 0.46562832738380294, 0.2780966592568584, 0.5561933185137168, 0.3019702487456719, 0.15098512437283595, 0.6039404974913438, 0.6533057169476602, 0.21776857231588673, 0.36680108339418765, 0.36680108339418765, 0.8715914999870777, 0.3448588425938615, 0.689717685187723, 0.26848247832181155, 0.5369649566436231, 0.2704297380810175, 0.540859476162035, 0.1313678383499592, 0.1313678383499592, 0.1313678383499592, 0.1313678383499592, 0.1313678383499592, 0.39410351504987756, 0.5450347811348205, 0.27251739056741026, 0.10833772968295383, 0.10833772968295383, 0.21667545936590765, 0.3791820538903384, 0.10833772968295383, 0.09853165637831539, 0.09853165637831539, 0.6897215946482077, 0.7545872732653639, 0.5467596872052225, 0.27337984360261125, 0.9153735236056122, 0.6829133962948238, 0.3104801832371962, 0.1552400916185981, 0.3104801832371962, 0.3104801832371962, 0.8715883397005288, 0.6925342279115486, 0.8719969031531165, 0.8926071052573081, 0.2954175030204378, 0.06564833400454173, 0.22976916901589606, 0.1969450020136252, 0.06564833400454173, 0.13129666800908346, 0.032824167002270865, 0.09080610982374265, 0.22701527455935663, 0.09080610982374265, 0.09080610982374265, 0.40862749420684197, 0.04540305491187133, 0.19524843812746265, 0.19524843812746265, 0.13016562541830845, 0.4555796889640795, 0.06508281270915423, 0.14902170292025327, 0.44706510876075983, 0.14902170292025327, 0.14902170292025327, 0.14902170292025327, 0.08113520530938861, 0.6490816424751089, 0.08113520530938861, 0.16227041061877723, 0.08113520530938861, 0.6930254589473477, 0.15939426064023482, 0.15939426064023482, 0.15939426064023482, 0.4781827819207045, 0.6925339689859582, 0.2931070773832408, 0.4396606160748613, 0.1465535386916204, 0.9080648484048607, 0.7312905638811474, 0.3040164982684175, 0.15200824913420874, 0.15200824913420874, 0.4560247474026262, 0.33372679876415245, 0.5005901981462286, 0.7312903971158076, 0.9082686114388682, 0.7312897769663458, 0.8719106339371, 0.27412686302872974, 0.13706343151436487, 0.13706343151436487, 0.13706343151436487, 0.27412686302872974, 0.06853171575718243, 0.11208991268364546, 0.33626973805093635, 0.11208991268364546, 0.44835965073458184, 0.871603782255316, 0.692534496177219, 0.6578945268841222, 0.16447363172103055, 0.16447363172103055, 0.9153281400751885, 0.693025140959856, 0.9060662305067129, 0.23047614094444055, 0.6914284228333216, 0.20567785954413448, 0.13711857302942299, 0.41135571908826896, 0.13711857302942299, 0.06855928651471149, 0.34258366124090484, 0.6851673224818097, 0.21656296172318265, 0.4331259234463653, 0.32484444258477396, 0.17739551048260388, 0.17739551048260388, 0.17739551048260388, 0.17739551048260388, 0.35479102096520776, 0.6930250493052331, 0.49744337207924383, 0.26406412100269855, 0.26406412100269855, 0.13203206050134927, 0.04401068683378309, 0.04401068683378309, 0.08802137366756618, 0.17604274733513237, 0.14918213631658656, 0.4475464089497597, 0.14918213631658656, 0.2983642726331731, 0.051122981520349414, 0.15336894456104824, 0.3067378891220965, 0.20449192608139766, 0.10224596304069883, 0.15336894456104824, 0.10224596304069883, 0.18676499682382935, 0.18676499682382935, 0.09338249841191468, 0.28014749523574406, 0.14007374761787203, 0.09338249841191468, 0.04669124920595734, 0.1637817758546261, 0.1637817758546261, 0.07019218965198261, 0.2339739655066087, 0.046794793101321744, 0.14038437930396522, 0.1637817758546261, 0.6944614895198433, 0.03227383025116432, 0.38728596301397183, 0.22591681175815023, 0.09682149075349296, 0.06454766050232864, 0.1613691512558216, 0.03227383025116432, 0.6939344340726759, 0.3469672170363379, 0.6925345436946125, 0.45123787515842967, 0.45123787515842967, 0.5239881168517212, 0.2619940584258606, 0.9152462243274379, 0.8926133874133966, 0.27245543099299235, 0.5449108619859847, 0.5867395207175409, 0.3911596804783605, 0.6925348447918468, 0.692534450707376, 0.9156414380504757, 0.562069567949453, 0.18735652264981764, 0.18735652264981764, 0.6925343466975089, 0.45681923394000634, 0.22840961697000317, 0.22840961697000317, 0.6221270226138254, 0.24885080904553014, 0.7312902214390191, 0.19528351461796323, 0.5858505438538897, 0.19528351461796323, 0.9260367744639271, 0.8926034795299655, 0.9080658331969759, 0.6952924573050989, 0.45456623329212514, 0.45456623329212514, 0.8715883887944333, 0.7312899540107419, 0.7312893248207473, 0.6930254708689041, 0.1509518008733141, 0.45285540261994234, 0.1509518008733141, 0.3019036017466282, 0.8926048206254652, 0.33823674530102094, 0.1352946981204084, 0.1352946981204084, 0.2705893962408168, 0.0676473490602042, 0.0676473490602042, 0.0676473490602042, 0.9156429492781123, 0.13695100768479002, 0.13695100768479002, 0.13695100768479002, 0.5478040307391601, 0.13695100768479002, 0.6741357272880061, 0.9080669130378277, 0.32516572165934526, 0.32516572165934526, 0.15174400344102779, 0.10838857388644842, 0.021677714777289685, 0.06503314433186905, 0.3334389900570823, 0.13337559602283292, 0.3334389900570823, 0.13337559602283292, 0.06668779801141646, 0.9156452817549882, 0.22561467490739787, 0.15040978327159857, 0.30081956654319714, 0.22561467490739787, 0.07520489163579928, 0.15488175805188342, 0.6195270322075337, 0.15488175805188342, 0.36035651265732316, 0.045044564082165395, 0.27026738449299237, 0.09008912816433079, 0.13513369224649618, 0.09008912816433079, 0.9156406234345861, 0.10581376622686255, 0.10581376622686255, 0.4232550649074502, 0.4232550649074502, 0.1615410455455831, 0.48462313663674933, 0.08077052277279155, 0.12115578415918733, 0.12115578415918733, 0.27521643904418486, 0.5504328780883697, 0.4977963212487257, 0.24420645479521028, 0.13320352079738743, 0.11100293399782285, 0.08880234719825829, 0.155404107596952, 0.13320352079738743, 0.155404107596952, 0.8715886702764599, 0.9077510087867883, 0.19520842338737746, 0.19520842338737746, 0.09760421169368873, 0.4880210584684437, 0.7140766728001432, 0.3570383364000716, 0.6945494779594981, 0.2750138440004657, 0.5500276880009314, 0.8933348663111136, 0.7312899603196789, 0.34507053996456344, 0.6901410799291269, 0.9156385319785932, 0.7312901774354689, 0.4571640030662807, 0.22858200153314034, 0.22858200153314034, 0.3229389479300136, 0.2152926319533424, 0.3229389479300136, 0.1076463159766712, 0.4570340036428281, 0.22851700182141405, 0.22851700182141405, 0.38695291681302013, 0.5804293752195302, 0.12799454099642604, 0.06399727049821302, 0.6399727049821302, 0.12799454099642604, 0.18332066081972595, 0.18332066081972595, 0.18332066081972595, 0.09166033040986298, 0.09166033040986298, 0.09166033040986298, 0.18332066081972595, 0.6930254772360578, 0.8717908241166131, 0.9080628229904683, 0.07320181751520759, 0.14640363503041517, 0.3660090875760379, 0.29280727006083035, 0.21960545254562275, 0.22520184195414267, 0.45040368390828533, 0.22520184195414267, 0.5781030959876374, 0.19270103199587915, 0.19270103199587915, 0.695418638013302, 0.23180621267110063, 0.17932739156779612, 0.35865478313559224, 0.17932739156779612, 0.08966369578389806, 0.08966369578389806, 0.08966369578389806, 0.9251648516056833, 0.6925340545310119, 0.8926126730522983, 0.587617799181796, 0.146904449795449, 0.146904449795449, 0.146904449795449, 0.26518265909748756, 0.3149044076782665, 0.09944349716155784, 0.08286958096796486, 0.11601741335515081, 0.06629566477437189, 0.04972174858077892, 0.7766403808957769, 0.7312905402674645, 0.6865058823569676, 0.527008084494627, 0.2635040422473135, 0.9077518850970228, 0.08676283530628486, 0.1735256706125697, 0.1735256706125697, 0.08676283530628486, 0.4338141765314243, 0.08676283530628486, 0.7547300249259776, 0.09091841703920134, 0.18183683407840268, 0.18183683407840268, 0.36367366815680535, 0.09091841703920134, 0.09091841703920134, 0.3512207401612681, 0.3512207401612681, 0.3512207401612681, 0.3394668839969424, 0.6789337679938848, 0.14705483973209704, 0.14705483973209704, 0.07352741986604852, 0.4411645191962911, 0.14705483973209704, 0.14705483973209704, 0.2959671400388504, 0.5919342800777008, 0.4676246710817728, 0.2338123355408864, 0.925838415542929, 0.5509805199938549, 0.27549025999692744, 0.09399710045227323, 0.046998550226136616, 0.14099565067840986, 0.046998550226136616, 0.2819913013568197, 0.18799420090454647, 0.23499275113068308, 0.6741351709633879, 0.046817530750511004, 0.18727012300204401, 0.23408765375255502, 0.37454024600408803, 0.09363506150102201, 0.09363506150102201, 0.64957672418567, 0.3448635611937214, 0.6897271223874428, 0.9080981518324853, 0.9260392642281849, 0.7825233216954447, 0.09708916572042782, 0.4854458286021391, 0.3883566628817113, 0.09708916572042782, 0.8715935195744093, 0.21009452610881008, 0.21009452610881008, 0.6302835783264302, 0.915640174995842, 0.2704434936022746, 0.5408869872045492, 0.25178619851861694, 0.5035723970372339, 0.12589309925930847, 0.12589309925930847, 0.6930250301965792, 0.3394692399799026, 0.6789384799598052, 0.347462618479269, 0.694925236958538, 0.1979666845539017, 0.1979666845539017, 0.5939000536617051, 0.9260441428886883, 0.7140745922859271, 0.35703729614296353, 0.18340758862517698, 0.244543451500236, 0.122271725750118, 0.244543451500236, 0.122271725750118, 0.122271725750118, 0.15915067088820992, 0.6047725493751976, 0.06366026835528396, 0.03183013417764198, 0.09549040253292596, 0.03183013417764198, 0.686602751499698, 0.9086624846671203, 0.0698971142051631, 0.7312904109512166, 0.9155887868456981, 0.8926112155992599, 0.33946834087271044, 0.6789366817454209, 0.8717286996884577, 0.8715933823966326, 0.7992646581201241, 0.3669404804301266, 0.3669404804301266, 0.6741354293365519, 0.361513240369581, 0.361513240369581, 0.1003857206413746, 0.2007714412827492, 0.4015428825654984, 0.2007714412827492, 0.2007714412827492, 0.6925347649092625, 0.15981544389829358, 0.31963088779658716, 0.31963088779658716, 0.31963088779658716, 0.6925350498074755, 0.3147553045826555, 0.10491843486088517, 0.20983686972177035, 0.4196737394435407, 0.06911254501197849, 0.13822509002395697, 0.13822509002395697, 0.27645018004791394, 0.4146752700718709, 0.8236488676998924, 0.3325870396735942, 0.20786689979599637, 0.041573379959199276, 0.20786689979599637, 0.1662935198367971, 0.7128065404414798, 0.3564032702207399, 0.6925345116745913, 0.1044609299321675, 0.1044609299321675, 0.05223046496608375, 0.15669139489825126, 0.3133827897965025, 0.05223046496608375, 0.2611523248304188, 0.19405508826749532, 0.5821652648024859, 0.19405508826749532, 0.4579156414692404, 0.1393656300123775, 0.03981875143210786, 0.059728127148161794, 0.21900313287659323, 0.059728127148161794, 0.8716771621106071, 0.3451038284588659, 0.6902076569177318, 0.915643387786587, 0.6950176278330461, 0.9074164224152163, 0.6925346064451577, 0.915643271478781, 0.7312899468581485, 0.8927020270689187, 0.6930258896746214, 0.6548414692027303, 0.10914024486712172, 0.10914024486712172, 0.10914024486712172, 0.28190306668274046, 0.1127612266730962, 0.1127612266730962, 0.1127612266730962, 0.2255224533461924, 0.1127612266730962, 0.0563806133365481, 0.6496725285067021, 0.48049632251292285, 0.24024816125646142, 0.1304917950560635, 0.260983590112127, 0.260983590112127, 0.1304917950560635, 0.3914753851681905, 0.6952917333050636, 0.7033383447320778, 0.3516691723660389, 0.6521655907334188, 0.21738853024447297, 0.9251639000631814, 0.9259450200695986, 0.6798371444405467, 0.6829141665914102, 0.693025358095658, 0.6495777869642606, 0.26743665178938275, 0.35658220238584365, 0.17829110119292182, 0.08914555059646091, 0.08914555059646091, 0.3271403624442269, 0.12267763591658508, 0.08178509061105672, 0.08178509061105672, 0.12267763591658508, 0.16357018122211345, 0.04089254530552836, 0.9080466953001883, 0.9250672478139995, 0.908063939043493, 0.4978423865674388, 0.15521547853612414, 0.7760773926806207, 0.8926088892152138, 0.9260413710785389, 0.8926136346698731, 0.30247291071765725, 0.15123645535882863, 0.4537093660764859, 0.15123645535882863, 0.3868689987716625, 0.09671724969291562, 0.09671724969291562, 0.3868689987716625, 0.09671724969291562, 0.8715901370588576, 0.7312893013540286, 0.7312906471703902, 0.6093530497192833, 0.30467652485964164, 0.10155884161988053, 0.5509863332190823, 0.27549316660954115, 0.649498967399683, 0.21649965579989436, 0.30669159719858197, 0.40892212959810925, 0.25557633099881827, 0.051115266199763656, 0.051115266199763656, 0.1709239845959686, 0.0854619922979843, 0.21365498074496075, 0.2563859768939529, 0.04273099614899215, 0.12819298844697646, 0.0854619922979843, 0.34510400607652364, 0.6902080121530473, 0.16726701269861807, 0.1393891772488484, 0.08363350634930904, 0.2787783544976968, 0.2787783544976968, 0.027877835449769676, 0.693026093351749, 0.23297294394924345, 0.4659458878984869, 0.23297294394924345, 0.17184857630924985, 0.08592428815462493, 0.17184857630924985, 0.3436971526184997, 0.17184857630924985, 0.08592428815462493, 0.6930247282378893, 0.5503919796875777, 0.27519598984378885, 0.27348245406147237, 0.683706135153681, 0.7312904614433003, 0.6925337563150173, 0.34615548198663, 0.69231096397326, 0.28537558571804666, 0.28537558571804666, 0.28537558571804666, 0.2904567823628662, 0.2904567823628662, 0.2904567823628662, 0.45745057944968437, 0.2775423646572937, 0.2775423646572937, 0.2775423646572937, 0.2775423646572937, 0.8926059275409993, 0.8715959361736565, 0.8926060739476508, 0.731290440076273, 0.2703796545833192, 0.5407593091666384, 0.5806429720502995, 0.29032148602514973, 0.8932112649051016, 0.692534575365015, 0.29434829427412385, 0.5886965885482477, 0.7312901839325437, 0.9156425409164498, 0.9260447839318934, 0.05996901144710652, 0.05996901144710652, 0.11993802289421304, 0.6596591259181717, 0.11993802289421304, 0.11558575375235633, 0.23117150750471266, 0.2022750690666236, 0.2022750690666236, 0.1733786306285345, 0.057792876876178165, 0.028896438438089082, 0.3131292264206079, 0.052188204403434656, 0.2609410220171733, 0.15656461321030396, 0.10437640880686931, 0.052188204403434656, 0.8715927936775996, 0.2659174330263256, 0.11396461415413953, 0.07597640943609302, 0.11396461415413953, 0.03798820471804651, 0.30390563774437207, 0.11396461415413953, 0.5468026581663177, 0.27340132908315884, 0.1378373323889119, 0.41351199716673576, 0.1378373323889119, 0.2756746647778238, 0.1378373323889119, 0.13522974835674248, 0.6761487417837124, 0.13522974835674248, 0.2855780425373286, 0.1427890212686643, 0.35697255317166077, 0.1427890212686643, 0.07139451063433215, 0.07139451063433215, 0.8927555091713102, 0.15245892583535658, 0.30491785167071317, 0.15245892583535658, 0.4573767775060697, 0.1819107151119419, 0.3183437514458983, 0.1819107151119419, 0.1819107151119419, 0.13643303633395643, 0.11325698138763261, 0.11325698138763261, 0.22651396277526523, 0.45302792555053045, 0.11325698138763261, 0.11325698138763261, 0.6542449328916832, 0.21808164429722773, 0.10904082214861387, 0.2750911221551097, 0.05501822443102195, 0.16505467329306586, 0.05501822443102195, 0.05501822443102195, 0.2200728977240878, 0.16505467329306586, 0.1590419523182919, 0.23856292847743787, 0.07952097615914595, 0.3180839046365838, 0.1590419523182919, 0.5916259750351996, 0.26294487779342207, 0.13147243889671104, 0.06573621944835552], \"Term\": [\"absolutely\", \"absolutely\", \"achievement\", \"act\", \"act\", \"act\", \"act\", \"act\", \"act\", \"act\", \"acting\", \"acting\", \"acting\", \"acting\", \"acting\", \"acting\", \"actor\", \"actor\", \"actor\", \"actor\", \"actor\", \"actor\", \"actor\", \"afraid\", \"ago\", \"almost\", \"almost\", \"almost\", \"almost\", \"also\", \"also\", \"also\", \"also\", \"also\", \"also\", \"also\", \"america\", \"anatomist\", \"angel\", \"angeles\", \"anne\", \"anne\", \"anyone\", \"anyone\", \"anyone\", \"anything\", \"anything\", \"anything\", \"appearance\", \"appearance\", \"appreciate\", \"appreciate\", \"around\", \"artiness\", \"astronaut\", \"attempt\", \"attempt\", \"attempt\", \"attempt\", \"avoid\", \"avoid\", \"awesome\", \"awesome\", \"awful\", \"awful\", \"awful\", \"awful\", \"awful\", \"awful\", \"bad\", \"bad\", \"bad\", \"bad\", \"bad\", \"bad\", \"beautiful\", \"beautiful\", \"beautiful\", \"beautiful\", \"beautiful\", \"begin\", \"begin\", \"begin\", \"beginning\", \"beginning\", \"believable\", \"believable\", \"believe\", \"believe\", \"believe\", \"believe\", \"best\", \"best\", \"best\", \"best\", \"best\", \"best\", \"better\", \"better\", \"better\", \"better\", \"better\", \"betty\", \"billy\", \"billy\", \"bit\", \"bit\", \"blow\", \"bonus\", \"bore\", \"bore\", \"bore\", \"bore\", \"bore\", \"bore\", \"boring\", \"boring\", \"boring\", \"boring\", \"brian\", \"brilliant\", \"brilliant\", \"call\", \"call\", \"call\", \"canada\", \"care\", \"care\", \"carry\", \"cast\", \"cast\", \"cast\", \"cast\", \"cast\", \"cast\", \"cast\", \"celebrity\", \"chance\", \"character\", \"character\", \"character\", \"character\", \"character\", \"character\", \"character\", \"check\", \"check\", \"chick\", \"child\", \"child\", \"child\", \"child\", \"chilly\", \"class\", \"classical\", \"clearly\", \"client\", \"close\", \"come\", \"come\", \"come\", \"come\", \"come\", \"complex\", \"computer\", \"confirm\", \"confuse\", \"consider\", \"consider\", \"consider\", \"contrast\", \"convince\", \"convince\", \"convince\", \"cost\", \"cost\", \"costume\", \"could\", \"could\", \"could\", \"could\", \"could\", \"could\", \"could\", \"cut\", \"decay\", \"dedication\", \"definitely\", \"definitely\", \"definitely\", \"definitely\", \"delight\", \"delight\", \"depend\", \"depict\", \"describe\", \"describe\", \"diabetic\", \"director\", \"director\", \"director\", \"director\", \"disappointing\", \"disappointment\", \"dislike\", \"dislike\", \"do\", \"do\", \"do\", \"documentary\", \"documentary\", \"drive\", \"drive\", \"dull\", \"earlier\", \"earlier\", \"easily\", \"easily\", \"easy\", \"easy\", \"effect\", \"effect\", \"effect\", \"effect\", \"effect\", \"effect\", \"emotion\", \"emotion\", \"end\", \"end\", \"end\", \"end\", \"end\", \"enjoy\", \"enjoy\", \"enjoy\", \"enjoyable\", \"entertain\", \"entertain\", \"errol\", \"escalate\", \"especially\", \"especially\", \"especially\", \"especially\", \"establish\", \"estate\", \"estevez\", \"european\", \"even\", \"even\", \"even\", \"even\", \"even\", \"even\", \"even\", \"ever\", \"ever\", \"ever\", \"ever\", \"ever\", \"ever\", \"every\", \"every\", \"every\", \"every\", \"every\", \"everyone\", \"everyone\", \"everyone\", \"everyone\", \"everyone\", \"everything\", \"everything\", \"everything\", \"everything\", \"everything\", \"exaggerate\", \"excellent\", \"excellent\", \"excellent\", \"excellent\", \"existent\", \"experience\", \"experience\", \"experience\", \"exquisite\", \"fame\", \"fan\", \"fan\", \"fan\", \"fan\", \"far\", \"far\", \"fascination\", \"father\", \"faultless\", \"fifteen\", \"find\", \"find\", \"find\", \"find\", \"find\", \"find\", \"first\", \"first\", \"first\", \"first\", \"fit\", \"flame\", \"flick\", \"flick\", \"flick\", \"flynn\", \"foreign\", \"forget\", \"fun\", \"fun\", \"funny\", \"funny\", \"funny\", \"funny\", \"funny\", \"fx\", \"fx\", \"game\", \"game\", \"game\", \"garbage\", \"garbage\", \"garbage\", \"garbage\", \"garbage\", \"generic\", \"genius\", \"get\", \"get\", \"get\", \"get\", \"get\", \"get\", \"get\", \"girl\", \"girl\", \"girl\", \"girl\", \"give\", \"give\", \"give\", \"give\", \"give\", \"give\", \"give\", \"go\", \"go\", \"go\", \"go\", \"go\", \"go\", \"go\", \"good\", \"good\", \"good\", \"good\", \"good\", \"good\", \"good\", \"graphic\", \"great\", \"great\", \"great\", \"great\", \"great\", \"great\", \"great\", \"greatest\", \"greatest\", \"ground\", \"guess\", \"guess\", \"handle\", \"handle\", \"hat\", \"hate\", \"heart\", \"heart\", \"hitchcock\", \"hitchcock\", \"hollander\", \"iffy\", \"implausible\", \"incredible\", \"incredible\", \"incredible\", \"insulin\", \"interest\", \"interest\", \"interest\", \"interesting\", \"interesting\", \"interpretation\", \"involve\", \"involve\", \"involve\", \"jean\", \"joe\", \"jonah\", \"journey\", \"joy\", \"joy\", \"junkyard\", \"jutland\", \"keith\", \"kidnap\", \"kind\", \"kind\", \"kind\", \"kind\", \"kinda\", \"know\", \"know\", \"know\", \"know\", \"know\", \"know\", \"know\", \"lane\", \"least\", \"least\", \"least\", \"least\", \"least\", \"lee\", \"length\", \"like\", \"like\", \"like\", \"like\", \"like\", \"like\", \"line\", \"line\", \"line\", \"line\", \"line\", \"literally\", \"little\", \"little\", \"little\", \"little\", \"little\", \"long\", \"long\", \"long\", \"look\", \"look\", \"look\", \"look\", \"look\", \"look\", \"los\", \"lot\", \"lot\", \"lot\", \"lot\", \"love\", \"love\", \"love\", \"love\", \"love\", \"lovely\", \"lovely\", \"mad\", \"make\", \"make\", \"make\", \"make\", \"make\", \"make\", \"make\", \"maker\", \"making\", \"man\", \"man\", \"man\", \"man\", \"martin\", \"martin\", \"massive\", \"may\", \"may\", \"meaning\", \"melodrama\", \"member\", \"member\", \"mexican\", \"middle\", \"mind\", \"mind\", \"mind\", \"minute\", \"minute\", \"minute\", \"minute\", \"moment\", \"moment\", \"moment\", \"mostly\", \"mostly\", \"much\", \"much\", \"much\", \"much\", \"music\", \"music\", \"music\", \"music\", \"music\", \"music\", \"music\", \"nasty\", \"natural\", \"neil\", \"never\", \"never\", \"never\", \"never\", \"never\", \"new\", \"new\", \"new\", \"nice\", \"nice\", \"nice\", \"night\", \"night\", \"nothing\", \"nothing\", \"nothing\", \"nothing\", \"nothing\", \"nothing\", \"nun\", \"obsess\", \"offensive\", \"old\", \"old\", \"old\", \"old\", \"one\", \"one\", \"one\", \"one\", \"one\", \"one\", \"one\", \"open\", \"outside\", \"own\", \"pace\", \"pace\", \"painful\", \"part\", \"part\", \"part\", \"part\", \"part\", \"part\", \"pay\", \"people\", \"people\", \"people\", \"people\", \"people\", \"people\", \"perfect\", \"perfect\", \"perfect\", \"perfectly\", \"perfectly\", \"performance\", \"performance\", \"performance\", \"performance\", \"performance\", \"performance\", \"perhaps\", \"perhaps\", \"period\", \"period\", \"pitiful\", \"plain\", \"plain\", \"play\", \"play\", \"play\", \"play\", \"play\", \"play\", \"play\", \"plmer\", \"plot\", \"plot\", \"plot\", \"plot\", \"plot\", \"plot\", \"pm\", \"pointless\", \"pointless\", \"ponyo\", \"poorly\", \"pretentious\", \"pretty\", \"pretty\", \"pretty\", \"pretty\", \"previous\", \"problem\", \"problem\", \"problem\", \"psychological\", \"quality\", \"quality\", \"quite\", \"quite\", \"quite\", \"quite\", \"random\", \"rank\", \"rank\", \"rate\", \"rate\", \"rating\", \"rating\", \"rating\", \"reaction\", \"ready\", \"ready\", \"real\", \"real\", \"real\", \"real\", \"real\", \"real\", \"really\", \"really\", \"really\", \"really\", \"really\", \"really\", \"receive\", \"recommend\", \"recommend\", \"reconciliation\", \"redeeming\", \"reference\", \"relationship\", \"relationship\", \"remain\", \"remotely\", \"rest\", \"result\", \"result\", \"revere\", \"review\", \"review\", \"right\", \"right\", \"right\", \"right\", \"right\", \"riot\", \"role\", \"role\", \"role\", \"role\", \"salesman\", \"saw\", \"saw\", \"saw\", \"saw\", \"say\", \"say\", \"say\", \"say\", \"say\", \"scamp\", \"scene\", \"scene\", \"scene\", \"scene\", \"scene\", \"score\", \"score\", \"scrimm\", \"script\", \"script\", \"script\", \"script\", \"script\", \"script\", \"script\", \"second\", \"second\", \"second\", \"see\", \"see\", \"see\", \"see\", \"see\", \"see\", \"sens\", \"sense\", \"sense\", \"sentiment\", \"seriously\", \"several\", \"sex\", \"shakespear\", \"sheer\", \"shelf\", \"shenanigan\", \"short\", \"short\", \"short\", \"short\", \"show\", \"show\", \"show\", \"show\", \"show\", \"show\", \"show\", \"significant\", \"silent\", \"silent\", \"simply\", \"simply\", \"simply\", \"simply\", \"simply\", \"smart\", \"smile\", \"smile\", \"solid\", \"solid\", \"somewhat\", \"son\", \"sort\", \"sphere\", \"spy\", \"stereotype\", \"still\", \"still\", \"still\", \"still\", \"still\", \"story\", \"story\", \"story\", \"story\", \"story\", \"story\", \"story\", \"strike\", \"stun\", \"subject\", \"sublime\", \"suck\", \"suck\", \"summary\", \"superbly\", \"suppose\", \"suspense\", \"suspense\", \"suspense\", \"suspense\", \"take\", \"take\", \"take\", \"take\", \"take\", \"taylor\", \"teddy\", \"tedium\", \"terrible\", \"terrible\", \"terrible\", \"theater\", \"theater\", \"theme\", \"theme\", \"thing\", \"thing\", \"thing\", \"thing\", \"thing\", \"think\", \"think\", \"think\", \"think\", \"think\", \"think\", \"think\", \"thoroughly\", \"thoroughly\", \"time\", \"time\", \"time\", \"time\", \"time\", \"time\", \"ton\", \"torture\", \"torture\", \"torture\", \"totally\", \"totally\", \"totally\", \"totally\", \"totally\", \"totally\", \"trailer\", \"trash\", \"trash\", \"truly\", \"truly\", \"truth\", \"tryst\", \"type\", \"type\", \"u\", \"u\", \"u\", \"unbelievable\", \"unbelievable\", \"unbelievable\", \"underneath\", \"understand\", \"understand\", \"understand\", \"understand\", \"undoubtedly\", \"uninteresting\", \"unpredictable\", \"upper\", \"ups\", \"ups\", \"utterly\", \"utterly\", \"versus\", \"violin\", \"visual\", \"visual\", \"vivid\", \"volcano\", \"wall\", \"waste\", \"waste\", \"waste\", \"waste\", \"waste\", \"watch\", \"watch\", \"watch\", \"watch\", \"watch\", \"watch\", \"watch\", \"way\", \"way\", \"way\", \"way\", \"way\", \"way\", \"wayne\", \"well\", \"well\", \"well\", \"well\", \"well\", \"well\", \"well\", \"whether\", \"whether\", \"white\", \"white\", \"white\", \"white\", \"white\", \"whole\", \"whole\", \"whole\", \"wonderful\", \"wonderful\", \"wonderful\", \"wonderful\", \"wonderful\", \"wonderful\", \"wooden\", \"word\", \"word\", \"word\", \"word\", \"work\", \"work\", \"work\", \"work\", \"work\", \"worse\", \"worse\", \"worse\", \"worse\", \"worse\", \"worse\", \"worst\", \"worst\", \"worst\", \"would\", \"would\", \"would\", \"would\", \"would\", \"would\", \"would\", \"write\", \"write\", \"write\", \"write\", \"write\", \"year\", \"year\", \"year\", \"year\"]}, \"R\": 30, \"lambda.step\": 0.01, \"plot.opts\": {\"xlab\": \"PC1\", \"ylab\": \"PC2\"}, \"topic.order\": [2, 6, 7, 3, 4, 1, 5]};\n",
       "\n",
       "function LDAvis_load_lib(url, callback){\n",
       "  var s = document.createElement('script');\n",
       "  s.src = url;\n",
       "  s.async = true;\n",
       "  s.onreadystatechange = s.onload = callback;\n",
       "  s.onerror = function(){console.warn(\"failed to load library \" + url);};\n",
       "  document.getElementsByTagName(\"head\")[0].appendChild(s);\n",
       "}\n",
       "\n",
       "if(typeof(LDAvis) !== \"undefined\"){\n",
       "   // already loaded: just create the visualization\n",
       "   !function(LDAvis){\n",
       "       new LDAvis(\"#\" + \"ldavis_el19324156722313777684577209\", ldavis_el19324156722313777684577209_data);\n",
       "   }(LDAvis);\n",
       "}else if(typeof define === \"function\" && define.amd){\n",
       "   // require.js is available: use it to load d3/LDAvis\n",
       "   require.config({paths: {d3: \"https://d3js.org/d3.v5\"}});\n",
       "   require([\"d3\"], function(d3){\n",
       "      window.d3 = d3;\n",
       "      LDAvis_load_lib(\"https://cdn.jsdelivr.net/gh/bmabey/pyLDAvis@3.3.1/pyLDAvis/js/ldavis.v3.0.0.js\", function(){\n",
       "        new LDAvis(\"#\" + \"ldavis_el19324156722313777684577209\", ldavis_el19324156722313777684577209_data);\n",
       "      });\n",
       "    });\n",
       "}else{\n",
       "    // require.js not available: dynamically load d3 & LDAvis\n",
       "    LDAvis_load_lib(\"https://d3js.org/d3.v5.js\", function(){\n",
       "         LDAvis_load_lib(\"https://cdn.jsdelivr.net/gh/bmabey/pyLDAvis@3.3.1/pyLDAvis/js/ldavis.v3.0.0.js\", function(){\n",
       "                 new LDAvis(\"#\" + \"ldavis_el19324156722313777684577209\", ldavis_el19324156722313777684577209_data);\n",
       "            })\n",
       "         });\n",
       "}\n",
       "</script>"
      ],
      "text/plain": [
       "PreparedData(topic_coordinates=              x         y  topics  cluster       Freq\n",
       "topic                                                \n",
       "1     -0.015727  0.059430       1        1  19.239557\n",
       "5     -0.076321  0.079336       2        1  16.235183\n",
       "6      0.046032  0.025895       3        1  15.154397\n",
       "2     -0.040651  0.017300       4        1  14.039293\n",
       "3     -0.057799 -0.095566       5        1  13.360383\n",
       "0      0.139515  0.010442       6        1  12.958740\n",
       "4      0.004951 -0.096837       7        1   9.012446, topic_info=            Term       Freq      Total Category  logprob  loglift\n",
       "296    recommend  14.000000  14.000000  Default  30.0000  30.0000\n",
       "348       really  31.000000  31.000000  Default  29.0000  29.0000\n",
       "446          bad  52.000000  52.000000  Default  28.0000  28.0000\n",
       "57         waste  16.000000  16.000000  Default  27.0000  27.0000\n",
       "96           see  50.000000  50.000000  Default  26.0000  26.0000\n",
       "..           ...        ...        ...      ...      ...      ...\n",
       "300  performance   2.023435  13.600368   Topic7  -5.7377   0.5013\n",
       "63         think   2.071978  23.402216   Topic7  -5.7140  -0.0178\n",
       "446          bad   2.140565  52.937178   Topic7  -5.6814  -0.8015\n",
       "220         give   2.015128  19.560674   Topic7  -5.7418   0.1337\n",
       "78          look   2.015057  22.200237   Topic7  -5.7419   0.0071\n",
       "\n",
       "[502 rows x 6 columns], token_table=      Topic      Freq         Term\n",
       "term                              \n",
       "334       2  0.670865   absolutely\n",
       "334       5  0.268346   absolutely\n",
       "2040      7  0.497865  achievement\n",
       "107       1  0.060009          act\n",
       "107       2  0.120018          act\n",
       "...     ...       ...          ...\n",
       "280       6  0.159042        write\n",
       "396       1  0.591626         year\n",
       "396       2  0.262945         year\n",
       "396       5  0.131472         year\n",
       "396       7  0.065736         year\n",
       "\n",
       "[935 rows x 3 columns], R=30, lambda_step=0.01, plot_opts={'xlab': 'PC1', 'ylab': 'PC2'}, topic_order=[2, 6, 7, 3, 4, 1, 5])"
      ]
     },
     "execution_count": 58,
     "metadata": {},
     "output_type": "execute_result"
    }
   ],
   "source": [
    "# Visualize model with 7 topics\n",
    "pyLDAvis.enable_notebook() #allow us to see in jupyter notebook\n",
    "vis3 = pyLDAvis.gensim_models.prepare(lda_model_3, bow, dictionary)\n",
    "vis3"
   ]
  },
  {
   "cell_type": "markdown",
   "id": "4440bea7",
   "metadata": {},
   "source": [
    "The clusters starts to overlap with 7 topics. However, the directions of clusters are still good."
   ]
  },
  {
   "cell_type": "markdown",
   "id": "5517b00f",
   "metadata": {},
   "source": [
    "### Try 10 topics"
   ]
  },
  {
   "cell_type": "code",
   "execution_count": 59,
   "id": "89808d47",
   "metadata": {},
   "outputs": [],
   "source": [
    "lda_model_4 = gensim.models.LdaModel(corpus=bow, id2word=dictionary, num_topics=10, passes=8, alpha=\"auto\", random_state=42)"
   ]
  },
  {
   "cell_type": "code",
   "execution_count": 60,
   "id": "7c04ece6",
   "metadata": {
    "scrolled": false
   },
   "outputs": [
    {
     "data": {
      "text/plain": [
       "[(0,\n",
       "  '0.023*\"see\" + 0.012*\"bad\" + 0.012*\"suck\" + 0.009*\"way\" + 0.008*\"one\" + 0.008*\"actor\" + 0.008*\"give\" + 0.007*\"like\" + 0.006*\"know\" + 0.006*\"end\" + 0.006*\"character\" + 0.006*\"watch\" + 0.006*\"write\" + 0.006*\"start\" + 0.006*\"enjoy\" + 0.005*\"year\" + 0.005*\"act\" + 0.005*\"dialogue\" + 0.005*\"script\" + 0.005*\"much\"'),\n",
       " (1,\n",
       "  '0.015*\"great\" + 0.015*\"good\" + 0.012*\"one\" + 0.011*\"excellent\" + 0.010*\"go\" + 0.009*\"make\" + 0.009*\"plot\" + 0.007*\"stupid\" + 0.007*\"watch\" + 0.006*\"get\" + 0.006*\"end\" + 0.006*\"bad\" + 0.006*\"first\" + 0.006*\"song\" + 0.006*\"truly\" + 0.006*\"place\" + 0.005*\"simply\" + 0.005*\"take\" + 0.005*\"script\" + 0.005*\"would\"'),\n",
       " (2,\n",
       "  '0.017*\"like\" + 0.011*\"time\" + 0.011*\"really\" + 0.010*\"bad\" + 0.010*\"best\" + 0.009*\"make\" + 0.008*\"even\" + 0.007*\"would\" + 0.006*\"look\" + 0.005*\"direct\" + 0.005*\"part\" + 0.005*\"year\" + 0.005*\"horrible\" + 0.005*\"effect\" + 0.005*\"camera\" + 0.004*\"want\" + 0.004*\"one\" + 0.004*\"great\" + 0.004*\"act\" + 0.004*\"see\"'),\n",
       " (3,\n",
       "  '0.014*\"good\" + 0.012*\"make\" + 0.008*\"worth\" + 0.006*\"say\" + 0.006*\"character\" + 0.006*\"acting\" + 0.006*\"play\" + 0.005*\"one\" + 0.005*\"see\" + 0.005*\"kid\" + 0.005*\"pretty\" + 0.004*\"man\" + 0.004*\"little\" + 0.004*\"whatever\" + 0.004*\"least\" + 0.004*\"act\" + 0.004*\"white\" + 0.004*\"self\" + 0.004*\"cinematography\" + 0.004*\"time\"'),\n",
       " (4,\n",
       "  '0.021*\"one\" + 0.013*\"time\" + 0.011*\"funny\" + 0.008*\"watch\" + 0.008*\"story\" + 0.008*\"think\" + 0.007*\"waste\" + 0.007*\"real\" + 0.006*\"really\" + 0.006*\"ever\" + 0.005*\"bad\" + 0.005*\"use\" + 0.005*\"like\" + 0.005*\"game\" + 0.005*\"even\" + 0.004*\"plot\" + 0.004*\"make\" + 0.004*\"play\" + 0.004*\"scene\" + 0.004*\"say\"'),\n",
       " (5,\n",
       "  '0.014*\"one\" + 0.013*\"bad\" + 0.011*\"make\" + 0.007*\"character\" + 0.007*\"ever\" + 0.007*\"show\" + 0.007*\"get\" + 0.007*\"well\" + 0.007*\"worst\" + 0.007*\"try\" + 0.006*\"think\" + 0.005*\"enough\" + 0.005*\"time\" + 0.005*\"cult\" + 0.005*\"see\" + 0.005*\"even\" + 0.005*\"say\" + 0.005*\"word\" + 0.005*\"line\" + 0.005*\"forget\"'),\n",
       " (6,\n",
       "  '0.020*\"love\" + 0.012*\"even\" + 0.011*\"work\" + 0.010*\"awful\" + 0.008*\"get\" + 0.008*\"really\" + 0.006*\"well\" + 0.006*\"character\" + 0.006*\"great\" + 0.006*\"look\" + 0.006*\"good\" + 0.005*\"cast\" + 0.005*\"saw\" + 0.005*\"call\" + 0.005*\"act\" + 0.005*\"play\" + 0.005*\"end\" + 0.005*\"story\" + 0.004*\"thing\" + 0.004*\"tv\"'),\n",
       " (7,\n",
       "  '0.028*\"bad\" + 0.009*\"wonderful\" + 0.008*\"actor\" + 0.008*\"avoid\" + 0.008*\"good\" + 0.008*\"pretty\" + 0.007*\"character\" + 0.007*\"play\" + 0.007*\"go\" + 0.007*\"watch\" + 0.007*\"performance\" + 0.006*\"see\" + 0.006*\"acting\" + 0.006*\"work\" + 0.006*\"part\" + 0.006*\"think\" + 0.006*\"cost\" + 0.006*\"half\" + 0.006*\"story\" + 0.006*\"great\"'),\n",
       " (8,\n",
       "  '0.014*\"scene\" + 0.013*\"like\" + 0.009*\"good\" + 0.009*\"really\" + 0.008*\"see\" + 0.007*\"do\" + 0.007*\"watch\" + 0.007*\"could\" + 0.007*\"character\" + 0.007*\"thing\" + 0.007*\"look\" + 0.006*\"one\" + 0.006*\"time\" + 0.006*\"right\" + 0.006*\"make\" + 0.005*\"well\" + 0.005*\"story\" + 0.005*\"boring\" + 0.005*\"ever\" + 0.004*\"though\"'),\n",
       " (9,\n",
       "  '0.018*\"character\" + 0.010*\"script\" + 0.010*\"totally\" + 0.008*\"one\" + 0.008*\"make\" + 0.008*\"great\" + 0.008*\"recommend\" + 0.008*\"give\" + 0.007*\"see\" + 0.007*\"also\" + 0.006*\"story\" + 0.006*\"actor\" + 0.006*\"look\" + 0.005*\"like\" + 0.005*\"ever\" + 0.005*\"everything\" + 0.005*\"work\" + 0.005*\"minute\" + 0.004*\"go\" + 0.003*\"scene\"')]"
      ]
     },
     "execution_count": 60,
     "metadata": {},
     "output_type": "execute_result"
    }
   ],
   "source": [
    "lda_model_4.show_topics(formatted=True, num_topics=10, num_words=20)"
   ]
  },
  {
   "cell_type": "code",
   "execution_count": 61,
   "id": "40a4048b",
   "metadata": {},
   "outputs": [
    {
     "data": {
      "text/html": [
       "\n",
       "<link rel=\"stylesheet\" type=\"text/css\" href=\"https://cdn.jsdelivr.net/gh/bmabey/pyLDAvis@3.3.1/pyLDAvis/js/ldavis.v1.0.0.css\">\n",
       "\n",
       "\n",
       "<div id=\"ldavis_el1932415672231386724475999155\"></div>\n",
       "<script type=\"text/javascript\">\n",
       "\n",
       "var ldavis_el1932415672231386724475999155_data = {\"mdsDat\": {\"x\": [-0.08144456570663558, 0.11062421927448816, 0.09528051186276372, -0.029420984746369595, 0.04651592896968832, -0.005770030088556747, -0.09095288315534569, -0.039728888200636935, 0.02433577062931278, -0.029439078838708603], \"y\": [-0.05007194970402562, -0.08289064177043091, -0.019382412877579733, -0.09424746499727132, 0.11908294183006742, 0.06050049361280899, -0.01633932234535461, 0.018340704122032012, 0.0024488405475569285, 0.06255881158219677], \"topics\": [1, 2, 3, 4, 5, 6, 7, 8, 9, 10], \"cluster\": [1, 1, 1, 1, 1, 1, 1, 1, 1, 1], \"Freq\": [14.312927210141845, 11.74422707061768, 11.354872454708783, 10.928984234157578, 9.56941342354115, 9.336791322568555, 9.182028129866197, 8.74838055584094, 7.532880723235978, 7.289494875321294]}, \"tinfo\": {\"Term\": [\"bad\", \"love\", \"suck\", \"great\", \"good\", \"see\", \"one\", \"scene\", \"work\", \"like\", \"funny\", \"give\", \"excellent\", \"totally\", \"time\", \"script\", \"awful\", \"pretty\", \"character\", \"actor\", \"avoid\", \"go\", \"do\", \"really\", \"part\", \"wonderful\", \"end\", \"even\", \"stupid\", \"story\", \"suck\", \"pm\", \"kill\", \"brilliant\", \"manage\", \"villain\", \"mercy\", \"control\", \"hackneyed\", \"length\", \"lane\", \"girlfriend\", \"bold\", \"racism\", \"start\", \"hell\", \"remain\", \"disaster\", \"previous\", \"appreciate\", \"open\", \"around\", \"problem\", \"hat\", \"foreign\", \"taxidermist\", \"galley\", \"random\", \"shenanigan\", \"animal\", \"last\", \"enjoy\", \"pure\", \"see\", \"incredibly\", \"cartoon\", \"way\", \"dialogue\", \"write\", \"know\", \"give\", \"actor\", \"short\", \"bad\", \"certainly\", \"end\", \"child\", \"kind\", \"year\", \"must\", \"music\", \"much\", \"act\", \"like\", \"one\", \"script\", \"little\", \"watch\", \"come\", \"character\", \"wonderful\", \"every\", \"well\", \"play\", \"even\", \"think\", \"ray\", \"charles\", \"massive\", \"rate\", \"element\", \"unfolds\", \"machine\", \"mexican\", \"canada\", \"nun\", \"century\", \"explanation\", \"fox\", \"recently\", \"shakespear\", \"abysmal\", \"joe\", \"scare\", \"fun\", \"help\", \"th\", \"funny\", \"hole\", \"plmer\", \"refresh\", \"ann\", \"drawn\", \"enchant\", \"gay\", \"restrained\", \"animation\", \"period\", \"beyond\", \"martin\", \"gem\", \"fast\", \"ed\", \"fan\", \"one\", \"waste\", \"real\", \"time\", \"think\", \"story\", \"game\", \"whole\", \"watch\", \"use\", \"ever\", \"job\", \"really\", \"nice\", \"slow\", \"move\", \"say\", \"find\", \"even\", \"plot\", \"bad\", \"much\", \"like\", \"could\", \"acting\", \"play\", \"better\", \"scene\", \"make\", \"do\", \"scamp\", \"might\", \"angel\", \"junkyard\", \"bear\", \"asleep\", \"ask\", \"cute\", \"dog\", \"realize\", \"boring\", \"carry\", \"vulcan\", \"cant\", \"steal\", \"thinking\", \"dosen\", \"humor\", \"laughed\", \"guard\", \"enterprise\", \"crocdodile\", \"fabulous\", \"baxendale\", \"belly\", \"novella\", \"distract\", \"goalie\", \"naughty\", \"puppet\", \"charm\", \"question\", \"theme\", \"huston\", \"etc\", \"conflict\", \"finally\", \"explain\", \"care\", \"oscar\", \"sing\", \"scene\", \"pointless\", \"giallo\", \"aerial\", \"significant\", \"right\", \"could\", \"like\", \"interesting\", \"thing\", \"really\", \"though\", \"look\", \"lot\", \"terrible\", \"good\", \"art\", \"watch\", \"see\", \"character\", \"well\", \"story\", \"anyone\", \"time\", \"ever\", \"attempt\", \"find\", \"make\", \"one\", \"show\", \"love\", \"recommend\", \"visual\", \"spoil\", \"horrible\", \"as\", \"fifteen\", \"computer\", \"fi\", \"excellently\", \"sci\", \"home\", \"exquisite\", \"direct\", \"value\", \"perhaps\", \"jet\", \"shatner\", \"kirk\", \"mountain\", \"former\", \"chimp\", \"professional\", \"rescue\", \"native\", \"melodrama\", \"um\", \"tacky\", \"brainsucking\", \"trouble\", \"rochon\", \"tolerable\", \"wish\", \"lame\", \"direction\", \"thoroughly\", \"brain\", \"trilogy\", \"effect\", \"angle\", \"camera\", \"best\", \"want\", \"like\", \"really\", \"part\", \"would\", \"time\", \"though\", \"even\", \"year\", \"bad\", \"make\", \"look\", \"top\", \"old\", \"act\", \"drama\", \"work\", \"real\", \"great\", \"watch\", \"see\", \"one\", \"get\", \"recommend\", \"character\", \"type\", \"own\", \"costume\", \"beautifully\", \"sand\", \"complex\", \"mishima\", \"concern\", \"versus\", \"making\", \"check\", \"scenery\", \"whatever\", \"bailey\", \"hot\", \"ole\", \"crisp\", \"color\", \"naked\", \"jack\", \"dracula\", \"sphere\", \"jason\", \"sven\", \"thorsen\", \"cameo\", \"surprising\", \"koteas\", \"elia\", \"eiko\", \"worth\", \"decent\", \"offer\", \"fear\", \"self\", \"stage\", \"spoiler\", \"fascinate\", \"awesome\", \"main\", \"issue\", \"situation\", \"daughter\", \"delight\", \"fx\", \"kid\", \"believable\", \"white\", \"least\", \"rather\", \"good\", \"cinematography\", \"say\", \"make\", \"pretty\", \"another\", \"man\", \"acting\", \"long\", \"play\", \"little\", \"act\", \"character\", \"black\", \"saw\", \"beautiful\", \"two\", \"one\", \"see\", \"even\", \"time\", \"ever\", \"get\", \"many\", \"dialogue\", \"screen\", \"go\", \"soundtrack\", \"stereotype\", \"journey\", \"theatre\", \"reveal\", \"neil\", \"terribly\", \"genius\", \"subject\", \"place\", \"excellent\", \"song\", \"anniversary\", \"latter\", \"labute\", \"touching\", \"seperate\", \"killing\", \"reporter\", \"mansonites\", \"brutal\", \"us\", \"violence\", \"impact\", \"normally\", \"surf\", \"deep\", \"unethical\", \"task\", \"recover\", \"laughable\", \"truly\", \"racial\", \"next\", \"surprise\", \"screenwriter\", \"course\", \"joke\", \"simply\", \"stupid\", \"first\", \"greatest\", \"great\", \"incredible\", \"happen\", \"bore\", \"go\", \"drama\", \"good\", \"plot\", \"garbage\", \"one\", \"keep\", \"two\", \"take\", \"let\", \"make\", \"director\", \"end\", \"get\", \"watch\", \"better\", \"find\", \"would\", \"performance\", \"bad\", \"script\", \"cast\", \"also\", \"step\", \"wholesome\", \"blow\", \"estevez\", \"ponyo\", \"hero\", \"development\", \"pg\", \"mediocre\", \"true\", \"totally\", \"negulesco\", \"blandly\", \"chodorov\", \"commercial\", \"luv\", \"edward\", \"marion\", \"diaper\", \"personality\", \"tone\", \"minor\", \"thomerson\", \"bipolarity\", \"draft\", \"unrestrained\", \"ventura\", \"crime\", \"slacker\", \"kevin\", \"unconvincing\", \"sea\", \"narrative\", \"miss\", \"footage\", \"ruthless\", \"joy\", \"may\", \"rating\", \"recommend\", \"hitchcock\", \"script\", \"character\", \"faux\", \"three\", \"give\", \"masterpiece\", \"change\", \"american\", \"minute\", \"also\", \"great\", \"everything\", \"make\", \"look\", \"actor\", \"story\", \"one\", \"see\", \"ever\", \"work\", \"take\", \"like\", \"many\", \"stupid\", \"director\", \"lack\", \"performance\", \"cast\", \"real\", \"go\", \"scene\", \"way\", \"waste\", \"memory\", \"sure\", \"cost\", \"half\", \"return\", \"chase\", \"chilly\", \"cannot\", \"avoid\", \"agree\", \"quality\", \"theater\", \"nervous\", \"harris\", \"strange\", \"starlet\", \"event\", \"colour\", \"boob\", \"worry\", \"round\", \"subversive\", \"flag\", \"discomfort\", \"intangible\", \"overt\", \"rubin\", \"pile\", \"viewer\", \"hilt\", \"remake\", \"pretty\", \"smart\", \"wonderful\", \"bad\", \"actually\", \"thought\", \"age\", \"hour\", \"become\", \"performance\", \"cool\", \"part\", \"tale\", \"episode\", \"role\", \"whether\", \"actor\", \"go\", \"play\", \"line\", \"acting\", \"work\", \"good\", \"watch\", \"think\", \"character\", \"way\", \"story\", \"see\", \"great\", \"give\", \"well\", \"end\", \"time\", \"every\", \"nothing\", \"important\", \"war\", \"astronaut\", \"voice\", \"scenes\", \"cult\", \"father\", \"forget\", \"serious\", \"european\", \"annoy\", \"cold\", \"throwback\", \"grant\", \"ussr\", \"exchange\", \"disbelief\", \"ton\", \"interact\", \"slightly\", \"political\", \"mar\", \"volatile\", \"temperament\", \"creativity\", \"host\", \"slavic\", \"artistic\", \"indication\", \"abroad\", \"female\", \"live\", \"try\", \"final\", \"sense\", \"case\", \"although\", \"word\", \"worst\", \"whatsoever\", \"enough\", \"usual\", \"convince\", \"something\", \"anything\", \"easily\", \"one\", \"bad\", \"show\", \"make\", \"ever\", \"get\", \"line\", \"say\", \"well\", \"think\", \"character\", \"lot\", \"even\", \"life\", \"time\", \"use\", \"see\", \"find\", \"like\", \"never\", \"italian\", \"rest\", \"call\", \"riz\", \"ortolani\", \"superbad\", \"unaccompanied\", \"vocal\", \"spot\", \"interim\", \"gallon\", \"soon\", \"bright\", \"recur\", \"distant\", \"flashback\", \"thus\", \"sole\", \"weight\", \"forth\", \"bos\", \"spew\", \"aurvag\", \"technically\", \"bothersome\", \"narration\", \"join\", \"linear\", \"telephone\", \"bitchy\", \"awful\", \"bit\", \"genuine\", \"solid\", \"love\", \"reviewer\", \"hill\", \"early\", \"recent\", \"work\", \"tv\", \"terrific\", \"saw\", \"storyline\", \"even\", \"young\", \"nut\", \"pretentious\", \"easy\", \"balance\", \"guy\", \"get\", \"depth\", \"predictable\", \"lose\", \"flick\", \"particularly\", \"cast\", \"really\", \"act\", \"well\", \"look\", \"man\", \"great\", \"end\", \"play\", \"part\", \"character\", \"story\", \"good\", \"thing\", \"acting\", \"also\", \"best\"], \"Freq\": [52.0, 23.0, 13.0, 30.0, 43.0, 50.0, 59.0, 23.0, 21.0, 45.0, 14.0, 20.0, 12.0, 11.0, 36.0, 19.0, 10.0, 9.0, 43.0, 22.0, 7.0, 20.0, 6.0, 30.0, 11.0, 13.0, 18.0, 29.0, 11.0, 24.0, 12.294714955655309, 2.44440102604695, 2.444393827606115, 4.006892271627368, 1.6558333117847561, 1.655825068408961, 1.6558239073701169, 1.6558236751623479, 1.6558230946429258, 1.655822630227388, 1.6558184504875482, 1.655815431786553, 1.6547608602042165, 1.6539893498921363, 5.540081683269253, 1.6411829753349114, 1.6375536840113125, 1.6272618873832123, 1.5302415340160433, 2.4444040447479454, 2.4444007938391814, 3.7813484013055825, 3.2183386059351915, 1.3158111275125142, 0.8672344236295909, 0.8672336109023999, 0.8672333206426888, 0.8672332045388044, 0.8672330884349199, 0.8672330884349199, 2.444320914366689, 5.514880174113477, 1.6534329800779168, 23.24448994464738, 1.6558251845128455, 2.4435692578188473, 8.612457039976396, 4.80860584820488, 5.643059326946856, 6.409727178214994, 7.90045321957863, 7.944451947624667, 4.001435853474393, 12.393672618438185, 3.2329598003100424, 6.063305696144268, 3.232962122387731, 3.221702135467315, 5.270333813233746, 3.206893085007446, 4.019395731150099, 4.782283239940986, 4.933667843948909, 7.329063742452922, 8.037089843769897, 4.804207368646889, 4.021526934052814, 5.647247890681786, 3.889855144167818, 5.846402276902243, 4.012067718380008, 4.092093017351138, 4.502587589086963, 4.186295993858572, 4.3348341950356515, 4.017567791593532, 3.080904837089468, 3.080895119850151, 2.3451806386820597, 2.3311205555270105, 1.5886287762706843, 1.5886283952024758, 1.5886265851284853, 1.588625537190912, 1.5886253466568077, 1.5886249655885993, 1.5886237271169217, 1.5886215359747227, 1.5886208691053578, 1.588617248957377, 1.5886148672810738, 1.5886033399677666, 1.575799257627945, 1.574497528627697, 3.1017195447743457, 2.3451882600462297, 2.315636229942679, 9.051891938382818, 3.0857089639940716, 0.8320540497667988, 0.8320537639656423, 0.8320536686985902, 0.8320531923633296, 0.8320531923633296, 0.8320530970962775, 0.8320530970962775, 1.5886294431400492, 2.345180257613851, 2.3451705403745344, 1.5886275377990067, 1.588626204060277, 2.345176446931766, 1.588612676138875, 3.10169687121594, 17.36226629838435, 6.060976739799659, 5.88856547740792, 10.480009831345118, 6.865160222932929, 6.88449486169598, 3.75619199869643, 3.1032866877818166, 6.919130151166863, 3.8610196711054483, 4.934634382515448, 3.1017195447743457, 5.299955709438955, 2.345125002723618, 2.3311245567431995, 2.3451730173178897, 3.1038483823211505, 3.0894045634801386, 3.732112298601094, 3.3420623124231694, 4.0779583725926125, 3.1017393603211882, 3.8606671830125827, 3.101736883377833, 3.1017275472067243, 3.115750095143236, 2.902737158340075, 3.104709977540577, 3.2321771027508928, 5.914154505264091, 3.1101102941017644, 2.3512025818810622, 2.3501634117793064, 1.5954171696168677, 1.5954120115309167, 1.595412195748272, 1.5954099851400074, 1.5953972741424856, 1.5911586170123133, 1.5385658515699085, 3.846586227391317, 1.3916526027549283, 0.8356134241795476, 0.8356123188754153, 0.8356122267667375, 0.8356116741146714, 0.8356115820059937, 0.8356113056799607, 0.8356109372452498, 0.8356108451365721, 0.8356107530278944, 0.8356105688105391, 0.8356104767018614, 0.8356104767018614, 0.8356103845931837, 0.835610292484506, 0.8356101082671505, 0.8356101082671505, 0.8356100161584729, 2.0917762805445954, 1.59541348526976, 1.5954077745317428, 2.3460133631970765, 1.5899993371948429, 1.5954142221391814, 1.5954099851400074, 1.5954151432259585, 1.595411643096206, 2.337019687689573, 1.595395984620998, 1.594046592492765, 10.90378989581172, 1.5813162521485273, 1.5954105377920738, 1.5762887763025744, 1.5865675520812794, 4.607687231445294, 5.392962710612413, 10.113015528586205, 3.1001839261239206, 5.181866569331978, 6.771667136000355, 3.1241926056172105, 5.179802598082187, 3.090431643546921, 3.064027217346782, 7.002134100634777, 3.0691304065258005, 5.462565922434191, 6.400767597004902, 5.370900103261465, 4.320000514053134, 4.1537034545606115, 3.1149677373286924, 4.649201717786601, 3.7161990254197113, 2.3495582577668497, 3.114982106282413, 4.483958750001622, 4.852901900682832, 3.1149721585452217, 3.1142651323352344, 2.3675977422934316, 3.0431042558218673, 2.3050654475388686, 3.8012983621593293, 1.5708915968274448, 1.5708907102879524, 1.5708878733615763, 1.5689977711635312, 1.568476308634033, 1.5683897823795634, 1.4977650321714275, 1.4899258953628, 3.8152102944916946, 2.3189929829663023, 2.3183468729841565, 0.8227699089342086, 0.8227695543184117, 0.8227694656644624, 0.8227691997026146, 0.8227689337407669, 0.8227687564328684, 0.8227686677789191, 0.8227684018170714, 0.8227684018170714, 0.8227684018170714, 0.8227681358552237, 0.8227679585473251, 0.8227677812394266, 0.8227675152775789, 0.8227674266236297, 0.8227674266236297, 1.5699867946213826, 2.305051794830684, 2.3208777659273925, 1.5708907102879524, 1.5708903556721552, 1.5569649479395038, 3.7252995868554573, 1.51032321869872, 3.5831206384352314, 7.540900667955453, 3.3765388512732484, 13.214163339374585, 8.394735363977185, 3.815184407538513, 5.311401009832311, 8.637551438661504, 3.051747661258106, 6.0586832334800835, 3.812058823903697, 7.541843945975491, 6.878431549861949, 4.664760167838196, 2.3179259440331097, 2.31900628105869, 3.067108199121243, 2.318993160274201, 3.0670876314050166, 2.6637965608697147, 3.07172990680363, 3.0647620610082473, 3.0670886952524077, 3.0882915283712284, 2.43766941482412, 2.3517892703366594, 2.3666115014199405, 2.239747218849422, 2.2397402325673808, 1.5172073000817703, 1.5172049713210898, 1.5172049713210898, 1.5172051265718018, 1.5171941037712482, 1.5137355836595197, 1.5114093069905723, 1.5037666249391213, 2.2397127531913528, 1.757928031343537, 2.9622689732837673, 0.7946596964038734, 0.7946589977756693, 0.7946586872742452, 0.7946583767728211, 0.7946582215221092, 0.7946581438967532, 0.7946580662713971, 0.7946580662713971, 0.7946576781446171, 0.794657600519261, 0.794657522893905, 0.794657522893905, 0.7946573676431931, 0.7946573676431931, 0.794656901891057, 0.7946566690149889, 0.7946566690149889, 5.203725036720423, 1.5172094735917385, 1.517197985039049, 1.5172026425604095, 2.956186871389568, 1.5067974293392274, 2.2125946455702206, 1.5171916197598558, 1.5171413185291607, 1.5172015558054255, 1.517205902825362, 1.5172045055689538, 1.5172032635632577, 1.51717733669435, 1.517204816070378, 3.128113683393418, 2.226337593849178, 2.9563772087625075, 2.9622636947595584, 2.239720515726954, 9.407228731149482, 2.936936714603031, 4.1718791243900455, 8.08150253600295, 3.1053045592844746, 2.2397445795873177, 2.96689451299777, 3.684802371521514, 2.239733401536052, 3.6730443035957667, 2.9626564790609757, 2.9594396843078665, 3.697779157536639, 2.2385239984893954, 2.239738369558837, 2.1907681032176685, 2.2400597385327234, 3.4688834072575014, 3.2526250649370074, 2.664074894183351, 2.6698589147104674, 2.4548980025903466, 2.241199744511106, 2.240722503822348, 2.24051617562607, 2.2402357928401573, 2.239742095575925, 2.9293613165597097, 2.224956326880243, 2.224953600299014, 1.5071820005736196, 1.5071780621785107, 1.501192761950221, 1.4938841609653617, 1.4938802225702528, 1.4908873452410054, 3.6205508699747337, 7.015800091632436, 3.636617098391035, 0.789416990086196, 0.7894164599176237, 0.7894164599176237, 0.7894161569641537, 0.7894160812257862, 0.7894160812257862, 0.7894160054874187, 0.7894154753188465, 0.7894151723653765, 0.7894150208886416, 0.7894147936735392, 0.7894146421968041, 0.7894146421968041, 0.7894145664584367, 0.7894144149817017, 0.7894143392433343, 0.7894141120282319, 0.7894141120282319, 1.5071932098520062, 3.6338796108369227, 1.5071919980381268, 1.5071962393867053, 1.5068202741305463, 1.4997444928873132, 1.5071895744103674, 1.507194421665886, 3.5527601838267073, 4.378235377546976, 3.6428449128719884, 1.4297887497665707, 9.975239840498755, 2.1934790069263217, 2.224960871182292, 2.91610134613519, 6.3847213539032035, 2.8796736150061943, 9.831030959286588, 5.5411783181909335, 2.213057980826237, 7.845985302949406, 2.2116497016213574, 2.9291065326915144, 2.947214364541544, 2.2116603049928045, 5.942188131800622, 2.9427103553043823, 3.662902250300893, 3.6658593791206906, 4.338526054431908, 2.93566486940814, 2.9427212616292993, 2.942724897070938, 2.7026948628607315, 3.6486934296086133, 2.946292174179136, 2.547345776653009, 2.3385197983668644, 1.5056252938741455, 1.5056218676581525, 1.5055788165093722, 1.5042735771819906, 1.5035014868562864, 1.5006206350699096, 1.4368031911566157, 2.2226490292426133, 2.2161855472549665, 2.2093530767014755, 6.367565815755296, 0.7885973874601208, 0.7885965681476007, 0.7885963446987316, 0.7885958978009935, 0.7885957488350808, 0.7885956743521243, 0.7885955998691679, 0.7885954509032552, 0.7885953764202989, 0.7885951529714298, 0.7885951529714298, 0.7885945571077788, 0.7885944826248225, 0.7885942591759534, 0.7885940357270843, 0.788593961244128, 0.788593961244128, 0.7885938867611715, 0.7885938867611715, 1.5056302097492658, 1.5048616946054671, 1.5056261876696218, 1.4922940364116895, 1.4894607047514752, 1.5076485489009084, 2.109239045388977, 1.734019682313111, 2.222578121468152, 5.03265307442054, 2.2014462639853423, 6.503811827133427, 11.693411812029366, 1.3147878934220327, 1.5056172497148577, 5.029742280485704, 1.505624400078669, 1.5056318483743059, 1.505628869056051, 2.9331605707699704, 4.263929080412446, 5.066113201875363, 2.93965905974711, 5.1368279165141875, 3.6244199067014042, 3.6442839153009285, 3.660248592168709, 5.171560212863764, 4.373683291801659, 2.9940611131460058, 2.9389922883217094, 2.217384722852481, 3.1367656906366634, 2.218304438397705, 2.2226269822875286, 2.209355758087905, 1.9726796097304522, 2.231724032646413, 2.2156936618111165, 2.222644858197057, 2.2436645443475776, 2.2355137254663844, 2.2303006633502327, 2.217322455100958, 2.1824600017862656, 2.182388610709105, 3.5774869253544943, 3.5479366966328842, 1.4784051728854282, 1.4784050309548573, 1.4784046051631445, 1.4776878557801219, 4.946463202287687, 1.4364878238688283, 2.1824568793137056, 2.1622757714380576, 0.7743424668379063, 0.7743420410461936, 0.7743419700809082, 0.7743418281503373, 0.7743418281503373, 0.7743418281503373, 0.7743417571850518, 0.7743416862197664, 0.774341615254481, 0.7743415442891954, 0.7743415442891954, 0.77434147332391, 0.7743412604280537, 0.7743412604280537, 0.7743411894627682, 0.7743411894627682, 0.7743411184974828, 0.7743409056016265, 1.4783997795237342, 4.710521795286792, 1.4635575320028955, 5.671547316155844, 17.17076500873043, 3.166116494115195, 2.1824611372308325, 2.18176979342, 2.7189298833103863, 2.1824682337593773, 4.1312273445369065, 2.158793930672846, 3.5885782317477033, 1.478409572733126, 1.4784071599134208, 2.1814048899222276, 1.4788000237336598, 4.998647099150021, 4.285900725948678, 4.2913170803951965, 3.1831671813191695, 3.641495909661568, 3.5897622165701146, 4.718420799279417, 4.181360060788657, 3.577746942160375, 4.3706153935214305, 3.241677775309747, 3.4018665787065223, 3.854447118927648, 3.3672863305523713, 3.0177519265797343, 2.7724819908761544, 2.484877004485829, 2.2569258628346454, 2.182867342524736, 2.182468375689948, 2.1140470873497397, 2.0757843711843846, 1.4320741282913325, 1.4320498083540723, 1.4266282955061589, 2.7877682550325558, 1.3938997704909981, 2.7235553103354415, 2.0943193408558582, 1.248934246177288, 2.054165291278252, 0.7500785602460253, 0.7500783158245452, 0.7500781936138052, 0.7500780102976952, 0.7500777658762152, 0.7500775825601053, 0.7500774603493652, 0.7500774603493652, 0.7500772159278852, 0.7500772159278852, 0.7500770326117752, 0.7500769715064052, 0.7500768492956652, 0.7500768492956652, 0.7500767881902952, 0.7500763604527052, 0.7500762993473352, 0.7500761160312251, 0.7500760549258552, 1.4282287673572087, 1.4320702175476523, 3.453294703755362, 1.4320641070106523, 1.426007953789915, 1.4320622738495523, 1.424198012730504, 2.777720332411174, 3.465356659371956, 1.31768878639431, 2.7960292122136465, 1.4320564077340323, 1.4319046219949514, 1.4320707063906124, 2.1140480650356595, 1.4194152954205748, 7.456092890420498, 6.790081998324329, 3.4780096261271938, 5.846038739668693, 3.8877746602838297, 3.4780057153835138, 2.77704255164713, 2.7814858897320773, 3.4720755614357173, 3.2616887948385056, 3.915704702803601, 2.0920870394790048, 2.782262416774042, 2.080902068132656, 2.7960243237840468, 2.1049184339146434, 2.783384800210209, 2.11252898553745, 2.6058996090359994, 2.0555677817305003, 1.4234187951741575, 2.088724318528654, 2.7183521659730787, 0.7455521181983085, 0.7455517042808333, 0.7455515268876296, 0.7455514086254937, 0.7455511129701543, 0.7455507581837469, 0.7455504625284075, 0.7455504625284075, 0.7455502260041359, 0.7455501668730681, 0.7455501077420001, 0.7455497529555928, 0.7455497529555928, 0.7455495164313213, 0.7455492799070497, 0.7455492207759817, 0.7455492207759817, 0.745549102513846, 0.7455488659895744, 0.7455488068585066, 0.7455483338099633, 0.7455480381546239, 0.7455478016303524, 0.7455475059750128, 0.7455473285818092, 0.7455471511886055, 0.745546855533266, 5.203919509109379, 2.1012714580869156, 1.4234225795625026, 2.101280209484964, 10.163886938424058, 1.417616736530402, 1.4234238804459962, 1.423420214319787, 1.4234211604168732, 5.491356103183736, 2.247741951548086, 1.6475528610403882, 2.766574497936561, 1.4108378326450612, 6.040417397575982, 1.4110512958001535, 1.4233471283198715, 1.4020669213445554, 1.4234144194751335, 1.397583722039076, 1.3703516182939648, 3.9667312922337676, 1.3156241592894844, 2.1012657815043982, 1.4234236439217247, 1.6998146727758838, 1.4234210421547373, 2.7784513277091922, 3.9627361607626734, 2.6715939192506166, 3.2305953826798763, 2.8135917387363927, 2.089502246857849, 3.023279020357245, 2.511627114329373, 2.6317334298599593, 2.101283993873309, 3.2241212403184543, 2.506626991228377, 2.8081649258494834, 2.2610341425617944, 2.105325484101631, 2.0352256031149816, 1.778393712374057], \"Total\": [52.0, 23.0, 13.0, 30.0, 43.0, 50.0, 59.0, 23.0, 21.0, 45.0, 14.0, 20.0, 12.0, 11.0, 36.0, 19.0, 10.0, 9.0, 43.0, 22.0, 7.0, 20.0, 6.0, 30.0, 11.0, 13.0, 18.0, 29.0, 11.0, 24.0, 13.314809376568585, 3.0929686331897437, 3.0929620493371934, 5.424886852393383, 2.304400633505703, 2.3043927468449557, 2.304391700852223, 2.3043914361260565, 2.304390867004353, 2.3043905450174433, 2.304386500386093, 2.304383682412347, 2.3042900781135573, 2.304234047457404, 7.719020226634363, 2.3031321045858935, 2.301678969904407, 2.3002269237585633, 2.2926189984197967, 3.815372211690849, 3.8525952108033783, 6.142645153345166, 5.35898702887321, 2.2756461643892467, 1.515801602740569, 1.5158008104015577, 1.515800528428073, 1.5158004212344323, 1.5158002860242474, 1.5158002870513256, 4.491649189352725, 10.704574055667154, 3.0081997530942592, 50.501162174296354, 3.022031353690841, 4.600041990136963, 19.59172926172191, 10.512608464191427, 12.861028910415316, 15.018607568459903, 20.019492273310316, 22.364172821552447, 8.985269015005485, 52.603909927998146, 6.697131586891008, 18.300341673488, 6.72186316782131, 6.70603415931432, 15.004235531372482, 6.801478689698173, 11.176000579513273, 15.706077383896025, 17.016773930068037, 45.48171865767054, 59.66227040273062, 19.946275106367445, 13.304447202723605, 34.87407670150365, 12.576412411245125, 43.59588246321903, 13.930611834394751, 15.460078239011782, 26.286601184779002, 21.928079649881045, 29.780933389210865, 23.59672900391042, 3.7543514035888754, 3.754344917528196, 2.996950303994, 2.996264044690241, 2.2403977034405655, 2.24039724357116, 2.240395667538738, 2.2403945315302307, 2.240394454306451, 2.2403939843316643, 2.2403927587195454, 2.240390844698454, 2.2403902303777605, 2.2403866660991674, 2.240384510029407, 2.2403735627612056, 2.2398100105924015, 2.2393207507694677, 4.470424432104937, 3.7193611952026404, 3.756210560844165, 14.922855747532765, 5.1344263625413005, 1.48382254254327, 1.4838222826128449, 1.4838221695784422, 1.4838216887848614, 1.4838216995125344, 1.483821598125173, 1.4838216083455964, 2.9222621643203244, 4.426769381301917, 4.436217751618151, 2.9443844429435653, 2.9627955477731875, 4.507717428682165, 2.9883349171586118, 6.635806091206362, 59.66227040273062, 16.996100116315883, 16.40217693376055, 36.36222929818357, 23.59672900391042, 24.24107818980378, 9.52095203668991, 7.504330536722754, 34.87407670150365, 12.528951783184766, 21.988694554595504, 8.724767112189985, 30.926372157605922, 5.22677800983289, 5.184939839820593, 5.902714584232524, 14.501316779325021, 14.599897062063606, 29.780933389210865, 21.101708473534288, 52.603909927998146, 15.706077383896025, 45.48171865767054, 16.42041534065093, 19.71012858161002, 21.928079649881045, 14.21465852306989, 23.946308842907705, 45.03680416375, 6.810072985618599, 3.7661667332170494, 3.0062864505743296, 3.0063682762175388, 2.2468629269842726, 2.2468579515253064, 2.2468583264708126, 2.2468562191379524, 2.246844466907999, 2.246972970789701, 2.248910538324465, 5.92007687863664, 2.2544184682868904, 1.4870589811682653, 1.4870578984320089, 1.4870578030854495, 1.487057273285727, 1.4870571867963847, 1.4870569104703515, 1.4870565527299797, 1.4870564593157956, 1.4870563660260485, 1.4870561873436945, 1.4870560992401838, 1.4870561029891622, 1.48705601026747, 1.4870559345058, 1.4870557242799318, 1.4870557418673718, 1.4870556615790076, 3.7415936629898447, 2.9246196704085046, 2.9507867676489825, 4.476459265621411, 2.950321805853341, 2.9637519845668994, 2.963745858995826, 2.9644959888767635, 2.9651751774383683, 4.471203665350568, 2.969246145751292, 2.969187412667732, 23.946308842907705, 2.9685382673209033, 3.003245845248476, 2.969469614680121, 3.0345611652615223, 10.368669371959609, 16.42041534065093, 45.48171865767054, 8.047828473768755, 19.250162276017125, 30.926372157605922, 9.007060641996414, 21.982547519621964, 9.606070293977899, 9.527988274138396, 43.028565665660736, 10.912273058493641, 34.87407670150365, 50.501162174296354, 43.59588246321903, 26.286601184779002, 24.24107818980378, 11.978128311734086, 36.36222929818357, 21.988694554595504, 6.553933966193276, 14.599897062063606, 45.03680416375, 59.66227040273062, 17.613331651829924, 23.660836370510587, 13.839557758331974, 3.7187242427155915, 2.971698788618502, 5.254841729684662, 2.223505521522681, 2.2235044333578986, 2.22350203573154, 2.2236063219289557, 2.223632494860665, 2.223637435162463, 2.220420336364806, 2.220035076588009, 5.907120590589959, 3.649400866751068, 3.6892574041411157, 1.4753833681707211, 1.475382993807677, 1.4753829290765723, 1.4753826633432297, 1.4753824213665612, 1.4753822325675336, 1.4753821673153924, 1.475381883904929, 1.475381895973533, 1.4753819043910923, 1.4753816403451991, 1.4753814419374847, 1.4753813006721908, 1.4753810422425238, 1.475380931012686, 1.475380935250618, 2.9273484909448206, 4.448189304264601, 4.487609801503458, 3.0118705815405793, 3.0118779162637552, 3.0119550200962646, 8.134019524433064, 2.9433809265746267, 8.016884085796724, 19.238742123872047, 8.02276516640375, 45.48171865767054, 30.926372157605922, 11.537543727063504, 18.535168404546766, 36.36222929818357, 9.007060641996414, 29.780933389210865, 15.004235531372482, 52.603909927998146, 45.03680416375, 21.982547519621964, 6.569673731718434, 6.707687915449688, 17.016773930068037, 8.065426561072332, 21.568813072149258, 16.40217693376055, 30.37080228584104, 34.87407670150365, 50.501162174296354, 59.66227040273062, 22.240364652932627, 13.839557758331974, 43.59588246321903, 2.894918417935444, 2.8949116698603645, 2.1723781189153875, 2.1723759473646176, 2.172376043481199, 2.172376270648612, 2.172366066064203, 2.1725052301258185, 2.1725920619680394, 2.1735332298965093, 3.598812659762859, 2.8823949736588883, 5.080989739004859, 1.4498303053896122, 1.4498296133764352, 1.4498293162238811, 1.4498289955099113, 1.4498288585632726, 1.4498287799021876, 1.4498287037291753, 1.4498287121745703, 1.4498283392718787, 1.449828261624067, 1.4498281631187493, 1.4498281643617479, 1.4498280064533007, 1.4498280289678531, 1.4498275348818646, 1.449827324306995, 1.4498273288207888, 10.096467572455223, 2.85014050100673, 2.850127028109644, 2.854253443230641, 5.803000752158526, 2.8541789480128736, 4.295247031182659, 2.889246652067857, 2.8891948058577763, 2.8899871579139615, 2.8900085693735207, 2.8900065382808853, 2.928767703616544, 2.9287400492810995, 2.960752159955206, 7.450278960188298, 5.077226925582741, 7.2348431160942255, 7.347206402200035, 5.143527344848896, 43.028565665660736, 7.760771615331732, 14.501316779325021, 45.03680416375, 9.993272468276299, 5.80328099138255, 10.117414647002079, 19.71012858161002, 6.68554823678293, 21.928079649881045, 13.304447202723605, 17.016773930068037, 43.59588246321903, 8.043992138326699, 9.255928752676828, 8.831015905513132, 10.135398810172031, 59.66227040273062, 50.501162174296354, 29.780933389210865, 36.36222929818357, 21.988694554595504, 22.240364652932627, 10.91076137954784, 10.512608464191427, 11.586561433793632, 20.920953894772307, 3.5988697943213257, 2.880604943486902, 2.88060254387261, 2.1628310444671475, 2.162827323488162, 2.163434732430297, 2.1621622971314105, 2.1635401478773693, 2.164440314408319, 5.80819140187969, 12.305713543284392, 6.51909334622857, 1.4450644597336109, 1.445063929010642, 1.4450639487296928, 1.4450636471346385, 1.445063560179276, 1.4450635730362575, 1.445063487177468, 1.4450629964741952, 1.445062681231303, 1.445062537172885, 1.4450623009655104, 1.4450621700787223, 1.4450621832766255, 1.4450621363790308, 1.4450619622785554, 1.4450619207674167, 1.445061666504015, 1.4450616672559626, 2.844699579447207, 7.248454989121271, 2.8667751100318006, 2.8797349790497266, 2.8852227498417258, 2.8804620532579497, 2.910763830513252, 2.9512171724770018, 8.033875264352504, 11.031204474724426, 8.864052976382157, 2.9236824878203556, 30.37080228584104, 4.977440990607435, 5.1169346418821355, 7.357458258705972, 20.920953894772307, 8.065426561072332, 43.028565665660736, 21.101708473534288, 5.742588887521666, 59.66227040273062, 5.858757104746154, 10.135398810172031, 10.33286759412165, 6.005034260791313, 45.03680416375, 10.857345323313966, 18.300341673488, 22.240364652932627, 34.87407670150365, 14.21465852306989, 14.599897062063606, 18.535168404546766, 13.69356500325106, 52.603909927998146, 19.946275106367445, 15.267949521228413, 18.859793773283187, 2.1613479943252654, 2.1613449627635095, 2.1613048556212653, 2.1614917013461543, 2.1614766054645664, 2.161559930143919, 2.164302002165935, 3.5561283490219857, 3.5960255599157978, 3.635525799682765, 11.55818096170096, 1.4443195053315185, 1.4443187008467855, 1.4443184702231828, 1.4443180524856813, 1.4443178991207073, 1.4443178053356882, 1.4443177871669166, 1.4443176153545203, 1.4443175464683986, 1.4443173066514954, 1.444317345849488, 1.4443167521402485, 1.444316693908958, 1.4443164608764776, 1.4443162557366498, 1.4443161926158123, 1.4443162013859594, 1.4443160814382114, 1.4443161247463854, 2.839111182999705, 2.879032079073303, 2.9093018327853932, 2.8836908426240107, 2.879017738288876, 2.9203815964557767, 4.387293400473176, 3.605063949109839, 5.064532647767214, 13.839557758331974, 5.052968348601103, 19.946275106367445, 43.59588246321903, 2.917304941189756, 3.5509354708730037, 20.019492273310316, 3.5954939806442914, 3.621340853268017, 3.626939331753981, 9.641246654154045, 18.859793773283187, 30.37080228584104, 12.566358691174226, 45.03680416375, 21.982547519621964, 22.364172821552447, 24.24107818980378, 59.66227040273062, 50.501162174296354, 21.988694554595504, 21.568813072149258, 10.33286759412165, 45.48171865767054, 10.91076137954784, 11.031204474724426, 10.857345323313966, 7.357760883072817, 13.69356500325106, 15.267949521228413, 16.40217693376055, 20.920953894772307, 23.946308842907705, 19.59172926172191, 16.996100116315883, 2.8394798003177244, 2.8394173099571307, 5.006694022410069, 5.01109117140773, 2.1354243068139116, 2.135424473490769, 2.135424078334389, 2.1353958119806196, 7.177506364973063, 2.136459784981167, 3.5874320653453933, 3.5576129050249694, 1.4313610778788908, 1.4313606663014855, 1.4313605832314185, 1.4313604346583682, 1.4313604446142567, 1.4313604497017152, 1.431360393876088, 1.4313603127054866, 1.4313602577210567, 1.4313601676346575, 1.431360182564362, 1.4313601155267441, 1.431359900951202, 1.43135992694246, 1.4313598141274861, 1.4313598355811123, 1.4313597860710725, 1.4313595704209308, 2.8131770588481118, 9.993272468276299, 2.885058193260264, 13.930611834394751, 52.603909927998146, 8.0277196804651, 5.126498876611829, 5.16431687455177, 7.199264884975632, 5.7129220019186695, 13.69356500325106, 5.7216625050174885, 11.537543727063504, 3.6010579115610266, 3.6094403576853864, 6.358232991951272, 3.682602468340055, 22.364172821552447, 20.920953894772307, 21.928079649881045, 14.324509629258054, 19.71012858161002, 21.568813072149258, 43.028565665660736, 34.87407670150365, 23.59672900391042, 43.59588246321903, 19.59172926172191, 24.24107818980378, 50.501162174296354, 30.37080228584104, 20.019492273310316, 26.286601184779002, 18.300341673488, 36.36222929818357, 15.460078239011782, 10.938544796558913, 2.7732743325841063, 2.7754712713800527, 2.0913000847878425, 2.0912793219934027, 2.091598659148217, 4.173300220589588, 2.0950163712973464, 4.138918504416221, 3.4966677895461578, 2.1002941773256825, 3.5393387742960507, 1.409304393802215, 1.4093041489974536, 1.4093040543426678, 1.4093038534391176, 1.409303613450762, 1.4093034621777005, 1.4093033235806494, 1.4093033493109879, 1.4093030913821845, 1.4093031139170507, 1.4093029376299948, 1.4093028593655315, 1.4093027299953476, 1.4093027697125575, 1.4093026937502415, 1.4093022476873647, 1.4093021966205697, 1.4093020662594617, 1.409301975237954, 2.769259399952352, 2.79522912171295, 7.151609584906514, 2.813695374281158, 2.8143490822138326, 2.8509127505157354, 2.880455094110923, 6.290800052549196, 8.507497139370997, 2.85663855498963, 8.65965171487693, 3.4914379628114895, 3.5547106471122243, 3.610731336788478, 6.576109765067179, 3.66888597887872, 59.66227040273062, 52.603909927998146, 17.613331651829924, 45.03680416375, 21.988694554595504, 22.240364652932627, 14.324509629258054, 14.501316779325021, 26.286601184779002, 23.59672900391042, 43.59588246321903, 9.606070293977899, 29.780933389210865, 10.799952242655078, 36.36222929818357, 12.528951783184766, 50.501162174296354, 14.599897062063606, 45.48171865767054, 14.037274232960883, 2.0830574117219935, 3.5220023113845396, 4.882042307269003, 1.4051898328388508, 1.405189429530751, 1.40518926966856, 1.405189135769017, 1.405188846362252, 1.4051885204476489, 1.4051882389082007, 1.405188239561154, 1.4051880288508256, 1.4051879304554966, 1.4051878680904812, 1.4051875197501533, 1.4051875697797178, 1.4051873222916393, 1.4051870760681322, 1.4051870433257925, 1.4051870586147195, 1.405186916527572, 1.4051866994601618, 1.4051866644037103, 1.4051861095789326, 1.405185923631909, 1.4051857289212526, 1.4051854030771787, 1.405185242704854, 1.4051850615111503, 1.4051848291014903, 10.583025968905291, 4.23970325332645, 2.8054596149272775, 4.271779398402115, 23.660836370510587, 2.8057818479808825, 2.8394557995808025, 2.842686023652956, 2.871435295259802, 21.568813072149258, 6.421837084289491, 4.284123700242026, 9.255928752676828, 3.52212641474244, 29.780933389210865, 3.55985568259476, 3.6310368068274954, 3.5575788067175487, 3.6598048433166572, 3.5805971422402965, 3.5115079951477433, 22.240364652932627, 3.5759385124192122, 7.826591426783713, 4.226263051675143, 5.7689226870985655, 4.336954451454603, 15.267949521228413, 30.926372157605922, 17.016773930068037, 26.286601184779002, 21.982547519621964, 10.117414647002079, 30.37080228584104, 18.300341673488, 21.928079649881045, 11.537543727063504, 43.59588246321903, 24.24107818980378, 43.028565665660736, 19.250162276017125, 19.71012858161002, 18.859793773283187, 19.238742123872047], \"Category\": [\"Default\", \"Default\", \"Default\", \"Default\", \"Default\", \"Default\", \"Default\", \"Default\", \"Default\", \"Default\", \"Default\", \"Default\", \"Default\", \"Default\", \"Default\", \"Default\", \"Default\", \"Default\", \"Default\", \"Default\", \"Default\", \"Default\", \"Default\", \"Default\", \"Default\", \"Default\", \"Default\", \"Default\", \"Default\", \"Default\", \"Topic1\", \"Topic1\", \"Topic1\", \"Topic1\", \"Topic1\", \"Topic1\", \"Topic1\", \"Topic1\", \"Topic1\", \"Topic1\", \"Topic1\", \"Topic1\", \"Topic1\", \"Topic1\", \"Topic1\", \"Topic1\", \"Topic1\", \"Topic1\", \"Topic1\", \"Topic1\", \"Topic1\", \"Topic1\", \"Topic1\", \"Topic1\", \"Topic1\", \"Topic1\", \"Topic1\", \"Topic1\", \"Topic1\", \"Topic1\", \"Topic1\", \"Topic1\", \"Topic1\", \"Topic1\", \"Topic1\", \"Topic1\", \"Topic1\", \"Topic1\", \"Topic1\", \"Topic1\", \"Topic1\", \"Topic1\", \"Topic1\", \"Topic1\", \"Topic1\", \"Topic1\", \"Topic1\", \"Topic1\", \"Topic1\", \"Topic1\", \"Topic1\", \"Topic1\", \"Topic1\", \"Topic1\", \"Topic1\", \"Topic1\", \"Topic1\", \"Topic1\", \"Topic1\", \"Topic1\", \"Topic1\", \"Topic1\", \"Topic1\", \"Topic1\", \"Topic1\", \"Topic1\", \"Topic2\", \"Topic2\", \"Topic2\", \"Topic2\", \"Topic2\", \"Topic2\", \"Topic2\", \"Topic2\", \"Topic2\", \"Topic2\", \"Topic2\", \"Topic2\", \"Topic2\", \"Topic2\", \"Topic2\", \"Topic2\", \"Topic2\", \"Topic2\", \"Topic2\", \"Topic2\", \"Topic2\", \"Topic2\", \"Topic2\", \"Topic2\", \"Topic2\", \"Topic2\", \"Topic2\", \"Topic2\", \"Topic2\", \"Topic2\", \"Topic2\", \"Topic2\", \"Topic2\", \"Topic2\", \"Topic2\", \"Topic2\", \"Topic2\", \"Topic2\", \"Topic2\", \"Topic2\", \"Topic2\", \"Topic2\", \"Topic2\", \"Topic2\", \"Topic2\", \"Topic2\", \"Topic2\", \"Topic2\", \"Topic2\", \"Topic2\", \"Topic2\", \"Topic2\", \"Topic2\", \"Topic2\", \"Topic2\", \"Topic2\", \"Topic2\", \"Topic2\", \"Topic2\", \"Topic2\", \"Topic2\", \"Topic2\", \"Topic2\", \"Topic2\", \"Topic2\", \"Topic2\", \"Topic2\", \"Topic3\", \"Topic3\", \"Topic3\", \"Topic3\", \"Topic3\", \"Topic3\", \"Topic3\", \"Topic3\", \"Topic3\", \"Topic3\", \"Topic3\", \"Topic3\", \"Topic3\", \"Topic3\", \"Topic3\", \"Topic3\", \"Topic3\", \"Topic3\", \"Topic3\", \"Topic3\", \"Topic3\", \"Topic3\", \"Topic3\", \"Topic3\", \"Topic3\", \"Topic3\", \"Topic3\", \"Topic3\", \"Topic3\", \"Topic3\", \"Topic3\", \"Topic3\", \"Topic3\", \"Topic3\", \"Topic3\", \"Topic3\", \"Topic3\", \"Topic3\", \"Topic3\", \"Topic3\", \"Topic3\", \"Topic3\", \"Topic3\", \"Topic3\", \"Topic3\", \"Topic3\", \"Topic3\", \"Topic3\", \"Topic3\", \"Topic3\", \"Topic3\", \"Topic3\", \"Topic3\", \"Topic3\", \"Topic3\", \"Topic3\", \"Topic3\", \"Topic3\", \"Topic3\", \"Topic3\", \"Topic3\", \"Topic3\", \"Topic3\", \"Topic3\", \"Topic3\", \"Topic3\", \"Topic3\", \"Topic3\", \"Topic3\", \"Topic3\", \"Topic3\", \"Topic3\", \"Topic3\", \"Topic3\", \"Topic4\", \"Topic4\", \"Topic4\", \"Topic4\", \"Topic4\", \"Topic4\", \"Topic4\", \"Topic4\", \"Topic4\", \"Topic4\", \"Topic4\", \"Topic4\", \"Topic4\", \"Topic4\", \"Topic4\", \"Topic4\", \"Topic4\", \"Topic4\", \"Topic4\", \"Topic4\", \"Topic4\", \"Topic4\", \"Topic4\", \"Topic4\", \"Topic4\", \"Topic4\", \"Topic4\", \"Topic4\", \"Topic4\", \"Topic4\", \"Topic4\", \"Topic4\", \"Topic4\", \"Topic4\", \"Topic4\", \"Topic4\", \"Topic4\", \"Topic4\", \"Topic4\", \"Topic4\", \"Topic4\", \"Topic4\", \"Topic4\", \"Topic4\", \"Topic4\", \"Topic4\", \"Topic4\", \"Topic4\", \"Topic4\", \"Topic4\", \"Topic4\", \"Topic4\", \"Topic4\", \"Topic4\", \"Topic4\", \"Topic4\", \"Topic4\", \"Topic4\", \"Topic4\", \"Topic4\", \"Topic4\", \"Topic4\", \"Topic4\", \"Topic4\", \"Topic4\", \"Topic5\", \"Topic5\", \"Topic5\", \"Topic5\", \"Topic5\", \"Topic5\", \"Topic5\", \"Topic5\", \"Topic5\", \"Topic5\", \"Topic5\", \"Topic5\", \"Topic5\", \"Topic5\", \"Topic5\", \"Topic5\", \"Topic5\", \"Topic5\", \"Topic5\", \"Topic5\", \"Topic5\", \"Topic5\", \"Topic5\", \"Topic5\", \"Topic5\", \"Topic5\", \"Topic5\", \"Topic5\", \"Topic5\", \"Topic5\", \"Topic5\", \"Topic5\", \"Topic5\", \"Topic5\", \"Topic5\", \"Topic5\", \"Topic5\", \"Topic5\", \"Topic5\", \"Topic5\", \"Topic5\", \"Topic5\", \"Topic5\", \"Topic5\", \"Topic5\", \"Topic5\", \"Topic5\", \"Topic5\", \"Topic5\", \"Topic5\", \"Topic5\", \"Topic5\", \"Topic5\", \"Topic5\", \"Topic5\", \"Topic5\", \"Topic5\", \"Topic5\", \"Topic5\", \"Topic5\", \"Topic5\", \"Topic5\", \"Topic5\", \"Topic5\", \"Topic5\", \"Topic5\", \"Topic5\", \"Topic5\", \"Topic5\", \"Topic5\", \"Topic5\", \"Topic5\", \"Topic5\", \"Topic5\", \"Topic5\", \"Topic5\", \"Topic5\", \"Topic6\", \"Topic6\", \"Topic6\", \"Topic6\", \"Topic6\", \"Topic6\", \"Topic6\", \"Topic6\", \"Topic6\", \"Topic6\", \"Topic6\", \"Topic6\", \"Topic6\", \"Topic6\", \"Topic6\", \"Topic6\", \"Topic6\", \"Topic6\", \"Topic6\", \"Topic6\", \"Topic6\", \"Topic6\", \"Topic6\", \"Topic6\", \"Topic6\", \"Topic6\", \"Topic6\", \"Topic6\", \"Topic6\", \"Topic6\", \"Topic6\", \"Topic6\", \"Topic6\", \"Topic6\", \"Topic6\", \"Topic6\", \"Topic6\", \"Topic6\", \"Topic6\", \"Topic6\", \"Topic6\", \"Topic6\", \"Topic6\", \"Topic6\", \"Topic6\", \"Topic6\", \"Topic6\", \"Topic6\", \"Topic6\", \"Topic6\", \"Topic6\", \"Topic6\", \"Topic6\", \"Topic6\", \"Topic6\", \"Topic6\", \"Topic6\", \"Topic6\", \"Topic6\", \"Topic6\", \"Topic6\", \"Topic6\", \"Topic6\", \"Topic6\", \"Topic6\", \"Topic6\", \"Topic6\", \"Topic6\", \"Topic6\", \"Topic7\", \"Topic7\", \"Topic7\", \"Topic7\", \"Topic7\", \"Topic7\", \"Topic7\", \"Topic7\", \"Topic7\", \"Topic7\", \"Topic7\", \"Topic7\", \"Topic7\", \"Topic7\", \"Topic7\", \"Topic7\", \"Topic7\", \"Topic7\", \"Topic7\", \"Topic7\", \"Topic7\", \"Topic7\", \"Topic7\", \"Topic7\", \"Topic7\", \"Topic7\", \"Topic7\", \"Topic7\", \"Topic7\", \"Topic7\", \"Topic7\", \"Topic7\", \"Topic7\", \"Topic7\", \"Topic7\", \"Topic7\", \"Topic7\", \"Topic7\", \"Topic7\", \"Topic7\", \"Topic7\", \"Topic7\", \"Topic7\", \"Topic7\", \"Topic7\", \"Topic7\", \"Topic7\", \"Topic7\", \"Topic7\", \"Topic7\", \"Topic7\", \"Topic7\", \"Topic7\", \"Topic7\", \"Topic7\", \"Topic7\", \"Topic7\", \"Topic7\", \"Topic7\", \"Topic7\", \"Topic7\", \"Topic7\", \"Topic7\", \"Topic7\", \"Topic7\", \"Topic7\", \"Topic7\", \"Topic7\", \"Topic7\", \"Topic7\", \"Topic7\", \"Topic7\", \"Topic7\", \"Topic7\", \"Topic8\", \"Topic8\", \"Topic8\", \"Topic8\", \"Topic8\", \"Topic8\", \"Topic8\", \"Topic8\", \"Topic8\", \"Topic8\", \"Topic8\", \"Topic8\", \"Topic8\", \"Topic8\", \"Topic8\", \"Topic8\", \"Topic8\", \"Topic8\", \"Topic8\", \"Topic8\", \"Topic8\", \"Topic8\", \"Topic8\", \"Topic8\", \"Topic8\", \"Topic8\", \"Topic8\", \"Topic8\", \"Topic8\", \"Topic8\", \"Topic8\", \"Topic8\", \"Topic8\", \"Topic8\", \"Topic8\", \"Topic8\", \"Topic8\", \"Topic8\", \"Topic8\", \"Topic8\", \"Topic8\", \"Topic8\", \"Topic8\", \"Topic8\", \"Topic8\", \"Topic8\", \"Topic8\", \"Topic8\", \"Topic8\", \"Topic8\", \"Topic8\", \"Topic8\", \"Topic8\", \"Topic8\", \"Topic8\", \"Topic8\", \"Topic8\", \"Topic8\", \"Topic8\", \"Topic8\", \"Topic8\", \"Topic8\", \"Topic8\", \"Topic8\", \"Topic8\", \"Topic8\", \"Topic8\", \"Topic9\", \"Topic9\", \"Topic9\", \"Topic9\", \"Topic9\", \"Topic9\", \"Topic9\", \"Topic9\", \"Topic9\", \"Topic9\", \"Topic9\", \"Topic9\", \"Topic9\", \"Topic9\", \"Topic9\", \"Topic9\", \"Topic9\", \"Topic9\", \"Topic9\", \"Topic9\", \"Topic9\", \"Topic9\", \"Topic9\", \"Topic9\", \"Topic9\", \"Topic9\", \"Topic9\", \"Topic9\", \"Topic9\", \"Topic9\", \"Topic9\", \"Topic9\", \"Topic9\", \"Topic9\", \"Topic9\", \"Topic9\", \"Topic9\", \"Topic9\", \"Topic9\", \"Topic9\", \"Topic9\", \"Topic9\", \"Topic9\", \"Topic9\", \"Topic9\", \"Topic9\", \"Topic9\", \"Topic9\", \"Topic9\", \"Topic9\", \"Topic9\", \"Topic9\", \"Topic9\", \"Topic9\", \"Topic9\", \"Topic9\", \"Topic9\", \"Topic9\", \"Topic9\", \"Topic9\", \"Topic9\", \"Topic9\", \"Topic9\", \"Topic9\", \"Topic9\", \"Topic9\", \"Topic10\", \"Topic10\", \"Topic10\", \"Topic10\", \"Topic10\", \"Topic10\", \"Topic10\", \"Topic10\", \"Topic10\", \"Topic10\", \"Topic10\", \"Topic10\", \"Topic10\", \"Topic10\", \"Topic10\", \"Topic10\", \"Topic10\", \"Topic10\", \"Topic10\", \"Topic10\", \"Topic10\", \"Topic10\", \"Topic10\", \"Topic10\", \"Topic10\", \"Topic10\", \"Topic10\", \"Topic10\", \"Topic10\", \"Topic10\", \"Topic10\", \"Topic10\", \"Topic10\", \"Topic10\", \"Topic10\", \"Topic10\", \"Topic10\", \"Topic10\", \"Topic10\", \"Topic10\", \"Topic10\", \"Topic10\", \"Topic10\", \"Topic10\", \"Topic10\", \"Topic10\", \"Topic10\", \"Topic10\", \"Topic10\", \"Topic10\", \"Topic10\", \"Topic10\", \"Topic10\", \"Topic10\", \"Topic10\", \"Topic10\", \"Topic10\", \"Topic10\", \"Topic10\", \"Topic10\", \"Topic10\", \"Topic10\", \"Topic10\", \"Topic10\", \"Topic10\", \"Topic10\", \"Topic10\", \"Topic10\", \"Topic10\", \"Topic10\", \"Topic10\", \"Topic10\", \"Topic10\", \"Topic10\"], \"logprob\": [30.0, 29.0, 28.0, 27.0, 26.0, 25.0, 24.0, 23.0, 22.0, 21.0, 20.0, 19.0, 18.0, 17.0, 16.0, 15.0, 14.0, 13.0, 12.0, 11.0, 10.0, 9.0, 8.0, 7.0, 6.0, 5.0, 4.0, 3.0, 2.0, 1.0, -4.3959, -6.0113, -6.0113, -5.5171, -6.4008, -6.4008, -6.4008, -6.4008, -6.4008, -6.4008, -6.4008, -6.4008, -6.4014, -6.4019, -5.1931, -6.4097, -6.4119, -6.4182, -6.4797, -6.0113, -6.0113, -5.575, -5.7362, -6.6306, -7.0475, -7.0475, -7.0475, -7.0475, -7.0475, -7.0475, -6.0113, -5.1976, -6.4022, -3.759, -6.4008, -6.0116, -4.7519, -5.3347, -5.1747, -5.0473, -4.8382, -4.8326, -5.5184, -4.3879, -5.7317, -5.1028, -5.7317, -5.7352, -5.243, -5.7398, -5.5139, -5.3402, -5.309, -4.9132, -4.821, -5.3356, -5.5134, -5.1739, -5.5467, -5.1392, -5.5158, -5.496, -5.4004, -5.4733, -5.4384, -5.5144, -5.5821, -5.5821, -5.8549, -5.8609, -6.2444, -6.2444, -6.2444, -6.2444, -6.2444, -6.2444, -6.2444, -6.2444, -6.2444, -6.2444, -6.2444, -6.2444, -6.2525, -6.2533, -5.5753, -5.8549, -5.8676, -4.5043, -5.5805, -6.8911, -6.8911, -6.8911, -6.8911, -6.8911, -6.8911, -6.8911, -6.2444, -5.8549, -5.8549, -6.2444, -6.2444, -5.8549, -6.2444, -5.5753, -3.853, -4.9054, -4.9343, -4.3578, -4.7808, -4.778, -5.3839, -5.5748, -4.773, -5.3563, -5.111, -5.5753, -5.0396, -5.8549, -5.8609, -5.8549, -5.5746, -5.5793, -5.3903, -5.5007, -5.3017, -5.5753, -5.3564, -5.5753, -5.5753, -5.5708, -5.6416, -5.5744, -5.5341, -4.8962, -5.5389, -5.8186, -5.8191, -6.2064, -6.2064, -6.2064, -6.2064, -6.2064, -6.2091, -6.2427, -5.3264, -6.3431, -6.8531, -6.8532, -6.8532, -6.8532, -6.8532, -6.8532, -6.8532, -6.8532, -6.8532, -6.8532, -6.8532, -6.8532, -6.8532, -6.8532, -6.8532, -6.8532, -6.8532, -5.9355, -6.2064, -6.2064, -5.8208, -6.2098, -6.2064, -6.2064, -6.2064, -6.2064, -5.8247, -6.2064, -6.2073, -4.2844, -6.2153, -6.2064, -6.2185, -6.212, -5.1458, -4.9885, -4.3597, -5.5421, -5.0284, -4.7608, -5.5344, -5.0288, -5.5452, -5.5538, -4.7273, -5.5522, -4.9756, -4.8171, -4.9926, -5.2103, -5.2496, -5.5373, -5.1369, -5.3609, -5.8193, -5.5373, -5.1731, -5.094, -5.5373, -5.5376, -5.8117, -5.5225, -5.8002, -5.3, -6.1837, -6.1837, -6.1837, -6.1849, -6.1852, -6.1853, -6.2314, -6.2366, -5.2963, -5.7942, -5.7945, -6.8304, -6.8304, -6.8304, -6.8304, -6.8304, -6.8304, -6.8304, -6.8304, -6.8304, -6.8304, -6.8304, -6.8304, -6.8304, -6.8304, -6.8304, -6.8304, -6.1843, -5.8002, -5.7934, -6.1837, -6.1837, -6.1926, -5.3202, -6.223, -5.3591, -4.615, -5.4185, -4.054, -4.5077, -5.2963, -4.9655, -4.4792, -5.5196, -4.8338, -5.2972, -4.6149, -4.7069, -5.0953, -5.7947, -5.7942, -5.5146, -5.7942, -5.5146, -5.6556, -5.5131, -5.5154, -5.5146, -5.5077, -5.7443, -5.7802, -5.7739, -5.6961, -5.6961, -6.0856, -6.0856, -6.0856, -6.0856, -6.0856, -6.0879, -6.0894, -6.0945, -5.6961, -5.9383, -5.4165, -6.7323, -6.7323, -6.7323, -6.7323, -6.7323, -6.7323, -6.7323, -6.7323, -6.7323, -6.7323, -6.7323, -6.7323, -6.7323, -6.7323, -6.7323, -6.7323, -6.7323, -4.8531, -6.0856, -6.0856, -6.0856, -5.4186, -6.0925, -5.7083, -6.0856, -6.0857, -6.0856, -6.0856, -6.0856, -6.0856, -6.0856, -6.0856, -5.3621, -5.7021, -5.4185, -5.4165, -5.6961, -4.261, -5.4251, -5.0741, -4.4129, -5.3694, -5.6961, -5.415, -5.1983, -5.6961, -5.2015, -5.4164, -5.4175, -5.1948, -5.6967, -5.6961, -5.7182, -5.696, -5.2587, -5.323, -5.5226, -5.5205, -5.6044, -5.6955, -5.6957, -5.6958, -5.6959, -5.6961, -5.4031, -5.6781, -5.6781, -6.0676, -6.0676, -6.0716, -6.0765, -6.0765, -6.0785, -5.1912, -4.5297, -5.1868, -6.7143, -6.7143, -6.7143, -6.7143, -6.7143, -6.7143, -6.7143, -6.7143, -6.7143, -6.7143, -6.7143, -6.7143, -6.7143, -6.7143, -6.7143, -6.7143, -6.7143, -6.7143, -6.0676, -5.1876, -6.0676, -6.0676, -6.0679, -6.0726, -6.0676, -6.0676, -5.2102, -5.0012, -5.1851, -6.1203, -4.1778, -5.6924, -5.6781, -5.4076, -4.624, -5.4202, -4.1923, -4.7657, -5.6835, -4.4179, -5.6841, -5.4032, -5.397, -5.6841, -4.6958, -5.3985, -5.1796, -5.1788, -5.0103, -5.4009, -5.3985, -5.3985, -5.4836, -5.1835, -5.3973, -5.5428, -5.6284, -6.052, -6.052, -6.052, -6.0529, -6.0534, -6.0553, -6.0987, -5.6625, -5.6654, -5.6685, -4.6099, -6.6987, -6.6987, -6.6987, -6.6987, -6.6987, -6.6987, -6.6987, -6.6987, -6.6987, -6.6987, -6.6987, -6.6987, -6.6987, -6.6987, -6.6987, -6.6987, -6.6987, -6.6987, -6.6987, -6.0519, -6.0525, -6.052, -6.0608, -6.0627, -6.0506, -5.7148, -5.9107, -5.6625, -4.8452, -5.672, -4.5888, -4.0021, -6.1875, -6.052, -4.8458, -6.052, -6.0519, -6.052, -5.3851, -5.011, -4.8386, -5.3829, -4.8247, -5.1735, -5.168, -5.1636, -4.818, -4.9856, -5.3645, -5.3831, -5.6648, -5.318, -5.6644, -5.6625, -5.6685, -5.7818, -5.6584, -5.6656, -5.6625, -5.6531, -5.6567, -5.659, -5.6649, -5.6323, -5.6324, -5.1381, -5.1464, -6.0218, -6.0218, -6.0218, -6.0223, -4.8141, -6.0506, -5.6323, -5.6416, -6.6685, -6.6685, -6.6685, -6.6685, -6.6685, -6.6685, -6.6685, -6.6685, -6.6685, -6.6685, -6.6685, -6.6685, -6.6685, -6.6685, -6.6685, -6.6685, -6.6685, -6.6685, -6.0218, -4.863, -6.0319, -4.6773, -3.5696, -5.2603, -5.6323, -5.6326, -5.4125, -5.6323, -4.9942, -5.6432, -5.135, -6.0218, -6.0218, -5.6328, -6.0216, -4.8036, -4.9575, -4.9562, -5.2549, -5.1204, -5.1347, -4.8613, -4.9821, -5.138, -4.9379, -5.2367, -5.1885, -5.0636, -5.1987, -5.3083, -5.393, -5.5026, -5.5988, -5.6321, -5.6323, -5.5146, -5.5329, -5.9041, -5.9041, -5.9079, -5.2379, -5.9311, -5.2613, -5.524, -6.0409, -5.5433, -6.5508, -6.5508, -6.5508, -6.5508, -6.5508, -6.5508, -6.5508, -6.5508, -6.5508, -6.5508, -6.5508, -6.5508, -6.5508, -6.5508, -6.5508, -6.5508, -6.5508, -6.5508, -6.5508, -5.9068, -5.9041, -5.0239, -5.9041, -5.9083, -5.9041, -5.9096, -5.2416, -5.0204, -5.9873, -5.235, -5.9041, -5.9042, -5.9041, -5.5146, -5.9129, -4.2542, -4.3477, -5.0167, -4.4974, -4.9054, -5.0167, -5.2418, -5.2402, -5.0184, -5.0809, -4.8982, -5.525, -5.2399, -5.5304, -5.235, -5.5189, -5.2395, -5.5153, -5.3054, -5.5426, -5.8773, -5.4938, -5.2303, -6.524, -6.524, -6.524, -6.524, -6.524, -6.524, -6.524, -6.524, -6.524, -6.524, -6.524, -6.524, -6.524, -6.524, -6.524, -6.524, -6.524, -6.524, -6.524, -6.524, -6.524, -6.524, -6.524, -6.524, -6.524, -6.524, -6.524, -4.5809, -5.4878, -5.8773, -5.4878, -3.9115, -5.8814, -5.8773, -5.8773, -5.8773, -4.5272, -5.4204, -5.7311, -5.2127, -5.8862, -4.4319, -5.886, -5.8773, -5.8924, -5.8773, -5.8956, -5.9153, -4.8524, -5.956, -5.4878, -5.8773, -5.6998, -5.8773, -5.2085, -4.8534, -5.2477, -5.0577, -5.1959, -5.4934, -5.124, -5.3094, -5.2627, -5.4878, -5.0597, -5.3114, -5.1978, -5.4145, -5.4859, -5.5197, -5.6546], \"loglift\": [30.0, 29.0, 28.0, 27.0, 26.0, 25.0, 24.0, 23.0, 22.0, 21.0, 20.0, 19.0, 18.0, 17.0, 16.0, 15.0, 14.0, 13.0, 12.0, 11.0, 10.0, 9.0, 8.0, 7.0, 6.0, 5.0, 4.0, 3.0, 2.0, 1.0, 1.8643, 1.7087, 1.7087, 1.641, 1.6135, 1.6135, 1.6135, 1.6135, 1.6135, 1.6135, 1.6135, 1.6135, 1.6129, 1.6124, 1.6123, 1.6052, 1.6036, 1.5979, 1.5397, 1.4988, 1.4891, 1.4588, 1.4341, 1.3962, 1.3856, 1.3856, 1.3856, 1.3856, 1.3856, 1.3856, 1.3356, 1.2808, 1.3455, 1.1681, 1.3424, 1.3114, 1.1221, 1.1618, 1.1202, 1.0925, 1.0142, 0.909, 1.1351, 0.4984, 1.2157, 0.8393, 1.212, 1.2109, 0.8978, 1.1922, 0.9214, 0.7549, 0.7059, 0.1185, -0.0606, 0.5205, 0.7476, 0.1234, 0.7706, -0.0651, 0.6992, 0.6148, 0.1796, 0.2881, 0.0168, 0.1736, 1.9441, 1.9441, 1.8966, 1.8908, 1.798, 1.798, 1.798, 1.798, 1.798, 1.798, 1.798, 1.798, 1.798, 1.798, 1.798, 1.798, 1.7902, 1.7896, 1.7763, 1.6806, 1.6581, 1.6419, 1.6326, 1.5633, 1.5633, 1.5633, 1.5633, 1.5633, 1.5633, 1.5633, 1.5323, 1.5065, 1.5044, 1.5248, 1.5185, 1.4884, 1.51, 1.3813, 0.9074, 1.1107, 1.1174, 0.8977, 0.9072, 0.883, 1.2117, 1.2588, 0.5244, 0.9647, 0.6476, 1.1076, 0.3779, 1.3404, 1.3424, 1.2188, 0.6002, 0.5888, 0.0649, 0.299, -0.4154, 0.5197, -0.3247, 0.4752, 0.2926, 0.1905, 0.5532, 0.0989, -0.4925, 2.0345, 1.9841, 1.9297, 1.9293, 1.8331, 1.8331, 1.8331, 1.8331, 1.8331, 1.8304, 1.7959, 1.7444, 1.6931, 1.5991, 1.5991, 1.5991, 1.5991, 1.5991, 1.5991, 1.5991, 1.5991, 1.5991, 1.5991, 1.5991, 1.5991, 1.5991, 1.5991, 1.5991, 1.5991, 1.5991, 1.594, 1.5695, 1.5606, 1.5294, 1.5573, 1.5562, 1.5562, 1.556, 1.5557, 1.5267, 1.5543, 1.5535, 1.3888, 1.5457, 1.543, 1.5422, 1.527, 1.3645, 1.0621, 0.672, 1.2216, 0.8632, 0.6567, 1.1167, 0.73, 1.0414, 1.041, 0.3599, 0.907, 0.3217, 0.1099, 0.0816, 0.3697, 0.4115, 0.8287, 0.1187, 0.3977, 1.1497, 0.6307, -0.1315, -0.3336, 0.4431, 0.1477, 0.4099, 2.0132, 1.9597, 1.8899, 1.8663, 1.8663, 1.8663, 1.8651, 1.8647, 1.8647, 1.82, 1.815, 1.7766, 1.7603, 1.7492, 1.6298, 1.6298, 1.6298, 1.6298, 1.6298, 1.6298, 1.6298, 1.6298, 1.6298, 1.6298, 1.6298, 1.6298, 1.6298, 1.6298, 1.6298, 1.6298, 1.5907, 1.5564, 1.5544, 1.5628, 1.5628, 1.5539, 1.4328, 1.5465, 1.4084, 1.2772, 1.3483, 0.9777, 0.9097, 1.1071, 0.9639, 0.7763, 1.1315, 0.6214, 0.8436, 0.2714, 0.3347, 0.6635, 1.172, 1.1516, 0.5003, 0.9673, 0.2632, 0.3961, -0.0775, -0.218, -0.5875, -0.7473, 0.0029, 0.4414, -0.6998, 2.09, 2.09, 1.9876, 1.9876, 1.9876, 1.9876, 1.9876, 1.9853, 1.9837, 1.9782, 1.8723, 1.8521, 1.807, 1.7453, 1.7453, 1.7453, 1.7453, 1.7453, 1.7453, 1.7453, 1.7453, 1.7453, 1.7453, 1.7453, 1.7453, 1.7453, 1.7453, 1.7453, 1.7453, 1.7453, 1.6838, 1.7161, 1.7161, 1.7147, 1.6721, 1.7078, 1.6833, 1.7025, 1.7024, 1.7022, 1.7022, 1.7022, 1.6889, 1.6889, 1.678, 1.4788, 1.5222, 1.4517, 1.4382, 1.5152, 0.8262, 1.3749, 1.1007, 0.6287, 1.1778, 1.3945, 1.1199, 0.6697, 1.253, 0.5599, 0.8446, 0.5974, -0.1206, 1.0675, 0.9277, 0.9526, 0.8371, -0.4983, -0.3959, -0.0674, -0.2649, 0.1542, 0.0517, 0.7636, 0.8007, 0.7033, 0.1122, 2.1654, 2.1129, 2.1129, 2.01, 2.01, 2.0058, 2.0015, 2.0008, 1.9984, 1.8986, 1.8093, 1.7875, 1.7666, 1.7666, 1.7666, 1.7666, 1.7666, 1.7666, 1.7666, 1.7666, 1.7666, 1.7666, 1.7666, 1.7666, 1.7666, 1.7666, 1.7666, 1.7666, 1.7666, 1.7666, 1.736, 1.6807, 1.7283, 1.7238, 1.7216, 1.7186, 1.713, 1.6992, 1.5553, 1.4471, 1.482, 1.6559, 1.2578, 1.5518, 1.5384, 1.4457, 1.1844, 1.3413, 0.8949, 1.0341, 1.4177, 0.3425, 1.397, 1.1299, 1.1167, 1.3724, 0.3458, 1.0657, 0.7625, 0.5684, 0.287, 0.7939, 0.7695, 0.5309, 0.7485, -0.2972, 0.4587, 0.5805, 0.2837, 2.0264, 2.0264, 2.0264, 2.0254, 2.0249, 2.023, 1.9782, 1.9179, 1.9039, 1.8899, 1.7917, 1.7828, 1.7828, 1.7828, 1.7828, 1.7828, 1.7828, 1.7828, 1.7828, 1.7828, 1.7828, 1.7828, 1.7828, 1.7828, 1.7828, 1.7828, 1.7828, 1.7828, 1.7828, 1.7828, 1.7536, 1.7392, 1.7292, 1.7292, 1.7289, 1.7268, 1.6555, 1.656, 1.5643, 1.3763, 1.5571, 1.2673, 1.072, 1.5909, 1.5299, 1.0066, 1.5174, 1.5103, 1.5087, 1.198, 0.9011, 0.597, 0.9352, 0.2169, 0.5854, 0.5736, 0.4974, -0.0576, -0.0585, 0.394, 0.3947, 0.8489, -0.2862, 0.7949, 0.7859, 0.7958, 1.0716, 0.5738, 0.4577, 0.3892, 0.1553, 0.0166, 0.215, 0.3512, 2.1731, 2.1731, 2.1002, 2.091, 2.0686, 2.0686, 2.0686, 2.0681, 2.064, 2.0394, 1.9393, 1.9384, 1.8219, 1.8219, 1.8219, 1.8219, 1.8219, 1.8219, 1.8219, 1.8219, 1.8219, 1.8219, 1.8219, 1.8219, 1.8219, 1.8219, 1.8219, 1.8219, 1.8219, 1.8219, 1.7929, 1.6842, 1.7576, 1.5377, 1.3167, 1.5059, 1.5823, 1.5747, 1.4626, 1.474, 1.238, 1.4616, 1.2685, 1.546, 1.5437, 1.3665, 1.5239, 0.938, 0.8509, 0.8051, 0.9322, 0.7476, 0.6431, 0.2259, 0.3152, 0.5499, 0.1362, 0.6373, 0.4726, -0.1365, 0.2369, 0.5441, 0.187, 0.4396, -0.3432, 0.4787, 0.8245, 2.3145, 2.2954, 2.2072, 2.2072, 2.2033, 2.1824, 2.1784, 2.1674, 2.0733, 2.0661, 2.0418, 1.9552, 1.9552, 1.9552, 1.9552, 1.9552, 1.9552, 1.9552, 1.9552, 1.9552, 1.9552, 1.9552, 1.9552, 1.9552, 1.9552, 1.9552, 1.9552, 1.9552, 1.9552, 1.9552, 1.9237, 1.9171, 1.8579, 1.9105, 1.906, 1.8974, 1.8816, 1.7684, 1.6878, 1.8121, 1.4554, 1.6947, 1.6766, 1.6611, 1.4511, 1.6362, 0.5062, 0.5386, 0.9637, 0.5442, 0.8532, 0.7304, 0.9453, 0.9346, 0.5616, 0.607, 0.1759, 1.0617, 0.2153, 0.9392, 0.0206, 0.8021, -0.3124, 0.6528, -0.2736, 0.6647, 2.238, 2.0963, 2.0332, 1.9849, 1.9849, 1.9849, 1.9849, 1.9849, 1.9849, 1.9849, 1.9849, 1.9849, 1.9849, 1.9849, 1.9849, 1.9849, 1.9849, 1.9849, 1.9849, 1.9849, 1.9849, 1.9849, 1.9849, 1.9849, 1.9849, 1.9849, 1.9849, 1.9849, 1.9849, 1.9849, 1.9089, 1.9168, 1.9402, 1.9093, 1.7738, 1.936, 1.9282, 1.927, 1.917, 1.2507, 1.569, 1.6631, 1.4111, 1.7039, 1.0233, 1.6934, 1.6822, 1.6876, 1.6744, 1.678, 1.6778, 0.8948, 1.6188, 1.3037, 1.5305, 1.3968, 1.5046, 0.9149, 0.5641, 0.7672, 0.5223, 0.5629, 1.0414, 0.3116, 0.6327, 0.4986, 0.9157, 0.0144, 0.3496, -0.1106, 0.477, 0.3821, 0.3923, 0.2375]}, \"token.table\": {\"Topic\": [9, 2, 1, 2, 4, 5, 7, 10, 1, 2, 4, 5, 6, 8, 9, 10, 1, 2, 3, 4, 5, 7, 8, 1, 3, 5, 8, 3, 5, 1, 4, 8, 8, 1, 2, 3, 4, 5, 6, 7, 9, 10, 1, 9, 4, 6, 7, 3, 4, 5, 1, 2, 9, 2, 6, 3, 9, 2, 5, 6, 10, 1, 2, 3, 4, 5, 7, 8, 1, 3, 9, 10, 1, 5, 1, 2, 4, 2, 3, 4, 5, 6, 8, 10, 9, 4, 3, 3, 9, 3, 4, 5, 6, 9, 10, 10, 3, 8, 5, 7, 3, 4, 6, 9, 10, 1, 2, 4, 6, 8, 9, 5, 4, 10, 3, 3, 1, 3, 4, 5, 6, 7, 5, 2, 5, 7, 8, 10, 4, 5, 7, 3, 1, 2, 3, 4, 6, 7, 8, 9, 10, 1, 2, 3, 4, 5, 6, 2, 5, 7, 7, 2, 5, 10, 10, 1, 3, 5, 7, 8, 7, 7, 1, 8, 1, 2, 4, 6, 10, 3, 6, 10, 10, 10, 1, 4, 4, 10, 1, 2, 6, 5, 7, 10, 5, 3, 4, 5, 7, 9, 10, 2, 8, 3, 3, 4, 6, 3, 1, 2, 4, 3, 9, 1, 2, 4, 6, 7, 8, 10, 2, 1, 7, 8, 10, 2, 7, 8, 1, 2, 3, 4, 5, 6, 7, 8, 9, 10, 2, 3, 10, 8, 5, 8, 1, 5, 6, 10, 8, 4, 7, 5, 6, 8, 9, 10, 9, 5, 8, 1, 3, 5, 6, 8, 9, 10, 7, 5, 4, 5, 3, 7, 1, 3, 8, 9, 5, 7, 8, 3, 8, 5, 1, 2, 3, 4, 5, 6, 8, 10, 4, 6, 9, 7, 5, 3, 6, 9, 3, 2, 5, 5, 10, 6, 2, 5, 3, 5, 10, 7, 1, 2, 4, 5, 8, 10, 7, 4, 5, 7, 2, 3, 4, 1, 3, 4, 5, 6, 7, 8, 9, 1, 9, 8, 10, 3, 3, 3, 3, 5, 7, 1, 4, 6, 7, 2, 3, 10, 1, 9, 1, 10, 2, 4, 7, 1, 2, 4, 5, 7, 9, 5, 2, 5, 2, 1, 4, 6, 8, 9, 10, 1, 3, 4, 5, 1, 4, 5, 6, 7, 9, 3, 2, 6, 8, 7, 3, 7, 9, 1, 2, 3, 4, 5, 6, 7, 8, 9, 10, 8, 1, 2, 3, 4, 5, 6, 7, 9, 1, 2, 3, 5, 6, 7, 8, 9, 10, 1, 3, 4, 5, 6, 7, 10, 2, 3, 5, 6, 7, 10, 4, 9, 3, 6, 2, 4, 3, 2, 3, 5, 10, 5, 7, 1, 2, 5, 9, 4, 7, 5, 9, 9, 10, 4, 4, 5, 9, 3, 6, 2, 3, 4, 5, 6, 7, 8, 9, 1, 3, 4, 6, 10, 8, 10, 1, 3, 5, 9, 10, 6, 7, 1, 9, 10, 4, 10, 2, 2, 7, 1, 2, 3, 7, 8, 10, 1, 5, 1, 10, 2, 3, 4, 5, 8, 10, 3, 6, 7, 8, 9, 2, 2, 5, 6, 5, 10, 1, 2, 4, 5, 6, 7, 8, 9, 10, 2, 3, 1, 1, 4, 5, 7, 8, 10, 1, 2, 3, 5, 6, 7, 8, 9, 3, 1, 2, 3, 4, 5, 6, 7, 8, 10, 9, 1, 3, 4, 5, 6, 7, 8, 10, 2, 6, 3, 5, 8, 10, 1, 3, 8, 3, 6, 7, 8, 1, 1, 2, 5, 7, 2, 10, 8, 1, 7, 8, 9, 2, 8, 10, 4, 1, 4, 9, 5, 4, 5, 6, 8, 3, 3, 8, 6, 9, 6, 7, 8, 10, 1, 6, 9, 8, 9, 2, 3, 5, 6, 8, 10, 10, 5, 6, 10, 5, 5, 4, 2, 3, 6, 8, 10, 2, 10, 1, 6, 6, 2, 4, 7, 3, 1, 3, 4, 6, 9, 7, 1, 2, 3, 4, 5, 1, 6, 1, 4, 7, 9, 10, 4, 1, 2, 3, 4, 6, 7, 8, 10, 5, 6, 1, 2, 4, 7, 10, 3, 4, 7, 1, 1, 7, 9, 6, 6, 9, 3, 1, 2, 3, 4, 5, 10, 1, 1, 3, 6, 2, 3, 4, 5, 6, 7, 8, 9, 1, 2, 3, 4, 5, 7, 8, 9, 10, 1, 3, 4, 5, 6, 7, 8, 9, 10, 10, 1, 3, 4, 5, 6, 9, 10, 8, 9, 1, 4, 5, 6, 1, 3, 4, 5, 7, 8, 9, 10, 5, 7, 8, 10, 1, 2, 3, 8, 9, 1, 2, 3, 4, 5, 6, 9, 10, 7, 2, 5, 6, 1, 2, 3, 4, 5, 6, 7, 8, 9, 10, 5, 2, 3, 5, 6, 7, 10, 1, 6, 1, 2, 5, 6, 7, 8, 10, 9, 7, 2, 8, 2, 2, 7, 10, 5, 7, 6, 7, 4, 8, 1, 2, 3, 7, 1, 4, 6, 7, 9, 5, 5, 7, 4, 2, 4, 5, 6, 1, 2, 3, 6, 7, 8, 9, 1, 2, 4, 7, 8, 9, 10, 1, 2, 8, 5, 10, 4, 7, 4, 3, 7, 6, 8, 1, 2, 3, 4, 5, 6, 7, 9, 10, 6, 7, 1, 2, 3, 9, 6, 1, 3, 5, 6, 7, 8, 9, 3, 2, 1, 3, 10, 5, 10, 1, 3, 4, 6, 9, 5, 1, 2, 3, 4, 5, 6, 7, 8, 9, 10, 1, 3, 10, 3, 5, 8, 5, 2, 3, 4, 8, 10, 1, 4, 6, 10, 3, 4, 6, 7, 8, 10, 4, 6, 2, 4, 9, 7, 7, 10, 8, 1, 6, 8, 1, 2, 3, 4, 5, 6, 7, 8, 10, 2, 1, 2, 3, 5, 6, 7, 8, 9, 10, 1, 3, 5, 9, 7, 1, 6, 7, 8, 10, 2, 7, 10, 5, 6, 8, 1, 1, 2, 5, 4, 3, 4, 1, 8, 4, 8, 3, 8, 6, 8, 1, 1, 2, 1, 2, 5, 8, 2, 4, 7, 9, 2, 1, 2, 3, 4, 7, 9, 3, 1, 2, 3, 4, 5, 6, 7, 8, 9, 10, 1, 10, 2, 1, 3, 4, 6, 7, 8, 10, 6, 10, 2, 1, 8, 10, 6, 4, 3, 10, 2, 8, 6, 5, 10, 1, 3, 5, 8, 10, 10, 4, 5, 6, 8, 10, 8, 8, 3, 7, 5, 1, 2, 5, 6, 8, 9, 10, 1, 2, 4, 5, 6, 8, 9, 3, 2, 1, 2, 3, 6, 7, 8, 10, 5, 8, 9, 4, 1, 2, 4, 5, 6, 8, 10, 6, 7, 1, 2, 4, 6, 7, 8, 6, 7, 1, 2, 3, 4, 5, 6, 7, 8, 9, 3, 4, 5, 10, 5, 9, 6, 5, 9, 2, 4, 1, 1, 2, 4, 8, 9, 10, 1, 2, 3, 4, 5, 6, 7, 8, 9, 1, 3, 2, 3, 5, 6, 7, 3, 5, 5, 6, 7, 9, 9, 1, 2, 6, 9, 4, 8, 10, 1, 5, 10, 3, 9, 3, 6, 9, 10, 6, 10, 5, 4, 5, 6, 10, 10, 5, 9, 8, 1, 2, 6, 3, 7, 6, 1, 2, 3, 4, 6, 7, 8, 10, 2, 9, 10, 8, 1, 2, 6, 7, 6, 8, 1, 10, 8, 6, 5, 6, 5, 5, 4, 1, 4, 6, 7, 9, 4, 6, 8, 6, 1, 10, 10, 9, 1, 3, 4, 5, 6, 7, 8, 9, 6, 1, 6, 8, 10, 2, 3, 7, 8, 6, 3, 4, 5, 1, 2, 3, 4, 5, 7, 9, 10, 1, 2, 3, 4, 5, 6, 8, 9, 3, 7, 1, 4, 5, 1, 2, 3, 4, 8, 1, 6, 8, 7, 8, 10, 9, 10, 1, 2, 3, 4, 5, 6, 8, 9, 4, 9, 7, 2, 3, 4, 5, 9, 10, 3, 4, 7, 8, 10, 6, 1, 4, 4, 2, 7, 1, 3, 6, 8, 10, 1, 3, 4, 6, 9, 2, 4, 6, 8, 10, 3, 5, 6, 8, 9, 5, 4, 10, 7, 10, 6, 2, 7, 6, 1, 2, 3, 4, 6, 8, 9, 9, 5, 9, 10, 4, 10, 7, 5, 8, 1, 6, 4, 10, 9, 9, 3, 3, 4, 6, 8, 9, 9, 1, 2, 3, 4, 5, 6, 7, 8, 9, 1, 2, 3, 4, 5, 6, 7, 8, 9, 1, 2, 3, 4, 5, 7, 8, 10, 1, 2, 3, 4, 5, 6, 7, 8, 9, 10, 3, 5, 8, 3, 9, 1, 3, 8, 1, 5, 7, 8, 1, 2, 4, 10, 7, 4, 8, 1, 2, 4, 5, 6, 8, 9, 5, 6, 7, 9, 10, 1, 3, 4, 6, 7, 8, 10, 8, 1, 8, 9, 10, 2, 5, 6, 8, 9, 1, 2, 3, 4, 5, 6, 7, 10, 1, 2, 4, 6, 7, 8, 1, 2, 3, 4, 5, 8, 9, 10, 2, 6, 10], \"Freq\": [0.709571133490503, 0.892708266712025, 0.2938277267211723, 0.11753109068846891, 0.17629663603270337, 0.17629663603270337, 0.11753109068846891, 0.17629663603270337, 0.1522060085797241, 0.1522060085797241, 0.10147067238648273, 0.20294134477296547, 0.050735336193241366, 0.20294134477296547, 0.050735336193241366, 0.10147067238648273, 0.35771499638432264, 0.08942874909608066, 0.04471437454804033, 0.08942874909608066, 0.04471437454804033, 0.17885749819216132, 0.22357187274020163, 0.12456837555419763, 0.24913675110839525, 0.24913675110839525, 0.37370512666259287, 0.6735209513889723, 0.33676047569448614, 0.3872729053198517, 0.19363645265992585, 0.3872729053198517, 0.46806404081638964, 0.1060456982744532, 0.1590685474116798, 0.0530228491372266, 0.1060456982744532, 0.1060456982744532, 0.1060456982744532, 0.2120913965489064, 0.1060456982744532, 0.1060456982744532, 0.34716736325606856, 0.34716736325606856, 0.2757145649625195, 0.2757145649625195, 0.551429129925039, 0.6652544918802494, 0.6794907114953379, 0.33974535574766895, 0.6597175159171477, 0.6844012917181819, 0.34220064585909094, 0.6739352063219965, 0.6920106527181107, 0.2825386502310429, 0.5650773004620858, 0.34463263160440694, 0.34463263160440694, 0.17231631580220347, 0.17231631580220347, 0.16697099479563499, 0.08348549739781749, 0.25045649219345245, 0.16697099479563499, 0.08348549739781749, 0.08348549739781749, 0.08348549739781749, 0.3041311765542844, 0.1520655882771422, 0.3041311765542844, 0.1520655882771422, 0.5241952525291537, 0.26209762626457683, 0.6511852630493684, 0.1627963157623421, 0.1627963157623421, 0.09163993556976135, 0.27491980670928406, 0.09163993556976135, 0.1832798711395227, 0.1832798711395227, 0.09163993556976135, 0.09163993556976135, 0.7095710220263233, 0.8994805637497937, 0.890132614167602, 0.8901317793104658, 0.478171452903397, 0.30516023052970437, 0.15258011526485218, 0.15258011526485218, 0.15258011526485218, 0.15258011526485218, 0.15258011526485218, 0.7116492244995429, 0.278648307406622, 0.696620768516555, 0.6922343886071807, 0.34611719430359034, 0.18898186642235748, 0.18898186642235748, 0.09449093321117874, 0.09449093321117874, 0.4724546660558937, 0.22811992523797295, 0.07603997507932432, 0.15207995015864864, 0.07603997507932432, 0.3231698940871283, 0.13306995638881755, 0.6897358927335089, 0.5585660493346221, 0.27928302466731103, 0.6724695846981693, 0.8901319278516365, 0.11323725499981356, 0.11323725499981356, 0.22647450999962712, 0.22647450999962712, 0.22647450999962712, 0.11323725499981356, 0.9206509593453506, 0.1750417736605108, 0.1750417736605108, 0.1750417736605108, 0.3500835473210216, 0.1750417736605108, 0.19695790924003748, 0.39391581848007495, 0.39391581848007495, 0.6724696266283438, 0.1559353506941342, 0.10395690046275614, 0.05197845023137807, 0.4158276018510246, 0.05197845023137807, 0.05197845023137807, 0.05197845023137807, 0.05197845023137807, 0.10395690046275614, 0.21104974102129193, 0.21104974102129193, 0.14069982734752795, 0.07034991367376398, 0.14069982734752795, 0.21104974102129193, 0.4508344973080913, 0.22541724865404564, 0.22541724865404564, 0.6923689272700705, 0.23586556422678992, 0.23586556422678992, 0.47173112845357984, 0.71165015397969, 0.12431638206548754, 0.12431638206548754, 0.24863276413097507, 0.24863276413097507, 0.12431638206548754, 0.6923679651961252, 0.925366911936679, 0.867946279418662, 0.6986360697685823, 0.27183300668181565, 0.13591650334090782, 0.13591650334090782, 0.40774951002272347, 0.13591650334090782, 0.675666901292197, 0.16891672532304924, 0.16891672532304924, 0.7116490968127929, 0.7116495996596331, 0.3320187696188242, 0.6640375392376484, 0.6777908866978287, 0.7116485833150065, 0.7373425674740584, 0.1843356418685146, 0.6920115044061094, 0.20483230932084986, 0.20483230932084986, 0.6144969279625495, 0.6897369864210926, 0.12473674176874659, 0.49894696707498637, 0.12473674176874659, 0.12473674176874659, 0.12473674176874659, 0.12473674176874659, 0.8926999422604495, 0.46829725636320385, 0.6724687727723481, 0.44730684390400915, 0.22365342195200458, 0.22365342195200458, 0.4435733711673724, 0.43477863990986126, 0.21738931995493063, 0.21738931995493063, 0.35076485585856604, 0.35076485585856604, 0.19649003920459837, 0.06549667973486613, 0.13099335946973226, 0.19649003920459837, 0.13099335946973226, 0.13099335946973226, 0.19649003920459837, 0.8927006178787431, 0.4479529722653519, 0.2986353148435679, 0.14931765742178396, 0.14931765742178396, 0.2761408109644159, 0.5522816219288318, 0.2761408109644159, 0.13762767630778158, 0.04587589210259386, 0.11468973025648466, 0.04587589210259386, 0.09175178420518772, 0.04587589210259386, 0.27525535261556316, 0.09175178420518772, 0.09175178420518772, 0.06881383815389079, 0.7990741569837314, 0.6838496028171227, 0.34192480140856135, 0.4682909709118883, 0.5557388475263918, 0.2778694237631959, 0.4463048302383638, 0.29753655349224256, 0.14876827674612128, 0.14876827674612128, 0.46829105756828904, 0.6777904585849256, 0.6923680757509633, 0.38655950061374994, 0.12885316687124998, 0.12885316687124998, 0.12885316687124998, 0.12885316687124998, 0.7095699157667866, 0.689736581040995, 0.6986360425205214, 0.31805572759552825, 0.15902786379776412, 0.15902786379776412, 0.07951393189888206, 0.07951393189888206, 0.07951393189888206, 0.07951393189888206, 0.6923682760033312, 0.920650822337907, 0.8994819738683051, 0.9205961726886945, 0.674821693610949, 0.3374108468054745, 0.867908103044432, 0.2813168494635084, 0.2813168494635084, 0.2813168494635084, 0.17477437704916562, 0.34954875409833125, 0.34954875409833125, 0.19973259710379318, 0.7989303884151727, 0.9206500390450206, 0.12179959876220263, 0.18269939814330394, 0.3044989969055066, 0.12179959876220263, 0.060899799381101315, 0.060899799381101315, 0.060899799381101315, 0.060899799381101315, 0.3435524344218854, 0.6871048688437708, 0.7095707334797623, 0.6923691633732312, 0.6897365158904796, 0.6724695465517577, 0.23961851463893097, 0.718855543916793, 0.8901372700498068, 0.3414405310346619, 0.6828810620693238, 0.7017197921623716, 0.3508598960811858, 0.6920118486983164, 0.34144375505277913, 0.6828875101055583, 0.2796468665574104, 0.2796468665574104, 0.2796468665574104, 0.4620427274009105, 0.47561934956783086, 0.09512386991356618, 0.09512386991356618, 0.19024773982713236, 0.09512386991356618, 0.09512386991356618, 0.6923684855526333, 0.6771488644352375, 0.16928721610880937, 0.16928721610880937, 0.22283577321383327, 0.22283577321383327, 0.44567154642766654, 0.09210354559255853, 0.09210354559255853, 0.09210354559255853, 0.09210354559255853, 0.2763106367776756, 0.18420709118511705, 0.09210354559255853, 0.09210354559255853, 0.8694794323735706, 0.7095703848302254, 0.6986362056287962, 0.7116487913142034, 0.6724697559563372, 0.8810478261643747, 0.8900863632983969, 0.6724690945842724, 0.6897366506834585, 0.6923690389799713, 0.12398600277714832, 0.24797200555429663, 0.37195800833144493, 0.24797200555429663, 0.6739354246930606, 0.35177996855064675, 0.35177996855064675, 0.5451245995415854, 0.2725622997707927, 0.5464772264161284, 0.2732386132080642, 0.66926902621131, 0.334634513105655, 0.6923683944805902, 0.12294044746219113, 0.12294044746219113, 0.4917617898487645, 0.12294044746219113, 0.12294044746219113, 0.12294044746219113, 0.6897373087961765, 0.892698647623416, 0.6897373109435576, 0.6739354198206701, 0.327862731038093, 0.10928757701269766, 0.21857515402539532, 0.10928757701269766, 0.05464378850634883, 0.1639313655190465, 0.5605080565371505, 0.18683601884571685, 0.18683601884571685, 0.18683601884571685, 0.23095617073883945, 0.11547808536941973, 0.23095617073883945, 0.11547808536941973, 0.11547808536941973, 0.3464342561082592, 0.6724694657488748, 0.2770512602793821, 0.2770512602793821, 0.2770512602793821, 0.9252869204884854, 0.6748202988693284, 0.3374101494346642, 0.47612377865719085, 0.1343141246690788, 0.1343141246690788, 0.0335785311672697, 0.2014711870036182, 0.1007355935018091, 0.0335785311672697, 0.0335785311672697, 0.0671570623345394, 0.1007355935018091, 0.2014711870036182, 0.6986360450036707, 0.0909558316449492, 0.227389579112373, 0.1819116632898984, 0.0454779158224746, 0.0909558316449492, 0.0454779158224746, 0.13643374746742382, 0.1819116632898984, 0.2587309027910639, 0.06468272569776598, 0.12936545139553196, 0.12936545139553196, 0.12936545139553196, 0.06468272569776598, 0.12936545139553196, 0.06468272569776598, 0.06468272569776598, 0.2387326411514101, 0.15915509410094006, 0.07957754705047003, 0.07957754705047003, 0.15915509410094006, 0.2387326411514101, 0.07957754705047003, 0.1625261300748758, 0.0812630650374379, 0.0812630650374379, 0.5688414552620653, 0.0812630650374379, 0.0812630650374379, 0.8994292018229036, 0.7095703086657401, 0.6744964058844616, 0.3372482029422308, 0.8927013805348729, 0.45044333332647546, 0.6724695863935148, 0.45209277648657337, 0.1506975921621911, 0.3013951843243822, 0.1506975921621911, 0.6922219667775972, 0.3461109833887986, 0.2218417671074717, 0.4436835342149434, 0.2218417671074717, 0.47732323894955836, 0.3427821294513603, 0.3427821294513603, 0.7007086230353329, 0.35035431151766644, 0.3611073776682697, 0.3611073776682697, 0.8994397885436036, 0.8994810039481838, 0.35540450083565983, 0.35540450083565983, 0.6746509381373097, 0.33732546906865485, 0.20548090080684228, 0.20548090080684228, 0.06849363360228077, 0.06849363360228077, 0.20548090080684228, 0.06849363360228077, 0.06849363360228077, 0.13698726720456153, 0.22563042045539483, 0.11281521022769742, 0.11281521022769742, 0.45126084091078966, 0.11281521022769742, 0.6986361729082361, 0.7116487659770315, 0.17334258998415217, 0.17334258998415217, 0.17334258998415217, 0.17334258998415217, 0.34668517996830434, 0.3473406873117576, 0.3473406873117576, 0.6597169432938982, 0.724827028316456, 0.24160900943881866, 0.6777903718506813, 0.7116490248535547, 0.8927016253158596, 0.6710772199738145, 0.2236924066579382, 0.06701130245565315, 0.6031017221008783, 0.1340226049113063, 0.1340226049113063, 0.06701130245565315, 0.06701130245565315, 0.33775201231808927, 0.6755040246361785, 0.6597174108634384, 0.7116484267704263, 0.4201260530024322, 0.10503151325060806, 0.10503151325060806, 0.2100630265012161, 0.10503151325060806, 0.10503151325060806, 0.17413748739230586, 0.3482749747846117, 0.17413748739230586, 0.17413748739230586, 0.17413748739230586, 0.6739354658696924, 0.6750381414280116, 0.3375190707140058, 0.46220542797927344, 0.35644783288955734, 0.35644783288955734, 0.08992658309387382, 0.08992658309387382, 0.08992658309387382, 0.08992658309387382, 0.17985316618774763, 0.08992658309387382, 0.04496329154693691, 0.13488987464081073, 0.17985316618774763, 0.3329730736436811, 0.6659461472873622, 0.8679110233528027, 0.3996105341125698, 0.049951316764071226, 0.09990263352814245, 0.24975658382035615, 0.14985395029221368, 0.049951316764071226, 0.04779896772536162, 0.09559793545072325, 0.04779896772536162, 0.09559793545072325, 0.2867938063521697, 0.09559793545072325, 0.1911958709014465, 0.04779896772536162, 0.6724697480030231, 0.06972112487575137, 0.04648074991716758, 0.16268262471008652, 0.04648074991716758, 0.2091633746272541, 0.2324037495858379, 0.04648074991716758, 0.11620187479291895, 0.06972112487575137, 0.7095700866811337, 0.09877908300758353, 0.03292636100252785, 0.09877908300758353, 0.0658527220050557, 0.32926361002527843, 0.16463180501263922, 0.09877908300758353, 0.09877908300758353, 0.34203440495534565, 0.34203440495534565, 0.6724694235618375, 0.2847779362546848, 0.2847779362546848, 0.2847779362546848, 0.8679083173940656, 0.19955733507819556, 0.7982293403127823, 0.3908590083660616, 0.3908590083660616, 0.1954295041830308, 0.6986359367998529, 0.43943562740492514, 0.8683826672459168, 0.5377267479640505, 0.26886337398202526, 0.9252577141670266, 0.35218016077152287, 0.35218016077152287, 0.6986364716909829, 0.1979034759394142, 0.3958069518788284, 0.1979034759394142, 0.1979034759394142, 0.5842911726004657, 0.19476372420015522, 0.19476372420015522, 0.450365177990202, 0.19030068866793617, 0.7612027546717447, 0.7095707717260784, 0.6897362219489712, 0.13890307079642686, 0.13890307079642686, 0.13890307079642686, 0.41670921238928055, 0.6724692195429851, 0.6778921526567258, 0.3389460763283629, 0.692011749186904, 0.7211691885297269, 0.40181290019792376, 0.20090645009896188, 0.20090645009896188, 0.20090645009896188, 0.6618065022910425, 0.33090325114552127, 0.7095710876619785, 0.6986363103615351, 0.7095704416575059, 0.12425712144082332, 0.37277136432247, 0.12425712144082332, 0.12425712144082332, 0.12425712144082332, 0.12425712144082332, 0.7116484271011102, 0.6920394704689573, 0.34601973523447865, 0.48006358076003947, 0.6897366547012423, 0.6897368650269109, 0.6777899368893299, 0.3438487195616361, 0.1146162398538787, 0.2292324797077574, 0.1146162398538787, 0.1146162398538787, 0.8929328784770567, 0.7116498632921507, 0.3388432438405354, 0.6776864876810708, 0.6942991855138925, 0.22793096078145778, 0.22793096078145778, 0.45586192156291555, 0.8901299567412372, 0.17068466606849161, 0.17068466606849161, 0.17068466606849161, 0.34136933213698323, 0.17068466606849161, 0.6923692001123334, 0.2684463240487108, 0.1342231620243554, 0.1342231620243554, 0.1342231620243554, 0.40266948607306624, 0.6466293372169213, 0.6920110773388856, 0.4473582938484084, 0.1491194312828028, 0.1491194312828028, 0.1491194312828028, 0.1491194312828028, 0.6777901386088899, 0.399504412952397, 0.0665840688253995, 0.0665840688253995, 0.133168137650799, 0.133168137650799, 0.133168137650799, 0.0665840688253995, 0.0665840688253995, 0.689737210765198, 0.6920108974271114, 0.1359109131013742, 0.2718218262027484, 0.1359109131013742, 0.2718218262027484, 0.1359109131013742, 0.22481057607896152, 0.44962115215792303, 0.22481057607896152, 0.8679099620072006, 0.4452707492697604, 0.2226353746348802, 0.2226353746348802, 0.6920109068701525, 0.7030619382271107, 0.35153096911355536, 0.6724693813185331, 0.13610615317688118, 0.13610615317688118, 0.13610615317688118, 0.13610615317688118, 0.40831845953064355, 0.13610615317688118, 0.8679084386647927, 0.33305388664617713, 0.16652694332308857, 0.33305388664617713, 0.18518600407332142, 0.09259300203666071, 0.09259300203666071, 0.18518600407332142, 0.09259300203666071, 0.09259300203666071, 0.18518600407332142, 0.18518600407332142, 0.15390799219104362, 0.08794742410916778, 0.21986856027291943, 0.2858291283547953, 0.04397371205458389, 0.06596056808187584, 0.04397371205458389, 0.06596056808187584, 0.021986856027291946, 0.1396208353209499, 0.06981041766047495, 0.06981041766047495, 0.1396208353209499, 0.06981041766047495, 0.1396208353209499, 0.20943125298142487, 0.20943125298142487, 0.06981041766047495, 0.7116499445120067, 0.30065134906027097, 0.15032567453013548, 0.07516283726506774, 0.2254885117952032, 0.15032567453013548, 0.07516283726506774, 0.07516283726506774, 0.3577524261722016, 0.3577524261722016, 0.29915272901574264, 0.29915272901574264, 0.29915272901574264, 0.14957636450787132, 0.0909812658525937, 0.22745316463148424, 0.22745316463148424, 0.04549063292629685, 0.1819625317051874, 0.04549063292629685, 0.04549063292629685, 0.13647189877889054, 0.23661565495873121, 0.23661565495873121, 0.23661565495873121, 0.23661565495873121, 0.20820168276863554, 0.20820168276863554, 0.3123025241529533, 0.10410084138431777, 0.20820168276863554, 0.1267917986085655, 0.08452786573904365, 0.1267917986085655, 0.04226393286952183, 0.08452786573904365, 0.08452786573904365, 0.04226393286952183, 0.4226393286952183, 0.6923683495224939, 0.8926994588403071, 0.6920445976803689, 0.34602229884018443, 0.04440812435820645, 0.06661218653730967, 0.0888162487164129, 0.15542843525372257, 0.1776324974328258, 0.13322437307461935, 0.11102031089551613, 0.022204062179103225, 0.13322437307461935, 0.04440812435820645, 0.9201607651957675, 0.1976789594753464, 0.0988394797376732, 0.2965184392130196, 0.0988394797376732, 0.0988394797376732, 0.1976789594753464, 0.8679046390285808, 0.6920113534426505, 0.1833052644473546, 0.0916526322236773, 0.1833052644473546, 0.1833052644473546, 0.1833052644473546, 0.0916526322236773, 0.0916526322236773, 0.7095706489349168, 0.6923684031902269, 0.679259124871804, 0.339629562435902, 0.6673450665280047, 0.2781259001915519, 0.5562518003831038, 0.2781259001915519, 0.27738758982262146, 0.5547751796452429, 0.27808478647838514, 0.5561695729567703, 0.6777906093491853, 0.7043543679290163, 0.867908003340035, 0.8926999114901263, 0.6652725988961944, 0.6923686147463951, 0.31116307959068906, 0.20744205306045937, 0.10372102653022969, 0.31116307959068906, 0.10372102653022969, 0.9206551470505668, 0.3467778116915097, 0.3467778116915097, 0.6777902606866693, 0.3388271568038287, 0.16941357840191434, 0.16941357840191434, 0.3388271568038287, 0.3183481067734118, 0.19100886406404707, 0.12733924270936473, 0.06366962135468236, 0.12733924270936473, 0.12733924270936473, 0.06366962135468236, 0.3579097881698754, 0.1789548940849377, 0.08947744704246885, 0.1789548940849377, 0.08947744704246885, 0.08947744704246885, 0.08947744704246885, 0.44108055569503374, 0.29405370379668916, 0.14702685189834458, 0.6897366184629503, 0.711649698269915, 0.3437250782063374, 0.6874501564126748, 0.677790613216213, 0.6724697843106727, 0.692367579547759, 0.9244558987704231, 0.698635735912201, 0.28495560702288, 0.07123890175572, 0.14247780351144, 0.07123890175572, 0.07123890175572, 0.14247780351144, 0.07123890175572, 0.14247780351144, 0.07123890175572, 0.6945083539110856, 0.3472541769555428, 0.1913224548887952, 0.3826449097775904, 0.1913224548887952, 0.1913224548887952, 0.6920117428666888, 0.1828396772328589, 0.1828396772328589, 0.1828396772328589, 0.09141983861642945, 0.09141983861642945, 0.1828396772328589, 0.09141983861642945, 0.6724696608889392, 0.8927001295250413, 0.27540343246305965, 0.27540343246305965, 0.27540343246305965, 0.7017231092771702, 0.3508615546385851, 0.29816533285537017, 0.14908266642768508, 0.29816533285537017, 0.14908266642768508, 0.14908266642768508, 0.6897363633151843, 0.13408809195490917, 0.284937195404182, 0.08380505747181824, 0.050283034483090946, 0.050283034483090946, 0.13408809195490917, 0.08380505747181824, 0.016761011494363647, 0.11732708046054553, 0.03352202298872729, 0.5191305835587492, 0.2595652917793746, 0.7116478241185888, 0.6735716413614982, 0.3367858206807491, 0.6986362976753921, 0.6908673659450444, 0.08667356099845669, 0.08667356099845669, 0.34669424399382676, 0.34669424399382676, 0.17334712199691338, 0.2305765511705115, 0.2305765511705115, 0.2305765511705115, 0.2305765511705115, 0.14605400416364692, 0.14605400416364692, 0.2190810062454704, 0.14605400416364692, 0.29210800832729383, 0.07302700208182346, 0.5421145181561582, 0.2710572590780791, 0.4517967456013708, 0.2258983728006854, 0.2258983728006854, 0.6923685185748588, 0.5624093968796273, 0.28120469843981366, 0.6986363422681997, 0.17217063467921745, 0.6886825387168698, 0.17217063467921745, 0.18241451435177083, 0.13681088576382813, 0.04560362858794271, 0.04560362858794271, 0.18241451435177083, 0.04560362858794271, 0.09120725717588542, 0.18241451435177083, 0.13681088576382813, 0.6739350369256428, 0.14216858335250876, 0.14216858335250876, 0.04738952778416959, 0.09477905556833918, 0.2843371667050175, 0.04738952778416959, 0.09477905556833918, 0.09477905556833918, 0.04738952778416959, 0.6466279607683646, 0.6737322614355226, 0.3368661307177613, 0.709570560176069, 0.9252933827475499, 0.1277695417417418, 0.2555390834834836, 0.2555390834834836, 0.1277695417417418, 0.2555390834834836, 0.281090048690352, 0.281090048690352, 0.281090048690352, 0.3002019618221676, 0.2001346412147784, 0.500336603036946, 0.8723647502609521, 0.5598072889216873, 0.18660242964056245, 0.18660242964056245, 0.6777904885617545, 0.5345315873776185, 0.26726579368880926, 0.6648494661774982, 0.3324247330887491, 0.27875092316311817, 0.5575018463262363, 0.6777853357372499, 0.33889266786862493, 0.6976480272210172, 0.3488240136105086, 0.867967384739797, 0.659717457517015, 0.6674979141255101, 0.19441910831901635, 0.19441910831901635, 0.3888382166380327, 0.19441910831901635, 0.19745158527921963, 0.19745158527921963, 0.39490317055843926, 0.19745158527921963, 0.7990727764940243, 0.12193503387244935, 0.365805101617348, 0.12193503387244935, 0.182902550808674, 0.12193503387244935, 0.060967516936224674, 0.889319502006552, 0.0323348627800194, 0.161674313900097, 0.22634403946013582, 0.2586789022401552, 0.0646697255600388, 0.0323348627800194, 0.0323348627800194, 0.0323348627800194, 0.0323348627800194, 0.1293394511200776, 0.34825789097557286, 0.34825789097557286, 0.8927030455337807, 0.07225664414008891, 0.14451328828017782, 0.14451328828017782, 0.07225664414008891, 0.36128322070044455, 0.07225664414008891, 0.07225664414008891, 0.6920119899788821, 0.7116486148993774, 0.6739351549830563, 0.8689309091975862, 0.3554699825433177, 0.3554699825433177, 0.6920111184548878, 0.6777906187605311, 0.2839293991283295, 0.567858798256659, 0.6739354612276884, 0.4682910074635315, 0.9247155231858466, 0.35640689625233246, 0.35640689625233246, 0.1928887814099538, 0.4822219535248845, 0.1928887814099538, 0.0964443907049769, 0.0964443907049769, 0.7116476198662345, 0.6777910565196275, 0.31455280146728654, 0.15727640073364327, 0.31455280146728654, 0.15727640073364327, 0.6986361362248189, 0.698636352739559, 0.3424210045747503, 0.6848420091495006, 0.9206509186112323, 0.10803886100687611, 0.10803886100687611, 0.21607772201375222, 0.10803886100687611, 0.10803886100687611, 0.10803886100687611, 0.32411658302062835, 0.06895925488819961, 0.20687776466459884, 0.06895925488819961, 0.27583701955279843, 0.06895925488819961, 0.06895925488819961, 0.20687776466459884, 0.7965659017537463, 0.8931279716462087, 0.16704035792074484, 0.12528026844055862, 0.4593609842820483, 0.04176008948018621, 0.08352017896037242, 0.04176008948018621, 0.04176008948018621, 0.6938674325611999, 0.34693371628059994, 0.4781031942367185, 0.899427203542234, 0.08630688282404277, 0.08630688282404277, 0.17261376564808553, 0.17261376564808553, 0.17261376564808553, 0.17261376564808553, 0.08630688282404277, 0.3471665245056601, 0.3471665245056601, 0.250673370007007, 0.10026934800280281, 0.10026934800280281, 0.15040402200420422, 0.35094271800980986, 0.050134674001401404, 0.3473389571685071, 0.6946779143370142, 0.4554350634668432, 0.0198015244985584, 0.1188091469913504, 0.0594045734956752, 0.0594045734956752, 0.0396030489971168, 0.0792060979942336, 0.0792060979942336, 0.0594045734956752, 0.17232463732285971, 0.17232463732285971, 0.5169739119685791, 0.17232463732285971, 0.3553219486238632, 0.3553219486238632, 0.6920110834958284, 0.28598656211769913, 0.5719731242353983, 0.8927039046407924, 0.677790108871456, 0.6597175163641601, 0.445173093128315, 0.11129327328207875, 0.2225865465641575, 0.11129327328207875, 0.11129327328207875, 0.11129327328207875, 0.11355035149140631, 0.11355035149140631, 0.17032552723710948, 0.11355035149140631, 0.11355035149140631, 0.056775175745703156, 0.056775175745703156, 0.056775175745703156, 0.17032552723710948, 0.3295369397880694, 0.6590738795761388, 0.12447293082046572, 0.24894586164093144, 0.12447293082046572, 0.4978917232818629, 0.12447293082046572, 0.6735849651885247, 0.33679248259426237, 0.692039956833349, 0.3460199784166745, 0.6923692208731946, 0.7095709963146507, 0.7095705715221575, 0.19286626863439202, 0.38573253726878404, 0.19286626863439202, 0.19286626863439202, 0.3466134590754818, 0.3466134590754818, 0.7116490160143729, 0.234094485397363, 0.234094485397363, 0.468188970794726, 0.5539044070165786, 0.2769522035082893, 0.30679112781182083, 0.6135822556236417, 0.15339556390591041, 0.7116485334833149, 0.8335950371790929, 0.7116492067453922, 0.6897368280869803, 0.6730157200520884, 0.4656309603336871, 0.23281548016684356, 0.23281548016684356, 0.7116482845173198, 0.7007269118120407, 0.35036345590602036, 0.6986360498630635, 0.7773007226094693, 0.12955012043491154, 0.12955012043491154, 0.6724688158894236, 0.9253484423846169, 0.6942986071457091, 0.08250458103968474, 0.2887660336388966, 0.16500916207936947, 0.04125229051984237, 0.04125229051984237, 0.16500916207936947, 0.1237568715595271, 0.1237568715595271, 0.28391939477650074, 0.28391939477650074, 0.28391939477650074, 0.6986359773457047, 0.18130386437696439, 0.18130386437696439, 0.36260772875392877, 0.18130386437696439, 0.46201320190867196, 0.698636180195313, 0.9012521066293004, 0.7116479050796257, 0.704369869475155, 0.6920117653250214, 0.3465936902288937, 0.6931873804577874, 0.6897369757100846, 0.6897369118895328, 0.6777908218004902, 0.2903356665197853, 0.09677855550659512, 0.2903356665197853, 0.19355711101319023, 0.09677855550659512, 0.27769617278010084, 0.27769617278010084, 0.27769617278010084, 0.6920119903389753, 0.6597172881409699, 0.7116495054876769, 0.7116500362767804, 0.7095707534770058, 0.10495394948315348, 0.31486184844946047, 0.10495394948315348, 0.10495394948315348, 0.10495394948315348, 0.10495394948315348, 0.10495394948315348, 0.10495394948315348, 0.462499971129236, 0.2334199640275341, 0.2334199640275341, 0.2334199640275341, 0.4668399280550682, 0.5324515139935401, 0.26622575699677004, 0.2810873545538202, 0.5621747091076404, 0.9247139322862532, 0.4467816819779248, 0.2233908409889624, 0.2233908409889624, 0.15584284210100188, 0.10389522806733459, 0.2597380701683365, 0.10389522806733459, 0.10389522806733459, 0.051947614033667294, 0.051947614033667294, 0.10389522806733459, 0.16951502046479092, 0.2966512858133841, 0.08475751023239546, 0.08475751023239546, 0.08475751023239546, 0.04237875511619773, 0.16951502046479092, 0.12713626534859318, 0.6724690554725241, 0.6923688993554624, 0.33201957817473604, 0.6640391563494721, 0.6897369112981924, 0.11102401102279578, 0.11102401102279578, 0.33307203306838734, 0.33307203306838734, 0.11102401102279578, 0.19506490181090477, 0.19506490181090477, 0.39012980362180955, 0.563231862816222, 0.281615931408111, 0.281615931408111, 0.7095700390234265, 0.7116488913158976, 0.08250319240327383, 0.27501064134424613, 0.13750532067212307, 0.2475095772098215, 0.08250319240327383, 0.055002128268849225, 0.055002128268849225, 0.08250319240327383, 0.6777910545727185, 0.7095704546124797, 0.6923686335369058, 0.15221456054537266, 0.15221456054537266, 0.3044291210907453, 0.15221456054537266, 0.15221456054537266, 0.15221456054537266, 0.08651880458642991, 0.17303760917285982, 0.5191128275185795, 0.08651880458642991, 0.08651880458642991, 0.6920110418547043, 0.33201027018260026, 0.6640205403652005, 0.6777910054205641, 0.275063376001144, 0.550126752002288, 0.1379604345340951, 0.1379604345340951, 0.5518417381363804, 0.1379604345340951, 0.1379604345340951, 0.1398286620833584, 0.1398286620833584, 0.1398286620833584, 0.1398286620833584, 0.4194859862500752, 0.15571868094356048, 0.15571868094356048, 0.15571868094356048, 0.15571868094356048, 0.31143736188712096, 0.19732819965532797, 0.19732819965532797, 0.29599229948299194, 0.09866409982766398, 0.09866409982766398, 0.6908657555283824, 0.6777907306519195, 0.7116479728920838, 0.704445818105253, 0.3522229090526265, 0.6920118685771877, 0.892698830860919, 0.6923691373188667, 0.6920115733928003, 0.0798151367572593, 0.3192605470290372, 0.1596302735145186, 0.1596302735145186, 0.0798151367572593, 0.0798151367572593, 0.1596302735145186, 0.7095701878340179, 0.286414941537368, 0.286414941537368, 0.286414941537368, 0.54803516331176, 0.27401758165588, 0.692369167577421, 0.920559379282783, 0.6986363664336914, 0.8679076093857209, 0.6920116865078104, 0.8067282767407501, 0.7116481194600972, 0.4781762003206737, 0.7095706883403332, 0.67246828314394, 0.12464530361521921, 0.37393591084565764, 0.24929060723043842, 0.12464530361521921, 0.12464530361521921, 0.7205983432880342, 0.058837026915369954, 0.3530221614922197, 0.11767405383073991, 0.11767405383073991, 0.058837026915369954, 0.11767405383073991, 0.11767405383073991, 0.058837026915369954, 0.058837026915369954, 0.17204756562748802, 0.20072215989873604, 0.14337297135624003, 0.08602378281374401, 0.05734918854249601, 0.11469837708499202, 0.05734918854249601, 0.11469837708499202, 0.028674594271248004, 0.45937751996114473, 0.051041946662349416, 0.10208389332469883, 0.10208389332469883, 0.051041946662349416, 0.10208389332469883, 0.15312583998704826, 0.7116490325965453, 0.19021097344814591, 0.11412658406888755, 0.15216877875851675, 0.07608438937925838, 0.03804219468962919, 0.03804219468962919, 0.03804219468962919, 0.11412658406888755, 0.11412658406888755, 0.11412658406888755, 0.19681204870841873, 0.5904361461252562, 0.19681204870841873, 0.35006178791969367, 0.35006178791969367, 0.2715470943706702, 0.2715470943706702, 0.2715470943706702, 0.13821999785668554, 0.4146599935700566, 0.13821999785668554, 0.2764399957133711, 0.26651278088204094, 0.39976917132306145, 0.26651278088204094, 0.13325639044102047, 0.9253497403037353, 0.6832121307683757, 0.34160606538418786, 0.2871374242245398, 0.07178435605613495, 0.07178435605613495, 0.07178435605613495, 0.07178435605613495, 0.43070613633680965, 0.07178435605613495, 0.15896229281596289, 0.15896229281596289, 0.15896229281596289, 0.47688687844788863, 0.15896229281596289, 0.09272647471652026, 0.09272647471652026, 0.1390897120747804, 0.09272647471652026, 0.1390897120747804, 0.18545294943304053, 0.23181618679130067, 0.6986361093873348, 0.2350867672637114, 0.2350867672637114, 0.3526301508955671, 0.1175433836318557, 0.0990445413530728, 0.49522270676536406, 0.1980890827061456, 0.0990445413530728, 0.0990445413530728, 0.1079029850901916, 0.1079029850901916, 0.1079029850901916, 0.26975746272547896, 0.0539514925450958, 0.16185447763528737, 0.1079029850901916, 0.0539514925450958, 0.46652565994474887, 0.1555085533149163, 0.1555085533149163, 0.07775427665745815, 0.1555085533149163, 0.07775427665745815, 0.3332392369838142, 0.06664784739676284, 0.13329569479352568, 0.26659138958705136, 0.06664784739676284, 0.06664784739676284, 0.06664784739676284, 0.06664784739676284, 0.2809102641124781, 0.2809102641124781, 0.2809102641124781], \"Term\": [\"abroad\", \"abysmal\", \"act\", \"act\", \"act\", \"act\", \"act\", \"act\", \"acting\", \"acting\", \"acting\", \"acting\", \"acting\", \"acting\", \"acting\", \"acting\", \"actor\", \"actor\", \"actor\", \"actor\", \"actor\", \"actor\", \"actor\", \"actually\", \"actually\", \"actually\", \"actually\", \"aerial\", \"aerial\", \"age\", \"age\", \"age\", \"agree\", \"also\", \"also\", \"also\", \"also\", \"also\", \"also\", \"also\", \"also\", \"also\", \"although\", \"although\", \"american\", \"american\", \"american\", \"angel\", \"angle\", \"angle\", \"animal\", \"animation\", \"animation\", \"ann\", \"anniversary\", \"annoy\", \"annoy\", \"another\", \"another\", \"another\", \"another\", \"anyone\", \"anyone\", \"anyone\", \"anyone\", \"anyone\", \"anyone\", \"anyone\", \"anything\", \"anything\", \"anything\", \"anything\", \"appreciate\", \"appreciate\", \"around\", \"around\", \"around\", \"art\", \"art\", \"art\", \"art\", \"art\", \"art\", \"art\", \"artistic\", \"as\", \"ask\", \"asleep\", \"astronaut\", \"attempt\", \"attempt\", \"attempt\", \"attempt\", \"attempt\", \"attempt\", \"aurvag\", \"avoid\", \"avoid\", \"awesome\", \"awesome\", \"awful\", \"awful\", \"awful\", \"awful\", \"awful\", \"bad\", \"bad\", \"bad\", \"bad\", \"bad\", \"bad\", \"bailey\", \"balance\", \"balance\", \"baxendale\", \"bear\", \"beautiful\", \"beautiful\", \"beautiful\", \"beautiful\", \"beautiful\", \"beautiful\", \"beautifully\", \"become\", \"become\", \"become\", \"become\", \"become\", \"believable\", \"believable\", \"believable\", \"belly\", \"best\", \"best\", \"best\", \"best\", \"best\", \"best\", \"best\", \"best\", \"best\", \"better\", \"better\", \"better\", \"better\", \"better\", \"better\", \"beyond\", \"beyond\", \"beyond\", \"bipolarity\", \"bit\", \"bit\", \"bit\", \"bitchy\", \"black\", \"black\", \"black\", \"black\", \"black\", \"blandly\", \"blow\", \"bold\", \"boob\", \"bore\", \"bore\", \"bore\", \"bore\", \"bore\", \"boring\", \"boring\", \"boring\", \"bos\", \"bothersome\", \"brain\", \"brain\", \"brainsucking\", \"bright\", \"brilliant\", \"brilliant\", \"brutal\", \"call\", \"call\", \"call\", \"cameo\", \"camera\", \"camera\", \"camera\", \"camera\", \"camera\", \"camera\", \"canada\", \"cannot\", \"cant\", \"care\", \"care\", \"care\", \"carry\", \"cartoon\", \"cartoon\", \"cartoon\", \"case\", \"case\", \"cast\", \"cast\", \"cast\", \"cast\", \"cast\", \"cast\", \"cast\", \"century\", \"certainly\", \"certainly\", \"certainly\", \"certainly\", \"change\", \"change\", \"change\", \"character\", \"character\", \"character\", \"character\", \"character\", \"character\", \"character\", \"character\", \"character\", \"character\", \"charles\", \"charm\", \"charm\", \"chase\", \"check\", \"check\", \"child\", \"child\", \"child\", \"child\", \"chilly\", \"chimp\", \"chodorov\", \"cinematography\", \"cinematography\", \"cinematography\", \"cinematography\", \"cinematography\", \"cold\", \"color\", \"colour\", \"come\", \"come\", \"come\", \"come\", \"come\", \"come\", \"come\", \"commercial\", \"complex\", \"computer\", \"concern\", \"conflict\", \"conflict\", \"control\", \"convince\", \"convince\", \"convince\", \"cool\", \"cool\", \"cool\", \"cost\", \"cost\", \"costume\", \"could\", \"could\", \"could\", \"could\", \"could\", \"could\", \"could\", \"could\", \"course\", \"course\", \"creativity\", \"crime\", \"crisp\", \"crocdodile\", \"cult\", \"cult\", \"cute\", \"daughter\", \"daughter\", \"decent\", \"decent\", \"deep\", \"delight\", \"delight\", \"depth\", \"depth\", \"depth\", \"development\", \"dialogue\", \"dialogue\", \"dialogue\", \"dialogue\", \"dialogue\", \"dialogue\", \"diaper\", \"direct\", \"direct\", \"direct\", \"direction\", \"direction\", \"direction\", \"director\", \"director\", \"director\", \"director\", \"director\", \"director\", \"director\", \"director\", \"disaster\", \"disbelief\", \"discomfort\", \"distant\", \"distract\", \"do\", \"dog\", \"dosen\", \"dracula\", \"draft\", \"drama\", \"drama\", \"drama\", \"drama\", \"drawn\", \"early\", \"early\", \"easily\", \"easily\", \"easy\", \"easy\", \"ed\", \"ed\", \"edward\", \"effect\", \"effect\", \"effect\", \"effect\", \"effect\", \"effect\", \"eiko\", \"element\", \"elia\", \"enchant\", \"end\", \"end\", \"end\", \"end\", \"end\", \"end\", \"enjoy\", \"enjoy\", \"enjoy\", \"enjoy\", \"enough\", \"enough\", \"enough\", \"enough\", \"enough\", \"enough\", \"enterprise\", \"episode\", \"episode\", \"episode\", \"estevez\", \"etc\", \"etc\", \"european\", \"even\", \"even\", \"even\", \"even\", \"even\", \"even\", \"even\", \"even\", \"even\", \"even\", \"event\", \"ever\", \"ever\", \"ever\", \"ever\", \"ever\", \"ever\", \"ever\", \"ever\", \"every\", \"every\", \"every\", \"every\", \"every\", \"every\", \"every\", \"every\", \"every\", \"everything\", \"everything\", \"everything\", \"everything\", \"everything\", \"everything\", \"everything\", \"excellent\", \"excellent\", \"excellent\", \"excellent\", \"excellent\", \"excellent\", \"excellently\", \"exchange\", \"explain\", \"explain\", \"explanation\", \"exquisite\", \"fabulous\", \"fan\", \"fan\", \"fan\", \"fan\", \"fascinate\", \"fascinate\", \"fast\", \"fast\", \"fast\", \"father\", \"faux\", \"faux\", \"fear\", \"fear\", \"female\", \"female\", \"fi\", \"fifteen\", \"final\", \"final\", \"finally\", \"finally\", \"find\", \"find\", \"find\", \"find\", \"find\", \"find\", \"find\", \"find\", \"first\", \"first\", \"first\", \"first\", \"first\", \"flag\", \"flashback\", \"flick\", \"flick\", \"flick\", \"flick\", \"flick\", \"footage\", \"footage\", \"foreign\", \"forget\", \"forget\", \"former\", \"forth\", \"fox\", \"fun\", \"fun\", \"funny\", \"funny\", \"funny\", \"funny\", \"funny\", \"funny\", \"fx\", \"fx\", \"galley\", \"gallon\", \"game\", \"game\", \"game\", \"game\", \"game\", \"game\", \"garbage\", \"garbage\", \"garbage\", \"garbage\", \"garbage\", \"gay\", \"gem\", \"gem\", \"genius\", \"genuine\", \"genuine\", \"get\", \"get\", \"get\", \"get\", \"get\", \"get\", \"get\", \"get\", \"get\", \"giallo\", \"giallo\", \"girlfriend\", \"give\", \"give\", \"give\", \"give\", \"give\", \"give\", \"go\", \"go\", \"go\", \"go\", \"go\", \"go\", \"go\", \"go\", \"goalie\", \"good\", \"good\", \"good\", \"good\", \"good\", \"good\", \"good\", \"good\", \"good\", \"grant\", \"great\", \"great\", \"great\", \"great\", \"great\", \"great\", \"great\", \"great\", \"greatest\", \"greatest\", \"guard\", \"guy\", \"guy\", \"guy\", \"hackneyed\", \"half\", \"half\", \"happen\", \"happen\", \"happen\", \"harris\", \"hat\", \"hell\", \"help\", \"help\", \"hero\", \"hill\", \"hill\", \"hilt\", \"hitchcock\", \"hitchcock\", \"hitchcock\", \"hitchcock\", \"hole\", \"hole\", \"hole\", \"home\", \"horrible\", \"horrible\", \"host\", \"hot\", \"hour\", \"hour\", \"hour\", \"hour\", \"humor\", \"huston\", \"huston\", \"impact\", \"important\", \"incredible\", \"incredible\", \"incredible\", \"incredible\", \"incredibly\", \"incredibly\", \"indication\", \"intangible\", \"interact\", \"interesting\", \"interesting\", \"interesting\", \"interesting\", \"interesting\", \"interesting\", \"interim\", \"issue\", \"issue\", \"italian\", \"jack\", \"jason\", \"jet\", \"job\", \"job\", \"job\", \"job\", \"job\", \"joe\", \"join\", \"joke\", \"joke\", \"journey\", \"joy\", \"joy\", \"joy\", \"junkyard\", \"keep\", \"keep\", \"keep\", \"keep\", \"keep\", \"kevin\", \"kid\", \"kid\", \"kid\", \"kid\", \"kid\", \"kill\", \"killing\", \"kind\", \"kind\", \"kind\", \"kind\", \"kind\", \"kirk\", \"know\", \"know\", \"know\", \"know\", \"know\", \"know\", \"know\", \"know\", \"koteas\", \"labute\", \"lack\", \"lack\", \"lack\", \"lack\", \"lack\", \"lame\", \"lame\", \"lame\", \"lane\", \"last\", \"last\", \"last\", \"latter\", \"laughable\", \"laughable\", \"laughed\", \"least\", \"least\", \"least\", \"least\", \"least\", \"least\", \"length\", \"let\", \"let\", \"let\", \"life\", \"life\", \"life\", \"life\", \"life\", \"life\", \"life\", \"life\", \"like\", \"like\", \"like\", \"like\", \"like\", \"like\", \"like\", \"like\", \"like\", \"line\", \"line\", \"line\", \"line\", \"line\", \"line\", \"line\", \"line\", \"line\", \"linear\", \"little\", \"little\", \"little\", \"little\", \"little\", \"little\", \"little\", \"live\", \"live\", \"long\", \"long\", \"long\", \"long\", \"look\", \"look\", \"look\", \"look\", \"look\", \"look\", \"look\", \"look\", \"lose\", \"lose\", \"lose\", \"lose\", \"lot\", \"lot\", \"lot\", \"lot\", \"lot\", \"love\", \"love\", \"love\", \"love\", \"love\", \"love\", \"love\", \"love\", \"luv\", \"machine\", \"main\", \"main\", \"make\", \"make\", \"make\", \"make\", \"make\", \"make\", \"make\", \"make\", \"make\", \"make\", \"making\", \"man\", \"man\", \"man\", \"man\", \"man\", \"man\", \"manage\", \"mansonites\", \"many\", \"many\", \"many\", \"many\", \"many\", \"many\", \"many\", \"mar\", \"marion\", \"martin\", \"martin\", \"massive\", \"masterpiece\", \"masterpiece\", \"masterpiece\", \"may\", \"may\", \"mediocre\", \"mediocre\", \"melodrama\", \"memory\", \"mercy\", \"mexican\", \"might\", \"minor\", \"minute\", \"minute\", \"minute\", \"minute\", \"minute\", \"mishima\", \"miss\", \"miss\", \"mountain\", \"move\", \"move\", \"move\", \"move\", \"much\", \"much\", \"much\", \"much\", \"much\", \"much\", \"much\", \"music\", \"music\", \"music\", \"music\", \"music\", \"music\", \"music\", \"must\", \"must\", \"must\", \"naked\", \"narration\", \"narrative\", \"narrative\", \"native\", \"naughty\", \"negulesco\", \"neil\", \"nervous\", \"never\", \"never\", \"never\", \"never\", \"never\", \"never\", \"never\", \"never\", \"never\", \"next\", \"next\", \"nice\", \"nice\", \"nice\", \"nice\", \"normally\", \"nothing\", \"nothing\", \"nothing\", \"nothing\", \"nothing\", \"nothing\", \"nothing\", \"novella\", \"nun\", \"nut\", \"nut\", \"nut\", \"offer\", \"offer\", \"old\", \"old\", \"old\", \"old\", \"old\", \"ole\", \"one\", \"one\", \"one\", \"one\", \"one\", \"one\", \"one\", \"one\", \"one\", \"one\", \"open\", \"open\", \"ortolani\", \"oscar\", \"oscar\", \"overt\", \"own\", \"part\", \"part\", \"part\", \"part\", \"part\", \"particularly\", \"particularly\", \"particularly\", \"particularly\", \"performance\", \"performance\", \"performance\", \"performance\", \"performance\", \"performance\", \"perhaps\", \"perhaps\", \"period\", \"period\", \"period\", \"personality\", \"pg\", \"pg\", \"pile\", \"place\", \"place\", \"place\", \"play\", \"play\", \"play\", \"play\", \"play\", \"play\", \"play\", \"play\", \"play\", \"plmer\", \"plot\", \"plot\", \"plot\", \"plot\", \"plot\", \"plot\", \"plot\", \"plot\", \"plot\", \"pm\", \"pointless\", \"pointless\", \"political\", \"ponyo\", \"predictable\", \"predictable\", \"predictable\", \"predictable\", \"predictable\", \"pretentious\", \"pretentious\", \"pretentious\", \"pretty\", \"pretty\", \"pretty\", \"previous\", \"problem\", \"problem\", \"problem\", \"professional\", \"puppet\", \"puppet\", \"pure\", \"pure\", \"quality\", \"quality\", \"question\", \"question\", \"racial\", \"racial\", \"racism\", \"random\", \"rate\", \"rather\", \"rather\", \"rather\", \"rather\", \"rating\", \"rating\", \"rating\", \"rating\", \"ray\", \"real\", \"real\", \"real\", \"real\", \"real\", \"real\", \"realize\", \"really\", \"really\", \"really\", \"really\", \"really\", \"really\", \"really\", \"really\", \"really\", \"really\", \"recent\", \"recent\", \"recently\", \"recommend\", \"recommend\", \"recommend\", \"recommend\", \"recommend\", \"recommend\", \"recommend\", \"recover\", \"recur\", \"refresh\", \"remain\", \"remake\", \"remake\", \"reporter\", \"rescue\", \"rest\", \"rest\", \"restrained\", \"return\", \"reveal\", \"reviewer\", \"reviewer\", \"right\", \"right\", \"right\", \"right\", \"right\", \"riz\", \"rochon\", \"role\", \"role\", \"role\", \"role\", \"round\", \"rubin\", \"ruthless\", \"ruthless\", \"sand\", \"saw\", \"saw\", \"saw\", \"saw\", \"saw\", \"saw\", \"saw\", \"say\", \"say\", \"say\", \"say\", \"say\", \"say\", \"say\", \"scamp\", \"scare\", \"scene\", \"scene\", \"scene\", \"scene\", \"scene\", \"scene\", \"scene\", \"scenery\", \"scenery\", \"scenes\", \"sci\", \"screen\", \"screen\", \"screen\", \"screen\", \"screen\", \"screen\", \"screen\", \"screenwriter\", \"screenwriter\", \"script\", \"script\", \"script\", \"script\", \"script\", \"script\", \"sea\", \"sea\", \"see\", \"see\", \"see\", \"see\", \"see\", \"see\", \"see\", \"see\", \"see\", \"self\", \"self\", \"self\", \"self\", \"sense\", \"sense\", \"seperate\", \"serious\", \"serious\", \"shakespear\", \"shatner\", \"shenanigan\", \"short\", \"short\", \"short\", \"short\", \"short\", \"short\", \"show\", \"show\", \"show\", \"show\", \"show\", \"show\", \"show\", \"show\", \"show\", \"significant\", \"significant\", \"simply\", \"simply\", \"simply\", \"simply\", \"simply\", \"sing\", \"sing\", \"situation\", \"situation\", \"slacker\", \"slavic\", \"slightly\", \"slow\", \"slow\", \"slow\", \"slow\", \"smart\", \"smart\", \"sole\", \"solid\", \"solid\", \"solid\", \"something\", \"something\", \"song\", \"song\", \"song\", \"soon\", \"soundtrack\", \"spew\", \"sphere\", \"spoil\", \"spoiler\", \"spoiler\", \"spoiler\", \"spot\", \"stage\", \"stage\", \"starlet\", \"start\", \"start\", \"start\", \"steal\", \"step\", \"stereotype\", \"story\", \"story\", \"story\", \"story\", \"story\", \"story\", \"story\", \"story\", \"storyline\", \"storyline\", \"storyline\", \"strange\", \"stupid\", \"stupid\", \"stupid\", \"stupid\", \"subject\", \"subversive\", \"suck\", \"superbad\", \"sure\", \"surf\", \"surprise\", \"surprise\", \"surprising\", \"sven\", \"tacky\", \"take\", \"take\", \"take\", \"take\", \"take\", \"tale\", \"tale\", \"tale\", \"task\", \"taxidermist\", \"technically\", \"telephone\", \"temperament\", \"terrible\", \"terrible\", \"terrible\", \"terrible\", \"terrible\", \"terrible\", \"terrible\", \"terrible\", \"terribly\", \"terrific\", \"terrific\", \"terrific\", \"terrific\", \"th\", \"th\", \"theater\", \"theater\", \"theatre\", \"theme\", \"theme\", \"theme\", \"thing\", \"thing\", \"thing\", \"thing\", \"thing\", \"thing\", \"thing\", \"thing\", \"think\", \"think\", \"think\", \"think\", \"think\", \"think\", \"think\", \"think\", \"thinking\", \"thomerson\", \"thoroughly\", \"thoroughly\", \"thorsen\", \"though\", \"though\", \"though\", \"though\", \"though\", \"thought\", \"thought\", \"thought\", \"three\", \"three\", \"three\", \"throwback\", \"thus\", \"time\", \"time\", \"time\", \"time\", \"time\", \"time\", \"time\", \"time\", \"tolerable\", \"ton\", \"tone\", \"top\", \"top\", \"top\", \"top\", \"top\", \"top\", \"totally\", \"totally\", \"totally\", \"totally\", \"totally\", \"touching\", \"trilogy\", \"trilogy\", \"trouble\", \"true\", \"true\", \"truly\", \"truly\", \"truly\", \"truly\", \"truly\", \"try\", \"try\", \"try\", \"try\", \"try\", \"tv\", \"tv\", \"tv\", \"tv\", \"tv\", \"two\", \"two\", \"two\", \"two\", \"two\", \"type\", \"um\", \"unaccompanied\", \"unconvincing\", \"unconvincing\", \"unethical\", \"unfolds\", \"unrestrained\", \"us\", \"use\", \"use\", \"use\", \"use\", \"use\", \"use\", \"use\", \"ussr\", \"usual\", \"usual\", \"usual\", \"value\", \"value\", \"ventura\", \"versus\", \"viewer\", \"villain\", \"violence\", \"visual\", \"vocal\", \"voice\", \"volatile\", \"vulcan\", \"want\", \"want\", \"want\", \"want\", \"want\", \"war\", \"waste\", \"waste\", \"waste\", \"waste\", \"waste\", \"waste\", \"waste\", \"waste\", \"waste\", \"watch\", \"watch\", \"watch\", \"watch\", \"watch\", \"watch\", \"watch\", \"watch\", \"watch\", \"way\", \"way\", \"way\", \"way\", \"way\", \"way\", \"way\", \"weight\", \"well\", \"well\", \"well\", \"well\", \"well\", \"well\", \"well\", \"well\", \"well\", \"well\", \"whatever\", \"whatever\", \"whatever\", \"whatsoever\", \"whatsoever\", \"whether\", \"whether\", \"whether\", \"white\", \"white\", \"white\", \"white\", \"whole\", \"whole\", \"whole\", \"whole\", \"wholesome\", \"wish\", \"wish\", \"wonderful\", \"wonderful\", \"wonderful\", \"wonderful\", \"wonderful\", \"wonderful\", \"wonderful\", \"word\", \"word\", \"word\", \"word\", \"word\", \"work\", \"work\", \"work\", \"work\", \"work\", \"work\", \"work\", \"worry\", \"worst\", \"worst\", \"worst\", \"worst\", \"worth\", \"worth\", \"worth\", \"worth\", \"worth\", \"would\", \"would\", \"would\", \"would\", \"would\", \"would\", \"would\", \"would\", \"write\", \"write\", \"write\", \"write\", \"write\", \"write\", \"year\", \"year\", \"year\", \"year\", \"year\", \"year\", \"year\", \"year\", \"young\", \"young\", \"young\"]}, \"R\": 30, \"lambda.step\": 0.01, \"plot.opts\": {\"xlab\": \"PC1\", \"ylab\": \"PC2\"}, \"topic.order\": [1, 5, 9, 3, 4, 2, 10, 8, 6, 7]};\n",
       "\n",
       "function LDAvis_load_lib(url, callback){\n",
       "  var s = document.createElement('script');\n",
       "  s.src = url;\n",
       "  s.async = true;\n",
       "  s.onreadystatechange = s.onload = callback;\n",
       "  s.onerror = function(){console.warn(\"failed to load library \" + url);};\n",
       "  document.getElementsByTagName(\"head\")[0].appendChild(s);\n",
       "}\n",
       "\n",
       "if(typeof(LDAvis) !== \"undefined\"){\n",
       "   // already loaded: just create the visualization\n",
       "   !function(LDAvis){\n",
       "       new LDAvis(\"#\" + \"ldavis_el1932415672231386724475999155\", ldavis_el1932415672231386724475999155_data);\n",
       "   }(LDAvis);\n",
       "}else if(typeof define === \"function\" && define.amd){\n",
       "   // require.js is available: use it to load d3/LDAvis\n",
       "   require.config({paths: {d3: \"https://d3js.org/d3.v5\"}});\n",
       "   require([\"d3\"], function(d3){\n",
       "      window.d3 = d3;\n",
       "      LDAvis_load_lib(\"https://cdn.jsdelivr.net/gh/bmabey/pyLDAvis@3.3.1/pyLDAvis/js/ldavis.v3.0.0.js\", function(){\n",
       "        new LDAvis(\"#\" + \"ldavis_el1932415672231386724475999155\", ldavis_el1932415672231386724475999155_data);\n",
       "      });\n",
       "    });\n",
       "}else{\n",
       "    // require.js not available: dynamically load d3 & LDAvis\n",
       "    LDAvis_load_lib(\"https://d3js.org/d3.v5.js\", function(){\n",
       "         LDAvis_load_lib(\"https://cdn.jsdelivr.net/gh/bmabey/pyLDAvis@3.3.1/pyLDAvis/js/ldavis.v3.0.0.js\", function(){\n",
       "                 new LDAvis(\"#\" + \"ldavis_el1932415672231386724475999155\", ldavis_el1932415672231386724475999155_data);\n",
       "            })\n",
       "         });\n",
       "}\n",
       "</script>"
      ],
      "text/plain": [
       "PreparedData(topic_coordinates=              x         y  topics  cluster       Freq\n",
       "topic                                                \n",
       "0     -0.081445 -0.050072       1        1  14.312927\n",
       "4      0.110624 -0.082891       2        1  11.744227\n",
       "8      0.095281 -0.019382       3        1  11.354872\n",
       "2     -0.029421 -0.094247       4        1  10.928984\n",
       "3      0.046516  0.119083       5        1   9.569413\n",
       "1     -0.005770  0.060500       6        1   9.336791\n",
       "9     -0.090953 -0.016339       7        1   9.182028\n",
       "7     -0.039729  0.018341       8        1   8.748381\n",
       "5      0.024336  0.002449       9        1   7.532881\n",
       "6     -0.029439  0.062559      10        1   7.289495, topic_info=       Term       Freq      Total Category  logprob  loglift\n",
       "446     bad  52.000000  52.000000  Default  30.0000  30.0000\n",
       "70     love  23.000000  23.000000  Default  29.0000  29.0000\n",
       "615    suck  13.000000  13.000000  Default  28.0000  28.0000\n",
       "358   great  30.000000  30.000000  Default  27.0000  27.0000\n",
       "59     good  43.000000  43.000000  Default  26.0000  26.0000\n",
       "..      ...        ...        ...      ...      ...      ...\n",
       "59     good   2.808165  43.028566  Topic10  -5.1978  -0.1106\n",
       "359   thing   2.261034  19.250162  Topic10  -5.4145   0.4770\n",
       "15   acting   2.105325  19.710129  Topic10  -5.4859   0.3821\n",
       "214    also   2.035226  18.859794  Topic10  -5.5197   0.3923\n",
       "37     best   1.778394  19.238742  Topic10  -5.6546   0.2375\n",
       "\n",
       "[729 rows x 6 columns], token_table=      Topic      Freq     Term\n",
       "term                          \n",
       "1266      9  0.709571   abroad\n",
       "1757      2  0.892708  abysmal\n",
       "107       1  0.293828      act\n",
       "107       2  0.117531      act\n",
       "107       4  0.176297      act\n",
       "...     ...       ...      ...\n",
       "396       9  0.066648     year\n",
       "396      10  0.066648     year\n",
       "6         2  0.280910    young\n",
       "6         6  0.280910    young\n",
       "6        10  0.280910    young\n",
       "\n",
       "[1453 rows x 3 columns], R=30, lambda_step=0.01, plot_opts={'xlab': 'PC1', 'ylab': 'PC2'}, topic_order=[1, 5, 9, 3, 4, 2, 10, 8, 6, 7])"
      ]
     },
     "execution_count": 61,
     "metadata": {},
     "output_type": "execute_result"
    }
   ],
   "source": [
    "# Visualize model with 10 topics\n",
    "pyLDAvis.enable_notebook() #allow us to see in jupyter notebook\n",
    "vis4 = pyLDAvis.gensim_models.prepare(lda_model_4, bow, dictionary)\n",
    "vis4"
   ]
  },
  {
   "cell_type": "markdown",
   "id": "db34b463",
   "metadata": {},
   "source": [
    "The clusters are obviously overlapping with 10 different topics and most of them tend to locate in the same region."
   ]
  },
  {
   "cell_type": "markdown",
   "id": "37ae6dde",
   "metadata": {},
   "source": [
    "As a result, 5 topics could be an efficient clustering for our next steps."
   ]
  },
  {
   "cell_type": "markdown",
   "id": "19fcb9b5",
   "metadata": {},
   "source": [
    "## 4.2 Unguided LDA"
   ]
  },
  {
   "cell_type": "markdown",
   "id": "6a6fab36",
   "metadata": {},
   "source": [
    "The model parameter that tracks how words are allocated to terms is called eta in the gensim implementation.\n",
    "\n",
    "We will run the following function for each test. Train a model with alpha: 'auto',  print out the topic distribution, show the topic allocation and create a DataFrame to store the topics and probability  for our corpus."
   ]
  },
  {
   "cell_type": "code",
   "execution_count": 35,
   "id": "36937bea",
   "metadata": {},
   "outputs": [],
   "source": [
    "def test_eta(eta, dictionary, ntopics, print_topics=True, print_dist=True):\n",
    "    np.random.seed(42) # set the random seed for repeatability\n",
    "    bow = [dictionary.doc2bow(line) for line in corp] # get the bow-format lines with the set dictionary\n",
    "    with (np.errstate(divide='ignore')):  # ignore divide-by-zero warnings\n",
    "        model = gensim.models.ldamodel.LdaModel(\n",
    "            corpus=bow, id2word=dictionary, num_topics=ntopics,\n",
    "            random_state=42, chunksize=100, eta=eta,\n",
    "            eval_every=-1, update_every=1,\n",
    "            passes=150, alpha='auto', per_word_topics=True)\n",
    "   \n",
    "    print('Perplexity: {:.2f}'.format(model.log_perplexity(bow)))\n",
    "    if print_topics:\n",
    "        # display the top terms for each topic\n",
    "        for topic in range(ntopics):\n",
    "            print('Topic {}: {}'.format(topic, [dictionary[w] for w,p in model.get_topic_terms(topic, topn=3)]))\n",
    "    if print_dist:\n",
    "        # display the topic probabilities for each document\n",
    "        for line,bag in zip(review[:20],bow):\n",
    "            doc_topics = ['({}, {:.1%})'.format(topic, prob) for topic,prob in model.get_document_topics(bag)]\n",
    "            print('{} {}'.format(line, doc_topics))\n",
    "            \n",
    "      #create a DataFrame to store the topics and probability for each review\n",
    "    d = []\n",
    "    id = 1\n",
    "    for line, bag in zip(review,bow):\n",
    "        for topic, prob in model.get_document_topics(bag):\n",
    "            d.append(\n",
    "                {\n",
    "                    'ID': id,\n",
    "                    'Review': line,\n",
    "                    'Topic': topic,\n",
    "                    'Probability': prob\n",
    "                }\n",
    "            )\n",
    "            id = id+1\n",
    "    return model, pd.DataFrame(d)"
   ]
  },
  {
   "cell_type": "code",
   "execution_count": 36,
   "id": "c54ad29a",
   "metadata": {
    "scrolled": true
   },
   "outputs": [
    {
     "name": "stdout",
     "output_type": "stream",
     "text": [
      "Perplexity: -7.92\n",
      "Topic 0: ['bad', 'see', 'watch']\n",
      "Topic 1: ['even', 'story', 'good']\n",
      "Topic 2: ['great', 'know', 'say']\n",
      "Topic 3: ['really', 'thing', 'line']\n",
      "Topic 4: ['like', 'time', 'one']\n",
      "A very, very, very slow-moving, aimless movie about a distressed, drifting young man.  ['(0, 5.1%)', '(1, 3.5%)', '(2, 3.4%)', '(3, 3.7%)', '(4, 84.3%)']\n",
      "Not sure who was more lost - the flat characters or the audience, nearly half of whom walked out.  ['(0, 4.6%)', '(1, 3.1%)', '(2, 84.4%)', '(3, 3.4%)', '(4, 4.5%)']\n",
      "Attempting artiness with black & white and clever camera angles, the movie disappointed - became even more ridiculous - as the acting was poor and the plot and lines almost non-existent.  ['(0, 7.8%)', '(1, 6.6%)', '(2, 1.5%)', '(3, 77.4%)', '(4, 6.7%)']\n",
      "Very little music or anything to speak of.  ['(0, 75.9%)', '(1, 5.3%)', '(2, 5.2%)', '(3, 6.3%)', '(4, 7.3%)']\n",
      "The best scene in the movie was when Gerardo is trying to find a song that keeps running through his head.  ['(0, 59.2%)', '(1, 12.1%)', '(2, 20.1%)', '(3, 3.1%)', '(4, 5.6%)']\n",
      "The rest of the movie lacks art, charm, meaning... If it's about emptiness, it works I guess because it's empty.  ['(0, 4.4%)', '(1, 2.8%)', '(2, 85.8%)', '(3, 3.0%)', '(4, 3.9%)']\n",
      "Wasted two hours.  ['(0, 9.3%)', '(1, 27.2%)', '(2, 27.1%)', '(3, 6.8%)', '(4, 29.6%)']\n",
      "Saw the movie today and thought it was a good effort, good messages for kids.  ['(0, 5.3%)', '(1, 3.5%)', '(2, 3.1%)', '(3, 3.3%)', '(4, 84.8%)']\n",
      "A bit predictable.  ['(0, 11.8%)', '(1, 34.3%)', '(2, 34.2%)', '(3, 8.6%)', '(4, 11.1%)']\n",
      "Loved the casting of Jimmy Buffet as the science teacher.  ['(0, 6.2%)', '(1, 3.9%)', '(2, 80.3%)', '(3, 4.2%)', '(4, 5.4%)']\n",
      "And those baby owls were adorable.  ['(0, 9.3%)', '(1, 6.4%)', '(2, 68.7%)', '(3, 6.8%)', '(4, 8.8%)']\n",
      "The movie showed a lot of Florida at it's best, made it look very appealing.  ['(0, 5.2%)', '(1, 3.5%)', '(2, 3.5%)', '(3, 3.7%)', '(4, 84.1%)']\n",
      "The Songs Were The Best And The Muppets Were So Hilarious.  ['(0, 7.7%)', '(1, 56.9%)', '(2, 6.0%)', '(3, 5.6%)', '(4, 23.8%)']\n",
      "It Was So Cool.  ['(0, 16.0%)', '(1, 10.9%)', '(2, 10.8%)', '(3, 11.6%)', '(4, 50.7%)']\n",
      "This is a very \"right on case\" movie that delivers everything almost right in your face.  ['(0, 5.1%)', '(1, 14.7%)', '(2, 3.4%)', '(3, 71.9%)', '(4, 4.8%)']\n",
      "It had some average acting from the main person, and it was a low budget as you clearly can see.  ['(0, 86.1%)', '(1, 3.1%)', '(2, 3.1%)', '(3, 3.3%)', '(4, 4.3%)']\n",
      "This review is long overdue, since I consider A Tale of Two Sisters to be the single greatest film ever made.  ['(0, 3.2%)', '(1, 81.1%)', '(2, 2.2%)', '(3, 2.4%)', '(4, 11.1%)']\n",
      "I'll put this gem up against any movie in terms of screenplay, cinematography, acting, post-production, editing, directing, or any other aspect of film-making.  ['(0, 3.5%)', '(1, 2.2%)', '(2, 2.2%)', '(3, 74.6%)', '(4, 17.4%)']\n",
      "It's practically perfect in all of them  a true masterpiece in a sea of faux \"masterpieces.  ['(0, 5.2%)', '(1, 3.5%)', '(2, 3.4%)', '(3, 83.0%)', '(4, 4.9%)']\n",
      "\" The structure of this film is easily the most tightly constructed in the history of cinema.  ['(0, 69.7%)', '(1, 16.8%)', '(2, 3.9%)', '(3, 4.2%)', '(4, 5.4%)']\n"
     ]
    }
   ],
   "source": [
    "model, result = test_eta('auto', dictionary, ntopics=5)"
   ]
  },
  {
   "cell_type": "code",
   "execution_count": 37,
   "id": "a4260339",
   "metadata": {
    "scrolled": true
   },
   "outputs": [
    {
     "data": {
      "text/html": [
       "<div>\n",
       "<style scoped>\n",
       "    .dataframe tbody tr th:only-of-type {\n",
       "        vertical-align: middle;\n",
       "    }\n",
       "\n",
       "    .dataframe tbody tr th {\n",
       "        vertical-align: top;\n",
       "    }\n",
       "\n",
       "    .dataframe thead th {\n",
       "        text-align: right;\n",
       "    }\n",
       "</style>\n",
       "<table border=\"1\" class=\"dataframe\">\n",
       "  <thead>\n",
       "    <tr style=\"text-align: right;\">\n",
       "      <th></th>\n",
       "      <th>ID</th>\n",
       "      <th>Review</th>\n",
       "      <th>Topic</th>\n",
       "      <th>Probability</th>\n",
       "    </tr>\n",
       "  </thead>\n",
       "  <tbody>\n",
       "    <tr>\n",
       "      <th>0</th>\n",
       "      <td>1</td>\n",
       "      <td>A very, very, very slow-moving, aimless movie ...</td>\n",
       "      <td>0</td>\n",
       "      <td>0.050924</td>\n",
       "    </tr>\n",
       "    <tr>\n",
       "      <th>1</th>\n",
       "      <td>2</td>\n",
       "      <td>A very, very, very slow-moving, aimless movie ...</td>\n",
       "      <td>1</td>\n",
       "      <td>0.034794</td>\n",
       "    </tr>\n",
       "    <tr>\n",
       "      <th>2</th>\n",
       "      <td>3</td>\n",
       "      <td>A very, very, very slow-moving, aimless movie ...</td>\n",
       "      <td>2</td>\n",
       "      <td>0.034294</td>\n",
       "    </tr>\n",
       "    <tr>\n",
       "      <th>3</th>\n",
       "      <td>4</td>\n",
       "      <td>A very, very, very slow-moving, aimless movie ...</td>\n",
       "      <td>3</td>\n",
       "      <td>0.037086</td>\n",
       "    </tr>\n",
       "    <tr>\n",
       "      <th>4</th>\n",
       "      <td>5</td>\n",
       "      <td>A very, very, very slow-moving, aimless movie ...</td>\n",
       "      <td>4</td>\n",
       "      <td>0.842902</td>\n",
       "    </tr>\n",
       "  </tbody>\n",
       "</table>\n",
       "</div>"
      ],
      "text/plain": [
       "   ID                                             Review  Topic  Probability\n",
       "0   1  A very, very, very slow-moving, aimless movie ...      0     0.050924\n",
       "1   2  A very, very, very slow-moving, aimless movie ...      1     0.034794\n",
       "2   3  A very, very, very slow-moving, aimless movie ...      2     0.034294\n",
       "3   4  A very, very, very slow-moving, aimless movie ...      3     0.037086\n",
       "4   5  A very, very, very slow-moving, aimless movie ...      4     0.842902"
      ]
     },
     "execution_count": 37,
     "metadata": {},
     "output_type": "execute_result"
    }
   ],
   "source": [
    "result.head()"
   ]
  },
  {
   "cell_type": "code",
   "execution_count": 38,
   "id": "a4189277",
   "metadata": {},
   "outputs": [
    {
     "data": {
      "text/html": [
       "<div>\n",
       "<style scoped>\n",
       "    .dataframe tbody tr th:only-of-type {\n",
       "        vertical-align: middle;\n",
       "    }\n",
       "\n",
       "    .dataframe tbody tr th {\n",
       "        vertical-align: top;\n",
       "    }\n",
       "\n",
       "    .dataframe thead th {\n",
       "        text-align: right;\n",
       "    }\n",
       "</style>\n",
       "<table border=\"1\" class=\"dataframe\">\n",
       "  <thead>\n",
       "    <tr style=\"text-align: right;\">\n",
       "      <th></th>\n",
       "      <th>ID</th>\n",
       "      <th>Review</th>\n",
       "      <th>Topic</th>\n",
       "      <th>Probability</th>\n",
       "    </tr>\n",
       "  </thead>\n",
       "  <tbody>\n",
       "    <tr>\n",
       "      <th>4</th>\n",
       "      <td>5</td>\n",
       "      <td>A very, very, very slow-moving, aimless movie ...</td>\n",
       "      <td>4</td>\n",
       "      <td>0.842902</td>\n",
       "    </tr>\n",
       "    <tr>\n",
       "      <th>7</th>\n",
       "      <td>8</td>\n",
       "      <td>Not sure who was more lost - the flat characte...</td>\n",
       "      <td>2</td>\n",
       "      <td>0.844177</td>\n",
       "    </tr>\n",
       "    <tr>\n",
       "      <th>13</th>\n",
       "      <td>14</td>\n",
       "      <td>Attempting artiness with black &amp; white and cle...</td>\n",
       "      <td>3</td>\n",
       "      <td>0.773513</td>\n",
       "    </tr>\n",
       "    <tr>\n",
       "      <th>15</th>\n",
       "      <td>16</td>\n",
       "      <td>Very little music or anything to speak of.</td>\n",
       "      <td>0</td>\n",
       "      <td>0.759247</td>\n",
       "    </tr>\n",
       "    <tr>\n",
       "      <th>20</th>\n",
       "      <td>21</td>\n",
       "      <td>The best scene in the movie was when Gerardo i...</td>\n",
       "      <td>0</td>\n",
       "      <td>0.591662</td>\n",
       "    </tr>\n",
       "    <tr>\n",
       "      <th>...</th>\n",
       "      <td>...</td>\n",
       "      <td>...</td>\n",
       "      <td>...</td>\n",
       "      <td>...</td>\n",
       "    </tr>\n",
       "    <tr>\n",
       "      <th>4971</th>\n",
       "      <td>4972</td>\n",
       "      <td>I just got bored watching Jessice Lange take h...</td>\n",
       "      <td>1</td>\n",
       "      <td>0.564857</td>\n",
       "    </tr>\n",
       "    <tr>\n",
       "      <th>4976</th>\n",
       "      <td>4977</td>\n",
       "      <td>Unfortunately, any virtue in this film's produ...</td>\n",
       "      <td>1</td>\n",
       "      <td>0.489422</td>\n",
       "    </tr>\n",
       "    <tr>\n",
       "      <th>4984</th>\n",
       "      <td>4985</td>\n",
       "      <td>In a word, it is embarrassing.</td>\n",
       "      <td>4</td>\n",
       "      <td>0.374353</td>\n",
       "    </tr>\n",
       "    <tr>\n",
       "      <th>4985</th>\n",
       "      <td>4986</td>\n",
       "      <td>Exceptionally bad!</td>\n",
       "      <td>0</td>\n",
       "      <td>0.643093</td>\n",
       "    </tr>\n",
       "    <tr>\n",
       "      <th>4994</th>\n",
       "      <td>4995</td>\n",
       "      <td>All in all its an insult to one's intelligence...</td>\n",
       "      <td>4</td>\n",
       "      <td>0.543528</td>\n",
       "    </tr>\n",
       "  </tbody>\n",
       "</table>\n",
       "<p>997 rows × 4 columns</p>\n",
       "</div>"
      ],
      "text/plain": [
       "        ID                                             Review  Topic  \\\n",
       "4        5  A very, very, very slow-moving, aimless movie ...      4   \n",
       "7        8  Not sure who was more lost - the flat characte...      2   \n",
       "13      14  Attempting artiness with black & white and cle...      3   \n",
       "15      16        Very little music or anything to speak of.       0   \n",
       "20      21  The best scene in the movie was when Gerardo i...      0   \n",
       "...    ...                                                ...    ...   \n",
       "4971  4972  I just got bored watching Jessice Lange take h...      1   \n",
       "4976  4977  Unfortunately, any virtue in this film's produ...      1   \n",
       "4984  4985                    In a word, it is embarrassing.       4   \n",
       "4985  4986                                Exceptionally bad!       0   \n",
       "4994  4995  All in all its an insult to one's intelligence...      4   \n",
       "\n",
       "      Probability  \n",
       "4        0.842902  \n",
       "7        0.844177  \n",
       "13       0.773513  \n",
       "15       0.759247  \n",
       "20       0.591662  \n",
       "...           ...  \n",
       "4971     0.564857  \n",
       "4976     0.489422  \n",
       "4984     0.374353  \n",
       "4985     0.643093  \n",
       "4994     0.543528  \n",
       "\n",
       "[997 rows x 4 columns]"
      ]
     },
     "execution_count": 38,
     "metadata": {},
     "output_type": "execute_result"
    }
   ],
   "source": [
    "# assign the topic for each review by selecting the topic with highest probability.'idxmax()',returns the row label of the maximum value.\n",
    "frequency_table = result.loc[result.groupby('Review')['Probability'].idxmax()]\n",
    "frequency_table.sort_values('ID', inplace=True)\n",
    "frequency_table"
   ]
  },
  {
   "cell_type": "code",
   "execution_count": 39,
   "id": "86601866",
   "metadata": {
    "scrolled": true
   },
   "outputs": [
    {
     "data": {
      "text/plain": [
       "Text(0, 0.5, 'Number of reviews')"
      ]
     },
     "execution_count": 39,
     "metadata": {},
     "output_type": "execute_result"
    },
    {
     "data": {
      "image/png": "[encoded data removed]",
      "text/plain": [
       "<Figure size 432x360 with 1 Axes>"
      ]
     },
     "metadata": {
      "needs_background": "light"
     },
     "output_type": "display_data"
    }
   ],
   "source": [
    "# graph the frequency of topics in the created table \n",
    "\n",
    "number_of_topics = frequency_table['Topic'].value_counts().sort_index()\n",
    "number_of_topics.plot(kind = \"bar\", color = \"red\", figsize = (6,5))\n",
    "plt.title(\"UnguidedLDA - Frequency for 5 topics\", size = 10, fontweight=\"bold\")\n",
    "plt.xlabel(\"Topics\", size = 12)\n",
    "plt.ylabel(\"Number of reviews\", size = 12)"
   ]
  },
  {
   "cell_type": "markdown",
   "id": "cb1e4954",
   "metadata": {},
   "source": [
    "For 5 topics, the result is not that bad. The spread of the reviews looks quite balanced accept for the Topic 0. \n",
    "\n",
    "Let's try guided LDA to see if we will be able to improve the results or not."
   ]
  },
  {
   "cell_type": "markdown",
   "id": "1f281edd",
   "metadata": {},
   "source": [
    "## 4.2 Guided LDA"
   ]
  },
  {
   "cell_type": "markdown",
   "id": "5d993d8e",
   "metadata": {},
   "source": [
    "The imdb_labelled file were reviewed and extracted 5 topics from the file and decided some key words belong to these topics like the following:\n",
    "\n",
    "\n",
    "- Content: slow-moving, predictable, effor, messages, plot, story, storyline, script, effort, idea, structure, experience\n",
    "\n",
    "- Quality: art, charm, bad, good,\tcool, right, wasted, disappointing, quality, dream, chemistry\n",
    "\n",
    "- Acting:\tacting, character, casting, act, actor, actress, cast, performance, talented, star, leading, convincing, portray\n",
    "\n",
    "- Genre: thriller, crime,\tdrama, comedy, cartoon, animation\n",
    "\n",
    "- Post Production: music, effect, song, photography, composition, editing , effects, graphics\n"
   ]
  },
  {
   "cell_type": "code",
   "execution_count": 40,
   "id": "2b195592",
   "metadata": {},
   "outputs": [],
   "source": [
    "def create_eta(priors, etadict, ntopics):\n",
    "    eta = np.full(shape=(ntopics, len(etadict)), fill_value=1) # create a (ntopics, nterms) matrix and fill with 1\n",
    "    for word, topic in priors.items(): # for each word in the list of priors\n",
    "        keyindex = [index for index,term in etadict.items() if term==word] # look up the word in the dictionary\n",
    "        if (len(keyindex)>0): # if it's in the dictionary\n",
    "            eta[topic,keyindex[0]] = 1e7  # put a large number in there\n",
    "    eta = np.divide(eta, eta.sum(axis=0)) # normalize so that the probabilities sum to 1 over all topics\n",
    "    return eta"
   ]
  },
  {
   "cell_type": "code",
   "execution_count": 41,
   "id": "8bb3a9fb",
   "metadata": {},
   "outputs": [],
   "source": [
    "guided_term_topic_dist = {'predictable':0, 'messages':0, 'plot':0 , 'story':0, 'storyline':0, 'script':0, 'effort':0, 'idea':0, 'structure':0, 'experience':0,\n",
    "                          'art':1, 'charm':1, 'good':1, 'bad':1, 'cool':1, 'right':1, 'wasted':1, 'disappointing':1, 'quality':1, 'dream':1, 'chemistry':1,\n",
    "                          'acting':2, 'character':2, 'casting':2, 'cast':2, 'act':2, 'actor':2, 'actress':2, 'performance':2, 'talented':2, 'star':2, 'leading':2, 'convincing':2, 'portray':2,\n",
    "                          'thriller':3, 'crime':3, 'drama':3, 'comedy':3, 'cartoon':3, 'animation':3,\n",
    "                         'music':4, 'effect':4, 'song':4, 'photography':4, 'composition':4, 'editing':4, 'effects':4, 'graphics':4}"
   ]
  },
  {
   "cell_type": "code",
   "execution_count": 42,
   "id": "752a19ff",
   "metadata": {},
   "outputs": [],
   "source": [
    "eta = create_eta(guided_term_topic_dist, dictionary, 5)"
   ]
  },
  {
   "cell_type": "code",
   "execution_count": 43,
   "id": "8c46f3fb",
   "metadata": {},
   "outputs": [
    {
     "name": "stdout",
     "output_type": "stream",
     "text": [
      "Perplexity: 2.63\n",
      "Topic 0: ['see', 'watch', 'one']\n",
      "Topic 1: ['bad', 'good', 'even']\n",
      "Topic 2: ['character', 'know', 'act']\n",
      "Topic 3: ['really', 'great', 'thing']\n",
      "Topic 4: ['like', 'time', 'go']\n",
      "A very, very, very slow-moving, aimless movie about a distressed, drifting young man.  ['(0, 5.1%)', '(1, 4.0%)', '(2, 3.4%)', '(3, 4.1%)', '(4, 83.4%)']\n",
      "Not sure who was more lost - the flat characters or the audience, nearly half of whom walked out.  ['(0, 4.6%)', '(1, 3.6%)', '(2, 84.0%)', '(3, 3.7%)', '(4, 4.1%)']\n",
      "Attempting artiness with black & white and clever camera angles, the movie disappointed - became even more ridiculous - as the acting was poor and the plot and lines almost non-existent.  ['(0, 8.3%)', '(1, 6.8%)', '(2, 1.5%)', '(3, 76.3%)', '(4, 7.0%)']\n",
      "Very little music or anything to speak of.  ['(0, 44.6%)', '(1, 6.0%)', '(2, 5.1%)', '(3, 37.5%)', '(4, 6.8%)']\n",
      "The best scene in the movie was when Gerardo is trying to find a song that keeps running through his head.  ['(0, 55.4%)', '(1, 3.2%)', '(2, 15.0%)', '(3, 3.3%)', '(4, 23.0%)']\n",
      "The rest of the movie lacks art, charm, meaning... If it's about emptiness, it works I guess because it's empty.  ['(0, 22.5%)', '(1, 12.7%)', '(2, 57.8%)', '(3, 3.3%)', '(4, 3.6%)']\n",
      "Wasted two hours.  ['(0, 9.4%)', '(1, 27.8%)', '(2, 26.7%)', '(3, 7.4%)', '(4, 28.7%)']\n",
      "Saw the movie today and thought it was a good effort, good messages for kids.  ['(0, 24.9%)', '(1, 27.4%)', '(2, 3.0%)', '(3, 3.7%)', '(4, 41.0%)']\n",
      "A bit predictable.  ['(0, 12.1%)', '(1, 34.7%)', '(2, 33.6%)', '(3, 9.4%)', '(4, 10.2%)']\n",
      "Loved the casting of Jimmy Buffet as the science teacher.  ['(0, 6.3%)', '(1, 4.5%)', '(2, 79.6%)', '(3, 4.6%)', '(4, 5.0%)']\n",
      "And those baby owls were adorable.  ['(0, 9.4%)', '(1, 7.2%)', '(2, 67.8%)', '(3, 7.5%)', '(4, 8.1%)']\n",
      "The movie showed a lot of Florida at it's best, made it look very appealing.  ['(0, 5.2%)', '(1, 4.1%)', '(2, 3.4%)', '(3, 4.1%)', '(4, 83.2%)']\n",
      "The Songs Were The Best And The Muppets Were So Hilarious.  ['(0, 7.8%)', '(1, 23.1%)', '(2, 5.2%)', '(3, 6.2%)', '(4, 57.7%)']\n",
      "It Was So Cool.  ['(0, 15.9%)', '(1, 13.5%)', '(2, 10.4%)', '(3, 12.6%)', '(4, 47.6%)']\n",
      "This is a very \"right on case\" movie that delivers everything almost right in your face.  ['(0, 5.1%)', '(1, 4.0%)', '(2, 3.4%)', '(3, 83.1%)', '(4, 4.5%)']\n",
      "It had some average acting from the main person, and it was a low budget as you clearly can see.  ['(0, 85.7%)', '(1, 3.6%)', '(2, 3.0%)', '(3, 3.7%)', '(4, 4.0%)']\n",
      "This review is long overdue, since I consider A Tale of Two Sisters to be the single greatest film ever made.  ['(0, 3.4%)', '(1, 88.9%)', '(2, 2.1%)', '(3, 2.6%)', '(4, 2.9%)']\n",
      "I'll put this gem up against any movie in terms of screenplay, cinematography, acting, post-production, editing, directing, or any other aspect of film-making.  ['(0, 3.6%)', '(1, 2.5%)', '(2, 9.1%)', '(3, 53.0%)', '(4, 31.8%)']\n",
      "It's practically perfect in all of them  a true masterpiece in a sea of faux \"masterpieces.  ['(0, 5.2%)', '(1, 4.0%)', '(2, 3.4%)', '(3, 82.9%)', '(4, 4.5%)']\n",
      "\" The structure of this film is easily the most tightly constructed in the history of cinema.  ['(0, 56.6%)', '(1, 17.3%)', '(2, 3.8%)', '(3, 17.3%)', '(4, 5.0%)']\n"
     ]
    }
   ],
   "source": [
    "model2, result2 = test_eta(eta, dictionary, ntopics=5)"
   ]
  },
  {
   "cell_type": "code",
   "execution_count": 44,
   "id": "0238f770",
   "metadata": {},
   "outputs": [
    {
     "data": {
      "text/html": [
       "<div>\n",
       "<style scoped>\n",
       "    .dataframe tbody tr th:only-of-type {\n",
       "        vertical-align: middle;\n",
       "    }\n",
       "\n",
       "    .dataframe tbody tr th {\n",
       "        vertical-align: top;\n",
       "    }\n",
       "\n",
       "    .dataframe thead th {\n",
       "        text-align: right;\n",
       "    }\n",
       "</style>\n",
       "<table border=\"1\" class=\"dataframe\">\n",
       "  <thead>\n",
       "    <tr style=\"text-align: right;\">\n",
       "      <th></th>\n",
       "      <th>ID</th>\n",
       "      <th>Review</th>\n",
       "      <th>Topic</th>\n",
       "      <th>Probability</th>\n",
       "    </tr>\n",
       "  </thead>\n",
       "  <tbody>\n",
       "    <tr>\n",
       "      <th>0</th>\n",
       "      <td>1</td>\n",
       "      <td>A very, very, very slow-moving, aimless movie ...</td>\n",
       "      <td>0</td>\n",
       "      <td>0.051472</td>\n",
       "    </tr>\n",
       "    <tr>\n",
       "      <th>1</th>\n",
       "      <td>2</td>\n",
       "      <td>A very, very, very slow-moving, aimless movie ...</td>\n",
       "      <td>1</td>\n",
       "      <td>0.039712</td>\n",
       "    </tr>\n",
       "    <tr>\n",
       "      <th>2</th>\n",
       "      <td>3</td>\n",
       "      <td>A very, very, very slow-moving, aimless movie ...</td>\n",
       "      <td>2</td>\n",
       "      <td>0.033546</td>\n",
       "    </tr>\n",
       "    <tr>\n",
       "      <th>3</th>\n",
       "      <td>4</td>\n",
       "      <td>A very, very, very slow-moving, aimless movie ...</td>\n",
       "      <td>3</td>\n",
       "      <td>0.040856</td>\n",
       "    </tr>\n",
       "    <tr>\n",
       "      <th>4</th>\n",
       "      <td>5</td>\n",
       "      <td>A very, very, very slow-moving, aimless movie ...</td>\n",
       "      <td>4</td>\n",
       "      <td>0.834413</td>\n",
       "    </tr>\n",
       "  </tbody>\n",
       "</table>\n",
       "</div>"
      ],
      "text/plain": [
       "   ID                                             Review  Topic  Probability\n",
       "0   1  A very, very, very slow-moving, aimless movie ...      0     0.051472\n",
       "1   2  A very, very, very slow-moving, aimless movie ...      1     0.039712\n",
       "2   3  A very, very, very slow-moving, aimless movie ...      2     0.033546\n",
       "3   4  A very, very, very slow-moving, aimless movie ...      3     0.040856\n",
       "4   5  A very, very, very slow-moving, aimless movie ...      4     0.834413"
      ]
     },
     "execution_count": 44,
     "metadata": {},
     "output_type": "execute_result"
    }
   ],
   "source": [
    "result2.head()"
   ]
  },
  {
   "cell_type": "code",
   "execution_count": 45,
   "id": "8dec061c",
   "metadata": {},
   "outputs": [
    {
     "data": {
      "text/html": [
       "<div>\n",
       "<style scoped>\n",
       "    .dataframe tbody tr th:only-of-type {\n",
       "        vertical-align: middle;\n",
       "    }\n",
       "\n",
       "    .dataframe tbody tr th {\n",
       "        vertical-align: top;\n",
       "    }\n",
       "\n",
       "    .dataframe thead th {\n",
       "        text-align: right;\n",
       "    }\n",
       "</style>\n",
       "<table border=\"1\" class=\"dataframe\">\n",
       "  <thead>\n",
       "    <tr style=\"text-align: right;\">\n",
       "      <th></th>\n",
       "      <th>ID</th>\n",
       "      <th>Review</th>\n",
       "      <th>Topic</th>\n",
       "      <th>Probability</th>\n",
       "    </tr>\n",
       "  </thead>\n",
       "  <tbody>\n",
       "    <tr>\n",
       "      <th>4</th>\n",
       "      <td>5</td>\n",
       "      <td>A very, very, very slow-moving, aimless movie ...</td>\n",
       "      <td>4</td>\n",
       "      <td>0.834413</td>\n",
       "    </tr>\n",
       "    <tr>\n",
       "      <th>7</th>\n",
       "      <td>8</td>\n",
       "      <td>Not sure who was more lost - the flat characte...</td>\n",
       "      <td>2</td>\n",
       "      <td>0.839923</td>\n",
       "    </tr>\n",
       "    <tr>\n",
       "      <th>13</th>\n",
       "      <td>14</td>\n",
       "      <td>Attempting artiness with black &amp; white and cle...</td>\n",
       "      <td>3</td>\n",
       "      <td>0.763348</td>\n",
       "    </tr>\n",
       "    <tr>\n",
       "      <th>15</th>\n",
       "      <td>16</td>\n",
       "      <td>Very little music or anything to speak of.</td>\n",
       "      <td>0</td>\n",
       "      <td>0.446264</td>\n",
       "    </tr>\n",
       "    <tr>\n",
       "      <th>20</th>\n",
       "      <td>21</td>\n",
       "      <td>The best scene in the movie was when Gerardo i...</td>\n",
       "      <td>0</td>\n",
       "      <td>0.554035</td>\n",
       "    </tr>\n",
       "    <tr>\n",
       "      <th>...</th>\n",
       "      <td>...</td>\n",
       "      <td>...</td>\n",
       "      <td>...</td>\n",
       "      <td>...</td>\n",
       "    </tr>\n",
       "    <tr>\n",
       "      <th>4971</th>\n",
       "      <td>4972</td>\n",
       "      <td>I just got bored watching Jessice Lange take h...</td>\n",
       "      <td>1</td>\n",
       "      <td>0.563570</td>\n",
       "    </tr>\n",
       "    <tr>\n",
       "      <th>4976</th>\n",
       "      <td>4977</td>\n",
       "      <td>Unfortunately, any virtue in this film's produ...</td>\n",
       "      <td>1</td>\n",
       "      <td>0.489770</td>\n",
       "    </tr>\n",
       "    <tr>\n",
       "      <th>4984</th>\n",
       "      <td>4985</td>\n",
       "      <td>In a word, it is embarrassing.</td>\n",
       "      <td>4</td>\n",
       "      <td>0.361579</td>\n",
       "    </tr>\n",
       "    <tr>\n",
       "      <th>4986</th>\n",
       "      <td>4987</td>\n",
       "      <td>Exceptionally bad!</td>\n",
       "      <td>1</td>\n",
       "      <td>0.608966</td>\n",
       "    </tr>\n",
       "    <tr>\n",
       "      <th>4994</th>\n",
       "      <td>4995</td>\n",
       "      <td>All in all its an insult to one's intelligence...</td>\n",
       "      <td>4</td>\n",
       "      <td>0.492715</td>\n",
       "    </tr>\n",
       "  </tbody>\n",
       "</table>\n",
       "<p>997 rows × 4 columns</p>\n",
       "</div>"
      ],
      "text/plain": [
       "        ID                                             Review  Topic  \\\n",
       "4        5  A very, very, very slow-moving, aimless movie ...      4   \n",
       "7        8  Not sure who was more lost - the flat characte...      2   \n",
       "13      14  Attempting artiness with black & white and cle...      3   \n",
       "15      16        Very little music or anything to speak of.       0   \n",
       "20      21  The best scene in the movie was when Gerardo i...      0   \n",
       "...    ...                                                ...    ...   \n",
       "4971  4972  I just got bored watching Jessice Lange take h...      1   \n",
       "4976  4977  Unfortunately, any virtue in this film's produ...      1   \n",
       "4984  4985                    In a word, it is embarrassing.       4   \n",
       "4986  4987                                Exceptionally bad!       1   \n",
       "4994  4995  All in all its an insult to one's intelligence...      4   \n",
       "\n",
       "      Probability  \n",
       "4        0.834413  \n",
       "7        0.839923  \n",
       "13       0.763348  \n",
       "15       0.446264  \n",
       "20       0.554035  \n",
       "...           ...  \n",
       "4971     0.563570  \n",
       "4976     0.489770  \n",
       "4984     0.361579  \n",
       "4986     0.608966  \n",
       "4994     0.492715  \n",
       "\n",
       "[997 rows x 4 columns]"
      ]
     },
     "execution_count": 45,
     "metadata": {},
     "output_type": "execute_result"
    }
   ],
   "source": [
    "# assign the topic for each review by selecting the topic with highest probability\n",
    "frequency_table_2 = result2.loc[result2.groupby('Review')['Probability'].idxmax()]\n",
    "frequency_table_2.sort_values('ID', inplace=True)\n",
    "frequency_table_2"
   ]
  },
  {
   "cell_type": "code",
   "execution_count": 46,
   "id": "902daca4",
   "metadata": {},
   "outputs": [
    {
     "data": {
      "text/plain": [
       "Text(0, 0.5, 'Number of reviews')"
      ]
     },
     "execution_count": 46,
     "metadata": {},
     "output_type": "execute_result"
    },
    {
     "data": {
      "image/png": "[encoded data removed]",
      "text/plain": [
       "<Figure size 432x360 with 1 Axes>"
      ]
     },
     "metadata": {
      "needs_background": "light"
     },
     "output_type": "display_data"
    }
   ],
   "source": [
    "# graph the frequency of topics in the created table \n",
    "\n",
    "number_of_topics2 = frequency_table_2['Topic'].value_counts().sort_index()\n",
    "number_of_topics2.plot(kind = \"bar\", color = \"red\", figsize = (6,5))\n",
    "plt.title(\"guidedLDA - Frequency for 5 topics\", size = 10, fontweight=\"bold\")\n",
    "plt.xlabel(\"Topics\", size = 12)\n",
    "plt.ylabel(\"Number of reviews\", size = 12)"
   ]
  },
  {
   "cell_type": "markdown",
   "id": "a72985c5",
   "metadata": {},
   "source": [
    "As you can see here, the spread of 5 topics improves a bit as the model is able to assign topics across all reviews with the guided LDA.\n",
    "Unguided LDA was not giving bad results and guided LDA improved the distrubition more.\n"
   ]
  }
 ],
 "metadata": {
  "kernelspec": {
   "display_name": "Python 3 (ipykernel)",
   "language": "python",
   "name": "python3"
  },
  "language_info": {
   "codemirror_mode": {
    "name": "ipython",
    "version": 3
   },
   "file_extension": ".py",
   "mimetype": "text/x-python",
   "name": "python",
   "nbconvert_exporter": "python",
   "pygments_lexer": "ipython3",
   "version": "3.9.7"
  }
 },
 "nbformat": 4,
 "nbformat_minor": 5
}
